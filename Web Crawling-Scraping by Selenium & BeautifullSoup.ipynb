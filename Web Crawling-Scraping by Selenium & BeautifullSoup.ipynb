{
 "cells": [
  {
   "cell_type": "markdown",
   "id": "6b8f95aa",
   "metadata": {},
   "source": [
    "### Importing all important libraries required for crawling"
   ]
  },
  {
   "cell_type": "code",
   "execution_count": 3,
   "id": "e16df4db",
   "metadata": {},
   "outputs": [],
   "source": [
    "# importing necessary packages\n",
    "from selenium import webdriver\n",
    "import pandas as pd\n",
    "from webdriver_manager.chrome import ChromeDriverManager\n",
    "from webdriver_manager.utils import ChromeType\n",
    "from bs4 import BeautifulSoup\n",
    "import requests\n",
    "\n",
    "chrome_options = webdriver.ChromeOptions()\n",
    "chrome_options.add_argument('--headless')\n",
    "chrome_options.add_argument('--no-sandbox')\n",
    "chrome_options.add_argument('--disable-dev-shm-usage')"
   ]
  },
  {
   "cell_type": "markdown",
   "id": "3cd22d5c",
   "metadata": {},
   "source": [
    "### write a code to hit the url of each & every pages and fetch the data"
   ]
  },
  {
   "cell_type": "code",
   "execution_count": 4,
   "id": "307e6dff",
   "metadata": {
    "scrolled": false
   },
   "outputs": [
    {
     "name": "stderr",
     "output_type": "stream",
     "text": [
      "<ipython-input-4-75ffa558a4ed>:5: DeprecationWarning: use options instead of chrome_options\n",
      "  new_driver = webdriver.Chrome('C:\\Chrome_driver\\chromedriver.exe',chrome_options=chrome_options)\n"
     ]
    },
    {
     "name": "stdout",
     "output_type": "stream",
     "text": [
      "<selenium.webdriver.remote.webelement.WebElement (session=\"d97f45fc0e06c2e9a15987e66d5e7101\", element=\"0d891f6a-16e0-4742-9bbb-7e659e5acb7e\")>\n",
      "<selenium.webdriver.remote.webelement.WebElement (session=\"d97f45fc0e06c2e9a15987e66d5e7101\", element=\"ba4eab32-91a0-4ca6-849d-01c136773c3c\")>\n",
      "<selenium.webdriver.remote.webelement.WebElement (session=\"d97f45fc0e06c2e9a15987e66d5e7101\", element=\"cc6a1a44-0228-422b-8c5d-3575be36c825\")>\n",
      "<selenium.webdriver.remote.webelement.WebElement (session=\"d97f45fc0e06c2e9a15987e66d5e7101\", element=\"ebf9b2d3-8258-4718-9750-35b876fc2bbb\")>\n",
      "<selenium.webdriver.remote.webelement.WebElement (session=\"d97f45fc0e06c2e9a15987e66d5e7101\", element=\"e95836a9-5206-4aad-b9c7-19fd1f0ceb98\")>\n",
      "<selenium.webdriver.remote.webelement.WebElement (session=\"d97f45fc0e06c2e9a15987e66d5e7101\", element=\"550257a4-1816-42c6-9ad7-57b140e720a3\")>\n",
      "<selenium.webdriver.remote.webelement.WebElement (session=\"d97f45fc0e06c2e9a15987e66d5e7101\", element=\"c2eb10db-dbcb-4c8c-9fb5-cdcde2b47a5b\")>\n",
      "<selenium.webdriver.remote.webelement.WebElement (session=\"d97f45fc0e06c2e9a15987e66d5e7101\", element=\"6930e522-a548-4f3f-bfef-9c4c54fdf772\")>\n",
      "<selenium.webdriver.remote.webelement.WebElement (session=\"d97f45fc0e06c2e9a15987e66d5e7101\", element=\"fd475e4f-599e-44dd-85ae-381a04ba4b6e\")>\n",
      "<selenium.webdriver.remote.webelement.WebElement (session=\"d97f45fc0e06c2e9a15987e66d5e7101\", element=\"f32805cf-e7f6-47a9-8a90-05930ebead2a\")>\n",
      "<selenium.webdriver.remote.webelement.WebElement (session=\"d97f45fc0e06c2e9a15987e66d5e7101\", element=\"e07cd8af-7cc2-478f-a811-7d8cdd0f6d3a\")>\n",
      "<selenium.webdriver.remote.webelement.WebElement (session=\"d97f45fc0e06c2e9a15987e66d5e7101\", element=\"72e1de98-610d-4e70-afb8-ce7cbe37fac0\")>\n",
      "<selenium.webdriver.remote.webelement.WebElement (session=\"d97f45fc0e06c2e9a15987e66d5e7101\", element=\"9f2cd7c0-0dc2-4436-866d-22795eeb24dc\")>\n",
      "<selenium.webdriver.remote.webelement.WebElement (session=\"d97f45fc0e06c2e9a15987e66d5e7101\", element=\"8c7feed6-f8e3-4e9d-a072-6ad39244f2c0\")>\n",
      "<selenium.webdriver.remote.webelement.WebElement (session=\"d97f45fc0e06c2e9a15987e66d5e7101\", element=\"661cb30c-08f5-479b-a35a-4b83ec607a47\")>\n",
      "<selenium.webdriver.remote.webelement.WebElement (session=\"d97f45fc0e06c2e9a15987e66d5e7101\", element=\"6f22f877-018b-4937-8d77-f2902f6d1a12\")>\n",
      "<selenium.webdriver.remote.webelement.WebElement (session=\"d97f45fc0e06c2e9a15987e66d5e7101\", element=\"86af6353-f6c2-463c-ae6c-73e026911f33\")>\n",
      "<selenium.webdriver.remote.webelement.WebElement (session=\"d97f45fc0e06c2e9a15987e66d5e7101\", element=\"b4746793-d925-4fe6-9046-034b700b1de8\")>\n",
      "<selenium.webdriver.remote.webelement.WebElement (session=\"d97f45fc0e06c2e9a15987e66d5e7101\", element=\"be5afb56-ca26-41c4-a74c-4942f9a6e928\")>\n",
      "<selenium.webdriver.remote.webelement.WebElement (session=\"d97f45fc0e06c2e9a15987e66d5e7101\", element=\"ae920f7f-d1f6-4fda-9820-3caa7ecd1ce0\")>\n",
      "<selenium.webdriver.remote.webelement.WebElement (session=\"d97f45fc0e06c2e9a15987e66d5e7101\", element=\"00dd69f4-d4b5-4309-8206-39d0166eab23\")>\n",
      "<selenium.webdriver.remote.webelement.WebElement (session=\"d97f45fc0e06c2e9a15987e66d5e7101\", element=\"8c227ec8-4fb0-4b3b-813f-b8f605c9fcfc\")>\n",
      "<selenium.webdriver.remote.webelement.WebElement (session=\"d97f45fc0e06c2e9a15987e66d5e7101\", element=\"2ab5b0d7-b9be-4472-8f8b-b27abcc43680\")>\n",
      "<selenium.webdriver.remote.webelement.WebElement (session=\"d97f45fc0e06c2e9a15987e66d5e7101\", element=\"7ab5f713-d190-405c-85a2-8e3e23f1224c\")>\n",
      "<selenium.webdriver.remote.webelement.WebElement (session=\"d97f45fc0e06c2e9a15987e66d5e7101\", element=\"6285e02f-3a74-4fba-88c8-c87348812357\")>\n",
      "<selenium.webdriver.remote.webelement.WebElement (session=\"d97f45fc0e06c2e9a15987e66d5e7101\", element=\"eb2630fb-2718-4ae9-b391-428b5840a048\")>\n",
      "<selenium.webdriver.remote.webelement.WebElement (session=\"d97f45fc0e06c2e9a15987e66d5e7101\", element=\"433e7d4c-a8e7-4782-a887-7d3aafb65bcb\")>\n",
      "<selenium.webdriver.remote.webelement.WebElement (session=\"d97f45fc0e06c2e9a15987e66d5e7101\", element=\"3f25cafc-5ab7-4f80-a19a-5e9f4177d568\")>\n",
      "<selenium.webdriver.remote.webelement.WebElement (session=\"d97f45fc0e06c2e9a15987e66d5e7101\", element=\"cfaa5f4e-b329-4c30-8bc7-e6d39c5033c5\")>\n",
      "<selenium.webdriver.remote.webelement.WebElement (session=\"d97f45fc0e06c2e9a15987e66d5e7101\", element=\"3be76ca3-5644-4380-b8ca-0b371b6e7255\")>\n",
      "<selenium.webdriver.remote.webelement.WebElement (session=\"d97f45fc0e06c2e9a15987e66d5e7101\", element=\"a5df506c-90f7-424d-80ac-11d9c653e998\")>\n",
      "<selenium.webdriver.remote.webelement.WebElement (session=\"d97f45fc0e06c2e9a15987e66d5e7101\", element=\"236a8210-9b6b-426b-ae95-4ecffb1945ab\")>\n",
      "<selenium.webdriver.remote.webelement.WebElement (session=\"d97f45fc0e06c2e9a15987e66d5e7101\", element=\"bf452224-27d5-4f68-8deb-f22ea75e494f\")>\n",
      "<selenium.webdriver.remote.webelement.WebElement (session=\"d97f45fc0e06c2e9a15987e66d5e7101\", element=\"e4f43bf6-d862-4cd7-a16f-37ab57e7e4a6\")>\n",
      "<selenium.webdriver.remote.webelement.WebElement (session=\"d97f45fc0e06c2e9a15987e66d5e7101\", element=\"c8f93dcc-33ec-4be6-bf20-8afb4fb6fba2\")>\n",
      "<selenium.webdriver.remote.webelement.WebElement (session=\"d97f45fc0e06c2e9a15987e66d5e7101\", element=\"3f93a2f4-4ad1-48da-b4d4-9ad714fa13b6\")>\n",
      "<selenium.webdriver.remote.webelement.WebElement (session=\"d97f45fc0e06c2e9a15987e66d5e7101\", element=\"2354ecab-c1e6-4fd3-914b-07f9ba622366\")>\n",
      "<selenium.webdriver.remote.webelement.WebElement (session=\"d97f45fc0e06c2e9a15987e66d5e7101\", element=\"d08fd758-210a-41fc-8e04-73891c39dde7\")>\n",
      "<selenium.webdriver.remote.webelement.WebElement (session=\"d97f45fc0e06c2e9a15987e66d5e7101\", element=\"461f1506-17c6-4753-87be-4f2e6024ca05\")>\n",
      "<selenium.webdriver.remote.webelement.WebElement (session=\"d97f45fc0e06c2e9a15987e66d5e7101\", element=\"5b2784a7-aa3c-46ec-b9c2-0a1d2571d261\")>\n",
      "<selenium.webdriver.remote.webelement.WebElement (session=\"d97f45fc0e06c2e9a15987e66d5e7101\", element=\"4b00e372-c554-4a6f-93cd-e0dd32722696\")>\n",
      "<selenium.webdriver.remote.webelement.WebElement (session=\"d97f45fc0e06c2e9a15987e66d5e7101\", element=\"36972593-02c9-471d-9f0e-11fa0313d90e\")>\n",
      "<selenium.webdriver.remote.webelement.WebElement (session=\"d97f45fc0e06c2e9a15987e66d5e7101\", element=\"520768f0-4213-451f-81d0-5f4fc37e8c0d\")>\n",
      "<selenium.webdriver.remote.webelement.WebElement (session=\"d97f45fc0e06c2e9a15987e66d5e7101\", element=\"61b665da-bfc9-41c3-a327-db8ed0821317\")>\n",
      "<selenium.webdriver.remote.webelement.WebElement (session=\"d97f45fc0e06c2e9a15987e66d5e7101\", element=\"1b5a752d-2e2a-4005-87c4-dbae598a5433\")>\n",
      "<selenium.webdriver.remote.webelement.WebElement (session=\"d97f45fc0e06c2e9a15987e66d5e7101\", element=\"c276f32d-9b95-48d9-8e2e-192cf04fda29\")>\n",
      "<selenium.webdriver.remote.webelement.WebElement (session=\"d97f45fc0e06c2e9a15987e66d5e7101\", element=\"a9b99ba1-5558-46d9-9991-bc811142a982\")>\n",
      "<selenium.webdriver.remote.webelement.WebElement (session=\"d97f45fc0e06c2e9a15987e66d5e7101\", element=\"814d2600-d4ab-49ae-8722-8f140eb4ddef\")>\n",
      "<selenium.webdriver.remote.webelement.WebElement (session=\"d97f45fc0e06c2e9a15987e66d5e7101\", element=\"8c6a9beb-8fa3-40b2-bc2f-ccf4c3d4ccb3\")>\n",
      "<selenium.webdriver.remote.webelement.WebElement (session=\"d97f45fc0e06c2e9a15987e66d5e7101\", element=\"f4cb5288-1ae1-49e4-a4a4-1b12f1e2ea51\")>\n",
      "<selenium.webdriver.remote.webelement.WebElement (session=\"4045d4ff3e44d2f86e23772317522bb2\", element=\"944351a0-a600-4fcb-959f-1cbec72631ef\")>\n",
      "<selenium.webdriver.remote.webelement.WebElement (session=\"4045d4ff3e44d2f86e23772317522bb2\", element=\"f6b80b54-9dee-49d6-ae1f-b9831f098005\")>\n",
      "<selenium.webdriver.remote.webelement.WebElement (session=\"4045d4ff3e44d2f86e23772317522bb2\", element=\"ddf0ba1f-d6c8-4ad2-a784-312423aaca3a\")>\n",
      "<selenium.webdriver.remote.webelement.WebElement (session=\"4045d4ff3e44d2f86e23772317522bb2\", element=\"8c2b9c20-84c0-4fea-9c08-76258a75fc37\")>\n",
      "<selenium.webdriver.remote.webelement.WebElement (session=\"4045d4ff3e44d2f86e23772317522bb2\", element=\"c9f0bc54-4f39-4b03-b9ff-b470f51ce24b\")>\n",
      "<selenium.webdriver.remote.webelement.WebElement (session=\"4045d4ff3e44d2f86e23772317522bb2\", element=\"abb429cb-22a2-4548-a8f7-1b02cb2fd646\")>\n",
      "<selenium.webdriver.remote.webelement.WebElement (session=\"4045d4ff3e44d2f86e23772317522bb2\", element=\"1b368693-74a3-4121-9a0a-ed5c77e135c6\")>\n",
      "<selenium.webdriver.remote.webelement.WebElement (session=\"4045d4ff3e44d2f86e23772317522bb2\", element=\"4e1f38a9-a2e3-48f3-89d9-68f7d4ccd426\")>\n",
      "<selenium.webdriver.remote.webelement.WebElement (session=\"4045d4ff3e44d2f86e23772317522bb2\", element=\"266ddd2e-f7ad-4e16-ae2e-d61bfa8679de\")>\n",
      "<selenium.webdriver.remote.webelement.WebElement (session=\"4045d4ff3e44d2f86e23772317522bb2\", element=\"3d7a2ae9-d3b7-48b8-8fd0-77792ac16272\")>\n",
      "<selenium.webdriver.remote.webelement.WebElement (session=\"4045d4ff3e44d2f86e23772317522bb2\", element=\"d64adb2b-4480-4729-a089-697c7f29be28\")>\n",
      "<selenium.webdriver.remote.webelement.WebElement (session=\"4045d4ff3e44d2f86e23772317522bb2\", element=\"7e6b9d7a-bba3-4afa-859c-189fffb4c341\")>\n",
      "<selenium.webdriver.remote.webelement.WebElement (session=\"4045d4ff3e44d2f86e23772317522bb2\", element=\"8be2e516-e02f-4eef-b873-ec696e956e24\")>\n",
      "<selenium.webdriver.remote.webelement.WebElement (session=\"4045d4ff3e44d2f86e23772317522bb2\", element=\"3ec91097-b46d-4435-8002-283cf1b0a115\")>\n",
      "<selenium.webdriver.remote.webelement.WebElement (session=\"4045d4ff3e44d2f86e23772317522bb2\", element=\"1c9b5506-e372-44c2-bf52-d629c960457b\")>\n"
     ]
    },
    {
     "name": "stdout",
     "output_type": "stream",
     "text": [
      "<selenium.webdriver.remote.webelement.WebElement (session=\"4045d4ff3e44d2f86e23772317522bb2\", element=\"360e2ad4-ad79-4c3e-a046-37143eef9dfa\")>\n",
      "<selenium.webdriver.remote.webelement.WebElement (session=\"4045d4ff3e44d2f86e23772317522bb2\", element=\"3c5272c4-5da9-4459-ac70-e43a29a16848\")>\n",
      "<selenium.webdriver.remote.webelement.WebElement (session=\"4045d4ff3e44d2f86e23772317522bb2\", element=\"4aca7996-0dd7-43ec-a3e3-eab474ff6268\")>\n",
      "<selenium.webdriver.remote.webelement.WebElement (session=\"4045d4ff3e44d2f86e23772317522bb2\", element=\"2586bf45-9b7b-4931-9f57-659a38a49000\")>\n",
      "<selenium.webdriver.remote.webelement.WebElement (session=\"4045d4ff3e44d2f86e23772317522bb2\", element=\"206810a9-e7ff-4e21-9c75-0a8174692764\")>\n",
      "<selenium.webdriver.remote.webelement.WebElement (session=\"4045d4ff3e44d2f86e23772317522bb2\", element=\"eb407c3f-95c8-42c1-9b1b-1e29b2fda58f\")>\n",
      "<selenium.webdriver.remote.webelement.WebElement (session=\"4045d4ff3e44d2f86e23772317522bb2\", element=\"ee95ce3c-c14c-40a6-9604-1082383293cb\")>\n",
      "<selenium.webdriver.remote.webelement.WebElement (session=\"4045d4ff3e44d2f86e23772317522bb2\", element=\"ec84bc0b-ab2a-4027-a8a2-fde45a304120\")>\n",
      "<selenium.webdriver.remote.webelement.WebElement (session=\"4045d4ff3e44d2f86e23772317522bb2\", element=\"b42ef525-2c49-48af-95dd-5e7e9deacec5\")>\n",
      "<selenium.webdriver.remote.webelement.WebElement (session=\"4045d4ff3e44d2f86e23772317522bb2\", element=\"eddf36e4-46c8-4a5f-a840-0142e3f8eeba\")>\n",
      "<selenium.webdriver.remote.webelement.WebElement (session=\"4045d4ff3e44d2f86e23772317522bb2\", element=\"e36d80a5-4907-468c-bdf1-0277a9354508\")>\n",
      "<selenium.webdriver.remote.webelement.WebElement (session=\"4045d4ff3e44d2f86e23772317522bb2\", element=\"a9660c66-3b0c-46ab-825c-76db4191607c\")>\n",
      "<selenium.webdriver.remote.webelement.WebElement (session=\"4045d4ff3e44d2f86e23772317522bb2\", element=\"1f7da190-b020-4468-9945-94b6d556df07\")>\n",
      "<selenium.webdriver.remote.webelement.WebElement (session=\"4045d4ff3e44d2f86e23772317522bb2\", element=\"6591e5b4-7eef-494c-ac02-599fe575f535\")>\n",
      "<selenium.webdriver.remote.webelement.WebElement (session=\"4045d4ff3e44d2f86e23772317522bb2\", element=\"c2fea52b-065a-45dc-983b-b94396e3d722\")>\n",
      "<selenium.webdriver.remote.webelement.WebElement (session=\"4045d4ff3e44d2f86e23772317522bb2\", element=\"819b5c88-d5d4-4411-ba84-f4e933afb85f\")>\n",
      "<selenium.webdriver.remote.webelement.WebElement (session=\"4045d4ff3e44d2f86e23772317522bb2\", element=\"f60e28cb-f085-4d43-a292-f1c90dd5f5a4\")>\n",
      "<selenium.webdriver.remote.webelement.WebElement (session=\"4045d4ff3e44d2f86e23772317522bb2\", element=\"a12f5779-b949-45b4-85bd-291f844217be\")>\n",
      "<selenium.webdriver.remote.webelement.WebElement (session=\"4045d4ff3e44d2f86e23772317522bb2\", element=\"36daf7ad-f24f-4fb0-ab98-bbe6eb9d5b38\")>\n",
      "<selenium.webdriver.remote.webelement.WebElement (session=\"4045d4ff3e44d2f86e23772317522bb2\", element=\"c017448c-dff0-4100-8515-7d3e2cf87ef8\")>\n",
      "<selenium.webdriver.remote.webelement.WebElement (session=\"4045d4ff3e44d2f86e23772317522bb2\", element=\"c36c8341-fb12-4cd5-975a-70e9543f6a3d\")>\n",
      "<selenium.webdriver.remote.webelement.WebElement (session=\"4045d4ff3e44d2f86e23772317522bb2\", element=\"cc95312b-3df1-4fce-92d6-a0a1913e70d7\")>\n",
      "<selenium.webdriver.remote.webelement.WebElement (session=\"4045d4ff3e44d2f86e23772317522bb2\", element=\"76fa33dd-d121-4991-8012-aeb2995d9c4e\")>\n",
      "<selenium.webdriver.remote.webelement.WebElement (session=\"4045d4ff3e44d2f86e23772317522bb2\", element=\"2ec88c26-a90e-4d3f-926d-dda6197fdc16\")>\n",
      "<selenium.webdriver.remote.webelement.WebElement (session=\"4045d4ff3e44d2f86e23772317522bb2\", element=\"48dee033-a97c-47fa-a79a-9f66467fcc82\")>\n",
      "<selenium.webdriver.remote.webelement.WebElement (session=\"4045d4ff3e44d2f86e23772317522bb2\", element=\"8f496558-5d93-4768-b851-016b676059e6\")>\n",
      "<selenium.webdriver.remote.webelement.WebElement (session=\"4045d4ff3e44d2f86e23772317522bb2\", element=\"162e8213-4343-4580-b8f5-e42ffcd2525d\")>\n",
      "<selenium.webdriver.remote.webelement.WebElement (session=\"4045d4ff3e44d2f86e23772317522bb2\", element=\"9c1142f6-2184-4dd5-88e8-7be54df23454\")>\n",
      "<selenium.webdriver.remote.webelement.WebElement (session=\"4045d4ff3e44d2f86e23772317522bb2\", element=\"2221fd8c-023e-40bf-b8fb-718a1322edbc\")>\n",
      "<selenium.webdriver.remote.webelement.WebElement (session=\"4045d4ff3e44d2f86e23772317522bb2\", element=\"b6d8f4e5-fc10-43c8-966f-db7d4c1b2f11\")>\n",
      "<selenium.webdriver.remote.webelement.WebElement (session=\"4045d4ff3e44d2f86e23772317522bb2\", element=\"95d1a803-1e22-4a4e-8c42-3102ba0d8b78\")>\n",
      "<selenium.webdriver.remote.webelement.WebElement (session=\"4045d4ff3e44d2f86e23772317522bb2\", element=\"40c86603-76ff-420e-8914-2e3928c8892b\")>\n",
      "<selenium.webdriver.remote.webelement.WebElement (session=\"4045d4ff3e44d2f86e23772317522bb2\", element=\"624565cf-05e8-4fff-899a-3e73bbc1768a\")>\n",
      "<selenium.webdriver.remote.webelement.WebElement (session=\"4045d4ff3e44d2f86e23772317522bb2\", element=\"8b05f218-59a6-4d35-b6f6-1bf82d1e4690\")>\n",
      "<selenium.webdriver.remote.webelement.WebElement (session=\"4045d4ff3e44d2f86e23772317522bb2\", element=\"b25497ba-661d-4ba9-8d24-3544660941fd\")>\n",
      "<selenium.webdriver.remote.webelement.WebElement (session=\"8217f7f026c014cfc0dee01b73e7a0d1\", element=\"40ec04d6-aefb-4cda-a9db-d1b40f9a5192\")>\n",
      "<selenium.webdriver.remote.webelement.WebElement (session=\"8217f7f026c014cfc0dee01b73e7a0d1\", element=\"098ec6c1-f827-4e41-8831-0f0edd7f081c\")>\n",
      "<selenium.webdriver.remote.webelement.WebElement (session=\"8217f7f026c014cfc0dee01b73e7a0d1\", element=\"49dcc04a-188f-4b4e-af2e-7a7c756848ca\")>\n",
      "<selenium.webdriver.remote.webelement.WebElement (session=\"8217f7f026c014cfc0dee01b73e7a0d1\", element=\"d8d9cda4-1899-4ab9-a98c-3cdb76d3b6f7\")>\n",
      "<selenium.webdriver.remote.webelement.WebElement (session=\"8217f7f026c014cfc0dee01b73e7a0d1\", element=\"10d7ceed-4612-475e-972f-e1b29ad20156\")>\n",
      "<selenium.webdriver.remote.webelement.WebElement (session=\"8217f7f026c014cfc0dee01b73e7a0d1\", element=\"b0f8f485-27e3-4a2c-aaf8-38938179c232\")>\n",
      "<selenium.webdriver.remote.webelement.WebElement (session=\"8217f7f026c014cfc0dee01b73e7a0d1\", element=\"89f8a256-b87e-4ab3-8715-7ff77343e37a\")>\n",
      "<selenium.webdriver.remote.webelement.WebElement (session=\"8217f7f026c014cfc0dee01b73e7a0d1\", element=\"a4b6aa92-6913-4e34-9755-b549faca45a7\")>\n",
      "<selenium.webdriver.remote.webelement.WebElement (session=\"8217f7f026c014cfc0dee01b73e7a0d1\", element=\"22b9d97b-ac19-44c9-8b56-b8767d6a722f\")>\n",
      "<selenium.webdriver.remote.webelement.WebElement (session=\"8217f7f026c014cfc0dee01b73e7a0d1\", element=\"ca186640-43b7-4f2b-8640-45c4033c1d7e\")>\n",
      "<selenium.webdriver.remote.webelement.WebElement (session=\"8217f7f026c014cfc0dee01b73e7a0d1\", element=\"e0a8eb44-3cb7-4172-92dc-4c824d1e84e4\")>\n",
      "<selenium.webdriver.remote.webelement.WebElement (session=\"8217f7f026c014cfc0dee01b73e7a0d1\", element=\"7e0250f9-da0c-4e82-be10-56f406581ff3\")>\n",
      "<selenium.webdriver.remote.webelement.WebElement (session=\"8217f7f026c014cfc0dee01b73e7a0d1\", element=\"3dde1080-7546-4a3d-b998-07fa0be1e93b\")>\n",
      "<selenium.webdriver.remote.webelement.WebElement (session=\"8217f7f026c014cfc0dee01b73e7a0d1\", element=\"e0bf18d8-2250-423a-a950-00b695517f96\")>\n",
      "<selenium.webdriver.remote.webelement.WebElement (session=\"8217f7f026c014cfc0dee01b73e7a0d1\", element=\"0f8d4a70-dd7b-42ff-a56e-1c5211ee209f\")>\n",
      "<selenium.webdriver.remote.webelement.WebElement (session=\"8217f7f026c014cfc0dee01b73e7a0d1\", element=\"04dc04c0-f2ee-42dc-842b-57781db8ef76\")>\n",
      "<selenium.webdriver.remote.webelement.WebElement (session=\"8217f7f026c014cfc0dee01b73e7a0d1\", element=\"4686bd1c-ed65-4aae-9bd8-283e33d33901\")>\n",
      "<selenium.webdriver.remote.webelement.WebElement (session=\"8217f7f026c014cfc0dee01b73e7a0d1\", element=\"0d7e6042-5954-4ead-b56b-5d3fc2ce76c4\")>\n",
      "<selenium.webdriver.remote.webelement.WebElement (session=\"8217f7f026c014cfc0dee01b73e7a0d1\", element=\"f7fb14f2-80a3-4315-a278-8ab6837d0fe9\")>\n",
      "<selenium.webdriver.remote.webelement.WebElement (session=\"8217f7f026c014cfc0dee01b73e7a0d1\", element=\"11db7315-ac55-4d91-9458-ef63e2c2db73\")>\n",
      "<selenium.webdriver.remote.webelement.WebElement (session=\"8217f7f026c014cfc0dee01b73e7a0d1\", element=\"bafe38c9-6dbd-478b-9549-d40fa28d6e44\")>\n",
      "<selenium.webdriver.remote.webelement.WebElement (session=\"8217f7f026c014cfc0dee01b73e7a0d1\", element=\"5b62f4f1-823a-45c5-bebd-19b9148f08da\")>\n",
      "<selenium.webdriver.remote.webelement.WebElement (session=\"8217f7f026c014cfc0dee01b73e7a0d1\", element=\"a624fdea-7f0c-438a-99a4-bb963c5ff23b\")>\n",
      "<selenium.webdriver.remote.webelement.WebElement (session=\"8217f7f026c014cfc0dee01b73e7a0d1\", element=\"335a733e-0313-4cac-b407-b1466a245d0d\")>\n",
      "<selenium.webdriver.remote.webelement.WebElement (session=\"8217f7f026c014cfc0dee01b73e7a0d1\", element=\"5d414e94-406c-4125-8b90-a58aad5575e7\")>\n"
     ]
    },
    {
     "name": "stdout",
     "output_type": "stream",
     "text": [
      "<selenium.webdriver.remote.webelement.WebElement (session=\"8217f7f026c014cfc0dee01b73e7a0d1\", element=\"3ac99f4f-ca2d-4656-96ef-9a99ff6398e0\")>\n",
      "<selenium.webdriver.remote.webelement.WebElement (session=\"8217f7f026c014cfc0dee01b73e7a0d1\", element=\"cbf8368a-6ec8-48e9-941b-ab8d6e1f645a\")>\n",
      "<selenium.webdriver.remote.webelement.WebElement (session=\"8217f7f026c014cfc0dee01b73e7a0d1\", element=\"9b54cb62-e53c-4cf4-aa51-d3c184e46553\")>\n",
      "<selenium.webdriver.remote.webelement.WebElement (session=\"8217f7f026c014cfc0dee01b73e7a0d1\", element=\"c74a85b7-67f9-41ef-b131-34e88f30c4a6\")>\n",
      "<selenium.webdriver.remote.webelement.WebElement (session=\"8217f7f026c014cfc0dee01b73e7a0d1\", element=\"5665c35e-0202-4489-9656-dc25a011b670\")>\n",
      "<selenium.webdriver.remote.webelement.WebElement (session=\"8217f7f026c014cfc0dee01b73e7a0d1\", element=\"664ed01c-97d9-4642-a754-7aa20467ac4f\")>\n",
      "<selenium.webdriver.remote.webelement.WebElement (session=\"8217f7f026c014cfc0dee01b73e7a0d1\", element=\"b07e40e5-d238-4892-be5e-d3aba1afb256\")>\n",
      "<selenium.webdriver.remote.webelement.WebElement (session=\"8217f7f026c014cfc0dee01b73e7a0d1\", element=\"241a5999-96c7-4692-8388-7d446c6613e6\")>\n",
      "<selenium.webdriver.remote.webelement.WebElement (session=\"8217f7f026c014cfc0dee01b73e7a0d1\", element=\"3068f154-5176-4b31-bb30-620a7847551d\")>\n",
      "<selenium.webdriver.remote.webelement.WebElement (session=\"8217f7f026c014cfc0dee01b73e7a0d1\", element=\"01277d8e-db28-4e34-834b-940c3861f0df\")>\n",
      "<selenium.webdriver.remote.webelement.WebElement (session=\"8217f7f026c014cfc0dee01b73e7a0d1\", element=\"3614519a-d511-4c15-9101-4311ca31b4d1\")>\n",
      "<selenium.webdriver.remote.webelement.WebElement (session=\"8217f7f026c014cfc0dee01b73e7a0d1\", element=\"ad9f36ce-257f-44de-96fb-af3919e2c006\")>\n",
      "<selenium.webdriver.remote.webelement.WebElement (session=\"8217f7f026c014cfc0dee01b73e7a0d1\", element=\"c27f3385-5f8a-4c32-bef9-a26ed7207586\")>\n",
      "<selenium.webdriver.remote.webelement.WebElement (session=\"8217f7f026c014cfc0dee01b73e7a0d1\", element=\"516bffcc-9b9a-4a13-bda5-b2dfa74d7aaf\")>\n",
      "<selenium.webdriver.remote.webelement.WebElement (session=\"8217f7f026c014cfc0dee01b73e7a0d1\", element=\"240bf7c1-3a93-4f67-bc2f-bc5869486bf2\")>\n",
      "<selenium.webdriver.remote.webelement.WebElement (session=\"8217f7f026c014cfc0dee01b73e7a0d1\", element=\"df2dfdf0-cbe0-4723-8ced-e5c2f2bce63b\")>\n",
      "<selenium.webdriver.remote.webelement.WebElement (session=\"8217f7f026c014cfc0dee01b73e7a0d1\", element=\"586cb2aa-9e69-42e1-8882-0aa02b0c3139\")>\n",
      "<selenium.webdriver.remote.webelement.WebElement (session=\"8217f7f026c014cfc0dee01b73e7a0d1\", element=\"b2916785-7a4d-46fc-97df-4f0d9c51ad9c\")>\n",
      "<selenium.webdriver.remote.webelement.WebElement (session=\"8217f7f026c014cfc0dee01b73e7a0d1\", element=\"e40515eb-8629-474d-997a-a383acae860c\")>\n",
      "<selenium.webdriver.remote.webelement.WebElement (session=\"8217f7f026c014cfc0dee01b73e7a0d1\", element=\"d6f9ed5f-6bbe-4abf-b9ad-8ff21ee0a840\")>\n",
      "<selenium.webdriver.remote.webelement.WebElement (session=\"8217f7f026c014cfc0dee01b73e7a0d1\", element=\"061d8ff1-d2b7-40dc-901f-04ca50e564cb\")>\n",
      "<selenium.webdriver.remote.webelement.WebElement (session=\"8217f7f026c014cfc0dee01b73e7a0d1\", element=\"7b12e75f-5d2e-4e34-af97-c9e038635697\")>\n",
      "<selenium.webdriver.remote.webelement.WebElement (session=\"8217f7f026c014cfc0dee01b73e7a0d1\", element=\"5d6baac1-8f02-4b98-8396-b9ec6b9ada37\")>\n",
      "<selenium.webdriver.remote.webelement.WebElement (session=\"8217f7f026c014cfc0dee01b73e7a0d1\", element=\"c2a721a2-f150-414c-ab7f-d12863259172\")>\n",
      "<selenium.webdriver.remote.webelement.WebElement (session=\"8217f7f026c014cfc0dee01b73e7a0d1\", element=\"5880835c-44b9-4e51-9c63-ff287bfa341d\")>\n",
      "<selenium.webdriver.remote.webelement.WebElement (session=\"82897007cf6a7dbcc36473fea1518d1a\", element=\"36186500-71f8-4d7c-8056-c72b3d111969\")>\n",
      "<selenium.webdriver.remote.webelement.WebElement (session=\"82897007cf6a7dbcc36473fea1518d1a\", element=\"3109f117-0626-4573-a043-ddaf586c8377\")>\n",
      "<selenium.webdriver.remote.webelement.WebElement (session=\"82897007cf6a7dbcc36473fea1518d1a\", element=\"fe04ddfe-7e6e-474a-94fa-3009dc94486d\")>\n",
      "<selenium.webdriver.remote.webelement.WebElement (session=\"82897007cf6a7dbcc36473fea1518d1a\", element=\"429bffe6-7b17-4c2b-bf51-fa160ca873d8\")>\n",
      "<selenium.webdriver.remote.webelement.WebElement (session=\"82897007cf6a7dbcc36473fea1518d1a\", element=\"143ea20a-7577-4b6a-be49-703f90e8fa6f\")>\n",
      "<selenium.webdriver.remote.webelement.WebElement (session=\"82897007cf6a7dbcc36473fea1518d1a\", element=\"52924a12-4b36-49b5-975d-d0486189801c\")>\n",
      "<selenium.webdriver.remote.webelement.WebElement (session=\"82897007cf6a7dbcc36473fea1518d1a\", element=\"b6c87437-e89d-4c77-8270-684a40303a60\")>\n",
      "<selenium.webdriver.remote.webelement.WebElement (session=\"82897007cf6a7dbcc36473fea1518d1a\", element=\"25a6d645-5b76-4624-a3a6-1b04305abc51\")>\n",
      "<selenium.webdriver.remote.webelement.WebElement (session=\"82897007cf6a7dbcc36473fea1518d1a\", element=\"338f609b-e943-492c-8e83-1de4fbf27319\")>\n",
      "<selenium.webdriver.remote.webelement.WebElement (session=\"82897007cf6a7dbcc36473fea1518d1a\", element=\"1618faac-1c99-4562-928c-2c59c657c657\")>\n",
      "<selenium.webdriver.remote.webelement.WebElement (session=\"82897007cf6a7dbcc36473fea1518d1a\", element=\"89f32b86-8929-4b84-8a1b-9c7b33dea14d\")>\n",
      "<selenium.webdriver.remote.webelement.WebElement (session=\"82897007cf6a7dbcc36473fea1518d1a\", element=\"a333684e-8bd4-4bb7-a714-4158eeebbab0\")>\n",
      "<selenium.webdriver.remote.webelement.WebElement (session=\"82897007cf6a7dbcc36473fea1518d1a\", element=\"138b6f57-8901-4d19-aa31-c887fd45a864\")>\n",
      "<selenium.webdriver.remote.webelement.WebElement (session=\"82897007cf6a7dbcc36473fea1518d1a\", element=\"b8872a30-c3bc-4566-a0e5-b14e93757c67\")>\n",
      "<selenium.webdriver.remote.webelement.WebElement (session=\"82897007cf6a7dbcc36473fea1518d1a\", element=\"4f556c5a-766a-4a1d-8fb4-1e566763dbe2\")>\n",
      "<selenium.webdriver.remote.webelement.WebElement (session=\"82897007cf6a7dbcc36473fea1518d1a\", element=\"d28a54d5-d68d-41ef-abcc-3c15a95c170a\")>\n",
      "<selenium.webdriver.remote.webelement.WebElement (session=\"82897007cf6a7dbcc36473fea1518d1a\", element=\"71aeca51-431f-4ada-8bb7-87c55250067b\")>\n",
      "<selenium.webdriver.remote.webelement.WebElement (session=\"82897007cf6a7dbcc36473fea1518d1a\", element=\"7eb2ecd4-4928-4340-a15e-8bea2b9ea1dd\")>\n",
      "<selenium.webdriver.remote.webelement.WebElement (session=\"82897007cf6a7dbcc36473fea1518d1a\", element=\"092e4cd9-1c6d-4b2e-b265-39f511e90818\")>\n",
      "<selenium.webdriver.remote.webelement.WebElement (session=\"82897007cf6a7dbcc36473fea1518d1a\", element=\"67e52531-3238-4bb8-9b1c-37216ed212f3\")>\n",
      "<selenium.webdriver.remote.webelement.WebElement (session=\"82897007cf6a7dbcc36473fea1518d1a\", element=\"e167c4ac-9be8-4e6e-b9a5-506f6245dff6\")>\n",
      "<selenium.webdriver.remote.webelement.WebElement (session=\"82897007cf6a7dbcc36473fea1518d1a\", element=\"48b5ea34-efef-4c10-91ab-2f0bf1257e20\")>\n",
      "<selenium.webdriver.remote.webelement.WebElement (session=\"82897007cf6a7dbcc36473fea1518d1a\", element=\"2cff8531-0ec7-4584-82f5-c21750569485\")>\n",
      "<selenium.webdriver.remote.webelement.WebElement (session=\"82897007cf6a7dbcc36473fea1518d1a\", element=\"d0d2e8f2-18f2-43ae-aed9-3da2dc06acdf\")>\n",
      "<selenium.webdriver.remote.webelement.WebElement (session=\"82897007cf6a7dbcc36473fea1518d1a\", element=\"e05827e6-2136-4b2c-88c9-748cd999f0e5\")>\n",
      "<selenium.webdriver.remote.webelement.WebElement (session=\"82897007cf6a7dbcc36473fea1518d1a\", element=\"1eff05b1-9c88-41b2-95c2-3a56a0e5a486\")>\n",
      "<selenium.webdriver.remote.webelement.WebElement (session=\"82897007cf6a7dbcc36473fea1518d1a\", element=\"485cea6d-a437-4285-84aa-179c3a19187d\")>\n",
      "<selenium.webdriver.remote.webelement.WebElement (session=\"82897007cf6a7dbcc36473fea1518d1a\", element=\"26dd4afc-8ae5-4420-8ab4-45507f914407\")>\n",
      "<selenium.webdriver.remote.webelement.WebElement (session=\"82897007cf6a7dbcc36473fea1518d1a\", element=\"6e812686-9c25-4222-b14b-1c9ebd4d07b0\")>\n",
      "<selenium.webdriver.remote.webelement.WebElement (session=\"82897007cf6a7dbcc36473fea1518d1a\", element=\"af4fef59-0a8b-4e6e-8960-50c41e4deba9\")>\n",
      "<selenium.webdriver.remote.webelement.WebElement (session=\"82897007cf6a7dbcc36473fea1518d1a\", element=\"fe22a273-dc3f-49f2-98be-67b5208c047e\")>\n",
      "<selenium.webdriver.remote.webelement.WebElement (session=\"82897007cf6a7dbcc36473fea1518d1a\", element=\"db0ce79f-9f73-412d-9bb2-05c47ad21aa7\")>\n",
      "<selenium.webdriver.remote.webelement.WebElement (session=\"82897007cf6a7dbcc36473fea1518d1a\", element=\"74298d20-4e96-4f4f-82dc-6f1e8757dc0f\")>\n",
      "<selenium.webdriver.remote.webelement.WebElement (session=\"82897007cf6a7dbcc36473fea1518d1a\", element=\"497bb9a1-061a-4fca-b4fb-89646d023e06\")>\n",
      "<selenium.webdriver.remote.webelement.WebElement (session=\"82897007cf6a7dbcc36473fea1518d1a\", element=\"7d3751a9-dc65-4e49-a809-10016952d10c\")>\n",
      "<selenium.webdriver.remote.webelement.WebElement (session=\"82897007cf6a7dbcc36473fea1518d1a\", element=\"c3929b13-57cc-4d18-a648-95e76421b0ee\")>\n",
      "<selenium.webdriver.remote.webelement.WebElement (session=\"82897007cf6a7dbcc36473fea1518d1a\", element=\"9f842141-2038-44da-8536-d144cff37726\")>\n",
      "<selenium.webdriver.remote.webelement.WebElement (session=\"82897007cf6a7dbcc36473fea1518d1a\", element=\"3196ddbd-6020-4cb5-9853-08081ac2056a\")>\n",
      "<selenium.webdriver.remote.webelement.WebElement (session=\"82897007cf6a7dbcc36473fea1518d1a\", element=\"3e7e5b87-74d0-4e3e-ae3b-eeac93dd5667\")>\n",
      "<selenium.webdriver.remote.webelement.WebElement (session=\"82897007cf6a7dbcc36473fea1518d1a\", element=\"3d21adef-8571-4b91-a4e9-26033f867f80\")>\n",
      "<selenium.webdriver.remote.webelement.WebElement (session=\"82897007cf6a7dbcc36473fea1518d1a\", element=\"c3fc6c00-4901-44b9-b5ce-56f6c45b02f4\")>\n",
      "<selenium.webdriver.remote.webelement.WebElement (session=\"82897007cf6a7dbcc36473fea1518d1a\", element=\"1eac1685-49a9-4e75-8b49-0a4a26e748be\")>\n",
      "<selenium.webdriver.remote.webelement.WebElement (session=\"82897007cf6a7dbcc36473fea1518d1a\", element=\"e96a9899-ea62-4a79-9a28-1eda2acd4e27\")>\n",
      "<selenium.webdriver.remote.webelement.WebElement (session=\"82897007cf6a7dbcc36473fea1518d1a\", element=\"9f7fed50-372b-4816-abfd-299ffeb05fe2\")>\n",
      "<selenium.webdriver.remote.webelement.WebElement (session=\"82897007cf6a7dbcc36473fea1518d1a\", element=\"58db75d6-2e0b-4b75-ac09-5f8800c4f7b0\")>\n"
     ]
    },
    {
     "name": "stdout",
     "output_type": "stream",
     "text": [
      "<selenium.webdriver.remote.webelement.WebElement (session=\"82897007cf6a7dbcc36473fea1518d1a\", element=\"ccce7adc-f32f-4c44-a30b-5179c5036685\")>\n",
      "<selenium.webdriver.remote.webelement.WebElement (session=\"82897007cf6a7dbcc36473fea1518d1a\", element=\"1db6cd55-93a2-490a-a592-44f7e6af0673\")>\n",
      "<selenium.webdriver.remote.webelement.WebElement (session=\"82897007cf6a7dbcc36473fea1518d1a\", element=\"9aba0792-e549-4c05-aeb3-d20cc1886fe6\")>\n",
      "<selenium.webdriver.remote.webelement.WebElement (session=\"82897007cf6a7dbcc36473fea1518d1a\", element=\"ac10d1ba-cd19-4439-afb8-ff407d38afb0\")>\n",
      "<selenium.webdriver.remote.webelement.WebElement (session=\"82897007cf6a7dbcc36473fea1518d1a\", element=\"138dcbb0-44f1-444c-9d66-a218d3b79871\")>\n",
      "<selenium.webdriver.remote.webelement.WebElement (session=\"620572c0a7a0f4b5b8ca2f0abd7563ad\", element=\"7a64adbb-0b76-48a3-81b1-337fa1d5ddf7\")>\n",
      "<selenium.webdriver.remote.webelement.WebElement (session=\"620572c0a7a0f4b5b8ca2f0abd7563ad\", element=\"d319b2af-9c38-4574-b799-e50d0dba126f\")>\n",
      "<selenium.webdriver.remote.webelement.WebElement (session=\"620572c0a7a0f4b5b8ca2f0abd7563ad\", element=\"05382d92-f011-4de9-91c6-5de34d9a9a35\")>\n",
      "<selenium.webdriver.remote.webelement.WebElement (session=\"620572c0a7a0f4b5b8ca2f0abd7563ad\", element=\"b8f75fb5-7ac6-4861-82f1-6477789d6671\")>\n",
      "<selenium.webdriver.remote.webelement.WebElement (session=\"620572c0a7a0f4b5b8ca2f0abd7563ad\", element=\"bacc2be6-def7-49b9-94d2-c3cfe302f12e\")>\n",
      "<selenium.webdriver.remote.webelement.WebElement (session=\"620572c0a7a0f4b5b8ca2f0abd7563ad\", element=\"000eea7b-8a41-4d7d-b8fa-35464c56d12c\")>\n",
      "<selenium.webdriver.remote.webelement.WebElement (session=\"620572c0a7a0f4b5b8ca2f0abd7563ad\", element=\"9eb6c392-28ed-49cf-9e00-3a564093eebf\")>\n",
      "<selenium.webdriver.remote.webelement.WebElement (session=\"620572c0a7a0f4b5b8ca2f0abd7563ad\", element=\"34537425-8b03-4abc-b730-69b06d2b84fb\")>\n",
      "<selenium.webdriver.remote.webelement.WebElement (session=\"620572c0a7a0f4b5b8ca2f0abd7563ad\", element=\"ab4968fb-9341-4daa-b7c9-59be76f85cc6\")>\n",
      "<selenium.webdriver.remote.webelement.WebElement (session=\"620572c0a7a0f4b5b8ca2f0abd7563ad\", element=\"115f3161-d113-4139-8c48-6eed0b1a6f32\")>\n",
      "<selenium.webdriver.remote.webelement.WebElement (session=\"620572c0a7a0f4b5b8ca2f0abd7563ad\", element=\"07a7071a-0560-4875-907b-018b35817469\")>\n",
      "<selenium.webdriver.remote.webelement.WebElement (session=\"620572c0a7a0f4b5b8ca2f0abd7563ad\", element=\"ad214527-9356-4fc2-a1f3-d5e5cdfa1d67\")>\n",
      "<selenium.webdriver.remote.webelement.WebElement (session=\"620572c0a7a0f4b5b8ca2f0abd7563ad\", element=\"c113f3d7-6fa2-4455-a7ab-4baa61878a7d\")>\n",
      "<selenium.webdriver.remote.webelement.WebElement (session=\"620572c0a7a0f4b5b8ca2f0abd7563ad\", element=\"76a5683f-1bc8-4bda-bf13-5994f9ff8724\")>\n",
      "<selenium.webdriver.remote.webelement.WebElement (session=\"620572c0a7a0f4b5b8ca2f0abd7563ad\", element=\"42676433-ad67-40cf-aadd-2c0fa1963a54\")>\n",
      "<selenium.webdriver.remote.webelement.WebElement (session=\"620572c0a7a0f4b5b8ca2f0abd7563ad\", element=\"ce0ed49c-68a8-4645-925e-8937db290245\")>\n",
      "<selenium.webdriver.remote.webelement.WebElement (session=\"620572c0a7a0f4b5b8ca2f0abd7563ad\", element=\"0490c6c7-71f6-4067-9257-f97b175c888c\")>\n",
      "<selenium.webdriver.remote.webelement.WebElement (session=\"620572c0a7a0f4b5b8ca2f0abd7563ad\", element=\"feb75295-c582-4b70-b955-ae56516b1f28\")>\n",
      "<selenium.webdriver.remote.webelement.WebElement (session=\"620572c0a7a0f4b5b8ca2f0abd7563ad\", element=\"d2c01495-b950-44b0-a849-c233ef87f0f2\")>\n",
      "<selenium.webdriver.remote.webelement.WebElement (session=\"620572c0a7a0f4b5b8ca2f0abd7563ad\", element=\"7727e977-7904-42d9-92a4-661cf4aa5fdf\")>\n",
      "<selenium.webdriver.remote.webelement.WebElement (session=\"620572c0a7a0f4b5b8ca2f0abd7563ad\", element=\"0d1bcb84-7f69-4873-ab83-889fef054fa0\")>\n",
      "<selenium.webdriver.remote.webelement.WebElement (session=\"620572c0a7a0f4b5b8ca2f0abd7563ad\", element=\"5dc7e759-5da5-4925-8f7b-fd24d6626422\")>\n",
      "<selenium.webdriver.remote.webelement.WebElement (session=\"620572c0a7a0f4b5b8ca2f0abd7563ad\", element=\"30169a89-04d4-416a-9b44-20546449128f\")>\n",
      "<selenium.webdriver.remote.webelement.WebElement (session=\"620572c0a7a0f4b5b8ca2f0abd7563ad\", element=\"7af93272-6e35-4280-980c-f997fcbef467\")>\n",
      "<selenium.webdriver.remote.webelement.WebElement (session=\"620572c0a7a0f4b5b8ca2f0abd7563ad\", element=\"42aa7cc0-4b85-4156-a599-b8fbccdeb616\")>\n",
      "<selenium.webdriver.remote.webelement.WebElement (session=\"620572c0a7a0f4b5b8ca2f0abd7563ad\", element=\"9edb9acc-df84-4772-b378-838a85df5f40\")>\n",
      "<selenium.webdriver.remote.webelement.WebElement (session=\"620572c0a7a0f4b5b8ca2f0abd7563ad\", element=\"ab95ecc9-d643-4592-afd4-2adcc6320b59\")>\n",
      "<selenium.webdriver.remote.webelement.WebElement (session=\"620572c0a7a0f4b5b8ca2f0abd7563ad\", element=\"36c07969-9d4e-4778-b789-823bab6fe9f2\")>\n",
      "<selenium.webdriver.remote.webelement.WebElement (session=\"620572c0a7a0f4b5b8ca2f0abd7563ad\", element=\"680524c5-63c4-463b-9459-682b1b7d3704\")>\n",
      "<selenium.webdriver.remote.webelement.WebElement (session=\"620572c0a7a0f4b5b8ca2f0abd7563ad\", element=\"295cee4c-5394-4fcf-8c39-aad4c728bdf9\")>\n",
      "<selenium.webdriver.remote.webelement.WebElement (session=\"620572c0a7a0f4b5b8ca2f0abd7563ad\", element=\"4592da07-991a-4026-8c75-ae14a90a0351\")>\n",
      "<selenium.webdriver.remote.webelement.WebElement (session=\"620572c0a7a0f4b5b8ca2f0abd7563ad\", element=\"15bf3b44-c9c3-4b53-96d5-76e245e2441e\")>\n",
      "<selenium.webdriver.remote.webelement.WebElement (session=\"620572c0a7a0f4b5b8ca2f0abd7563ad\", element=\"2a7845b1-5ee3-4b46-b5cb-398c7597e339\")>\n",
      "<selenium.webdriver.remote.webelement.WebElement (session=\"620572c0a7a0f4b5b8ca2f0abd7563ad\", element=\"bf6349c1-faea-416f-8229-ebdc04e97f21\")>\n",
      "<selenium.webdriver.remote.webelement.WebElement (session=\"620572c0a7a0f4b5b8ca2f0abd7563ad\", element=\"3bf198f8-b04e-4461-b9f2-0d76c6e35a00\")>\n",
      "<selenium.webdriver.remote.webelement.WebElement (session=\"620572c0a7a0f4b5b8ca2f0abd7563ad\", element=\"c437d7d6-53cc-4ba8-8b55-89258a97f64a\")>\n",
      "<selenium.webdriver.remote.webelement.WebElement (session=\"620572c0a7a0f4b5b8ca2f0abd7563ad\", element=\"1663c3e8-9a0f-42ab-adce-c3008c82b18d\")>\n",
      "<selenium.webdriver.remote.webelement.WebElement (session=\"620572c0a7a0f4b5b8ca2f0abd7563ad\", element=\"a5cee379-f9fe-4655-b939-16368e9b9e20\")>\n",
      "<selenium.webdriver.remote.webelement.WebElement (session=\"620572c0a7a0f4b5b8ca2f0abd7563ad\", element=\"e2211ff8-a520-41a6-a5c2-997e3a1091b8\")>\n",
      "<selenium.webdriver.remote.webelement.WebElement (session=\"620572c0a7a0f4b5b8ca2f0abd7563ad\", element=\"76f32b08-6878-4162-b76a-a1c5e1be2fac\")>\n",
      "<selenium.webdriver.remote.webelement.WebElement (session=\"620572c0a7a0f4b5b8ca2f0abd7563ad\", element=\"3358d77d-c459-4576-a7c4-7a7a777ccdba\")>\n",
      "<selenium.webdriver.remote.webelement.WebElement (session=\"620572c0a7a0f4b5b8ca2f0abd7563ad\", element=\"6ae19cd1-bb4e-4bec-8856-a81b63efebde\")>\n",
      "<selenium.webdriver.remote.webelement.WebElement (session=\"620572c0a7a0f4b5b8ca2f0abd7563ad\", element=\"757098f9-23b1-4a9a-b431-9656ed3b2057\")>\n",
      "<selenium.webdriver.remote.webelement.WebElement (session=\"620572c0a7a0f4b5b8ca2f0abd7563ad\", element=\"9301406b-73e2-44ed-af66-dd7ddb42082b\")>\n",
      "<selenium.webdriver.remote.webelement.WebElement (session=\"620572c0a7a0f4b5b8ca2f0abd7563ad\", element=\"efb02588-1b3c-4c27-bb09-feba5f8b25b2\")>\n",
      "<selenium.webdriver.remote.webelement.WebElement (session=\"620572c0a7a0f4b5b8ca2f0abd7563ad\", element=\"77806168-1c6a-4c34-980c-ea4b36a2f7c9\")>\n",
      "<selenium.webdriver.remote.webelement.WebElement (session=\"620572c0a7a0f4b5b8ca2f0abd7563ad\", element=\"e7bb9aff-9f1a-4eab-bd44-ea3b75fe5b48\")>\n",
      "<selenium.webdriver.remote.webelement.WebElement (session=\"620572c0a7a0f4b5b8ca2f0abd7563ad\", element=\"b4e46bed-405c-42fa-8c7f-2a82ed7723e4\")>\n",
      "<selenium.webdriver.remote.webelement.WebElement (session=\"620572c0a7a0f4b5b8ca2f0abd7563ad\", element=\"40d9980d-30b1-4328-8b71-e9f7d95221c0\")>\n",
      "<selenium.webdriver.remote.webelement.WebElement (session=\"620572c0a7a0f4b5b8ca2f0abd7563ad\", element=\"1b5a877f-eb51-4ffa-a939-894ba9989b38\")>\n",
      "<selenium.webdriver.remote.webelement.WebElement (session=\"a360858e8bf2eef172b8cecd7394aa6b\", element=\"1ac04eaa-b7c5-4859-8448-4dd86d9baced\")>\n",
      "<selenium.webdriver.remote.webelement.WebElement (session=\"a360858e8bf2eef172b8cecd7394aa6b\", element=\"e8f8c73f-a2ce-4e52-9815-82b251210a5d\")>\n",
      "<selenium.webdriver.remote.webelement.WebElement (session=\"a360858e8bf2eef172b8cecd7394aa6b\", element=\"e6b1c34e-aa23-4e71-b06f-b06838a8084c\")>\n",
      "<selenium.webdriver.remote.webelement.WebElement (session=\"a360858e8bf2eef172b8cecd7394aa6b\", element=\"963b51cb-7738-40ff-960b-41a5824809a5\")>\n",
      "<selenium.webdriver.remote.webelement.WebElement (session=\"a360858e8bf2eef172b8cecd7394aa6b\", element=\"c012ae57-bf82-4401-866e-2fb7a26b8a15\")>\n",
      "<selenium.webdriver.remote.webelement.WebElement (session=\"a360858e8bf2eef172b8cecd7394aa6b\", element=\"7403d05c-8703-4cc2-9a58-59c0a16b3421\")>\n",
      "<selenium.webdriver.remote.webelement.WebElement (session=\"a360858e8bf2eef172b8cecd7394aa6b\", element=\"309131c0-118e-44b0-9da3-b825c692e0c4\")>\n",
      "<selenium.webdriver.remote.webelement.WebElement (session=\"a360858e8bf2eef172b8cecd7394aa6b\", element=\"e29d7f39-629f-49e3-8e56-59c909a2e802\")>\n",
      "<selenium.webdriver.remote.webelement.WebElement (session=\"a360858e8bf2eef172b8cecd7394aa6b\", element=\"a0837709-a0c2-4a10-82b9-3d54d0fb8e39\")>\n",
      "<selenium.webdriver.remote.webelement.WebElement (session=\"a360858e8bf2eef172b8cecd7394aa6b\", element=\"754ba812-9b74-4058-8188-a7cd1190aa6e\")>\n",
      "<selenium.webdriver.remote.webelement.WebElement (session=\"a360858e8bf2eef172b8cecd7394aa6b\", element=\"e7dee068-ec44-4d58-aea1-c823e4cfc7e8\")>\n",
      "<selenium.webdriver.remote.webelement.WebElement (session=\"a360858e8bf2eef172b8cecd7394aa6b\", element=\"56789578-eff1-498d-9398-482bf6062681\")>\n",
      "<selenium.webdriver.remote.webelement.WebElement (session=\"a360858e8bf2eef172b8cecd7394aa6b\", element=\"a4e85ae8-f878-4d02-b130-250fefff7d2f\")>\n",
      "<selenium.webdriver.remote.webelement.WebElement (session=\"a360858e8bf2eef172b8cecd7394aa6b\", element=\"f3c4e797-b794-47e0-b063-65da4e787ea6\")>\n"
     ]
    },
    {
     "name": "stdout",
     "output_type": "stream",
     "text": [
      "<selenium.webdriver.remote.webelement.WebElement (session=\"a360858e8bf2eef172b8cecd7394aa6b\", element=\"72837d5f-1952-4cf6-8fa7-dbe1acfff19b\")>\n",
      "<selenium.webdriver.remote.webelement.WebElement (session=\"a360858e8bf2eef172b8cecd7394aa6b\", element=\"ba3f9201-d2fa-4da0-aec2-0a51b3f3034b\")>\n",
      "<selenium.webdriver.remote.webelement.WebElement (session=\"a360858e8bf2eef172b8cecd7394aa6b\", element=\"3bd85b0b-3aed-43fc-81ad-1caf59af213e\")>\n",
      "<selenium.webdriver.remote.webelement.WebElement (session=\"a360858e8bf2eef172b8cecd7394aa6b\", element=\"6eb35b08-5727-4cf9-bc86-7e135d840cf7\")>\n",
      "<selenium.webdriver.remote.webelement.WebElement (session=\"a360858e8bf2eef172b8cecd7394aa6b\", element=\"2396ed3e-2077-4394-9cbc-542c98908e10\")>\n",
      "<selenium.webdriver.remote.webelement.WebElement (session=\"a360858e8bf2eef172b8cecd7394aa6b\", element=\"e5bb8296-5c54-4736-8228-049f46a5cce6\")>\n",
      "<selenium.webdriver.remote.webelement.WebElement (session=\"a360858e8bf2eef172b8cecd7394aa6b\", element=\"4d4f78be-64ee-495d-ba76-d28714391823\")>\n",
      "<selenium.webdriver.remote.webelement.WebElement (session=\"a360858e8bf2eef172b8cecd7394aa6b\", element=\"6c15a0d2-414d-4849-9e98-7cf05c510d58\")>\n",
      "<selenium.webdriver.remote.webelement.WebElement (session=\"a360858e8bf2eef172b8cecd7394aa6b\", element=\"f7db4a28-9b73-4503-8e56-801d6abae48a\")>\n",
      "<selenium.webdriver.remote.webelement.WebElement (session=\"a360858e8bf2eef172b8cecd7394aa6b\", element=\"f8ca1e18-938f-44ff-a0ec-1fc8557ef122\")>\n",
      "<selenium.webdriver.remote.webelement.WebElement (session=\"a360858e8bf2eef172b8cecd7394aa6b\", element=\"e41491ae-db1b-4cc6-8209-0fa1551e88d7\")>\n",
      "<selenium.webdriver.remote.webelement.WebElement (session=\"a360858e8bf2eef172b8cecd7394aa6b\", element=\"acd77b71-4715-4c82-8c8f-ddf236d7e350\")>\n",
      "<selenium.webdriver.remote.webelement.WebElement (session=\"a360858e8bf2eef172b8cecd7394aa6b\", element=\"341f2706-6308-4ffa-bf2e-35f8f3d5fb24\")>\n",
      "<selenium.webdriver.remote.webelement.WebElement (session=\"a360858e8bf2eef172b8cecd7394aa6b\", element=\"0b383939-3096-4b85-8ccf-f3dd7fa51389\")>\n",
      "<selenium.webdriver.remote.webelement.WebElement (session=\"a360858e8bf2eef172b8cecd7394aa6b\", element=\"8715586c-763c-4272-bbf5-51b8d31ae19b\")>\n",
      "<selenium.webdriver.remote.webelement.WebElement (session=\"a360858e8bf2eef172b8cecd7394aa6b\", element=\"d2565451-0180-471e-8828-58c3ace57a64\")>\n",
      "<selenium.webdriver.remote.webelement.WebElement (session=\"a360858e8bf2eef172b8cecd7394aa6b\", element=\"5b5fed49-c17e-4924-aeb8-c2bc30bd6a75\")>\n",
      "<selenium.webdriver.remote.webelement.WebElement (session=\"a360858e8bf2eef172b8cecd7394aa6b\", element=\"6735ba54-04e5-4f1f-9826-00e1d5dbd6e0\")>\n",
      "<selenium.webdriver.remote.webelement.WebElement (session=\"a360858e8bf2eef172b8cecd7394aa6b\", element=\"8bb8bf98-0ecb-48f3-9545-6580cb91a50d\")>\n",
      "<selenium.webdriver.remote.webelement.WebElement (session=\"a360858e8bf2eef172b8cecd7394aa6b\", element=\"71a723d7-8f1a-4d58-bcdf-4c46e6a168b7\")>\n",
      "<selenium.webdriver.remote.webelement.WebElement (session=\"a360858e8bf2eef172b8cecd7394aa6b\", element=\"79386346-b96e-42bb-843e-a07e213e16d5\")>\n",
      "<selenium.webdriver.remote.webelement.WebElement (session=\"a360858e8bf2eef172b8cecd7394aa6b\", element=\"0cbc747d-bef9-44e9-9310-b782d6d5154b\")>\n",
      "<selenium.webdriver.remote.webelement.WebElement (session=\"a360858e8bf2eef172b8cecd7394aa6b\", element=\"2364f4e0-13e8-4552-90be-bc460b9b297d\")>\n",
      "<selenium.webdriver.remote.webelement.WebElement (session=\"a360858e8bf2eef172b8cecd7394aa6b\", element=\"792eaa11-80e7-4d4f-866a-ddd4a7e0acf7\")>\n",
      "<selenium.webdriver.remote.webelement.WebElement (session=\"a360858e8bf2eef172b8cecd7394aa6b\", element=\"41ad93aa-585c-415d-8348-dd5801934cc0\")>\n",
      "<selenium.webdriver.remote.webelement.WebElement (session=\"a360858e8bf2eef172b8cecd7394aa6b\", element=\"de0ba851-94ab-4906-b44c-73b3ef1a8813\")>\n",
      "<selenium.webdriver.remote.webelement.WebElement (session=\"a360858e8bf2eef172b8cecd7394aa6b\", element=\"9046dd14-576e-4166-a21d-d37d993ef5d3\")>\n",
      "<selenium.webdriver.remote.webelement.WebElement (session=\"a360858e8bf2eef172b8cecd7394aa6b\", element=\"81a7e421-173b-4c1b-ae92-209fa3dfd3f0\")>\n",
      "<selenium.webdriver.remote.webelement.WebElement (session=\"a360858e8bf2eef172b8cecd7394aa6b\", element=\"1ba6f5aa-fcb8-4ae2-946a-dce927fa4764\")>\n",
      "<selenium.webdriver.remote.webelement.WebElement (session=\"a360858e8bf2eef172b8cecd7394aa6b\", element=\"4d814efb-ddea-49a7-886c-f743a19250c0\")>\n",
      "<selenium.webdriver.remote.webelement.WebElement (session=\"a360858e8bf2eef172b8cecd7394aa6b\", element=\"c9f2cbc4-4b3d-4503-aa6b-114d096e58ae\")>\n",
      "<selenium.webdriver.remote.webelement.WebElement (session=\"a360858e8bf2eef172b8cecd7394aa6b\", element=\"11a78f10-0270-469e-8a9b-fe1f43a2e391\")>\n",
      "<selenium.webdriver.remote.webelement.WebElement (session=\"a360858e8bf2eef172b8cecd7394aa6b\", element=\"5cf5bc37-c3a0-46c8-8990-0c98a7c964b9\")>\n",
      "<selenium.webdriver.remote.webelement.WebElement (session=\"a360858e8bf2eef172b8cecd7394aa6b\", element=\"5a213385-6cd0-495d-a6a2-f9ef77c74ace\")>\n",
      "<selenium.webdriver.remote.webelement.WebElement (session=\"a360858e8bf2eef172b8cecd7394aa6b\", element=\"657a8ca8-800d-44ca-b9d0-b4bc6e8f2a1b\")>\n",
      "<selenium.webdriver.remote.webelement.WebElement (session=\"a360858e8bf2eef172b8cecd7394aa6b\", element=\"b02f6c39-ded3-4fc3-9d5e-0225142f657b\")>\n",
      "<selenium.webdriver.remote.webelement.WebElement (session=\"7a867b142b997a28a0ed4b9d2c1aad4a\", element=\"5bf7b57f-75ff-426f-a707-5c5b030ec815\")>\n",
      "<selenium.webdriver.remote.webelement.WebElement (session=\"7a867b142b997a28a0ed4b9d2c1aad4a\", element=\"08a47407-d5d3-4fcf-a7a8-7a3620b24e86\")>\n",
      "<selenium.webdriver.remote.webelement.WebElement (session=\"7a867b142b997a28a0ed4b9d2c1aad4a\", element=\"3279e473-0cdb-484a-b39e-b954276e71d5\")>\n",
      "<selenium.webdriver.remote.webelement.WebElement (session=\"7a867b142b997a28a0ed4b9d2c1aad4a\", element=\"81446071-236e-49b5-a55f-381965d34183\")>\n",
      "<selenium.webdriver.remote.webelement.WebElement (session=\"7a867b142b997a28a0ed4b9d2c1aad4a\", element=\"db1c3e87-2d71-4cc5-9600-7229b8c1c30c\")>\n",
      "<selenium.webdriver.remote.webelement.WebElement (session=\"7a867b142b997a28a0ed4b9d2c1aad4a\", element=\"d90e0607-737e-492a-8e26-a790160becd8\")>\n",
      "<selenium.webdriver.remote.webelement.WebElement (session=\"7a867b142b997a28a0ed4b9d2c1aad4a\", element=\"7704e505-df81-4ca9-8cc7-f1696158c6b1\")>\n",
      "<selenium.webdriver.remote.webelement.WebElement (session=\"7a867b142b997a28a0ed4b9d2c1aad4a\", element=\"339cff76-fe3c-4481-8c0e-b08b203e34ea\")>\n",
      "<selenium.webdriver.remote.webelement.WebElement (session=\"7a867b142b997a28a0ed4b9d2c1aad4a\", element=\"bacaf03b-c9a3-4381-97db-89b94b05768c\")>\n",
      "<selenium.webdriver.remote.webelement.WebElement (session=\"7a867b142b997a28a0ed4b9d2c1aad4a\", element=\"31e932c3-9138-4e93-8b8f-6386418e8a85\")>\n",
      "<selenium.webdriver.remote.webelement.WebElement (session=\"7a867b142b997a28a0ed4b9d2c1aad4a\", element=\"8c6a1571-23f6-47fd-989f-925c33f9c93f\")>\n",
      "<selenium.webdriver.remote.webelement.WebElement (session=\"7a867b142b997a28a0ed4b9d2c1aad4a\", element=\"4a982827-8248-4b86-af01-966eb2e25110\")>\n",
      "<selenium.webdriver.remote.webelement.WebElement (session=\"7a867b142b997a28a0ed4b9d2c1aad4a\", element=\"e72720f5-2949-4d0b-a7f0-ba10d885e880\")>\n",
      "<selenium.webdriver.remote.webelement.WebElement (session=\"7a867b142b997a28a0ed4b9d2c1aad4a\", element=\"54b6e4de-ce48-4a8c-9f0d-b743e06af891\")>\n",
      "<selenium.webdriver.remote.webelement.WebElement (session=\"7a867b142b997a28a0ed4b9d2c1aad4a\", element=\"2edf09de-ea61-46e5-8602-4fe7f3abdc32\")>\n",
      "<selenium.webdriver.remote.webelement.WebElement (session=\"7a867b142b997a28a0ed4b9d2c1aad4a\", element=\"be52545b-cc30-4729-8fb8-962ea4dda143\")>\n",
      "<selenium.webdriver.remote.webelement.WebElement (session=\"7a867b142b997a28a0ed4b9d2c1aad4a\", element=\"21549a80-a585-4929-94c9-d8a09321f4e2\")>\n",
      "<selenium.webdriver.remote.webelement.WebElement (session=\"7a867b142b997a28a0ed4b9d2c1aad4a\", element=\"ce83eef2-37cc-4bea-90af-d520d34700b6\")>\n",
      "<selenium.webdriver.remote.webelement.WebElement (session=\"7a867b142b997a28a0ed4b9d2c1aad4a\", element=\"09d3a9bb-ba27-4e4b-9afa-08681493c19f\")>\n",
      "<selenium.webdriver.remote.webelement.WebElement (session=\"7a867b142b997a28a0ed4b9d2c1aad4a\", element=\"831bf10d-c910-4cbc-9230-4c138d75677b\")>\n",
      "<selenium.webdriver.remote.webelement.WebElement (session=\"7a867b142b997a28a0ed4b9d2c1aad4a\", element=\"eb28d3d1-6770-4ad7-9c47-7b0c43f7a658\")>\n",
      "<selenium.webdriver.remote.webelement.WebElement (session=\"7a867b142b997a28a0ed4b9d2c1aad4a\", element=\"68f9ffca-3008-4157-8d0e-05e9915e617d\")>\n",
      "<selenium.webdriver.remote.webelement.WebElement (session=\"7a867b142b997a28a0ed4b9d2c1aad4a\", element=\"84b207d0-9208-47d6-afa3-c524706c213e\")>\n",
      "<selenium.webdriver.remote.webelement.WebElement (session=\"7a867b142b997a28a0ed4b9d2c1aad4a\", element=\"ff14d920-b000-4721-b24f-4ce53383e98c\")>\n",
      "<selenium.webdriver.remote.webelement.WebElement (session=\"7a867b142b997a28a0ed4b9d2c1aad4a\", element=\"03b56863-32d9-42ec-8843-a59408698e9a\")>\n",
      "<selenium.webdriver.remote.webelement.WebElement (session=\"7a867b142b997a28a0ed4b9d2c1aad4a\", element=\"52f02f1d-906c-4a6b-8919-3c061c6b447f\")>\n",
      "<selenium.webdriver.remote.webelement.WebElement (session=\"7a867b142b997a28a0ed4b9d2c1aad4a\", element=\"642a8a6b-b297-4391-a5c8-f3eed28facb7\")>\n"
     ]
    },
    {
     "name": "stdout",
     "output_type": "stream",
     "text": [
      "<selenium.webdriver.remote.webelement.WebElement (session=\"7a867b142b997a28a0ed4b9d2c1aad4a\", element=\"bea63eb3-74e9-41f5-b95b-20b1a803590a\")>\n",
      "<selenium.webdriver.remote.webelement.WebElement (session=\"7a867b142b997a28a0ed4b9d2c1aad4a\", element=\"8ddfd135-48f3-4ea9-9ac5-315bd8600471\")>\n",
      "<selenium.webdriver.remote.webelement.WebElement (session=\"7a867b142b997a28a0ed4b9d2c1aad4a\", element=\"6f11faf9-a5f4-468c-9ad2-e8f34424d1ed\")>\n",
      "<selenium.webdriver.remote.webelement.WebElement (session=\"7a867b142b997a28a0ed4b9d2c1aad4a\", element=\"75bcf23d-4584-4969-a32e-050c40fbfd95\")>\n",
      "<selenium.webdriver.remote.webelement.WebElement (session=\"7a867b142b997a28a0ed4b9d2c1aad4a\", element=\"207723b2-7344-4e51-a74c-0a886ac78ee9\")>\n",
      "<selenium.webdriver.remote.webelement.WebElement (session=\"7a867b142b997a28a0ed4b9d2c1aad4a\", element=\"7df31b2f-0285-4ce5-8bd5-e4959ae8fa7d\")>\n",
      "<selenium.webdriver.remote.webelement.WebElement (session=\"7a867b142b997a28a0ed4b9d2c1aad4a\", element=\"5c440feb-83b9-4864-9861-b9a5007d2c76\")>\n",
      "<selenium.webdriver.remote.webelement.WebElement (session=\"7a867b142b997a28a0ed4b9d2c1aad4a\", element=\"f822bcb7-5199-43a5-ac9e-d05165e5d495\")>\n",
      "<selenium.webdriver.remote.webelement.WebElement (session=\"7a867b142b997a28a0ed4b9d2c1aad4a\", element=\"62bb7d66-3f1b-41fa-a4d8-022e7245a686\")>\n",
      "<selenium.webdriver.remote.webelement.WebElement (session=\"7a867b142b997a28a0ed4b9d2c1aad4a\", element=\"f37312aa-cb62-4a10-bb9d-6806c6583588\")>\n",
      "<selenium.webdriver.remote.webelement.WebElement (session=\"7a867b142b997a28a0ed4b9d2c1aad4a\", element=\"cceaebd5-bf5e-4e29-a5dd-4514b6dbe523\")>\n",
      "<selenium.webdriver.remote.webelement.WebElement (session=\"7a867b142b997a28a0ed4b9d2c1aad4a\", element=\"59ce4ce0-0392-41df-b25d-1c0ac8f5ae03\")>\n",
      "<selenium.webdriver.remote.webelement.WebElement (session=\"7a867b142b997a28a0ed4b9d2c1aad4a\", element=\"30c016b7-722f-41f2-9a16-a10393b03f66\")>\n",
      "<selenium.webdriver.remote.webelement.WebElement (session=\"7a867b142b997a28a0ed4b9d2c1aad4a\", element=\"3f758465-6c1b-47f1-8e0f-f2c8be8ff25a\")>\n",
      "<selenium.webdriver.remote.webelement.WebElement (session=\"7a867b142b997a28a0ed4b9d2c1aad4a\", element=\"e4ea510c-db8b-4058-ad20-c6fc931808ca\")>\n",
      "<selenium.webdriver.remote.webelement.WebElement (session=\"7a867b142b997a28a0ed4b9d2c1aad4a\", element=\"34256364-dd00-4df9-bc37-567a1f10f0e2\")>\n",
      "<selenium.webdriver.remote.webelement.WebElement (session=\"7a867b142b997a28a0ed4b9d2c1aad4a\", element=\"771e68b0-ac7a-4ae1-918f-aba4227e4eef\")>\n",
      "<selenium.webdriver.remote.webelement.WebElement (session=\"7a867b142b997a28a0ed4b9d2c1aad4a\", element=\"5d3d6b74-8ef2-4e88-99d1-2263642f7de9\")>\n",
      "<selenium.webdriver.remote.webelement.WebElement (session=\"7a867b142b997a28a0ed4b9d2c1aad4a\", element=\"28ce4296-7f9b-460e-b8d7-d5aaf46996ac\")>\n",
      "<selenium.webdriver.remote.webelement.WebElement (session=\"7a867b142b997a28a0ed4b9d2c1aad4a\", element=\"583b2e20-9027-4b05-a763-37f23910c137\")>\n",
      "<selenium.webdriver.remote.webelement.WebElement (session=\"7a867b142b997a28a0ed4b9d2c1aad4a\", element=\"aae85d1f-175d-42c5-97d8-27379ab1a39f\")>\n",
      "<selenium.webdriver.remote.webelement.WebElement (session=\"7a867b142b997a28a0ed4b9d2c1aad4a\", element=\"7598e68d-5f07-4c4c-8c4e-2f46fa71184b\")>\n",
      "<selenium.webdriver.remote.webelement.WebElement (session=\"7a867b142b997a28a0ed4b9d2c1aad4a\", element=\"0cca237a-3068-40a1-b8db-147eb2cff8af\")>\n",
      "<selenium.webdriver.remote.webelement.WebElement (session=\"98c0b8441cbc9c0d76906f4c4e3a7cca\", element=\"b75db9ac-5b25-475e-81a1-9d90678dc008\")>\n",
      "<selenium.webdriver.remote.webelement.WebElement (session=\"98c0b8441cbc9c0d76906f4c4e3a7cca\", element=\"a3ada936-4f4a-49f0-a110-a5b6c94cbcde\")>\n",
      "<selenium.webdriver.remote.webelement.WebElement (session=\"98c0b8441cbc9c0d76906f4c4e3a7cca\", element=\"e81f47e6-310d-4381-a53f-52807d93182e\")>\n",
      "<selenium.webdriver.remote.webelement.WebElement (session=\"98c0b8441cbc9c0d76906f4c4e3a7cca\", element=\"b527ec74-e1b2-478f-9889-7683c7c3e87d\")>\n",
      "<selenium.webdriver.remote.webelement.WebElement (session=\"98c0b8441cbc9c0d76906f4c4e3a7cca\", element=\"09d70753-526c-431a-8d96-e7c22dba1a8b\")>\n",
      "<selenium.webdriver.remote.webelement.WebElement (session=\"98c0b8441cbc9c0d76906f4c4e3a7cca\", element=\"4bc7ff26-c096-4fa4-acc8-ed8d8256b1c1\")>\n",
      "<selenium.webdriver.remote.webelement.WebElement (session=\"98c0b8441cbc9c0d76906f4c4e3a7cca\", element=\"e8237c61-8ec5-4857-992b-b39753ac4e84\")>\n",
      "<selenium.webdriver.remote.webelement.WebElement (session=\"98c0b8441cbc9c0d76906f4c4e3a7cca\", element=\"4dfeb394-36bd-4a2d-851e-c1d46cca9d34\")>\n",
      "<selenium.webdriver.remote.webelement.WebElement (session=\"98c0b8441cbc9c0d76906f4c4e3a7cca\", element=\"aae3c021-72a6-4fa8-bccd-34b4fae4495f\")>\n",
      "<selenium.webdriver.remote.webelement.WebElement (session=\"98c0b8441cbc9c0d76906f4c4e3a7cca\", element=\"96353022-c876-4506-b8e3-eb3b8a260a9c\")>\n",
      "<selenium.webdriver.remote.webelement.WebElement (session=\"98c0b8441cbc9c0d76906f4c4e3a7cca\", element=\"362f431a-537d-49bf-9a97-399314daa509\")>\n",
      "<selenium.webdriver.remote.webelement.WebElement (session=\"98c0b8441cbc9c0d76906f4c4e3a7cca\", element=\"b3ee2813-156a-4b0d-809e-06b467b23cb3\")>\n",
      "<selenium.webdriver.remote.webelement.WebElement (session=\"98c0b8441cbc9c0d76906f4c4e3a7cca\", element=\"23cfaf06-6ddb-4f4b-8d52-0ad3f5c8c4e4\")>\n",
      "<selenium.webdriver.remote.webelement.WebElement (session=\"98c0b8441cbc9c0d76906f4c4e3a7cca\", element=\"aaed541c-e1eb-489e-8d0d-633b1a2e3a8b\")>\n",
      "<selenium.webdriver.remote.webelement.WebElement (session=\"98c0b8441cbc9c0d76906f4c4e3a7cca\", element=\"c6cdc811-268e-493b-8667-03fb573dcd01\")>\n",
      "<selenium.webdriver.remote.webelement.WebElement (session=\"98c0b8441cbc9c0d76906f4c4e3a7cca\", element=\"4fba7532-5898-4cf4-b781-19d87ab86a99\")>\n",
      "<selenium.webdriver.remote.webelement.WebElement (session=\"98c0b8441cbc9c0d76906f4c4e3a7cca\", element=\"92bbb14c-17ea-4e76-acbd-ac333f5f26f7\")>\n",
      "<selenium.webdriver.remote.webelement.WebElement (session=\"98c0b8441cbc9c0d76906f4c4e3a7cca\", element=\"7a2ee5da-6131-4439-a48d-9c92944a5f75\")>\n",
      "<selenium.webdriver.remote.webelement.WebElement (session=\"98c0b8441cbc9c0d76906f4c4e3a7cca\", element=\"cfd5775c-21af-4dc3-93d3-89e320ed064c\")>\n",
      "<selenium.webdriver.remote.webelement.WebElement (session=\"98c0b8441cbc9c0d76906f4c4e3a7cca\", element=\"b6b9b5f4-45d3-4a26-ac81-d37c15c6674e\")>\n",
      "<selenium.webdriver.remote.webelement.WebElement (session=\"98c0b8441cbc9c0d76906f4c4e3a7cca\", element=\"f1f3120c-4ece-44d9-9df4-6368155d6df7\")>\n",
      "<selenium.webdriver.remote.webelement.WebElement (session=\"98c0b8441cbc9c0d76906f4c4e3a7cca\", element=\"58846aa9-daa8-42fc-9fef-c64c426ef1bf\")>\n",
      "<selenium.webdriver.remote.webelement.WebElement (session=\"98c0b8441cbc9c0d76906f4c4e3a7cca\", element=\"36f83608-3730-4217-bcba-b302178957c5\")>\n",
      "<selenium.webdriver.remote.webelement.WebElement (session=\"98c0b8441cbc9c0d76906f4c4e3a7cca\", element=\"442afeac-5f83-468e-bd90-009eb071a8b3\")>\n",
      "<selenium.webdriver.remote.webelement.WebElement (session=\"98c0b8441cbc9c0d76906f4c4e3a7cca\", element=\"f29b4c67-039f-4fc6-9326-07593d42651d\")>\n",
      "<selenium.webdriver.remote.webelement.WebElement (session=\"98c0b8441cbc9c0d76906f4c4e3a7cca\", element=\"a0c3f194-23cb-42ef-b39c-4d3ddea05ff5\")>\n",
      "<selenium.webdriver.remote.webelement.WebElement (session=\"98c0b8441cbc9c0d76906f4c4e3a7cca\", element=\"61e7cbff-1dc8-4b04-b3ee-b766a0bbb93d\")>\n",
      "<selenium.webdriver.remote.webelement.WebElement (session=\"98c0b8441cbc9c0d76906f4c4e3a7cca\", element=\"8b9dc9ce-c1a5-4c7a-b06c-f917fe808e37\")>\n",
      "<selenium.webdriver.remote.webelement.WebElement (session=\"98c0b8441cbc9c0d76906f4c4e3a7cca\", element=\"95ec94a0-1937-40f6-ac82-91398f90ec91\")>\n",
      "<selenium.webdriver.remote.webelement.WebElement (session=\"98c0b8441cbc9c0d76906f4c4e3a7cca\", element=\"0bb71b47-6fab-4e49-ab02-3e1e7299f334\")>\n",
      "<selenium.webdriver.remote.webelement.WebElement (session=\"98c0b8441cbc9c0d76906f4c4e3a7cca\", element=\"324a5b6e-70b9-4c0e-8f88-9c12f2400ac0\")>\n",
      "<selenium.webdriver.remote.webelement.WebElement (session=\"98c0b8441cbc9c0d76906f4c4e3a7cca\", element=\"796fa998-121f-4fb1-82e9-79f727d10e2f\")>\n",
      "<selenium.webdriver.remote.webelement.WebElement (session=\"98c0b8441cbc9c0d76906f4c4e3a7cca\", element=\"d445cefe-2a3f-4c7e-aea3-644236b6cc69\")>\n",
      "<selenium.webdriver.remote.webelement.WebElement (session=\"98c0b8441cbc9c0d76906f4c4e3a7cca\", element=\"ffd86db2-d903-4aa1-8d2a-c8070d93ffa8\")>\n",
      "<selenium.webdriver.remote.webelement.WebElement (session=\"98c0b8441cbc9c0d76906f4c4e3a7cca\", element=\"d50013da-dda2-4e18-965a-4e85974816eb\")>\n",
      "<selenium.webdriver.remote.webelement.WebElement (session=\"98c0b8441cbc9c0d76906f4c4e3a7cca\", element=\"7ef14fd6-3c79-4f33-a853-9b4f5ac234df\")>\n",
      "<selenium.webdriver.remote.webelement.WebElement (session=\"98c0b8441cbc9c0d76906f4c4e3a7cca\", element=\"d2aac193-d369-49d7-847b-e31e9c5ac1dc\")>\n"
     ]
    },
    {
     "name": "stdout",
     "output_type": "stream",
     "text": [
      "<selenium.webdriver.remote.webelement.WebElement (session=\"98c0b8441cbc9c0d76906f4c4e3a7cca\", element=\"b32068f4-c339-4fa9-98f5-970b032248da\")>\n",
      "<selenium.webdriver.remote.webelement.WebElement (session=\"98c0b8441cbc9c0d76906f4c4e3a7cca\", element=\"9de56ec7-1040-4b7a-ac4b-6cd50525ad95\")>\n",
      "<selenium.webdriver.remote.webelement.WebElement (session=\"98c0b8441cbc9c0d76906f4c4e3a7cca\", element=\"e1c29831-a18a-4461-a001-f23ddeac2b63\")>\n",
      "<selenium.webdriver.remote.webelement.WebElement (session=\"98c0b8441cbc9c0d76906f4c4e3a7cca\", element=\"88d175df-94c7-4551-acf5-606aeafef346\")>\n",
      "<selenium.webdriver.remote.webelement.WebElement (session=\"98c0b8441cbc9c0d76906f4c4e3a7cca\", element=\"54f1f92a-5ee1-4091-8776-fdc582a95f72\")>\n",
      "<selenium.webdriver.remote.webelement.WebElement (session=\"98c0b8441cbc9c0d76906f4c4e3a7cca\", element=\"2adc4f1a-3698-48ed-9923-75d6c3582507\")>\n",
      "<selenium.webdriver.remote.webelement.WebElement (session=\"98c0b8441cbc9c0d76906f4c4e3a7cca\", element=\"94547776-d2a6-42bb-b9f8-e4e8f70bbf6f\")>\n",
      "<selenium.webdriver.remote.webelement.WebElement (session=\"98c0b8441cbc9c0d76906f4c4e3a7cca\", element=\"ea205498-f3ea-4db5-b535-508bf3cf2550\")>\n",
      "<selenium.webdriver.remote.webelement.WebElement (session=\"98c0b8441cbc9c0d76906f4c4e3a7cca\", element=\"fd987f16-7630-411c-9716-eb2a14a7880f\")>\n",
      "<selenium.webdriver.remote.webelement.WebElement (session=\"98c0b8441cbc9c0d76906f4c4e3a7cca\", element=\"94297c59-4b95-43d6-ab3c-aeb7cfbb1564\")>\n",
      "<selenium.webdriver.remote.webelement.WebElement (session=\"98c0b8441cbc9c0d76906f4c4e3a7cca\", element=\"f530c6e2-fb4f-4784-8caf-e28d153f8ac9\")>\n",
      "<selenium.webdriver.remote.webelement.WebElement (session=\"98c0b8441cbc9c0d76906f4c4e3a7cca\", element=\"0e760449-c3f8-446c-89a5-1e485d43348e\")>\n",
      "<selenium.webdriver.remote.webelement.WebElement (session=\"98c0b8441cbc9c0d76906f4c4e3a7cca\", element=\"cefb3d45-ca6b-475f-91b8-255e3b7a7aa4\")>\n",
      "<selenium.webdriver.remote.webelement.WebElement (session=\"bd77ee3d7fd9ecef8c65ab7e596e7e50\", element=\"fb495c66-a8aa-4345-a81a-3da5ade3b7d7\")>\n",
      "<selenium.webdriver.remote.webelement.WebElement (session=\"bd77ee3d7fd9ecef8c65ab7e596e7e50\", element=\"a14b4b05-bc25-486c-9075-12deea5d5700\")>\n",
      "<selenium.webdriver.remote.webelement.WebElement (session=\"bd77ee3d7fd9ecef8c65ab7e596e7e50\", element=\"f51233e5-6f23-4fe1-a3f0-2db9854ba87e\")>\n",
      "<selenium.webdriver.remote.webelement.WebElement (session=\"bd77ee3d7fd9ecef8c65ab7e596e7e50\", element=\"819aaf1c-964f-4e42-866c-53b6294fecc3\")>\n",
      "<selenium.webdriver.remote.webelement.WebElement (session=\"bd77ee3d7fd9ecef8c65ab7e596e7e50\", element=\"4989875a-6350-4e2d-bee5-dac24fddd4c3\")>\n",
      "<selenium.webdriver.remote.webelement.WebElement (session=\"bd77ee3d7fd9ecef8c65ab7e596e7e50\", element=\"a64131e2-dd7c-4d08-93dd-8300a2ebdd9f\")>\n",
      "<selenium.webdriver.remote.webelement.WebElement (session=\"bd77ee3d7fd9ecef8c65ab7e596e7e50\", element=\"acc5243c-6946-4861-b996-072453c456cc\")>\n",
      "<selenium.webdriver.remote.webelement.WebElement (session=\"bd77ee3d7fd9ecef8c65ab7e596e7e50\", element=\"8b5f50d8-4d02-4977-8100-129517ac7e71\")>\n",
      "<selenium.webdriver.remote.webelement.WebElement (session=\"bd77ee3d7fd9ecef8c65ab7e596e7e50\", element=\"c8af466f-a4b9-4777-81f5-9d97c78d237b\")>\n",
      "<selenium.webdriver.remote.webelement.WebElement (session=\"bd77ee3d7fd9ecef8c65ab7e596e7e50\", element=\"b415dca6-a5ca-4bba-be34-48fb8dcefad4\")>\n",
      "<selenium.webdriver.remote.webelement.WebElement (session=\"bd77ee3d7fd9ecef8c65ab7e596e7e50\", element=\"d782ba02-4b55-421e-9852-fb55ed937bb5\")>\n",
      "<selenium.webdriver.remote.webelement.WebElement (session=\"bd77ee3d7fd9ecef8c65ab7e596e7e50\", element=\"b36550e7-a4b3-4af6-9060-f81ac645f9ee\")>\n",
      "<selenium.webdriver.remote.webelement.WebElement (session=\"bd77ee3d7fd9ecef8c65ab7e596e7e50\", element=\"50c396f5-23c0-41cf-bc0f-d11da848d207\")>\n",
      "<selenium.webdriver.remote.webelement.WebElement (session=\"bd77ee3d7fd9ecef8c65ab7e596e7e50\", element=\"e5493882-8be8-4d1f-aac7-e2fd4ecf1cfd\")>\n",
      "<selenium.webdriver.remote.webelement.WebElement (session=\"bd77ee3d7fd9ecef8c65ab7e596e7e50\", element=\"03facfa9-76f4-4927-924d-1db1002f1153\")>\n",
      "<selenium.webdriver.remote.webelement.WebElement (session=\"bd77ee3d7fd9ecef8c65ab7e596e7e50\", element=\"579c2f08-a47f-426a-8ff6-d3eca6e9a349\")>\n",
      "<selenium.webdriver.remote.webelement.WebElement (session=\"bd77ee3d7fd9ecef8c65ab7e596e7e50\", element=\"96cab008-5578-43c6-b09c-8e7227b3761d\")>\n",
      "<selenium.webdriver.remote.webelement.WebElement (session=\"bd77ee3d7fd9ecef8c65ab7e596e7e50\", element=\"fd6dab9f-1975-4144-9808-37f2db10dcd1\")>\n",
      "<selenium.webdriver.remote.webelement.WebElement (session=\"bd77ee3d7fd9ecef8c65ab7e596e7e50\", element=\"900516a9-4676-4825-b865-51f03bc6fa97\")>\n",
      "<selenium.webdriver.remote.webelement.WebElement (session=\"bd77ee3d7fd9ecef8c65ab7e596e7e50\", element=\"6611f298-8e7f-4414-a7ea-ae373babfd77\")>\n",
      "<selenium.webdriver.remote.webelement.WebElement (session=\"bd77ee3d7fd9ecef8c65ab7e596e7e50\", element=\"a61d08e0-954b-4730-8e33-d9d2b23be44f\")>\n",
      "<selenium.webdriver.remote.webelement.WebElement (session=\"bd77ee3d7fd9ecef8c65ab7e596e7e50\", element=\"bfb0404c-312d-48d7-bf7e-249479878457\")>\n",
      "<selenium.webdriver.remote.webelement.WebElement (session=\"bd77ee3d7fd9ecef8c65ab7e596e7e50\", element=\"9f8728f4-184c-4f12-b6a5-9ff4fb7d1455\")>\n",
      "<selenium.webdriver.remote.webelement.WebElement (session=\"bd77ee3d7fd9ecef8c65ab7e596e7e50\", element=\"2cd15151-6843-4631-91e2-efb207707337\")>\n",
      "<selenium.webdriver.remote.webelement.WebElement (session=\"bd77ee3d7fd9ecef8c65ab7e596e7e50\", element=\"ea68f07d-c2e1-4a1b-b348-e90215ffc85f\")>\n",
      "<selenium.webdriver.remote.webelement.WebElement (session=\"bd77ee3d7fd9ecef8c65ab7e596e7e50\", element=\"2a104b80-9fca-4ead-8919-1f01e349e193\")>\n",
      "<selenium.webdriver.remote.webelement.WebElement (session=\"bd77ee3d7fd9ecef8c65ab7e596e7e50\", element=\"b91fdfca-3a58-4844-a9c1-2f0f8f7a31ad\")>\n",
      "<selenium.webdriver.remote.webelement.WebElement (session=\"bd77ee3d7fd9ecef8c65ab7e596e7e50\", element=\"7d9f0607-1e8f-4546-943a-1efa45710cf3\")>\n",
      "<selenium.webdriver.remote.webelement.WebElement (session=\"bd77ee3d7fd9ecef8c65ab7e596e7e50\", element=\"5c562b88-79c4-45ee-bebc-ccfa5ebb8335\")>\n",
      "<selenium.webdriver.remote.webelement.WebElement (session=\"bd77ee3d7fd9ecef8c65ab7e596e7e50\", element=\"037f513f-d5f9-401e-b3fb-f2712a43c431\")>\n",
      "<selenium.webdriver.remote.webelement.WebElement (session=\"bd77ee3d7fd9ecef8c65ab7e596e7e50\", element=\"b31f1e07-9ebe-4f74-9cce-1c8eaad17fd2\")>\n",
      "<selenium.webdriver.remote.webelement.WebElement (session=\"bd77ee3d7fd9ecef8c65ab7e596e7e50\", element=\"0557297f-80ad-4540-bc8c-9eba47b40405\")>\n",
      "<selenium.webdriver.remote.webelement.WebElement (session=\"bd77ee3d7fd9ecef8c65ab7e596e7e50\", element=\"c84faed8-135d-4338-9669-452ebaf940bc\")>\n",
      "<selenium.webdriver.remote.webelement.WebElement (session=\"bd77ee3d7fd9ecef8c65ab7e596e7e50\", element=\"58f32507-227c-4300-884e-48e6d91bdea1\")>\n",
      "<selenium.webdriver.remote.webelement.WebElement (session=\"bd77ee3d7fd9ecef8c65ab7e596e7e50\", element=\"b0baec3a-35c4-41dd-8c7e-2c4055c48dd3\")>\n",
      "<selenium.webdriver.remote.webelement.WebElement (session=\"bd77ee3d7fd9ecef8c65ab7e596e7e50\", element=\"892037a6-37ac-474f-8dc1-0dc8e4d16689\")>\n",
      "<selenium.webdriver.remote.webelement.WebElement (session=\"bd77ee3d7fd9ecef8c65ab7e596e7e50\", element=\"9252fd8f-d0be-4bf6-98d6-88f0cede637e\")>\n",
      "<selenium.webdriver.remote.webelement.WebElement (session=\"bd77ee3d7fd9ecef8c65ab7e596e7e50\", element=\"2589d911-960b-45c6-a6d5-20301ba56a13\")>\n",
      "<selenium.webdriver.remote.webelement.WebElement (session=\"bd77ee3d7fd9ecef8c65ab7e596e7e50\", element=\"f9d135e0-6f04-4b1f-a02a-c54443ced26c\")>\n",
      "<selenium.webdriver.remote.webelement.WebElement (session=\"bd77ee3d7fd9ecef8c65ab7e596e7e50\", element=\"d6c070d9-4728-4656-b572-f57f5758b19d\")>\n",
      "<selenium.webdriver.remote.webelement.WebElement (session=\"bd77ee3d7fd9ecef8c65ab7e596e7e50\", element=\"f834939d-881d-4346-8c08-13af33ed45ce\")>\n",
      "<selenium.webdriver.remote.webelement.WebElement (session=\"bd77ee3d7fd9ecef8c65ab7e596e7e50\", element=\"398b5aaa-93de-4bfb-b4d3-4755c2a1f2a2\")>\n",
      "<selenium.webdriver.remote.webelement.WebElement (session=\"bd77ee3d7fd9ecef8c65ab7e596e7e50\", element=\"9eac1642-baa7-4835-94ad-6a56a3ee2dd2\")>\n",
      "<selenium.webdriver.remote.webelement.WebElement (session=\"bd77ee3d7fd9ecef8c65ab7e596e7e50\", element=\"41f1739a-9cb1-46f3-94ec-e6898c222b76\")>\n",
      "<selenium.webdriver.remote.webelement.WebElement (session=\"bd77ee3d7fd9ecef8c65ab7e596e7e50\", element=\"ef14d962-1c9b-4e3a-8805-c007cfb68ed1\")>\n",
      "<selenium.webdriver.remote.webelement.WebElement (session=\"bd77ee3d7fd9ecef8c65ab7e596e7e50\", element=\"dfd81680-5deb-4336-a29a-64b67df9dfc5\")>\n",
      "<selenium.webdriver.remote.webelement.WebElement (session=\"bd77ee3d7fd9ecef8c65ab7e596e7e50\", element=\"08238867-f5a7-4982-a84a-8908fae9d919\")>\n",
      "<selenium.webdriver.remote.webelement.WebElement (session=\"bd77ee3d7fd9ecef8c65ab7e596e7e50\", element=\"d2afa74f-6239-4549-b39d-70532bc0df06\")>\n",
      "<selenium.webdriver.remote.webelement.WebElement (session=\"bd77ee3d7fd9ecef8c65ab7e596e7e50\", element=\"8826ae30-4c8d-41b0-9ffb-e2dbb9f01779\")>\n",
      "<selenium.webdriver.remote.webelement.WebElement (session=\"bd77ee3d7fd9ecef8c65ab7e596e7e50\", element=\"2a999e3e-7072-4632-a55c-8bb7e4e5d774\")>\n"
     ]
    },
    {
     "name": "stdout",
     "output_type": "stream",
     "text": [
      "<selenium.webdriver.remote.webelement.WebElement (session=\"f90fe56fcd360ad987da3f400c455e35\", element=\"62ccb543-4852-44a1-a3d9-3a4a192d146a\")>\n",
      "<selenium.webdriver.remote.webelement.WebElement (session=\"f90fe56fcd360ad987da3f400c455e35\", element=\"667dcb44-1e74-4885-ac2b-05a87928ee33\")>\n",
      "<selenium.webdriver.remote.webelement.WebElement (session=\"f90fe56fcd360ad987da3f400c455e35\", element=\"ef6dd7a6-fd8c-4429-8bb3-a77551551123\")>\n",
      "<selenium.webdriver.remote.webelement.WebElement (session=\"f90fe56fcd360ad987da3f400c455e35\", element=\"2109f9b7-612a-4ac9-bb07-2e6364b80828\")>\n",
      "<selenium.webdriver.remote.webelement.WebElement (session=\"f90fe56fcd360ad987da3f400c455e35\", element=\"ef26322d-b62f-4945-8558-66b1e4942a7d\")>\n",
      "<selenium.webdriver.remote.webelement.WebElement (session=\"f90fe56fcd360ad987da3f400c455e35\", element=\"a296a602-bfac-4a15-93ff-7c5fb4feacfe\")>\n",
      "<selenium.webdriver.remote.webelement.WebElement (session=\"f90fe56fcd360ad987da3f400c455e35\", element=\"02a49457-b85d-4a05-ac12-8b71eb991d77\")>\n",
      "<selenium.webdriver.remote.webelement.WebElement (session=\"f90fe56fcd360ad987da3f400c455e35\", element=\"95c48fa1-9bcf-4491-ac7e-b7df1635bd82\")>\n",
      "<selenium.webdriver.remote.webelement.WebElement (session=\"f90fe56fcd360ad987da3f400c455e35\", element=\"cd92449c-0e09-4c7e-ab8f-ac8d4a06bd90\")>\n",
      "<selenium.webdriver.remote.webelement.WebElement (session=\"f90fe56fcd360ad987da3f400c455e35\", element=\"bcaf3448-4191-461f-907c-92b776aa6b3f\")>\n",
      "<selenium.webdriver.remote.webelement.WebElement (session=\"f90fe56fcd360ad987da3f400c455e35\", element=\"d526a6b6-a4d5-4b5a-94e9-8bea3b7b7d5e\")>\n",
      "<selenium.webdriver.remote.webelement.WebElement (session=\"f90fe56fcd360ad987da3f400c455e35\", element=\"26179081-880a-4c3d-b74a-975e2900e888\")>\n",
      "<selenium.webdriver.remote.webelement.WebElement (session=\"f90fe56fcd360ad987da3f400c455e35\", element=\"a887e25b-8d18-44ad-b1a7-619e02a1b4b2\")>\n",
      "<selenium.webdriver.remote.webelement.WebElement (session=\"f90fe56fcd360ad987da3f400c455e35\", element=\"68129e3e-277d-43e6-a505-2aa6108bcacc\")>\n",
      "<selenium.webdriver.remote.webelement.WebElement (session=\"f90fe56fcd360ad987da3f400c455e35\", element=\"2dd843a7-2952-40d0-89ef-54a62ce90115\")>\n",
      "<selenium.webdriver.remote.webelement.WebElement (session=\"f90fe56fcd360ad987da3f400c455e35\", element=\"e2849e7a-1683-4a98-ba91-57d517cadb2f\")>\n",
      "<selenium.webdriver.remote.webelement.WebElement (session=\"f90fe56fcd360ad987da3f400c455e35\", element=\"11d22867-5546-4e05-8b03-7511b2a85030\")>\n",
      "<selenium.webdriver.remote.webelement.WebElement (session=\"f90fe56fcd360ad987da3f400c455e35\", element=\"7202e321-8d36-4c51-a55f-42af5e493dab\")>\n",
      "<selenium.webdriver.remote.webelement.WebElement (session=\"f90fe56fcd360ad987da3f400c455e35\", element=\"f20ccaeb-a607-4076-b1c4-1c01574ea467\")>\n",
      "<selenium.webdriver.remote.webelement.WebElement (session=\"f90fe56fcd360ad987da3f400c455e35\", element=\"7fe8abc9-ebba-406a-8122-21da2e9b86c1\")>\n",
      "<selenium.webdriver.remote.webelement.WebElement (session=\"f90fe56fcd360ad987da3f400c455e35\", element=\"5dba4669-fd78-4cb5-b397-e8152a65ab75\")>\n",
      "<selenium.webdriver.remote.webelement.WebElement (session=\"f90fe56fcd360ad987da3f400c455e35\", element=\"a8c3f08c-d60e-47a2-b599-67fdf283117f\")>\n",
      "<selenium.webdriver.remote.webelement.WebElement (session=\"f90fe56fcd360ad987da3f400c455e35\", element=\"ba7606d0-ab84-4693-ad3d-fe4c513cf792\")>\n",
      "<selenium.webdriver.remote.webelement.WebElement (session=\"f90fe56fcd360ad987da3f400c455e35\", element=\"13d7e49b-d92b-49b1-bc74-4d4f7c930e6c\")>\n",
      "<selenium.webdriver.remote.webelement.WebElement (session=\"f90fe56fcd360ad987da3f400c455e35\", element=\"dbf459b8-5c36-4ab9-9c6c-88a76963e2f8\")>\n",
      "<selenium.webdriver.remote.webelement.WebElement (session=\"f90fe56fcd360ad987da3f400c455e35\", element=\"845837bb-d048-4560-9e35-d25a6d98ecd9\")>\n",
      "<selenium.webdriver.remote.webelement.WebElement (session=\"f90fe56fcd360ad987da3f400c455e35\", element=\"f3859f7d-b477-4b17-849a-a6f73bc17761\")>\n",
      "<selenium.webdriver.remote.webelement.WebElement (session=\"f90fe56fcd360ad987da3f400c455e35\", element=\"a7f99be2-743a-4e7f-a4e0-8b47e27c422c\")>\n",
      "<selenium.webdriver.remote.webelement.WebElement (session=\"f90fe56fcd360ad987da3f400c455e35\", element=\"1eaa1bd1-39a4-4a1b-9320-208420b4a223\")>\n",
      "<selenium.webdriver.remote.webelement.WebElement (session=\"f90fe56fcd360ad987da3f400c455e35\", element=\"c5e7d934-a20d-4ec5-ac3b-059959033b84\")>\n",
      "<selenium.webdriver.remote.webelement.WebElement (session=\"f90fe56fcd360ad987da3f400c455e35\", element=\"2e187322-805a-47c4-ac1b-4893204d3960\")>\n",
      "<selenium.webdriver.remote.webelement.WebElement (session=\"f90fe56fcd360ad987da3f400c455e35\", element=\"43e99b1e-bd17-4040-b6d4-a3eef60e0ff3\")>\n",
      "<selenium.webdriver.remote.webelement.WebElement (session=\"f90fe56fcd360ad987da3f400c455e35\", element=\"7ea78ede-f1f5-4480-b136-c90b34db7fb8\")>\n",
      "<selenium.webdriver.remote.webelement.WebElement (session=\"f90fe56fcd360ad987da3f400c455e35\", element=\"21c337dd-c3fc-4340-a60e-3f7bcee3eac2\")>\n",
      "<selenium.webdriver.remote.webelement.WebElement (session=\"f90fe56fcd360ad987da3f400c455e35\", element=\"ac48abf4-4f98-45a5-a4ae-327c3bf5f49c\")>\n",
      "<selenium.webdriver.remote.webelement.WebElement (session=\"f90fe56fcd360ad987da3f400c455e35\", element=\"4d976909-00ff-472f-8cee-32376332d1fe\")>\n",
      "<selenium.webdriver.remote.webelement.WebElement (session=\"f90fe56fcd360ad987da3f400c455e35\", element=\"fa5e00e5-c86e-4a87-8c2e-9ce505c2bbc2\")>\n",
      "<selenium.webdriver.remote.webelement.WebElement (session=\"f90fe56fcd360ad987da3f400c455e35\", element=\"010f90a2-8f44-453c-af76-990135f8d370\")>\n",
      "<selenium.webdriver.remote.webelement.WebElement (session=\"f90fe56fcd360ad987da3f400c455e35\", element=\"fbc1eef8-a564-402c-9340-543bd6155e4e\")>\n",
      "<selenium.webdriver.remote.webelement.WebElement (session=\"f90fe56fcd360ad987da3f400c455e35\", element=\"b2db4a63-952a-4012-8a0a-7aa607607e50\")>\n",
      "<selenium.webdriver.remote.webelement.WebElement (session=\"f90fe56fcd360ad987da3f400c455e35\", element=\"f879884c-9b1c-42c8-b0dc-9f9b7a108170\")>\n",
      "<selenium.webdriver.remote.webelement.WebElement (session=\"f90fe56fcd360ad987da3f400c455e35\", element=\"4181d900-8d2b-4f98-884f-d84d7529afe4\")>\n",
      "<selenium.webdriver.remote.webelement.WebElement (session=\"f90fe56fcd360ad987da3f400c455e35\", element=\"f95e538a-802c-4a4e-912c-b3869d1a04c8\")>\n",
      "<selenium.webdriver.remote.webelement.WebElement (session=\"f90fe56fcd360ad987da3f400c455e35\", element=\"91273043-4251-4c31-9dee-5889b3658bf3\")>\n",
      "<selenium.webdriver.remote.webelement.WebElement (session=\"f90fe56fcd360ad987da3f400c455e35\", element=\"e9d5b069-7a58-4666-8394-78fa7417868a\")>\n",
      "<selenium.webdriver.remote.webelement.WebElement (session=\"f90fe56fcd360ad987da3f400c455e35\", element=\"6bab25bd-f15b-4a17-99eb-16e49c03e406\")>\n",
      "<selenium.webdriver.remote.webelement.WebElement (session=\"f90fe56fcd360ad987da3f400c455e35\", element=\"71785ba0-2c78-439e-b525-5731c97bdd52\")>\n",
      "<selenium.webdriver.remote.webelement.WebElement (session=\"f90fe56fcd360ad987da3f400c455e35\", element=\"cfdbdec0-46b1-43fb-b6f3-c424ceb8bcdd\")>\n",
      "<selenium.webdriver.remote.webelement.WebElement (session=\"f90fe56fcd360ad987da3f400c455e35\", element=\"ef86bfeb-f002-45ca-845a-b4507ca652e6\")>\n",
      "<selenium.webdriver.remote.webelement.WebElement (session=\"f90fe56fcd360ad987da3f400c455e35\", element=\"28aadcde-f286-4a8d-9be4-d94338e61ae0\")>\n",
      "<selenium.webdriver.remote.webelement.WebElement (session=\"a1a65b3852d9ba0585fe8c58e2aa4ece\", element=\"4007d7a2-f15e-4b14-924f-5796e3814748\")>\n",
      "<selenium.webdriver.remote.webelement.WebElement (session=\"a1a65b3852d9ba0585fe8c58e2aa4ece\", element=\"498911d2-af67-4154-ba86-f18be13e6939\")>\n",
      "<selenium.webdriver.remote.webelement.WebElement (session=\"a1a65b3852d9ba0585fe8c58e2aa4ece\", element=\"fd580266-4c92-477e-b561-edcdfa8b1b58\")>\n",
      "<selenium.webdriver.remote.webelement.WebElement (session=\"a1a65b3852d9ba0585fe8c58e2aa4ece\", element=\"d4a0c2c9-8acd-469d-8ba3-b714fbd0cc09\")>\n",
      "<selenium.webdriver.remote.webelement.WebElement (session=\"a1a65b3852d9ba0585fe8c58e2aa4ece\", element=\"237b118d-8813-4245-96f7-fcb029a9e897\")>\n",
      "<selenium.webdriver.remote.webelement.WebElement (session=\"a1a65b3852d9ba0585fe8c58e2aa4ece\", element=\"07d78e62-93df-4e75-baae-76abaf8cdf95\")>\n",
      "<selenium.webdriver.remote.webelement.WebElement (session=\"a1a65b3852d9ba0585fe8c58e2aa4ece\", element=\"c1e68fda-8fc3-48ae-92ef-173800287611\")>\n",
      "<selenium.webdriver.remote.webelement.WebElement (session=\"a1a65b3852d9ba0585fe8c58e2aa4ece\", element=\"ce97bea4-1569-4ceb-a895-9922be519dc8\")>\n",
      "<selenium.webdriver.remote.webelement.WebElement (session=\"a1a65b3852d9ba0585fe8c58e2aa4ece\", element=\"a8f3ff70-9f92-4150-9464-094cc7197545\")>\n",
      "<selenium.webdriver.remote.webelement.WebElement (session=\"a1a65b3852d9ba0585fe8c58e2aa4ece\", element=\"ecbe5699-26e1-4c34-a14f-a69b56550614\")>\n",
      "<selenium.webdriver.remote.webelement.WebElement (session=\"a1a65b3852d9ba0585fe8c58e2aa4ece\", element=\"b16c1fa5-84de-4d66-b4aa-3233542ecda7\")>\n"
     ]
    },
    {
     "name": "stdout",
     "output_type": "stream",
     "text": [
      "<selenium.webdriver.remote.webelement.WebElement (session=\"a1a65b3852d9ba0585fe8c58e2aa4ece\", element=\"7c7a7db9-d95d-4cd9-b86b-ec62adb13512\")>\n",
      "<selenium.webdriver.remote.webelement.WebElement (session=\"a1a65b3852d9ba0585fe8c58e2aa4ece\", element=\"4a3d1db2-5e07-4bc4-bfd3-bcd695df6d78\")>\n",
      "<selenium.webdriver.remote.webelement.WebElement (session=\"a1a65b3852d9ba0585fe8c58e2aa4ece\", element=\"f6e8f2d5-56c0-402a-81f9-449f330b3e1c\")>\n",
      "<selenium.webdriver.remote.webelement.WebElement (session=\"a1a65b3852d9ba0585fe8c58e2aa4ece\", element=\"494f0af3-34ac-4021-95ea-83a41d1f4d68\")>\n",
      "<selenium.webdriver.remote.webelement.WebElement (session=\"a1a65b3852d9ba0585fe8c58e2aa4ece\", element=\"a635ed5c-70d7-4c60-bdd2-116b7a133ca8\")>\n",
      "<selenium.webdriver.remote.webelement.WebElement (session=\"a1a65b3852d9ba0585fe8c58e2aa4ece\", element=\"751e679a-5461-4c17-933c-183436e167d8\")>\n",
      "<selenium.webdriver.remote.webelement.WebElement (session=\"a1a65b3852d9ba0585fe8c58e2aa4ece\", element=\"4034810f-ed4e-4d63-9bdb-213be31aae57\")>\n",
      "<selenium.webdriver.remote.webelement.WebElement (session=\"a1a65b3852d9ba0585fe8c58e2aa4ece\", element=\"f329d5d4-b1b9-4395-8df1-9c420ed9ac79\")>\n",
      "<selenium.webdriver.remote.webelement.WebElement (session=\"a1a65b3852d9ba0585fe8c58e2aa4ece\", element=\"cc1199cc-4ae9-491a-895a-009fc13ccbdf\")>\n",
      "<selenium.webdriver.remote.webelement.WebElement (session=\"a1a65b3852d9ba0585fe8c58e2aa4ece\", element=\"5e2a23cb-f5c0-4680-9732-632bbe155ebd\")>\n",
      "<selenium.webdriver.remote.webelement.WebElement (session=\"a1a65b3852d9ba0585fe8c58e2aa4ece\", element=\"0214d197-8efd-43ed-ba39-23a65f36adf4\")>\n",
      "<selenium.webdriver.remote.webelement.WebElement (session=\"a1a65b3852d9ba0585fe8c58e2aa4ece\", element=\"101ee8a2-ccea-48d9-ac41-33fe7a963ad9\")>\n",
      "<selenium.webdriver.remote.webelement.WebElement (session=\"a1a65b3852d9ba0585fe8c58e2aa4ece\", element=\"288fa56e-8648-416f-a998-7c953d1e5add\")>\n",
      "<selenium.webdriver.remote.webelement.WebElement (session=\"a1a65b3852d9ba0585fe8c58e2aa4ece\", element=\"ce89515d-7dfd-436c-9833-eccdf10cf1bd\")>\n",
      "<selenium.webdriver.remote.webelement.WebElement (session=\"a1a65b3852d9ba0585fe8c58e2aa4ece\", element=\"d1d96f09-0ee5-4b94-91b3-727a2f37f387\")>\n",
      "<selenium.webdriver.remote.webelement.WebElement (session=\"a1a65b3852d9ba0585fe8c58e2aa4ece\", element=\"689c5070-daeb-4647-8210-eb84bf966ab4\")>\n",
      "<selenium.webdriver.remote.webelement.WebElement (session=\"a1a65b3852d9ba0585fe8c58e2aa4ece\", element=\"e9624faf-a465-42f7-9eef-3a18e9e64dd7\")>\n",
      "<selenium.webdriver.remote.webelement.WebElement (session=\"a1a65b3852d9ba0585fe8c58e2aa4ece\", element=\"d9c4a8d2-7cd5-4457-84d6-d23e50d54d9a\")>\n",
      "<selenium.webdriver.remote.webelement.WebElement (session=\"a1a65b3852d9ba0585fe8c58e2aa4ece\", element=\"196d6772-cca8-4a59-888f-7449ffc2c131\")>\n",
      "<selenium.webdriver.remote.webelement.WebElement (session=\"a1a65b3852d9ba0585fe8c58e2aa4ece\", element=\"93fc1a51-b7dd-4aaf-ac51-8cf9d633d5b2\")>\n",
      "<selenium.webdriver.remote.webelement.WebElement (session=\"a1a65b3852d9ba0585fe8c58e2aa4ece\", element=\"0ad36cfb-3eb2-4e05-9e7a-8fcf52d81bc0\")>\n",
      "<selenium.webdriver.remote.webelement.WebElement (session=\"a1a65b3852d9ba0585fe8c58e2aa4ece\", element=\"509d242a-f500-47e5-812f-c9774eec0d56\")>\n",
      "<selenium.webdriver.remote.webelement.WebElement (session=\"a1a65b3852d9ba0585fe8c58e2aa4ece\", element=\"a5ca26db-2a08-42dd-bad4-945f8154f3fc\")>\n",
      "<selenium.webdriver.remote.webelement.WebElement (session=\"a1a65b3852d9ba0585fe8c58e2aa4ece\", element=\"35e63a3b-8df9-4512-8e13-5b9d09e384a1\")>\n",
      "<selenium.webdriver.remote.webelement.WebElement (session=\"a1a65b3852d9ba0585fe8c58e2aa4ece\", element=\"d3f61076-e24b-4713-8162-7fc4423dbf75\")>\n",
      "<selenium.webdriver.remote.webelement.WebElement (session=\"a1a65b3852d9ba0585fe8c58e2aa4ece\", element=\"10e7ea8b-ea55-49ff-91ef-da6bbcd23fc0\")>\n",
      "<selenium.webdriver.remote.webelement.WebElement (session=\"a1a65b3852d9ba0585fe8c58e2aa4ece\", element=\"d77727e7-515b-4baa-b0b7-c8785fb0dd09\")>\n",
      "<selenium.webdriver.remote.webelement.WebElement (session=\"a1a65b3852d9ba0585fe8c58e2aa4ece\", element=\"0ba5f1e8-99d8-49e7-ab32-022a1705d871\")>\n",
      "<selenium.webdriver.remote.webelement.WebElement (session=\"a1a65b3852d9ba0585fe8c58e2aa4ece\", element=\"6e70a778-1b19-460b-aec6-58b668ec921d\")>\n",
      "<selenium.webdriver.remote.webelement.WebElement (session=\"a1a65b3852d9ba0585fe8c58e2aa4ece\", element=\"ebd62fec-1fc2-4d7e-add7-e395adb3afb5\")>\n",
      "<selenium.webdriver.remote.webelement.WebElement (session=\"a1a65b3852d9ba0585fe8c58e2aa4ece\", element=\"bc6bbbf0-2320-408b-b8bc-b694a044cb9d\")>\n",
      "<selenium.webdriver.remote.webelement.WebElement (session=\"a1a65b3852d9ba0585fe8c58e2aa4ece\", element=\"9c1d0f4b-56b6-4b49-8eea-de99c2c3e125\")>\n",
      "<selenium.webdriver.remote.webelement.WebElement (session=\"a1a65b3852d9ba0585fe8c58e2aa4ece\", element=\"6d1396b6-9739-4808-9e32-c6a1bc2c14b6\")>\n",
      "<selenium.webdriver.remote.webelement.WebElement (session=\"a1a65b3852d9ba0585fe8c58e2aa4ece\", element=\"af7a7cd3-832a-4a2e-b40a-7cb8728f0044\")>\n",
      "<selenium.webdriver.remote.webelement.WebElement (session=\"a1a65b3852d9ba0585fe8c58e2aa4ece\", element=\"1d00529c-d830-4e18-9c71-3b2232b690f0\")>\n",
      "<selenium.webdriver.remote.webelement.WebElement (session=\"a1a65b3852d9ba0585fe8c58e2aa4ece\", element=\"6f49ddc0-6123-47b7-be1b-e7a976af5cab\")>\n",
      "<selenium.webdriver.remote.webelement.WebElement (session=\"a1a65b3852d9ba0585fe8c58e2aa4ece\", element=\"f8983c3b-e835-4e49-98c9-6a74406772de\")>\n",
      "<selenium.webdriver.remote.webelement.WebElement (session=\"a1a65b3852d9ba0585fe8c58e2aa4ece\", element=\"a720dda8-9f43-4efd-8ab8-eb579f214789\")>\n",
      "<selenium.webdriver.remote.webelement.WebElement (session=\"a1a65b3852d9ba0585fe8c58e2aa4ece\", element=\"c780561a-0290-44a7-9f12-35f7a0b16a50\")>\n",
      "<selenium.webdriver.remote.webelement.WebElement (session=\"36a1756433edde8a08944d3d16898fcc\", element=\"ce69c162-f0d5-49a2-8286-2214e5dc0358\")>\n",
      "<selenium.webdriver.remote.webelement.WebElement (session=\"36a1756433edde8a08944d3d16898fcc\", element=\"934732ac-8e13-4846-a1c3-96a48e26479d\")>\n",
      "<selenium.webdriver.remote.webelement.WebElement (session=\"36a1756433edde8a08944d3d16898fcc\", element=\"8e7bc50f-77b0-4249-80e3-5f5a5e5ef98b\")>\n",
      "<selenium.webdriver.remote.webelement.WebElement (session=\"36a1756433edde8a08944d3d16898fcc\", element=\"89b03b4e-77d5-414f-92a8-acfc5f5d903e\")>\n",
      "<selenium.webdriver.remote.webelement.WebElement (session=\"36a1756433edde8a08944d3d16898fcc\", element=\"b719e519-8dfe-4764-a0c3-1f94a6a58922\")>\n",
      "<selenium.webdriver.remote.webelement.WebElement (session=\"36a1756433edde8a08944d3d16898fcc\", element=\"64963b0e-924e-469b-9cf4-e7454bddb710\")>\n",
      "<selenium.webdriver.remote.webelement.WebElement (session=\"36a1756433edde8a08944d3d16898fcc\", element=\"f8991bed-5ed2-46cf-9e55-2048cd391f65\")>\n",
      "<selenium.webdriver.remote.webelement.WebElement (session=\"36a1756433edde8a08944d3d16898fcc\", element=\"42fec3ff-6c37-4e84-a968-725e08513c3b\")>\n",
      "<selenium.webdriver.remote.webelement.WebElement (session=\"36a1756433edde8a08944d3d16898fcc\", element=\"e26c3ad0-dc5f-4f00-8c8e-7e5d6702a26f\")>\n",
      "<selenium.webdriver.remote.webelement.WebElement (session=\"36a1756433edde8a08944d3d16898fcc\", element=\"7503ac99-0858-44fe-b8c4-63ce8f17c42b\")>\n",
      "<selenium.webdriver.remote.webelement.WebElement (session=\"36a1756433edde8a08944d3d16898fcc\", element=\"a71c8613-3289-4c3f-8c25-80dc73882575\")>\n",
      "<selenium.webdriver.remote.webelement.WebElement (session=\"36a1756433edde8a08944d3d16898fcc\", element=\"bf18773a-d9e6-4777-832b-33bb66e8a294\")>\n",
      "<selenium.webdriver.remote.webelement.WebElement (session=\"36a1756433edde8a08944d3d16898fcc\", element=\"83ee679a-37e0-4315-ab22-ea68a6bc5913\")>\n",
      "<selenium.webdriver.remote.webelement.WebElement (session=\"36a1756433edde8a08944d3d16898fcc\", element=\"58f550f8-11ac-4a4e-b3d3-38a6473e34bb\")>\n",
      "<selenium.webdriver.remote.webelement.WebElement (session=\"36a1756433edde8a08944d3d16898fcc\", element=\"2058bfc5-9419-45e4-9488-c1052cfe4f53\")>\n",
      "<selenium.webdriver.remote.webelement.WebElement (session=\"36a1756433edde8a08944d3d16898fcc\", element=\"3f5979df-e8cd-480b-9a31-faf1c3529f81\")>\n",
      "<selenium.webdriver.remote.webelement.WebElement (session=\"36a1756433edde8a08944d3d16898fcc\", element=\"e82bb027-d574-48b9-9de9-652eb02d094e\")>\n",
      "<selenium.webdriver.remote.webelement.WebElement (session=\"36a1756433edde8a08944d3d16898fcc\", element=\"9807d0f4-12b7-46d6-bd94-3a8a044deef2\")>\n",
      "<selenium.webdriver.remote.webelement.WebElement (session=\"36a1756433edde8a08944d3d16898fcc\", element=\"55053ccb-1dac-47be-9a82-8f927af034da\")>\n",
      "<selenium.webdriver.remote.webelement.WebElement (session=\"36a1756433edde8a08944d3d16898fcc\", element=\"715b2890-e826-4a0e-9c3b-678d3363ef42\")>\n",
      "<selenium.webdriver.remote.webelement.WebElement (session=\"36a1756433edde8a08944d3d16898fcc\", element=\"f02e1b2b-6883-430b-8dd4-cbdd1370c20f\")>\n",
      "<selenium.webdriver.remote.webelement.WebElement (session=\"36a1756433edde8a08944d3d16898fcc\", element=\"2d4c9fa5-a0e6-4d24-8430-a42ca28b8974\")>\n"
     ]
    },
    {
     "name": "stdout",
     "output_type": "stream",
     "text": [
      "<selenium.webdriver.remote.webelement.WebElement (session=\"36a1756433edde8a08944d3d16898fcc\", element=\"55234a0b-6c09-44f8-aee7-cd7d1e413700\")>\n",
      "<selenium.webdriver.remote.webelement.WebElement (session=\"36a1756433edde8a08944d3d16898fcc\", element=\"418f1a22-d318-4a92-abc8-765097390e91\")>\n",
      "<selenium.webdriver.remote.webelement.WebElement (session=\"36a1756433edde8a08944d3d16898fcc\", element=\"13dafa14-c1e2-45e5-86d9-fab55778fab3\")>\n",
      "<selenium.webdriver.remote.webelement.WebElement (session=\"36a1756433edde8a08944d3d16898fcc\", element=\"56cfd12e-1270-4b12-94fe-383987f962fc\")>\n",
      "<selenium.webdriver.remote.webelement.WebElement (session=\"36a1756433edde8a08944d3d16898fcc\", element=\"37ad99d0-818a-4e10-8f62-fbd85edfb82d\")>\n",
      "<selenium.webdriver.remote.webelement.WebElement (session=\"36a1756433edde8a08944d3d16898fcc\", element=\"3d62f638-7d21-48ce-9bb2-b8b336897617\")>\n",
      "<selenium.webdriver.remote.webelement.WebElement (session=\"36a1756433edde8a08944d3d16898fcc\", element=\"88d76ec6-4bcf-42cb-90e8-627becee67d2\")>\n",
      "<selenium.webdriver.remote.webelement.WebElement (session=\"36a1756433edde8a08944d3d16898fcc\", element=\"eba11520-b3bf-4ee1-801d-0cb68d1625fb\")>\n",
      "<selenium.webdriver.remote.webelement.WebElement (session=\"36a1756433edde8a08944d3d16898fcc\", element=\"8eac2a8c-464e-4c6b-874e-62a784ce53ab\")>\n",
      "<selenium.webdriver.remote.webelement.WebElement (session=\"36a1756433edde8a08944d3d16898fcc\", element=\"df108460-0699-4c8c-bfb4-823cbe13e45c\")>\n",
      "<selenium.webdriver.remote.webelement.WebElement (session=\"36a1756433edde8a08944d3d16898fcc\", element=\"12c75b02-d500-4103-9bc4-5af04a0a8ebf\")>\n",
      "<selenium.webdriver.remote.webelement.WebElement (session=\"36a1756433edde8a08944d3d16898fcc\", element=\"d7276bdb-c459-417b-aab6-0034566a3577\")>\n",
      "<selenium.webdriver.remote.webelement.WebElement (session=\"36a1756433edde8a08944d3d16898fcc\", element=\"3d49a1e7-c21e-4cd3-acd1-4a2d3000eeaf\")>\n",
      "<selenium.webdriver.remote.webelement.WebElement (session=\"36a1756433edde8a08944d3d16898fcc\", element=\"1eda04b7-b171-4c55-90c2-e58b72d17e8a\")>\n",
      "<selenium.webdriver.remote.webelement.WebElement (session=\"36a1756433edde8a08944d3d16898fcc\", element=\"4554d22f-0e0b-42fb-913a-65718b44aae6\")>\n",
      "<selenium.webdriver.remote.webelement.WebElement (session=\"36a1756433edde8a08944d3d16898fcc\", element=\"e2727900-66c4-4355-94f3-1726b33d4483\")>\n",
      "<selenium.webdriver.remote.webelement.WebElement (session=\"36a1756433edde8a08944d3d16898fcc\", element=\"fe1e3b4b-9e8f-4d88-ae1f-b5985bd3bb19\")>\n",
      "<selenium.webdriver.remote.webelement.WebElement (session=\"36a1756433edde8a08944d3d16898fcc\", element=\"b7988ef2-df7c-4072-960b-b92e8ba76e1f\")>\n",
      "<selenium.webdriver.remote.webelement.WebElement (session=\"36a1756433edde8a08944d3d16898fcc\", element=\"95a0293f-ac20-49a8-ab9d-15e933f3dbda\")>\n",
      "<selenium.webdriver.remote.webelement.WebElement (session=\"36a1756433edde8a08944d3d16898fcc\", element=\"418a45f7-df04-4e62-8ebf-1648c9de48ef\")>\n",
      "<selenium.webdriver.remote.webelement.WebElement (session=\"36a1756433edde8a08944d3d16898fcc\", element=\"551355f7-1d53-4300-972d-c98c9122cec3\")>\n",
      "<selenium.webdriver.remote.webelement.WebElement (session=\"36a1756433edde8a08944d3d16898fcc\", element=\"db66f22e-dfec-4d6d-8938-eb1f590ed6ee\")>\n",
      "<selenium.webdriver.remote.webelement.WebElement (session=\"36a1756433edde8a08944d3d16898fcc\", element=\"5507a8b2-18fc-4702-86db-cd7536220326\")>\n",
      "<selenium.webdriver.remote.webelement.WebElement (session=\"36a1756433edde8a08944d3d16898fcc\", element=\"e5d5e763-5be2-4cad-844d-17cf61a626b6\")>\n",
      "<selenium.webdriver.remote.webelement.WebElement (session=\"36a1756433edde8a08944d3d16898fcc\", element=\"4f8b89ec-7a33-43ea-a78f-b5bef314cc36\")>\n",
      "<selenium.webdriver.remote.webelement.WebElement (session=\"36a1756433edde8a08944d3d16898fcc\", element=\"c2684d11-a223-497d-8f55-b71acac37803\")>\n",
      "<selenium.webdriver.remote.webelement.WebElement (session=\"36a1756433edde8a08944d3d16898fcc\", element=\"51df5847-de8c-4b7b-85c9-fb474772e349\")>\n",
      "<selenium.webdriver.remote.webelement.WebElement (session=\"36a1756433edde8a08944d3d16898fcc\", element=\"d15f4b7e-d33b-4949-bc18-2d6efac8d166\")>\n",
      "<selenium.webdriver.remote.webelement.WebElement (session=\"a10cf71f8b755ab4a93489003e0ebaf1\", element=\"c0b6d88d-0633-4439-a3e0-89acc6e3f15c\")>\n",
      "<selenium.webdriver.remote.webelement.WebElement (session=\"a10cf71f8b755ab4a93489003e0ebaf1\", element=\"0fbe741a-4e19-4c60-ae40-1359a77809b9\")>\n",
      "<selenium.webdriver.remote.webelement.WebElement (session=\"a10cf71f8b755ab4a93489003e0ebaf1\", element=\"b4aaa9fd-54ed-4b08-9af8-09d11dde5df6\")>\n",
      "<selenium.webdriver.remote.webelement.WebElement (session=\"a10cf71f8b755ab4a93489003e0ebaf1\", element=\"44fb61e7-5234-4b9c-b8b1-a6327ddb3867\")>\n",
      "<selenium.webdriver.remote.webelement.WebElement (session=\"a10cf71f8b755ab4a93489003e0ebaf1\", element=\"0f9c7b94-df2d-4cc6-8cc2-1a7b508e42c7\")>\n",
      "<selenium.webdriver.remote.webelement.WebElement (session=\"a10cf71f8b755ab4a93489003e0ebaf1\", element=\"46ccc40e-8736-4471-92b3-aae4f41b9f89\")>\n",
      "<selenium.webdriver.remote.webelement.WebElement (session=\"a10cf71f8b755ab4a93489003e0ebaf1\", element=\"69b7a6f2-fa56-46bb-a9ca-d428d1854225\")>\n",
      "<selenium.webdriver.remote.webelement.WebElement (session=\"a10cf71f8b755ab4a93489003e0ebaf1\", element=\"240ae02c-8e69-4a81-895e-6114f1708b11\")>\n",
      "<selenium.webdriver.remote.webelement.WebElement (session=\"a10cf71f8b755ab4a93489003e0ebaf1\", element=\"733c0605-4e67-4788-a6ac-0d95e11c8021\")>\n",
      "<selenium.webdriver.remote.webelement.WebElement (session=\"a10cf71f8b755ab4a93489003e0ebaf1\", element=\"cb081248-edd0-4945-9ea8-03e728ffbf84\")>\n",
      "<selenium.webdriver.remote.webelement.WebElement (session=\"a10cf71f8b755ab4a93489003e0ebaf1\", element=\"b07002ef-ecf0-4368-9482-0274253703d2\")>\n",
      "<selenium.webdriver.remote.webelement.WebElement (session=\"a10cf71f8b755ab4a93489003e0ebaf1\", element=\"968b1e32-3943-4091-a648-ee82cbf6e769\")>\n",
      "<selenium.webdriver.remote.webelement.WebElement (session=\"a10cf71f8b755ab4a93489003e0ebaf1\", element=\"75a0e9bf-728d-4470-aec9-eccbe71ba083\")>\n",
      "<selenium.webdriver.remote.webelement.WebElement (session=\"a10cf71f8b755ab4a93489003e0ebaf1\", element=\"f8987a18-3149-4716-af3d-305c9b896b8a\")>\n",
      "<selenium.webdriver.remote.webelement.WebElement (session=\"a804eb2c3253cad521142b1fc7dbc2c7\", element=\"5422d4c0-ff9b-40da-b188-e0b38d50bfd1\")>\n",
      "<selenium.webdriver.remote.webelement.WebElement (session=\"a804eb2c3253cad521142b1fc7dbc2c7\", element=\"558f14ae-6abc-4bf0-a552-4b0e40f0a13b\")>\n",
      "<selenium.webdriver.remote.webelement.WebElement (session=\"a804eb2c3253cad521142b1fc7dbc2c7\", element=\"c8f8490d-602e-438e-b492-caefa9fe5af9\")>\n",
      "<selenium.webdriver.remote.webelement.WebElement (session=\"a804eb2c3253cad521142b1fc7dbc2c7\", element=\"b376382b-b010-4e64-96aa-39bdc3515f07\")>\n",
      "<selenium.webdriver.remote.webelement.WebElement (session=\"a804eb2c3253cad521142b1fc7dbc2c7\", element=\"bbf4c7e4-d19e-4366-ae2b-b60d16476eac\")>\n",
      "<selenium.webdriver.remote.webelement.WebElement (session=\"a804eb2c3253cad521142b1fc7dbc2c7\", element=\"dca4a38e-db51-4550-9d18-3162dec3a78c\")>\n",
      "<selenium.webdriver.remote.webelement.WebElement (session=\"a804eb2c3253cad521142b1fc7dbc2c7\", element=\"346ca15a-e2e4-4360-860b-9da8932dbde4\")>\n",
      "<selenium.webdriver.remote.webelement.WebElement (session=\"a804eb2c3253cad521142b1fc7dbc2c7\", element=\"07bb32d6-d61e-4ea0-83c8-54b26c78670c\")>\n",
      "<selenium.webdriver.remote.webelement.WebElement (session=\"a804eb2c3253cad521142b1fc7dbc2c7\", element=\"7b5ce5d4-fb34-43d1-ae4d-5d7b9bc94262\")>\n",
      "<selenium.webdriver.remote.webelement.WebElement (session=\"a804eb2c3253cad521142b1fc7dbc2c7\", element=\"5c1b5448-c4b7-4cd2-8c82-01b5578b0b9e\")>\n",
      "[['Savannah Chrisley', 'https://www.cameo.com/savannahchrisley'], ['Paddy Pimblett', 'https://www.cameo.com/paddythebaddy'], ['Frankie Muniz', 'https://www.cameo.com/frankiemuniz'], ['Katharine McPhee and David Foster', 'https://www.cameo.com/katanddavid'], ['Brian Cox', 'https://www.cameo.com/brian_cox'], ['Nathalie Emmanuel', 'https://www.cameo.com/nathalieemmanuel1'], ['Rich Homie Quan', 'https://www.cameo.com/richhomiequan'], ['Andrew Johns', 'https://www.cameo.com/andrewjohns'], ['Maria Menounos', 'https://www.cameo.com/mariamenounos'], ['Matthew Berry', 'https://www.cameo.com/matthewberrytmr'], ['Mick Foley', 'https://www.cameo.com/mickfoley?nodeId=featured&nodeType=category'], ['Ray Abruzzo', 'https://www.cameo.com/realrayabruzzo?nodeId=featured&nodeType=category'], ['Diamond Dallas Page aka DDP', 'https://www.cameo.com/diamonddallaspage?nodeId=featured&nodeType=category'], ['Chris Hansen', 'https://www.cameo.com/chansen?nodeId=featured&nodeType=category'], ['Mark McGrath', 'https://www.cameo.com/markmcgrath?nodeId=featured&nodeType=category'], ['Sean Avery', 'https://www.cameo.com/seanavery?nodeId=featured&nodeType=category'], ['The Cameo Santa', 'https://www.cameo.com/thecameosanta?nodeId=featured&nodeType=category'], ['Pierre Bouvier', 'https://www.cameo.com/pierrebouvier?nodeId=featured&nodeType=category'], ['Jim O’Heir', 'https://www.cameo.com/jimo?nodeId=featured&nodeType=category'], ['Andy Lassner', 'https://www.cameo.com/averageandy?nodeId=featured&nodeType=category'], ['Ernie Hudson', 'https://www.cameo.com/kirbyzook?nodeId=featured&nodeType=category'], ['Doug E. Fresh', 'https://www.cameo.com/dougeversofresh?nodeId=featured&nodeType=category'], ['Didi Conn', 'https://www.cameo.com/didiconn1?nodeId=featured&nodeType=category'], ['Bret Hitman Hart', 'https://www.cameo.com/hitman?nodeId=featured&nodeType=category'], ['Randy Couture', 'https://www.cameo.com/xcnatch?nodeId=featured&nodeType=category'], ['Jaime Camil', 'https://www.cameo.com/jaimecamil?nodeId=featured&nodeType=category'], ['Mark Sheppard', 'https://www.cameo.com/marksheppard?nodeId=featured&nodeType=category'], ['Gilbert Gottfried', 'https://www.cameo.com/gilbertgottfried?nodeId=featured&nodeType=category'], ['TJ Lavin', 'https://www.cameo.com/tjlavin?nodeId=featured&nodeType=category'], ['Montell Jordan', 'https://www.cameo.com/mrjordan1911?nodeId=featured&nodeType=category'], ['Shooter McGavin', 'https://www.cameo.com/shootahhh?nodeId=featured&nodeType=category'], ['Barry Williams', 'https://www.cameo.com/barrywilliams?nodeId=featured&nodeType=category'], ['Ted Nugent', 'https://www.cameo.com/tednugent?nodeId=featured&nodeType=category'], ['Maurice Benard', 'https://www.cameo.com/mauricebenard?nodeId=featured&nodeType=category'], ['William DuVall', 'https://www.cameo.com/wduvall?nodeId=featured&nodeType=category'], ['Hanbyul Jang', 'https://www.cameo.com/onestarbyul?nodeId=featured&nodeType=category'], ['Redman', 'https://www.cameo.com/redman?nodeId=featured&nodeType=category'], ['Arnel Pineda', 'https://www.cameo.com/arnelpineda?nodeId=featured&nodeType=category'], ['Michael Ian Black', 'https://www.cameo.com/michael_ian_black?nodeId=featured&nodeType=category'], ['Johnny Damon', 'https://www.cameo.com/johnnydamon?nodeId=featured&nodeType=category'], ['Karen David', 'https://www.cameo.com/karendavid?nodeId=featured&nodeType=category'], ['Brant Daugherty', 'https://www.cameo.com/brantdaugherty?nodeId=featured&nodeType=category'], ['Brian Scalabrine', 'https://www.cameo.com/whitemamba?nodeId=featured&nodeType=category'], ['Kelly AuCoin', 'https://www.cameo.com/kellyaucoin?nodeId=featured&nodeType=category'], ['Ryan Hurst', 'https://www.cameo.com/rambodonkeykong?nodeId=featured&nodeType=category'], ['Andy Buckley', 'https://www.cameo.com/andybuckley?nodeId=featured&nodeType=category'], ['Penn Jillette', 'https://www.cameo.com/pennj?nodeId=featured&nodeType=category'], ['Bruce Buffer', 'https://www.cameo.com/brucebufferufc?nodeId=featured&nodeType=category'], ['Brad Arnold', 'https://www.cameo.com/3doorsdown?nodeId=featured&nodeType=category'], ['Vincent Curatola', 'https://www.cameo.com/vincentcuratola?nodeId=featured&nodeType=category'], ['Savannah Chrisley', 'https://www.cameo.com/savannahchrisley'], ['Paddy Pimblett', 'https://www.cameo.com/paddythebaddy'], ['Frankie Muniz', 'https://www.cameo.com/frankiemuniz'], ['Katharine McPhee and David Foster', 'https://www.cameo.com/katanddavid'], ['Brian Cox', 'https://www.cameo.com/brian_cox'], ['Nathalie Emmanuel', 'https://www.cameo.com/nathalieemmanuel1'], ['Rich Homie Quan', 'https://www.cameo.com/richhomiequan'], ['Andrew Johns', 'https://www.cameo.com/andrewjohns'], ['Maria Menounos', 'https://www.cameo.com/mariamenounos'], ['Matthew Berry', 'https://www.cameo.com/matthewberrytmr'], ['Tom Arnold', 'https://www.cameo.com/thetomarnold?nodeId=featured&nodeType=category'], ['DOUG E. DOUG', 'https://www.cameo.com/dougedoug?nodeId=featured&nodeType=category'], ['Kenny G', 'https://www.cameo.com/kennyg?nodeId=featured&nodeType=category'], ['Bellamy Young', 'https://www.cameo.com/bellamyyoung?nodeId=featured&nodeType=category'], ['Sarah Palin', 'https://www.cameo.com/sarahpalin?nodeId=featured&nodeType=category'], ['LaVar Ball', 'https://www.cameo.com/lavarball?nodeId=featured&nodeType=category'], ['Brent Spiner', 'https://www.cameo.com/brentspiner?nodeId=featured&nodeType=category'], ['Ben Higgins', 'https://www.cameo.com/benhiggy?nodeId=featured&nodeType=category'], ['Kurt Angle', 'https://www.cameo.com/gold1996?nodeId=featured&nodeType=category'], ['Chef Duff Goldman', 'https://www.cameo.com/duffgoldman?nodeId=featured&nodeType=category'], ['Steve Wilkos', 'https://www.cameo.com/stevewilkos?nodeId=featured&nodeType=category'], ['Colin Mochrie', 'https://www.cameo.com/colinmochrie7591?nodeId=featured&nodeType=category'], ['Jim Norton', 'https://www.cameo.com/jimnorton?nodeId=featured&nodeType=category'], ['Sarah Drew', 'https://www.cameo.com/sarahdrew?nodeId=featured&nodeType=category'], ['David Henrie', 'https://www.cameo.com/davidhenrie?nodeId=featured&nodeType=category'], ['Steve Guttenberg', 'https://www.cameo.com/steveguttenberg?nodeId=featured&nodeType=category'], ['Stacey Dash', 'https://www.cameo.com/staceydash?nodeId=featured&nodeType=category'], ['Tom Bergeron', 'https://www.cameo.com/tberj?nodeId=featured&nodeType=category'], ['Bob Saget', 'https://www.cameo.com/bobsagetofficial?nodeId=featured&nodeType=category'], ['Steve Smith Sr', 'https://www.cameo.com/agent89?nodeId=featured&nodeType=category'], ['Tia Carrere', 'https://www.cameo.com/tiacarrere?nodeId=featured&nodeType=category'], ['Conrad Ricamora', 'https://www.cameo.com/conradricamora?nodeId=featured&nodeType=category'], ['Eli Young Band/Mike Eli', 'https://www.cameo.com/eliyoungbandmikeeli?nodeId=featured&nodeType=category'], ['Dave Mustaine', 'https://www.cameo.com/davemustaine?nodeId=featured&nodeType=category'], ['James Worthy', 'https://www.cameo.com/jamesworthy?nodeId=featured&nodeType=category'], ['George Wendt', 'https://www.cameo.com/georgewendt?nodeId=featured&nodeType=category'], ['Ronnie Coleman', 'https://www.cameo.com/ronniecoleman8?nodeId=featured&nodeType=category'], ['Ivan Lendl', 'https://www.cameo.com/ivanlendl?nodeId=featured&nodeType=category'], ['Brett Favre', 'https://www.cameo.com/brettfavre?nodeId=featured&nodeType=category'], ['Amy Jo Johnson', 'https://www.cameo.com/atothedoublej?nodeId=featured&nodeType=category'], ['Gretchen Carlson', 'https://www.cameo.com/gecarlson?nodeId=featured&nodeType=category'], ['Lance Bass', 'https://www.cameo.com/lancebass?nodeId=featured&nodeType=category'], ['Cam Jordan', 'https://www.cameo.com/camjo94?nodeId=featured&nodeType=category'], ['Gary Busey', 'https://www.cameo.com/garybusey?nodeId=featured&nodeType=category'], ['Don Johnson', 'https://www.cameo.com/donjohnson?nodeId=featured&nodeType=category'], ['Joe Theismann', 'https://www.cameo.com/joetheismann?nodeId=featured&nodeType=category'], ['Wayne Knight', 'https://www.cameo.com/wanite1?nodeId=featured&nodeType=category'], ['Keegan Allen', 'https://www.cameo.com/keeoone?nodeId=featured&nodeType=category'], ['Bernie Kosar', 'https://www.cameo.com/berniekosar?nodeId=featured&nodeType=category'], ['Gary Levox', 'https://www.cameo.com/levox?nodeId=featured&nodeType=category'], ['Savannah Chrisley', 'https://www.cameo.com/savannahchrisley'], ['Paddy Pimblett', 'https://www.cameo.com/paddythebaddy'], ['Frankie Muniz', 'https://www.cameo.com/frankiemuniz'], ['Katharine McPhee and David Foster', 'https://www.cameo.com/katanddavid'], ['Brian Cox', 'https://www.cameo.com/brian_cox'], ['Nathalie Emmanuel', 'https://www.cameo.com/nathalieemmanuel1'], ['Rich Homie Quan', 'https://www.cameo.com/richhomiequan'], ['Andrew Johns', 'https://www.cameo.com/andrewjohns'], ['Maria Menounos', 'https://www.cameo.com/mariamenounos'], ['Matthew Berry', 'https://www.cameo.com/matthewberrytmr'], ['CT Fletcher', 'https://www.cameo.com/ironaddicts1?nodeId=featured&nodeType=category'], ['Mia Hamm', 'https://www.cameo.com/miahamm?nodeId=featured&nodeType=category'], ['Nadia Comaneci', 'https://www.cameo.com/comaneci10?nodeId=featured&nodeType=category'], ['Tommy Chong', 'https://www.cameo.com/tommychong?nodeId=featured&nodeType=category'], ['Bassem Youssef', 'https://www.cameo.com/bassem_x0e?nodeId=featured&nodeType=category'], ['Georges St-Pierre', 'https://www.cameo.com/st.pierre?nodeId=featured&nodeType=category'], ['Kate Flannery', 'https://www.cameo.com/kateflan7?nodeId=featured&nodeType=category'], ['Chris Diamantopoulos', 'https://www.cameo.com/chrisdiamantopoulos?nodeId=featured&nodeType=category'], ['James Maslow', 'https://www.cameo.com/jamesmaslow?nodeId=featured&nodeType=category'], ['Reggie Jackson', 'https://www.cameo.com/mroctober?nodeId=featured&nodeType=category'], ['Jonathan Goldsmith', 'https://www.cameo.com/stayinteresting?nodeId=featured&nodeType=category'], ['Mike Leach', 'https://www.cameo.com/mikeleach?nodeId=featured&nodeType=category'], ['Terrell Owens', 'https://www.cameo.com/terrellowens?nodeId=featured&nodeType=category'], ['Tim Hardaway, Sr.', 'https://www.cameo.com/the_original_crossover_king?nodeId=featured&nodeType=category'], ['Brandi Chastain', 'https://www.cameo.com/brandichastain?nodeId=featured&nodeType=category'], ['Wendel Clark', 'https://www.cameo.com/wendelclark?nodeId=featured&nodeType=category'], ['AB de Villiers', 'https://www.cameo.com/abdevilliers17?nodeId=featured&nodeType=category'], ['Dan Gable', 'https://www.cameo.com/dangable?nodeId=featured&nodeType=category'], ['Jack Falahee', 'https://www.cameo.com/jackfalahee?nodeId=featured&nodeType=category'], ['John Salley', 'https://www.cameo.com/johnsalley22?nodeId=featured&nodeType=category'], ['Anthony Michael Hall', 'https://www.cameo.com/amh1?nodeId=featured&nodeType=category'], ['Bo Jackson', 'https://www.cameo.com/bojackson?nodeId=featured&nodeType=category'], ['Aaron Boone', 'https://www.cameo.com/aaronboone?nodeId=featured&nodeType=category'], ['Dikembe Mutombo', 'https://www.cameo.com/dikembemutombo?nodeId=featured&nodeType=category'], ['Tyson Beckford', 'https://www.cameo.com/tysonbeckford?nodeId=featured&nodeType=category'], ['Josh Turner', 'https://www.cameo.com/joshturner?nodeId=featured&nodeType=category'], ['Archie Manning', 'https://www.cameo.com/archiemanning?nodeId=featured&nodeType=category'], ['Dr Drew', 'https://www.cameo.com/drdrew?nodeId=featured&nodeType=category'], ['David Ross', 'https://www.cameo.com/davidross?nodeId=featured&nodeType=category'], ['Vicente Fox', 'https://www.cameo.com/presidentfox?nodeId=featured&nodeType=category'], ['Andrew Johns', 'https://www.cameo.com/andrewjohns?nodeId=featured&nodeType=category'], ['Master P', 'https://www.cameo.com/masterp?nodeId=featured&nodeType=category'], ['John Daly', 'https://www.cameo.com/johndaly?nodeId=featured&nodeType=category'], ['Nick Hexum', 'https://www.cameo.com/nickhexum?nodeId=featured&nodeType=category'], ['Michael Rosenbaum', 'https://www.cameo.com/themichaelrosenbaum?nodeId=featured&nodeType=category'], ['Enrique Arce', 'https://www.cameo.com/enriquearceactor?nodeId=featured&nodeType=category'], ['Billy Dee Williams', 'https://www.cameo.com/billydeewilliams?nodeId=featured&nodeType=category'], ['Carole Baskin', 'https://www.cameo.com/bigcatrescue?nodeId=featured&nodeType=category'], ['Chris Harrison', 'https://www.cameo.com/chrisbharrison?nodeId=featured&nodeType=category'], ['James Kennedy', 'https://www.cameo.com/itsjameskennedy?nodeId=featured&nodeType=category'], ['Savannah Chrisley', 'https://www.cameo.com/savannahchrisley'], ['Paddy Pimblett', 'https://www.cameo.com/paddythebaddy'], ['Frankie Muniz', 'https://www.cameo.com/frankiemuniz'], ['Katharine McPhee and David Foster', 'https://www.cameo.com/katanddavid'], ['Brian Cox', 'https://www.cameo.com/brian_cox'], ['Nathalie Emmanuel', 'https://www.cameo.com/nathalieemmanuel1'], ['Rich Homie Quan', 'https://www.cameo.com/richhomiequan'], ['Andrew Johns', 'https://www.cameo.com/andrewjohns'], ['Maria Menounos', 'https://www.cameo.com/mariamenounos'], ['Matthew Berry', 'https://www.cameo.com/matthewberrytmr'], ['Dionne Warwick', 'https://www.cameo.com/dionnewarwick?nodeId=featured&nodeType=category'], ['Rudy Tomjanovich', 'https://www.cameo.com/rudytomjanovich?nodeId=featured&nodeType=category'], ['Jose Reyes', 'https://www.cameo.com/lamelaza_7?nodeId=featured&nodeType=category'], ['Jackie Joyner-Kersee', 'https://www.cameo.com/jjksmile?nodeId=featured&nodeType=category'], ['John Schneider', 'https://www.cameo.com/johnschneider?nodeId=featured&nodeType=category'], ['Jeff Mauro', 'https://www.cameo.com/jeffmauro?nodeId=featured&nodeType=category'], ['Taye Diggs', 'https://www.cameo.com/tayediggs?nodeId=featured&nodeType=category'], ['Sean Spicer', 'https://www.cameo.com/seanspicer?nodeId=featured&nodeType=category'], ['Madison Keys', 'https://www.cameo.com/madisonkeys?nodeId=featured&nodeType=category'], ['Marky Ramone', 'https://www.cameo.com/markyramone?nodeId=featured&nodeType=category'], ['Danica McKellar', 'https://www.cameo.com/danicamckellar?nodeId=featured&nodeType=category'], ['Alice Cooper', 'https://www.cameo.com/alicecooper?nodeId=featured&nodeType=category'], ['Antonio Brown', 'https://www.cameo.com/ab81?nodeId=featured&nodeType=category'], ['Kevin Pollak', 'https://www.cameo.com/izzykirk?nodeId=featured&nodeType=category'], ['James Van Der Beek', 'https://www.cameo.com/jamesvanderbeek?nodeId=featured&nodeType=category'], ['Colton Underwood', 'https://www.cameo.com/coltonunderwood?nodeId=featured&nodeType=category'], ['Jim Boeheim', 'https://www.cameo.com/jimboeheim?nodeId=featured&nodeType=category'], ['David Duval', 'https://www.cameo.com/davidduval59?nodeId=featured&nodeType=category'], ['Jerry Springer', 'https://www.cameo.com/jerryspringer?nodeId=featured&nodeType=category'], ['Kathy Najimy', 'https://www.cameo.com/kfinnerty?nodeId=featured&nodeType=category'], ['Jim Kelly', 'https://www.cameo.com/jimkelly12?nodeId=featured&nodeType=category'], ['Bethany Joy Lenz', 'https://www.cameo.com/bethanyjoylenz?nodeId=featured&nodeType=category'], ['John C. McGinley', 'https://www.cameo.com/johncmcginley?nodeId=featured&nodeType=category'], ['Matt Barnes', 'https://www.cameo.com/mattbarnes?nodeId=featured&nodeType=category'], ['Daymond John', 'https://www.cameo.com/thesharkdaymond?nodeId=featured&nodeType=category'], ['Bethenny Frankel', 'https://www.cameo.com/bethennyfrankel?nodeId=featured&nodeType=category'], ['RiFF RAFF', 'https://www.cameo.com/riffraff?nodeId=featured&nodeType=category'], ['Warren Sapp', 'https://www.cameo.com/warrensapp?nodeId=featured&nodeType=category'], ['Bruce Dern', 'https://www.cameo.com/brucedern?nodeId=featured&nodeType=category'], ['John Ratzenberger', 'https://www.cameo.com/jratzie?nodeId=featured&nodeType=category'], ['Bill Engvall', 'https://www.cameo.com/billengvall?nodeId=featured&nodeType=category'], ['Nev Schulman', 'https://www.cameo.com/nevschulman?nodeId=featured&nodeType=category'], ['Johnny Van Zant', 'https://www.cameo.com/johnnyvanzant?nodeId=featured&nodeType=category'], ['Lee Majors', 'https://www.cameo.com/leemajors?nodeId=featured&nodeType=category'], ['Ray Lewis', 'https://www.cameo.com/raylewis?nodeId=featured&nodeType=category'], ['Laura Osnes', 'https://www.cameo.com/lauraosnes?nodeId=featured&nodeType=category'], ['James Cosmo', 'https://www.cameo.com/jamescosmo?nodeId=featured&nodeType=category'], ['Courtney Thorne-Smith', 'https://www.cameo.com/courtneythornesmith?nodeId=featured&nodeType=category'], ['Alec Sulkin', 'https://www.cameo.com/alecsulkin?nodeId=featured&nodeType=category'], ['Brandon Graham', 'https://www.cameo.com/sack_55?nodeId=featured&nodeType=category'], ['Savannah Chrisley', 'https://www.cameo.com/savannahchrisley'], ['Paddy Pimblett', 'https://www.cameo.com/paddythebaddy'], ['Frankie Muniz', 'https://www.cameo.com/frankiemuniz'], ['Katharine McPhee and David Foster', 'https://www.cameo.com/katanddavid'], ['Brian Cox', 'https://www.cameo.com/brian_cox'], ['Nathalie Emmanuel', 'https://www.cameo.com/nathalieemmanuel1'], ['Rich Homie Quan', 'https://www.cameo.com/richhomiequan'], ['Andrew Johns', 'https://www.cameo.com/andrewjohns'], ['Maria Menounos', 'https://www.cameo.com/mariamenounos'], ['Matthew Berry', 'https://www.cameo.com/matthewberrytmr'], ['Dean Norris', 'https://www.cameo.com/deannorris?nodeId=featured&nodeType=category'], ['Hines Ward', 'https://www.cameo.com/hinesward86?nodeId=featured&nodeType=category'], ['Mario', 'https://www.cameo.com/marioworldwide?nodeId=featured&nodeType=category'], ['Lea Thompson', 'https://www.cameo.com/leathompson?nodeId=featured&nodeType=category'], ['Coach Steve Spurrier', 'https://www.cameo.com/heisman?nodeId=featured&nodeType=category'], ['Leroy Butler', 'https://www.cameo.com/roylee36?nodeId=featured&nodeType=category'], ['Jaleel White', 'https://www.cameo.com/jaleelwhite?nodeId=featured&nodeType=category'], ['Donovan McNabb', 'https://www.cameo.com/super_5ive?nodeId=featured&nodeType=category'], ['Dan Fouts', 'https://www.cameo.com/danfouts?nodeId=featured&nodeType=category'], ['Lupe Fiasco', 'https://www.cameo.com/lupefiasco?nodeId=featured&nodeType=category'], ['Dee Snider', 'https://www.cameo.com/deesnider?nodeId=featured&nodeType=category'], ['Cedric The Entertainer', 'https://www.cameo.com/4cedtheentertainer?nodeId=featured&nodeType=category'], ['David Boomer Wells', 'https://www.cameo.com/boomerwells?nodeId=featured&nodeType=category'], ['James Pickens Jr.', 'https://www.cameo.com/jamespickensjr?nodeId=featured&nodeType=category'], ['David Hasselhoff', 'https://www.cameo.com/davidhasselhoff?nodeId=featured&nodeType=category'], ['Kareem Abdul-Jabbar', 'https://www.cameo.com/kareem?nodeId=featured&nodeType=category'], ['Fran Drescher', 'https://www.cameo.com/frandrescher?nodeId=featured&nodeType=category'], ['Dean Cain', 'https://www.cameo.com/deancain?nodeId=featured&nodeType=category'], ['Carson Kressley', 'https://www.cameo.com/carsonkressley?nodeId=featured&nodeType=category'], ['Pau Gasol', 'https://www.cameo.com/paugasol?nodeId=featured&nodeType=category'], ['Robert Englund', 'https://www.cameo.com/robertenglund?nodeId=featured&nodeType=category'], ['Gabby Douglas', 'https://www.cameo.com/gabbydouglas?nodeId=featured&nodeType=category'], ['John O’Hurley', 'https://www.cameo.com/johurley?nodeId=featured&nodeType=category'], ['Sonja Morgan', 'https://www.cameo.com/sonjatmorgan?nodeId=featured&nodeType=category'], ['Ozzie Guillen', 'https://www.cameo.com/ozzieguillen13?nodeId=featured&nodeType=category'], ['Oliver Phelps', 'https://www.cameo.com/oliverphelps?nodeId=featured&nodeType=category'], ['Ben Stein', 'https://www.cameo.com/benstein99?nodeId=featured&nodeType=category'], ['Jon Lovitz', 'https://www.cameo.com/jonlovitz?nodeId=featured&nodeType=category'], ['Felicia Day', 'https://www.cameo.com/feliciaday?nodeId=featured&nodeType=category'], ['Richard Schiff', 'https://www.cameo.com/richard_schiff?nodeId=featured&nodeType=category'], ['Lamar Odom', 'https://www.cameo.com/lamarodom?nodeId=featured&nodeType=category'], ['Devin McCourty', 'https://www.cameo.com/devinmccourty?nodeId=featured&nodeType=category'], ['Ozzie Smith', 'https://www.cameo.com/ozziesmith?nodeId=featured&nodeType=category'], ['Tara Strong', 'https://www.cameo.com/tarastrong?nodeId=featured&nodeType=category'], ['Terry O’Quinn', 'https://www.cameo.com/terryoquinn?nodeId=featured&nodeType=category'], ['Curt Schilling', 'https://www.cameo.com/curt.schilling?nodeId=featured&nodeType=category'], ['Tracy Austin', 'https://www.cameo.com/tracyaustin1?nodeId=featured&nodeType=category'], ['Mario Cantone', 'https://www.cameo.com/mariocantone?nodeId=featured&nodeType=category'], ['Kym Whitley', 'https://www.cameo.com/kymwhitley?nodeId=featured&nodeType=category'], ['Arin Hanson', 'https://www.cameo.com/helloimarin?nodeId=featured&nodeType=category'], ['Savannah Chrisley', 'https://www.cameo.com/savannahchrisley'], ['Paddy Pimblett', 'https://www.cameo.com/paddythebaddy'], ['Frankie Muniz', 'https://www.cameo.com/frankiemuniz'], ['Katharine McPhee and David Foster', 'https://www.cameo.com/katanddavid'], ['Brian Cox', 'https://www.cameo.com/brian_cox'], ['Nathalie Emmanuel', 'https://www.cameo.com/nathalieemmanuel1'], ['Rich Homie Quan', 'https://www.cameo.com/richhomiequan'], ['Andrew Johns', 'https://www.cameo.com/andrewjohns'], ['Maria Menounos', 'https://www.cameo.com/mariamenounos'], ['Matthew Berry', 'https://www.cameo.com/matthewberrytmr'], ['Dan Fogler', 'https://www.cameo.com/danfogler?nodeId=featured&nodeType=category'], ['Tito Ortiz', 'https://www.cameo.com/titoortiz?nodeId=featured&nodeType=category'], ['Ruben Studdard', 'https://www.cameo.com/rstud1898?nodeId=featured&nodeType=category'], ['Tommy Lee', 'https://www.cameo.com/tommylee?nodeId=featured&nodeType=category'], ['Mike \"The Situation\" Sorrentino', 'https://www.cameo.com/mikethesituation?nodeId=featured&nodeType=category'], ['Drew Bledsoe', 'https://www.cameo.com/drewbledsoe?nodeId=featured&nodeType=category'], ['Maria Menounos', 'https://www.cameo.com/mariamenounos?nodeId=featured&nodeType=category'], ['Erin Andrews', 'https://www.cameo.com/erinandrews28?nodeId=featured&nodeType=category'], ['Jesse McCartney', 'https://www.cameo.com/jessemccartney?nodeId=featured&nodeType=category'], ['Frankie Muniz', 'https://www.cameo.com/frankiemuniz?nodeId=featured&nodeType=category'], ['Melissa Gilbert', 'https://www.cameo.com/melissaegilbert?nodeId=featured&nodeType=category'], ['Ron White', 'https://www.cameo.com/ronwhite?nodeId=featured&nodeType=category'], ['Brian Cashman', 'https://www.cameo.com/briancashman?nodeId=featured&nodeType=category'], ['Andrew Zimmern', 'https://www.cameo.com/chefaz?nodeId=featured&nodeType=category'], ['Jordan Belfort - Wolf of Wall Street', 'https://www.cameo.com/wolfofwallst?nodeId=featured&nodeType=category'], ['SISQÓ', 'https://www.cameo.com/sisqo?nodeId=featured&nodeType=category'], ['Jose Canseco', 'https://www.cameo.com/josecanseco?nodeId=featured&nodeType=category'], ['Anthony Scaramucci', 'https://www.cameo.com/themooch?nodeId=featured&nodeType=category'], ['Nathalie Emmanuel', 'https://www.cameo.com/nathalieemmanuel1?nodeId=featured&nodeType=category'], ['Chris Pronger', 'https://www.cameo.com/chris_pronger?nodeId=featured&nodeType=category'], ['Justin Tuck', 'https://www.cameo.com/therealjustintuck91?nodeId=featured&nodeType=category'], ['Javale McGee', 'https://www.cameo.com/javalemcgee7?nodeId=featured&nodeType=category'], ['Will Friedle', 'https://www.cameo.com/willfriedle?nodeId=featured&nodeType=category'], ['Willie McGinest', 'https://www.cameo.com/williemcginest?nodeId=featured&nodeType=category'], ['Phil Heath', 'https://www.cameo.com/philheath?nodeId=featured&nodeType=category'], ['Mischa Barton', 'https://www.cameo.com/themischabarton?nodeId=featured&nodeType=category'], ['Dylan Playfair', 'https://www.cameo.com/dylanplayfair1?nodeId=featured&nodeType=category'], ['Bethany Hamilton', 'https://www.cameo.com/bethanyhamilton?nodeId=featured&nodeType=category'], ['deadmau5', 'https://www.cameo.com/deadmau5?nodeId=featured&nodeType=category'], ['Howie Day', 'https://www.cameo.com/howiekday?nodeId=featured&nodeType=category'], ['Alfonso Ribeiro', 'https://www.cameo.com/therealalfonsoribeiro?nodeId=featured&nodeType=category'], ['Sir Geoff Hurst MBE', 'https://www.cameo.com/sir_geoffhurst?nodeId=featured&nodeType=category'], ['Billy Boyd', 'https://www.cameo.com/billyboyd?nodeId=featured&nodeType=category'], ['Steve Burton', 'https://www.cameo.com/steveburton?nodeId=featured&nodeType=category'], ['Jesse Metcalfe', 'https://www.cameo.com/jmet12978?nodeId=featured&nodeType=category'], ['Troy Aikman', 'https://www.cameo.com/troyaikman?nodeId=featured&nodeType=category'], ['AKON', 'https://www.cameo.com/akon?nodeId=featured&nodeType=category'], ['Efren Ramirez', 'https://www.cameo.com/actorefrenramirez?nodeId=featured&nodeType=category'], ['Lindsay Lohan', 'https://www.cameo.com/lindsaylohan?nodeId=featured&nodeType=category'], ['Brian Cox', 'https://www.cameo.com/brian_cox?nodeId=featured&nodeType=category'], ['Savannah Chrisley', 'https://www.cameo.com/savannahchrisley'], ['Paddy Pimblett', 'https://www.cameo.com/paddythebaddy'], ['Frankie Muniz', 'https://www.cameo.com/frankiemuniz'], ['Katharine McPhee and David Foster', 'https://www.cameo.com/katanddavid'], ['Brian Cox', 'https://www.cameo.com/brian_cox'], ['Nathalie Emmanuel', 'https://www.cameo.com/nathalieemmanuel1'], ['Rich Homie Quan', 'https://www.cameo.com/richhomiequan'], ['Andrew Johns', 'https://www.cameo.com/andrewjohns'], ['Maria Menounos', 'https://www.cameo.com/mariamenounos'], ['Matthew Berry', 'https://www.cameo.com/matthewberrytmr'], ['The Game', 'https://www.cameo.com/thegame?nodeId=featured&nodeType=category'], ['Justin Willman', 'https://www.cameo.com/justinwillman?nodeId=featured&nodeType=category'], ['George Clinton', 'https://www.cameo.com/george_clinton?nodeId=featured&nodeType=category'], ['James Phelps', 'https://www.cameo.com/jamesphelps?nodeId=featured&nodeType=category'], ['Melora Hardin', 'https://www.cameo.com/meloradhardin?nodeId=featured&nodeType=category'], ['Dolph Lundgren', 'https://www.cameo.com/dolphlundgren?nodeId=featured&nodeType=category'], ['Kel Mitchell', 'https://www.cameo.com/kelmitchell?nodeId=featured&nodeType=category'], ['Brian Billick', 'https://www.cameo.com/coachbillick?nodeId=featured&nodeType=category'], ['Ricky Dean Logan', 'https://www.cameo.com/rdl?nodeId=featured&nodeType=category'], ['Rufus Wainwright', 'https://www.cameo.com/rufuswainwright?nodeId=featured&nodeType=category'], ['Brooke Burke', 'https://www.cameo.com/brookeburke?nodeId=featured&nodeType=category'], ['Tony Hawk', 'https://www.cameo.com/tonyhawk?nodeId=featured&nodeType=category'], ['Juicy J', 'https://www.cameo.com/juicyjay?nodeId=featured&nodeType=category'], ['Jaylon Smith', 'https://www.cameo.com/thejaylonsmith?nodeId=featured&nodeType=category'], ['Aaron Watson', 'https://www.cameo.com/aaronwatson?nodeId=featured&nodeType=category'], ['Luis Severino', 'https://www.cameo.com/sevy40?nodeId=featured&nodeType=category'], ['Isiah Thomas', 'https://www.cameo.com/isiahthomas?nodeId=featured&nodeType=category'], ['Granger Smith', 'https://www.cameo.com/grangersmith?nodeId=featured&nodeType=category'], ['Flavor Flav', 'https://www.cameo.com/flavorflav?nodeId=featured&nodeType=category'], ['Krysten Ritter', 'https://www.cameo.com/krystenritter?nodeId=featured&nodeType=category'], ['Sting', 'https://www.cameo.com/sting?nodeId=featured&nodeType=category'], ['Bill Self', 'https://www.cameo.com/self?nodeId=featured&nodeType=category'], ['Dr Sandra Lee aka Dr Pimple Popper', 'https://www.cameo.com/drpimplepopper?nodeId=featured&nodeType=category'], ['Kevin O’Leary aka Mr. Wonderful', 'https://www.cameo.com/mrwonderful?nodeId=featured&nodeType=category'], ['Ben Sinclair', 'https://www.cameo.com/bathroomremodel?nodeId=featured&nodeType=category'], ['Chris Mullin', 'https://www.cameo.com/chrismullin?nodeId=featured&nodeType=category'], ['Richard Hamilton', 'https://www.cameo.com/ripcity3232?nodeId=featured&nodeType=category'], ['Urban Meyer', 'https://www.cameo.com/urbanmeyercoach?nodeId=featured&nodeType=category'], ['Rick Harrison', 'https://www.cameo.com/rickharrison?nodeId=featured&nodeType=category'], ['Jonathan Frakes', 'https://www.cameo.com/windyoaks?nodeId=featured&nodeType=category'], ['Wayne Coyne', 'https://www.cameo.com/waynecoyne?nodeId=featured&nodeType=category'], ['Michael Vick', 'https://www.cameo.com/mikevickmv7?nodeId=featured&nodeType=category'], ['Andrew Dice Clay', 'https://www.cameo.com/diceman?nodeId=featured&nodeType=category'], ['Yandy Smith', 'https://www.cameo.com/yandysmith?nodeId=featured&nodeType=category'], ['Ruth Buzzi', 'https://www.cameo.com/ruth_buzzi?nodeId=featured&nodeType=category'], ['Patricia Richardson', 'https://www.cameo.com/patriciarichardson?nodeId=featured&nodeType=category'], ['DANIELLE CORMACK', 'https://www.cameo.com/_daniellecormack_?nodeId=featured&nodeType=category'], ['Debbie Allen', 'https://www.cameo.com/dallen?nodeId=featured&nodeType=category'], ['Mariano Rivera', 'https://www.cameo.com/marianorivera?nodeId=featured&nodeType=category'], ['Billy Baldwin', 'https://www.cameo.com/thebillybaldwin?nodeId=featured&nodeType=category'], ['Savannah Chrisley', 'https://www.cameo.com/savannahchrisley'], ['Paddy Pimblett', 'https://www.cameo.com/paddythebaddy'], ['Frankie Muniz', 'https://www.cameo.com/frankiemuniz'], ['Katharine McPhee and David Foster', 'https://www.cameo.com/katanddavid'], ['Brian Cox', 'https://www.cameo.com/brian_cox'], ['Nathalie Emmanuel', 'https://www.cameo.com/nathalieemmanuel1'], ['Rich Homie Quan', 'https://www.cameo.com/richhomiequan'], ['Andrew Johns', 'https://www.cameo.com/andrewjohns'], ['Maria Menounos', 'https://www.cameo.com/mariamenounos'], ['Matthew Berry', 'https://www.cameo.com/matthewberrytmr'], ['Leslie David Baker', 'https://www.cameo.com/lesliedavidbaker?nodeId=featured&nodeType=category'], ['Hal Sutton', 'https://www.cameo.com/halsutton?nodeId=featured&nodeType=category'], ['Jon Heder', 'https://www.cameo.com/hederjon?nodeId=featured&nodeType=category'], ['Alexander Ludwig', 'https://www.cameo.com/alexanderludwig?nodeId=featured&nodeType=category'], ['Emmitt Smith', 'https://www.cameo.com/emmittsmith?nodeId=featured&nodeType=category'], ['Jackie Bradley Jr.', 'https://www.cameo.com/jackiebradleyjr?nodeId=featured&nodeType=category'], ['Ghostface Killah', 'https://www.cameo.com/realghostfacekillah?nodeId=featured&nodeType=category'], ['Mark Pellegrino', 'https://www.cameo.com/markpellegrino?nodeId=featured&nodeType=category'], ['Martin Brodeur', 'https://www.cameo.com/jawa30?nodeId=featured&nodeType=category'], ['Eric Dickerson', 'https://www.cameo.com/ericdickerson?nodeId=featured&nodeType=category'], ['Golden Tate III', 'https://www.cameo.com/showtimetate?nodeId=featured&nodeType=category'], ['Savannah Chrisley', 'https://www.cameo.com/savannahchrisley?nodeId=featured&nodeType=category'], ['Jesse Palmer', 'https://www.cameo.com/jessepalmer?nodeId=featured&nodeType=category'], ['Brian Austin Green', 'https://www.cameo.com/arent_you_that_guy?nodeId=featured&nodeType=category'], ['Albert Pujols', 'https://www.cameo.com/ap5?nodeId=featured&nodeType=category'], ['Nolan North', 'https://www.cameo.com/nolannorth?nodeId=featured&nodeType=category'], ['Clyde Drexler', 'https://www.cameo.com/clydetheglide?nodeId=featured&nodeType=category'], ['Michael Franti', 'https://www.cameo.com/michaelfranti?nodeId=featured&nodeType=category'], ['Ryne Sandberg', 'https://www.cameo.com/ryno23?nodeId=featured&nodeType=category'], ['Adam Wainwright', 'https://www.cameo.com/adamwainwright?nodeId=featured&nodeType=category'], ['Dule Hill', 'https://www.cameo.com/dulehill?nodeId=featured&nodeType=category'], ['Lea DeLaria', 'https://www.cameo.com/realleadelaria?nodeId=featured&nodeType=category'], ['Alton Brown', 'https://www.cameo.com/altonbrown?nodeId=featured&nodeType=category'], ['Engelbert Humperdinck', 'https://www.cameo.com/engelberthumperdinck?nodeId=featured&nodeType=category'], ['Michelle Akers', 'https://www.cameo.com/michelleakers?nodeId=featured&nodeType=category'], ['Jake The Snake Roberts', 'https://www.cameo.com/jakesnake?nodeId=featured&nodeType=category'], ['Freddie Prinze Jr.', 'https://www.cameo.com/jrprinze?nodeId=featured&nodeType=category'], ['Christina Milian', 'https://www.cameo.com/christinamilian?nodeId=featured&nodeType=category'], ['Doug Flutie', 'https://www.cameo.com/dougflutie?nodeId=featured&nodeType=category'], ['LeAnn Rimes', 'https://www.cameo.com/leannrimes?nodeId=featured&nodeType=category'], ['Paul Reubens aka Pee-wee Herman', 'https://www.cameo.com/paulreubens?nodeId=featured&nodeType=category'], ['Chaka Khan', 'https://www.cameo.com/chakakhan?nodeId=featured&nodeType=category'], ['Michael Costello', 'https://www.cameo.com/michaelcostello?nodeId=featured&nodeType=category'], ['Isabela Merced', 'https://www.cameo.com/isabelamerced?nodeId=featured&nodeType=category'], ['Mike Modano', 'https://www.cameo.com/mikemodano9?nodeId=featured&nodeType=category'], ['Shangela', 'https://www.cameo.com/shangela?nodeId=featured&nodeType=category'], ['Alex Killorn', 'https://www.cameo.com/akillorn?nodeId=featured&nodeType=category'], ['Michael Essien', 'https://www.cameo.com/michaelessien?nodeId=featured&nodeType=category'], ['Dillon Passage', 'https://www.cameo.com/dillert_lclm?nodeId=featured&nodeType=category'], ['Isaiah Mustafa', 'https://www.cameo.com/isaiahmustafa?nodeId=featured&nodeType=category'], ['Savannah Chrisley', 'https://www.cameo.com/savannahchrisley'], ['Paddy Pimblett', 'https://www.cameo.com/paddythebaddy'], ['Frankie Muniz', 'https://www.cameo.com/frankiemuniz'], ['Katharine McPhee and David Foster', 'https://www.cameo.com/katanddavid'], ['Brian Cox', 'https://www.cameo.com/brian_cox'], ['Nathalie Emmanuel', 'https://www.cameo.com/nathalieemmanuel1'], ['Rich Homie Quan', 'https://www.cameo.com/richhomiequan'], ['Andrew Johns', 'https://www.cameo.com/andrewjohns'], ['Maria Menounos', 'https://www.cameo.com/mariamenounos'], ['Matthew Berry', 'https://www.cameo.com/matthewberrytmr'], ['Anthony Anderson', 'https://www.cameo.com/anthonyanderson?nodeId=featured&nodeType=category'], ['Tyler Oakley', 'https://www.cameo.com/tyleroakley?nodeId=featured&nodeType=category'], ['D-Roc from the Ying Yang Twins', 'https://www.cameo.com/yingyangtwins?nodeId=featured&nodeType=category'], ['Boy George', 'https://www.cameo.com/boygeorge5?nodeId=featured&nodeType=category'], ['David Pogue', 'https://www.cameo.com/pogue?nodeId=featured&nodeType=category'], ['Milo Manheim', 'https://www.cameo.com/milomanheim?nodeId=featured&nodeType=category'], ['Michael Rapaport', 'https://www.cameo.com/michaelrapaport?nodeId=featured&nodeType=category'], ['Gina Schock', 'https://www.cameo.com/ginaschock?nodeId=featured&nodeType=category'], ['Owain Yeoman', 'https://www.cameo.com/owainyeoman?nodeId=featured&nodeType=category'], ['Tamar Braxton', 'https://www.cameo.com/tamarbraxton?nodeId=featured&nodeType=category'], ['Chuck Norris', 'https://www.cameo.com/chucknorris?nodeId=featured&nodeType=category'], ['Kat Graham', 'https://www.cameo.com/katgraham?nodeId=featured&nodeType=category'], ['Mecole Hardman, Jr.', 'https://www.cameo.com/mecolehardman17?nodeId=featured&nodeType=category'], ['James Buckley', 'https://www.cameo.com/buxtagram?nodeId=featured&nodeType=category'], ['Joshua Malina', 'https://www.cameo.com/mrjoshuamalina?nodeId=featured&nodeType=category'], ['Ian Ziering', 'https://www.cameo.com/ianziering?nodeId=featured&nodeType=category'], ['Tori Spelling', 'https://www.cameo.com/torispelling?nodeId=featured&nodeType=category'], ['Coyote Peterson', 'https://www.cameo.com/coyotepeterson_pt1?nodeId=featured&nodeType=category'], ['Rich Homie Quan', 'https://www.cameo.com/richhomiequan?nodeId=featured&nodeType=category'], ['Joe Thomas', 'https://www.cameo.com/joethomas73?nodeId=featured&nodeType=category'], ['Rex Lee', 'https://www.cameo.com/rexlee?nodeId=featured&nodeType=category'], ['Randy Travis', 'https://www.cameo.com/randytravis?nodeId=featured&nodeType=category'], ['LuAnn de Lesseps', 'https://www.cameo.com/countess?nodeId=featured&nodeType=category'], ['Melissa Etheridge', 'https://www.cameo.com/melissaetheridge?nodeId=featured&nodeType=category'], ['Teresa Giudice', 'https://www.cameo.com/teresagiudice?nodeId=featured&nodeType=category'], ['Bob Stoops', 'https://www.cameo.com/coachstoops?nodeId=featured&nodeType=category'], ['Vanilla Ice', 'https://www.cameo.com/vanillaice?nodeId=featured&nodeType=category'], ['Pauly Shore', 'https://www.cameo.com/paulyshore?nodeId=featured&nodeType=category'], ['John Calipari', 'https://www.cameo.com/johncalipari?nodeId=featured&nodeType=category'], ['Vernon Davis', 'https://www.cameo.com/vernondavis?nodeId=featured&nodeType=category'], ['Bruce Arians', 'https://www.cameo.com/barians?nodeId=featured&nodeType=category'], ['Chumlee', 'https://www.cameo.com/chumlee?nodeId=featured&nodeType=category'], ['Bo Derek', 'https://www.cameo.com/boderek?nodeId=featured&nodeType=category'], ['Sebastian Bach', 'https://www.cameo.com/sebastianbach?nodeId=featured&nodeType=category'], ['Roger Clemens', 'https://www.cameo.com/rogerclemens?nodeId=featured&nodeType=category'], ['Spencer Pratt on Cameo dot com', 'https://www.cameo.com/spencerpratt?nodeId=featured&nodeType=category'], ['Carrot Top', 'https://www.cameo.com/carrottop?nodeId=featured&nodeType=category'], ['Misha Collins', 'https://www.cameo.com/mishacollins?nodeId=featured&nodeType=category'], ['Katharine McPhee-Foster', 'https://www.cameo.com/katharinemcphee?nodeId=featured&nodeType=category'], ['Corey Feldman', 'https://www.cameo.com/cdogg22?nodeId=featured&nodeType=category'], ['Savannah Chrisley', 'https://www.cameo.com/savannahchrisley'], ['Paddy Pimblett', 'https://www.cameo.com/paddythebaddy'], ['Frankie Muniz', 'https://www.cameo.com/frankiemuniz'], ['Katharine McPhee and David Foster', 'https://www.cameo.com/katanddavid'], ['Brian Cox', 'https://www.cameo.com/brian_cox'], ['Nathalie Emmanuel', 'https://www.cameo.com/nathalieemmanuel1'], ['Rich Homie Quan', 'https://www.cameo.com/richhomiequan'], ['Andrew Johns', 'https://www.cameo.com/andrewjohns'], ['Maria Menounos', 'https://www.cameo.com/mariamenounos'], ['Matthew Berry', 'https://www.cameo.com/matthewberrytmr'], ['Jamaal Wilkes', 'https://www.cameo.com/smoothassilk?nodeId=featured&nodeType=category'], ['Tom Higgenson', 'https://www.cameo.com/tomhiggenson?nodeId=featured&nodeType=category'], ['Wade Phillips', 'https://www.cameo.com/sonofbum?nodeId=featured&nodeType=category'], ['Lisa Leslie', 'https://www.cameo.com/lisaleslie?nodeId=featured&nodeType=category'], ['George Foreman', 'https://www.cameo.com/georgeforeman?nodeId=featured&nodeType=category'], ['Chris Noth', 'https://www.cameo.com/chrisnoth?nodeId=featured&nodeType=category'], ['David Koechner', 'https://www.cameo.com/davidkoechner?nodeId=featured&nodeType=category'], ['Jeremy Piven', 'https://www.cameo.com/jeremypiven?nodeId=featured&nodeType=category'], ['Roastmaster General Jeff Ross', 'https://www.cameo.com/jeffross?nodeId=featured&nodeType=category'], ['Sergio García', 'https://www.cameo.com/sergiogarcia?nodeId=featured&nodeType=category'], ['Charles Oakley', 'https://www.cameo.com/charlesoakley?nodeId=featured&nodeType=category'], ['Roger Clark', 'https://www.cameo.com/rollingrog?nodeId=featured&nodeType=category'], ['Jay Mewes', 'https://www.cameo.com/jaymewes?nodeId=featured&nodeType=category'], ['Boris Kodjoe', 'https://www.cameo.com/bluvoma?nodeId=featured&nodeType=category'], ['Chad Ochocinco', 'https://www.cameo.com/ochocinco?nodeId=featured&nodeType=category'], ['Ice T', 'https://www.cameo.com/icet?nodeId=featured&nodeType=category'], ['Big Boy', 'https://www.cameo.com/bigboy?nodeId=featured&nodeType=category'], ['Max Joseph', 'https://www.cameo.com/maxjoseph?nodeId=featured&nodeType=category'], ['Tyronn Lue', 'https://www.cameo.com/tyronnlue?nodeId=featured&nodeType=category'], ['Nigel Lythgoe', 'https://www.cameo.com/dizzyfeet?nodeId=featured&nodeType=category'], ['Sean Astin', 'https://www.cameo.com/seanastin?nodeId=featured&nodeType=category'], ['Annika Sorenstam', 'https://www.cameo.com/annika59?nodeId=featured&nodeType=category'], ['Tom Felton', 'https://www.cameo.com/t22felton?nodeId=featured&nodeType=category'], ['Terrell Davis', 'https://www.cameo.com/terrelldavis?nodeId=featured&nodeType=category'], ['John Starks', 'https://www.cameo.com/johnstarks?nodeId=featured&nodeType=category'], ['Graham McTavish', 'https://www.cameo.com/grahammctavish?nodeId=featured&nodeType=category'], ['Dorinda Medley', 'https://www.cameo.com/dorindamedley?nodeId=featured&nodeType=category'], ['Todrick Hall', 'https://www.cameo.com/todrick?nodeId=featured&nodeType=category'], ['DL Hughley', 'https://www.cameo.com/realdlhughley?nodeId=featured&nodeType=category'], ['Lennox Lewis', 'https://www.cameo.com/lennoxlewis?nodeId=featured&nodeType=category'], ['Udonis Haslem', 'https://www.cameo.com/ud40?nodeId=featured&nodeType=category'], ['John Smoltz', 'https://www.cameo.com/johnsmoltz29?nodeId=featured&nodeType=category'], ['Richard Dreyfuss', 'https://www.cameo.com/richarddreyfuss1?nodeId=featured&nodeType=category'], ['Greg Maddux', 'https://www.cameo.com/gregmaddux31?nodeId=featured&nodeType=category'], ['Dorian Yates', 'https://www.cameo.com/dorianyates?nodeId=featured&nodeType=category'], ['Stormy Daniels', 'https://www.cameo.com/stormydaniels?nodeId=featured&nodeType=category'], ['Bart Johnson', 'https://www.cameo.com/bart?nodeId=featured&nodeType=category'], ['Oscar Nunez', 'https://www.cameo.com/oscarenunez?nodeId=featured&nodeType=category'], ['Josh Radnor', 'https://www.cameo.com/joshradnor?nodeId=featured&nodeType=category'], ['Bonnie Wright', 'https://www.cameo.com/bonniewright?nodeId=featured&nodeType=category'], ['Savannah Chrisley', 'https://www.cameo.com/savannahchrisley'], ['Paddy Pimblett', 'https://www.cameo.com/paddythebaddy'], ['Frankie Muniz', 'https://www.cameo.com/frankiemuniz'], ['Katharine McPhee and David Foster', 'https://www.cameo.com/katanddavid'], ['Brian Cox', 'https://www.cameo.com/brian_cox'], ['Nathalie Emmanuel', 'https://www.cameo.com/nathalieemmanuel1'], ['Rich Homie Quan', 'https://www.cameo.com/richhomiequan'], ['Andrew Johns', 'https://www.cameo.com/andrewjohns'], ['Maria Menounos', 'https://www.cameo.com/mariamenounos'], ['Matthew Berry', 'https://www.cameo.com/matthewberrytmr'], ['Ice Cube', 'https://www.cameo.com/donmega69?nodeId=featured&nodeType=category'], ['Roquan Smith', 'https://www.cameo.com/roquansmith58?nodeId=featured&nodeType=category'], ['John Barrowman MBE', 'https://www.cameo.com/johnscotbarrowman?nodeId=featured&nodeType=category'], ['Tom Welling', 'https://www.cameo.com/tomwelling?nodeId=featured&nodeType=category'], ['Sugar Ray Leonard', 'https://www.cameo.com/sugarrayleonard?nodeId=featured&nodeType=category'], ['Robert Griffin III', 'https://www.cameo.com/rg3?nodeId=featured&nodeType=category'], ['Roy Jones Jr.', 'https://www.cameo.com/royjonesjr?nodeId=featured&nodeType=category'], ['Mike Love', 'https://www.cameo.com/mikeloveofcl?nodeId=featured&nodeType=category'], ['Ric Flair', 'https://www.cameo.com/natureboy16?nodeId=featured&nodeType=category'], ['Brian Baumgartner', 'https://www.cameo.com/brianbaumgartner?nodeId=featured&nodeType=category'], ['Drew Brees', 'https://www.cameo.com/drewbrees?nodeId=featured&nodeType=category'], ['Ian Kinsler', 'https://www.cameo.com/5kinsler3?nodeId=featured&nodeType=category'], ['Mark Messier', 'https://www.cameo.com/mess11?nodeId=featured&nodeType=category'], ['David Foster', 'https://www.cameo.com/davidhitmanfoster?nodeId=featured&nodeType=category'], ['Ramona Singer', 'https://www.cameo.com/ramona56?nodeId=featured&nodeType=category'], ['Ross Marquand', 'https://www.cameo.com/rossmarquand?nodeId=featured&nodeType=category'], ['Troy Baker', 'https://www.cameo.com/officialtroybaker?nodeId=featured&nodeType=category'], ['Scott Patterson', 'https://www.cameo.com/scottpatterson?nodeId=featured&nodeType=category'], ['David Ortiz', 'https://www.cameo.com/davidortiz?nodeId=featured&nodeType=category'], ['Tyler Hubbard', 'https://www.cameo.com/tylerhubbard?nodeId=featured&nodeType=category'], ['Daniella Monet', 'https://www.cameo.com/daniellamonet?nodeId=featured&nodeType=category'], ['Jimmy Bullard', 'https://www.cameo.com/jimmybullard?nodeId=featured&nodeType=category'], ['Ashley and Jared', 'https://www.cameo.com/ashleyiandjared?nodeId=featured&nodeType=category'], ['Natalie Eva Marie', 'https://www.cameo.com/natalieevamarie?nodeId=featured&nodeType=category'], ['Lisa Vanderpump', 'https://www.cameo.com/lisavanderpump?nodeId=featured&nodeType=category'], ['Joe Maddon', 'https://www.cameo.com/joe?nodeId=featured&nodeType=category'], ['Echosmith', 'https://www.cameo.com/echosmith?nodeId=featured&nodeType=category'], ['Ceelo Green', 'https://www.cameo.com/ceelo?nodeId=featured&nodeType=category'], ['Luis Guzman', 'https://www.cameo.com/luisguzman?nodeId=featured&nodeType=category'], ['Jon Taffer', 'https://www.cameo.com/jontaffer?nodeId=featured&nodeType=category'], ['Anthony Rapp', 'https://www.cameo.com/antrapp?nodeId=featured&nodeType=category'], ['Tara Reid', 'https://www.cameo.com/tarareid?nodeId=featured&nodeType=category'], ['Johnny Bananas', 'https://www.cameo.com/johnnybananas?nodeId=featured&nodeType=category'], ['Geoffrey Zakarian', 'https://www.cameo.com/geoffreyzakarian?nodeId=featured&nodeType=category'], ['Tom Lehman', 'https://www.cameo.com/tomlehman?nodeId=featured&nodeType=category'], ['Kristian Nairn', 'https://www.cameo.com/kristiannairn?nodeId=featured&nodeType=category'], ['Donald Driver', 'https://www.cameo.com/donalddriver80?nodeId=featured&nodeType=category'], ['Pat Connaughton', 'https://www.cameo.com/planetpat5?nodeId=featured&nodeType=category'], ['Joey Fatone', 'https://www.cameo.com/realjoeyfatone?nodeId=featured&nodeType=category'], ['Steve Wozniak', 'https://www.cameo.com/stevewoz?nodeId=featured&nodeType=category'], ['Savannah Chrisley', 'https://www.cameo.com/savannahchrisley'], ['Paddy Pimblett', 'https://www.cameo.com/paddythebaddy'], ['Frankie Muniz', 'https://www.cameo.com/frankiemuniz'], ['Katharine McPhee and David Foster', 'https://www.cameo.com/katanddavid'], ['Brian Cox', 'https://www.cameo.com/brian_cox'], ['Nathalie Emmanuel', 'https://www.cameo.com/nathalieemmanuel1'], ['Rich Homie Quan', 'https://www.cameo.com/richhomiequan'], ['Andrew Johns', 'https://www.cameo.com/andrewjohns'], ['Maria Menounos', 'https://www.cameo.com/mariamenounos'], ['Matthew Berry', 'https://www.cameo.com/matthewberrytmr'], ['Abby Lee Miller', 'https://www.cameo.com/therealabbylee?nodeId=featured&nodeType=category'], ['Mike Ditka', 'https://www.cameo.com/mikeditka?nodeId=featured&nodeType=category'], ['Sherri Shepherd', 'https://www.cameo.com/sherrieshepherd?nodeId=featured&nodeType=category'], ['Chuck Liddell', 'https://www.cameo.com/chuckliddell?nodeId=featured&nodeType=category'], ['Pete Alonso', 'https://www.cameo.com/petealonso?nodeId=featured&nodeType=category'], ['Greg Page (original Yellow Wiggle)', 'https://www.cameo.com/gregjpage?nodeId=featured&nodeType=category'], ['Melissa Gorga', 'https://www.cameo.com/melissagorga?nodeId=featured&nodeType=category'], ['Matthew Berry', 'https://www.cameo.com/matthewberrytmr?nodeId=featured&nodeType=category'], ['Brittany Cartwright', 'https://www.cameo.com/bncartwright?nodeId=featured&nodeType=category'], ['Jo-Wilfried Tsonga', 'https://www.cameo.com/jotsonga?nodeId=featured&nodeType=category'], ['Smokey Robinson', 'https://www.cameo.com/smokeyrob?nodeId=featured&nodeType=category'], ['Stephon Marbury', 'https://www.cameo.com/starburymarbury?nodeId=featured&nodeType=category'], ['Sean Paul', 'https://www.cameo.com/duttypaul?nodeId=featured&nodeType=category'], ['Michael Irvin', 'https://www.cameo.com/michaelirvin?nodeId=featured&nodeType=category'], ['Nick Kyrgios', 'https://www.cameo.com/nickkyrgios?nodeId=featured&nodeType=category'], ['Frank Grillo', 'https://www.cameo.com/frankgrillo?nodeId=featured&nodeType=category'], ['Jana Kramer', 'https://www.cameo.com/kramergirl?nodeId=featured&nodeType=category'], ['Chris Kattan', 'https://www.cameo.com/chriskattan?nodeId=featured&nodeType=category'], ['Chris Chelios', 'https://www.cameo.com/chelios7?nodeId=featured&nodeType=category'], ['Jerome Bettis', 'https://www.cameo.com/jerome36bettis?nodeId=featured&nodeType=category'], ['Gigi Gorgeous', 'https://www.cameo.com/gigigorgeous?nodeId=featured&nodeType=category'], ['Lawrence Taylor', 'https://www.cameo.com/lawrencetaylor?nodeId=featured&nodeType=category'], ['Tacko Fall', 'https://www.cameo.com/tackofall99?nodeId=featured&nodeType=category'], ['JD Martinez', 'https://www.cameo.com/jdmartinez28?nodeId=featured&nodeType=category'], ['Remy Ma', 'https://www.cameo.com/remyma?nodeId=featured&nodeType=category'], ['JoJo Siwa', 'https://www.cameo.com/itsjojosiwa?nodeId=featured&nodeType=category'], ['Soulja Boy (Big Draco)', 'https://www.cameo.com/souljaboy?nodeId=featured&nodeType=category'], ['Seth Curry', 'https://www.cameo.com/sdotcurry?nodeId=featured&nodeType=category'], ['Hunter Pence', 'https://www.cameo.com/hunterpence?nodeId=featured&nodeType=category'], ['Taryn Manning', 'https://www.cameo.com/tarynmanning?nodeId=featured&nodeType=category'], ['Blac Chyna', 'https://www.cameo.com/blacchyna?nodeId=featured&nodeType=category'], ['Nicole \"Snooki\" Polizzi', 'https://www.cameo.com/snooki?nodeId=featured&nodeType=category'], ['Tituss Burgess', 'https://www.cameo.com/instatituss?nodeId=featured&nodeType=category'], ['Tatyana Ali', 'https://www.cameo.com/tatyanaali?nodeId=featured&nodeType=category'], ['Warren Moon', 'https://www.cameo.com/warrenmoon?nodeId=featured&nodeType=category'], ['Sophie Skelton', 'https://www.cameo.com/sophieskelton1?nodeId=featured&nodeType=category'], ['Paddy Pimblett', 'https://www.cameo.com/paddythebaddy?nodeId=featured&nodeType=category'], ['Jerry Jeudy', 'https://www.cameo.com/jerryjeudy?nodeId=featured&nodeType=category'], ['Dr. Mehmet Oz', 'https://www.cameo.com/droz?nodeId=featured&nodeType=category'], ['Jim Brown', 'https://www.cameo.com/jimbrown?nodeId=featured&nodeType=category'], ['Savannah Chrisley', 'https://www.cameo.com/savannahchrisley'], ['Paddy Pimblett', 'https://www.cameo.com/paddythebaddy'], ['Frankie Muniz', 'https://www.cameo.com/frankiemuniz'], ['Katharine McPhee and David Foster', 'https://www.cameo.com/katanddavid'], ['Brian Cox', 'https://www.cameo.com/brian_cox'], ['Nathalie Emmanuel', 'https://www.cameo.com/nathalieemmanuel1'], ['Rich Homie Quan', 'https://www.cameo.com/richhomiequan'], ['Andrew Johns', 'https://www.cameo.com/andrewjohns'], ['Maria Menounos', 'https://www.cameo.com/mariamenounos'], ['Matthew Berry', 'https://www.cameo.com/matthewberrytmr'], ['Mike Epps', 'https://www.cameo.com/mikeepps?nodeId=featured&nodeType=category'], ['Ezekiel Elliott', 'https://www.cameo.com/ezekielelliott?nodeId=featured&nodeType=category'], ['Bam Adebayo', 'https://www.cameo.com/bam1of1?nodeId=featured&nodeType=category'], ['Katharine McPhee and David Foster', 'https://www.cameo.com/katanddavid?nodeId=featured&nodeType=category'], ['Savannah Chrisley', 'https://www.cameo.com/savannahchrisley'], ['Paddy Pimblett', 'https://www.cameo.com/paddythebaddy'], ['Frankie Muniz', 'https://www.cameo.com/frankiemuniz'], ['Katharine McPhee and David Foster', 'https://www.cameo.com/katanddavid'], ['Brian Cox', 'https://www.cameo.com/brian_cox'], ['Nathalie Emmanuel', 'https://www.cameo.com/nathalieemmanuel1'], ['Rich Homie Quan', 'https://www.cameo.com/richhomiequan'], ['Andrew Johns', 'https://www.cameo.com/andrewjohns'], ['Maria Menounos', 'https://www.cameo.com/mariamenounos'], ['Matthew Berry', 'https://www.cameo.com/matthewberrytmr']]\n"
     ]
    }
   ],
   "source": [
    "element_list = []\n",
    "  \n",
    "for page in range(0,560, 40):    \n",
    "    new_page_url = \"https://www.cameo.com/browse/featured?nextToken=\" + str(page)\n",
    "    new_driver = webdriver.Chrome('C:\\Chrome_driver\\chromedriver.exe',chrome_options=chrome_options)\n",
    "    new_driver.get(new_page_url)\n",
    "    all_hover_elements = new_driver.find_elements_by_class_name(\"Styled__LinkedNameContainer-sc-116g1k2-19\")\n",
    "    for hover_element in all_hover_elements:\n",
    "      print(hover_element)\n",
    "      title = hover_element.get_attribute(\"title\")\n",
    "      link = hover_element.get_attribute(\"href\")\n",
    "      element_list.append([title, link])\n",
    "  \n",
    "print(element_list)\n",
    "  \n",
    "#closing the driver\n",
    "new_driver.close()"
   ]
  },
  {
   "cell_type": "markdown",
   "id": "b92e688a",
   "metadata": {},
   "source": [
    "### Create a list of distionary which contain only the celebrities name & their associate the href"
   ]
  },
  {
   "cell_type": "code",
   "execution_count": 5,
   "id": "73d9d34c",
   "metadata": {},
   "outputs": [],
   "source": [
    "dict = {}\n",
    "\n",
    "for l2 in element_list:\n",
    "    dict[l2[0]] = l2[1:]"
   ]
  },
  {
   "cell_type": "code",
   "execution_count": 6,
   "id": "81cd83dc",
   "metadata": {
    "scrolled": false
   },
   "outputs": [
    {
     "data": {
      "text/plain": [
       "{'Savannah Chrisley': ['https://www.cameo.com/savannahchrisley'],\n",
       " 'Paddy Pimblett': ['https://www.cameo.com/paddythebaddy'],\n",
       " 'Frankie Muniz': ['https://www.cameo.com/frankiemuniz'],\n",
       " 'Katharine McPhee and David Foster': ['https://www.cameo.com/katanddavid'],\n",
       " 'Brian Cox': ['https://www.cameo.com/brian_cox'],\n",
       " 'Nathalie Emmanuel': ['https://www.cameo.com/nathalieemmanuel1'],\n",
       " 'Rich Homie Quan': ['https://www.cameo.com/richhomiequan'],\n",
       " 'Andrew Johns': ['https://www.cameo.com/andrewjohns'],\n",
       " 'Maria Menounos': ['https://www.cameo.com/mariamenounos'],\n",
       " 'Matthew Berry': ['https://www.cameo.com/matthewberrytmr'],\n",
       " 'Mick Foley': ['https://www.cameo.com/mickfoley?nodeId=featured&nodeType=category'],\n",
       " 'Ray Abruzzo': ['https://www.cameo.com/realrayabruzzo?nodeId=featured&nodeType=category'],\n",
       " 'Diamond Dallas Page aka DDP': ['https://www.cameo.com/diamonddallaspage?nodeId=featured&nodeType=category'],\n",
       " 'Chris Hansen': ['https://www.cameo.com/chansen?nodeId=featured&nodeType=category'],\n",
       " 'Mark McGrath': ['https://www.cameo.com/markmcgrath?nodeId=featured&nodeType=category'],\n",
       " 'Sean Avery': ['https://www.cameo.com/seanavery?nodeId=featured&nodeType=category'],\n",
       " 'The Cameo Santa': ['https://www.cameo.com/thecameosanta?nodeId=featured&nodeType=category'],\n",
       " 'Pierre Bouvier': ['https://www.cameo.com/pierrebouvier?nodeId=featured&nodeType=category'],\n",
       " 'Jim O’Heir': ['https://www.cameo.com/jimo?nodeId=featured&nodeType=category'],\n",
       " 'Andy Lassner': ['https://www.cameo.com/averageandy?nodeId=featured&nodeType=category'],\n",
       " 'Ernie Hudson': ['https://www.cameo.com/kirbyzook?nodeId=featured&nodeType=category'],\n",
       " 'Doug E. Fresh': ['https://www.cameo.com/dougeversofresh?nodeId=featured&nodeType=category'],\n",
       " 'Didi Conn': ['https://www.cameo.com/didiconn1?nodeId=featured&nodeType=category'],\n",
       " 'Bret Hitman Hart': ['https://www.cameo.com/hitman?nodeId=featured&nodeType=category'],\n",
       " 'Randy Couture': ['https://www.cameo.com/xcnatch?nodeId=featured&nodeType=category'],\n",
       " 'Jaime Camil': ['https://www.cameo.com/jaimecamil?nodeId=featured&nodeType=category'],\n",
       " 'Mark Sheppard': ['https://www.cameo.com/marksheppard?nodeId=featured&nodeType=category'],\n",
       " 'Gilbert Gottfried': ['https://www.cameo.com/gilbertgottfried?nodeId=featured&nodeType=category'],\n",
       " 'TJ Lavin': ['https://www.cameo.com/tjlavin?nodeId=featured&nodeType=category'],\n",
       " 'Montell Jordan': ['https://www.cameo.com/mrjordan1911?nodeId=featured&nodeType=category'],\n",
       " 'Shooter McGavin': ['https://www.cameo.com/shootahhh?nodeId=featured&nodeType=category'],\n",
       " 'Barry Williams': ['https://www.cameo.com/barrywilliams?nodeId=featured&nodeType=category'],\n",
       " 'Ted Nugent': ['https://www.cameo.com/tednugent?nodeId=featured&nodeType=category'],\n",
       " 'Maurice Benard': ['https://www.cameo.com/mauricebenard?nodeId=featured&nodeType=category'],\n",
       " 'William DuVall': ['https://www.cameo.com/wduvall?nodeId=featured&nodeType=category'],\n",
       " 'Hanbyul Jang': ['https://www.cameo.com/onestarbyul?nodeId=featured&nodeType=category'],\n",
       " 'Redman': ['https://www.cameo.com/redman?nodeId=featured&nodeType=category'],\n",
       " 'Arnel Pineda': ['https://www.cameo.com/arnelpineda?nodeId=featured&nodeType=category'],\n",
       " 'Michael Ian Black': ['https://www.cameo.com/michael_ian_black?nodeId=featured&nodeType=category'],\n",
       " 'Johnny Damon': ['https://www.cameo.com/johnnydamon?nodeId=featured&nodeType=category'],\n",
       " 'Karen David': ['https://www.cameo.com/karendavid?nodeId=featured&nodeType=category'],\n",
       " 'Brant Daugherty': ['https://www.cameo.com/brantdaugherty?nodeId=featured&nodeType=category'],\n",
       " 'Brian Scalabrine': ['https://www.cameo.com/whitemamba?nodeId=featured&nodeType=category'],\n",
       " 'Kelly AuCoin': ['https://www.cameo.com/kellyaucoin?nodeId=featured&nodeType=category'],\n",
       " 'Ryan Hurst': ['https://www.cameo.com/rambodonkeykong?nodeId=featured&nodeType=category'],\n",
       " 'Andy Buckley': ['https://www.cameo.com/andybuckley?nodeId=featured&nodeType=category'],\n",
       " 'Penn Jillette': ['https://www.cameo.com/pennj?nodeId=featured&nodeType=category'],\n",
       " 'Bruce Buffer': ['https://www.cameo.com/brucebufferufc?nodeId=featured&nodeType=category'],\n",
       " 'Brad Arnold': ['https://www.cameo.com/3doorsdown?nodeId=featured&nodeType=category'],\n",
       " 'Vincent Curatola': ['https://www.cameo.com/vincentcuratola?nodeId=featured&nodeType=category'],\n",
       " 'Tom Arnold': ['https://www.cameo.com/thetomarnold?nodeId=featured&nodeType=category'],\n",
       " 'DOUG E. DOUG': ['https://www.cameo.com/dougedoug?nodeId=featured&nodeType=category'],\n",
       " 'Kenny G': ['https://www.cameo.com/kennyg?nodeId=featured&nodeType=category'],\n",
       " 'Bellamy Young': ['https://www.cameo.com/bellamyyoung?nodeId=featured&nodeType=category'],\n",
       " 'Sarah Palin': ['https://www.cameo.com/sarahpalin?nodeId=featured&nodeType=category'],\n",
       " 'LaVar Ball': ['https://www.cameo.com/lavarball?nodeId=featured&nodeType=category'],\n",
       " 'Brent Spiner': ['https://www.cameo.com/brentspiner?nodeId=featured&nodeType=category'],\n",
       " 'Ben Higgins': ['https://www.cameo.com/benhiggy?nodeId=featured&nodeType=category'],\n",
       " 'Kurt Angle': ['https://www.cameo.com/gold1996?nodeId=featured&nodeType=category'],\n",
       " 'Chef Duff Goldman': ['https://www.cameo.com/duffgoldman?nodeId=featured&nodeType=category'],\n",
       " 'Steve Wilkos': ['https://www.cameo.com/stevewilkos?nodeId=featured&nodeType=category'],\n",
       " 'Colin Mochrie': ['https://www.cameo.com/colinmochrie7591?nodeId=featured&nodeType=category'],\n",
       " 'Jim Norton': ['https://www.cameo.com/jimnorton?nodeId=featured&nodeType=category'],\n",
       " 'Sarah Drew': ['https://www.cameo.com/sarahdrew?nodeId=featured&nodeType=category'],\n",
       " 'David Henrie': ['https://www.cameo.com/davidhenrie?nodeId=featured&nodeType=category'],\n",
       " 'Steve Guttenberg': ['https://www.cameo.com/steveguttenberg?nodeId=featured&nodeType=category'],\n",
       " 'Stacey Dash': ['https://www.cameo.com/staceydash?nodeId=featured&nodeType=category'],\n",
       " 'Tom Bergeron': ['https://www.cameo.com/tberj?nodeId=featured&nodeType=category'],\n",
       " 'Bob Saget': ['https://www.cameo.com/bobsagetofficial?nodeId=featured&nodeType=category'],\n",
       " 'Steve Smith Sr': ['https://www.cameo.com/agent89?nodeId=featured&nodeType=category'],\n",
       " 'Tia Carrere': ['https://www.cameo.com/tiacarrere?nodeId=featured&nodeType=category'],\n",
       " 'Conrad Ricamora': ['https://www.cameo.com/conradricamora?nodeId=featured&nodeType=category'],\n",
       " 'Eli Young Band/Mike Eli': ['https://www.cameo.com/eliyoungbandmikeeli?nodeId=featured&nodeType=category'],\n",
       " 'Dave Mustaine': ['https://www.cameo.com/davemustaine?nodeId=featured&nodeType=category'],\n",
       " 'James Worthy': ['https://www.cameo.com/jamesworthy?nodeId=featured&nodeType=category'],\n",
       " 'George Wendt': ['https://www.cameo.com/georgewendt?nodeId=featured&nodeType=category'],\n",
       " 'Ronnie Coleman': ['https://www.cameo.com/ronniecoleman8?nodeId=featured&nodeType=category'],\n",
       " 'Ivan Lendl': ['https://www.cameo.com/ivanlendl?nodeId=featured&nodeType=category'],\n",
       " 'Brett Favre': ['https://www.cameo.com/brettfavre?nodeId=featured&nodeType=category'],\n",
       " 'Amy Jo Johnson': ['https://www.cameo.com/atothedoublej?nodeId=featured&nodeType=category'],\n",
       " 'Gretchen Carlson': ['https://www.cameo.com/gecarlson?nodeId=featured&nodeType=category'],\n",
       " 'Lance Bass': ['https://www.cameo.com/lancebass?nodeId=featured&nodeType=category'],\n",
       " 'Cam Jordan': ['https://www.cameo.com/camjo94?nodeId=featured&nodeType=category'],\n",
       " 'Gary Busey': ['https://www.cameo.com/garybusey?nodeId=featured&nodeType=category'],\n",
       " 'Don Johnson': ['https://www.cameo.com/donjohnson?nodeId=featured&nodeType=category'],\n",
       " 'Joe Theismann': ['https://www.cameo.com/joetheismann?nodeId=featured&nodeType=category'],\n",
       " 'Wayne Knight': ['https://www.cameo.com/wanite1?nodeId=featured&nodeType=category'],\n",
       " 'Keegan Allen': ['https://www.cameo.com/keeoone?nodeId=featured&nodeType=category'],\n",
       " 'Bernie Kosar': ['https://www.cameo.com/berniekosar?nodeId=featured&nodeType=category'],\n",
       " 'Gary Levox': ['https://www.cameo.com/levox?nodeId=featured&nodeType=category'],\n",
       " 'CT Fletcher': ['https://www.cameo.com/ironaddicts1?nodeId=featured&nodeType=category'],\n",
       " 'Mia Hamm': ['https://www.cameo.com/miahamm?nodeId=featured&nodeType=category'],\n",
       " 'Nadia Comaneci': ['https://www.cameo.com/comaneci10?nodeId=featured&nodeType=category'],\n",
       " 'Tommy Chong': ['https://www.cameo.com/tommychong?nodeId=featured&nodeType=category'],\n",
       " 'Bassem Youssef': ['https://www.cameo.com/bassem_x0e?nodeId=featured&nodeType=category'],\n",
       " 'Georges St-Pierre': ['https://www.cameo.com/st.pierre?nodeId=featured&nodeType=category'],\n",
       " 'Kate Flannery': ['https://www.cameo.com/kateflan7?nodeId=featured&nodeType=category'],\n",
       " 'Chris Diamantopoulos': ['https://www.cameo.com/chrisdiamantopoulos?nodeId=featured&nodeType=category'],\n",
       " 'James Maslow': ['https://www.cameo.com/jamesmaslow?nodeId=featured&nodeType=category'],\n",
       " 'Reggie Jackson': ['https://www.cameo.com/mroctober?nodeId=featured&nodeType=category'],\n",
       " 'Jonathan Goldsmith': ['https://www.cameo.com/stayinteresting?nodeId=featured&nodeType=category'],\n",
       " 'Mike Leach': ['https://www.cameo.com/mikeleach?nodeId=featured&nodeType=category'],\n",
       " 'Terrell Owens': ['https://www.cameo.com/terrellowens?nodeId=featured&nodeType=category'],\n",
       " 'Tim Hardaway, Sr.': ['https://www.cameo.com/the_original_crossover_king?nodeId=featured&nodeType=category'],\n",
       " 'Brandi Chastain': ['https://www.cameo.com/brandichastain?nodeId=featured&nodeType=category'],\n",
       " 'Wendel Clark': ['https://www.cameo.com/wendelclark?nodeId=featured&nodeType=category'],\n",
       " 'AB de Villiers': ['https://www.cameo.com/abdevilliers17?nodeId=featured&nodeType=category'],\n",
       " 'Dan Gable': ['https://www.cameo.com/dangable?nodeId=featured&nodeType=category'],\n",
       " 'Jack Falahee': ['https://www.cameo.com/jackfalahee?nodeId=featured&nodeType=category'],\n",
       " 'John Salley': ['https://www.cameo.com/johnsalley22?nodeId=featured&nodeType=category'],\n",
       " 'Anthony Michael Hall': ['https://www.cameo.com/amh1?nodeId=featured&nodeType=category'],\n",
       " 'Bo Jackson': ['https://www.cameo.com/bojackson?nodeId=featured&nodeType=category'],\n",
       " 'Aaron Boone': ['https://www.cameo.com/aaronboone?nodeId=featured&nodeType=category'],\n",
       " 'Dikembe Mutombo': ['https://www.cameo.com/dikembemutombo?nodeId=featured&nodeType=category'],\n",
       " 'Tyson Beckford': ['https://www.cameo.com/tysonbeckford?nodeId=featured&nodeType=category'],\n",
       " 'Josh Turner': ['https://www.cameo.com/joshturner?nodeId=featured&nodeType=category'],\n",
       " 'Archie Manning': ['https://www.cameo.com/archiemanning?nodeId=featured&nodeType=category'],\n",
       " 'Dr Drew': ['https://www.cameo.com/drdrew?nodeId=featured&nodeType=category'],\n",
       " 'David Ross': ['https://www.cameo.com/davidross?nodeId=featured&nodeType=category'],\n",
       " 'Vicente Fox': ['https://www.cameo.com/presidentfox?nodeId=featured&nodeType=category'],\n",
       " 'Master P': ['https://www.cameo.com/masterp?nodeId=featured&nodeType=category'],\n",
       " 'John Daly': ['https://www.cameo.com/johndaly?nodeId=featured&nodeType=category'],\n",
       " 'Nick Hexum': ['https://www.cameo.com/nickhexum?nodeId=featured&nodeType=category'],\n",
       " 'Michael Rosenbaum': ['https://www.cameo.com/themichaelrosenbaum?nodeId=featured&nodeType=category'],\n",
       " 'Enrique Arce': ['https://www.cameo.com/enriquearceactor?nodeId=featured&nodeType=category'],\n",
       " 'Billy Dee Williams': ['https://www.cameo.com/billydeewilliams?nodeId=featured&nodeType=category'],\n",
       " 'Carole Baskin': ['https://www.cameo.com/bigcatrescue?nodeId=featured&nodeType=category'],\n",
       " 'Chris Harrison': ['https://www.cameo.com/chrisbharrison?nodeId=featured&nodeType=category'],\n",
       " 'James Kennedy': ['https://www.cameo.com/itsjameskennedy?nodeId=featured&nodeType=category'],\n",
       " 'Dionne Warwick': ['https://www.cameo.com/dionnewarwick?nodeId=featured&nodeType=category'],\n",
       " 'Rudy Tomjanovich': ['https://www.cameo.com/rudytomjanovich?nodeId=featured&nodeType=category'],\n",
       " 'Jose Reyes': ['https://www.cameo.com/lamelaza_7?nodeId=featured&nodeType=category'],\n",
       " 'Jackie Joyner-Kersee': ['https://www.cameo.com/jjksmile?nodeId=featured&nodeType=category'],\n",
       " 'John Schneider': ['https://www.cameo.com/johnschneider?nodeId=featured&nodeType=category'],\n",
       " 'Jeff Mauro': ['https://www.cameo.com/jeffmauro?nodeId=featured&nodeType=category'],\n",
       " 'Taye Diggs': ['https://www.cameo.com/tayediggs?nodeId=featured&nodeType=category'],\n",
       " 'Sean Spicer': ['https://www.cameo.com/seanspicer?nodeId=featured&nodeType=category'],\n",
       " 'Madison Keys': ['https://www.cameo.com/madisonkeys?nodeId=featured&nodeType=category'],\n",
       " 'Marky Ramone': ['https://www.cameo.com/markyramone?nodeId=featured&nodeType=category'],\n",
       " 'Danica McKellar': ['https://www.cameo.com/danicamckellar?nodeId=featured&nodeType=category'],\n",
       " 'Alice Cooper': ['https://www.cameo.com/alicecooper?nodeId=featured&nodeType=category'],\n",
       " 'Antonio Brown': ['https://www.cameo.com/ab81?nodeId=featured&nodeType=category'],\n",
       " 'Kevin Pollak': ['https://www.cameo.com/izzykirk?nodeId=featured&nodeType=category'],\n",
       " 'James Van Der Beek': ['https://www.cameo.com/jamesvanderbeek?nodeId=featured&nodeType=category'],\n",
       " 'Colton Underwood': ['https://www.cameo.com/coltonunderwood?nodeId=featured&nodeType=category'],\n",
       " 'Jim Boeheim': ['https://www.cameo.com/jimboeheim?nodeId=featured&nodeType=category'],\n",
       " 'David Duval': ['https://www.cameo.com/davidduval59?nodeId=featured&nodeType=category'],\n",
       " 'Jerry Springer': ['https://www.cameo.com/jerryspringer?nodeId=featured&nodeType=category'],\n",
       " 'Kathy Najimy': ['https://www.cameo.com/kfinnerty?nodeId=featured&nodeType=category'],\n",
       " 'Jim Kelly': ['https://www.cameo.com/jimkelly12?nodeId=featured&nodeType=category'],\n",
       " 'Bethany Joy Lenz': ['https://www.cameo.com/bethanyjoylenz?nodeId=featured&nodeType=category'],\n",
       " 'John C. McGinley': ['https://www.cameo.com/johncmcginley?nodeId=featured&nodeType=category'],\n",
       " 'Matt Barnes': ['https://www.cameo.com/mattbarnes?nodeId=featured&nodeType=category'],\n",
       " 'Daymond John': ['https://www.cameo.com/thesharkdaymond?nodeId=featured&nodeType=category'],\n",
       " 'Bethenny Frankel': ['https://www.cameo.com/bethennyfrankel?nodeId=featured&nodeType=category'],\n",
       " 'RiFF RAFF': ['https://www.cameo.com/riffraff?nodeId=featured&nodeType=category'],\n",
       " 'Warren Sapp': ['https://www.cameo.com/warrensapp?nodeId=featured&nodeType=category'],\n",
       " 'Bruce Dern': ['https://www.cameo.com/brucedern?nodeId=featured&nodeType=category'],\n",
       " 'John Ratzenberger': ['https://www.cameo.com/jratzie?nodeId=featured&nodeType=category'],\n",
       " 'Bill Engvall': ['https://www.cameo.com/billengvall?nodeId=featured&nodeType=category'],\n",
       " 'Nev Schulman': ['https://www.cameo.com/nevschulman?nodeId=featured&nodeType=category'],\n",
       " 'Johnny Van Zant': ['https://www.cameo.com/johnnyvanzant?nodeId=featured&nodeType=category'],\n",
       " 'Lee Majors': ['https://www.cameo.com/leemajors?nodeId=featured&nodeType=category'],\n",
       " 'Ray Lewis': ['https://www.cameo.com/raylewis?nodeId=featured&nodeType=category'],\n",
       " 'Laura Osnes': ['https://www.cameo.com/lauraosnes?nodeId=featured&nodeType=category'],\n",
       " 'James Cosmo': ['https://www.cameo.com/jamescosmo?nodeId=featured&nodeType=category'],\n",
       " 'Courtney Thorne-Smith': ['https://www.cameo.com/courtneythornesmith?nodeId=featured&nodeType=category'],\n",
       " 'Alec Sulkin': ['https://www.cameo.com/alecsulkin?nodeId=featured&nodeType=category'],\n",
       " 'Brandon Graham': ['https://www.cameo.com/sack_55?nodeId=featured&nodeType=category'],\n",
       " 'Dean Norris': ['https://www.cameo.com/deannorris?nodeId=featured&nodeType=category'],\n",
       " 'Hines Ward': ['https://www.cameo.com/hinesward86?nodeId=featured&nodeType=category'],\n",
       " 'Mario': ['https://www.cameo.com/marioworldwide?nodeId=featured&nodeType=category'],\n",
       " 'Lea Thompson': ['https://www.cameo.com/leathompson?nodeId=featured&nodeType=category'],\n",
       " 'Coach Steve Spurrier': ['https://www.cameo.com/heisman?nodeId=featured&nodeType=category'],\n",
       " 'Leroy Butler': ['https://www.cameo.com/roylee36?nodeId=featured&nodeType=category'],\n",
       " 'Jaleel White': ['https://www.cameo.com/jaleelwhite?nodeId=featured&nodeType=category'],\n",
       " 'Donovan McNabb': ['https://www.cameo.com/super_5ive?nodeId=featured&nodeType=category'],\n",
       " 'Dan Fouts': ['https://www.cameo.com/danfouts?nodeId=featured&nodeType=category'],\n",
       " 'Lupe Fiasco': ['https://www.cameo.com/lupefiasco?nodeId=featured&nodeType=category'],\n",
       " 'Dee Snider': ['https://www.cameo.com/deesnider?nodeId=featured&nodeType=category'],\n",
       " 'Cedric The Entertainer': ['https://www.cameo.com/4cedtheentertainer?nodeId=featured&nodeType=category'],\n",
       " 'David Boomer Wells': ['https://www.cameo.com/boomerwells?nodeId=featured&nodeType=category'],\n",
       " 'James Pickens Jr.': ['https://www.cameo.com/jamespickensjr?nodeId=featured&nodeType=category'],\n",
       " 'David Hasselhoff': ['https://www.cameo.com/davidhasselhoff?nodeId=featured&nodeType=category'],\n",
       " 'Kareem Abdul-Jabbar': ['https://www.cameo.com/kareem?nodeId=featured&nodeType=category'],\n",
       " 'Fran Drescher': ['https://www.cameo.com/frandrescher?nodeId=featured&nodeType=category'],\n",
       " 'Dean Cain': ['https://www.cameo.com/deancain?nodeId=featured&nodeType=category'],\n",
       " 'Carson Kressley': ['https://www.cameo.com/carsonkressley?nodeId=featured&nodeType=category'],\n",
       " 'Pau Gasol': ['https://www.cameo.com/paugasol?nodeId=featured&nodeType=category'],\n",
       " 'Robert Englund': ['https://www.cameo.com/robertenglund?nodeId=featured&nodeType=category'],\n",
       " 'Gabby Douglas': ['https://www.cameo.com/gabbydouglas?nodeId=featured&nodeType=category'],\n",
       " 'John O’Hurley': ['https://www.cameo.com/johurley?nodeId=featured&nodeType=category'],\n",
       " 'Sonja Morgan': ['https://www.cameo.com/sonjatmorgan?nodeId=featured&nodeType=category'],\n",
       " 'Ozzie Guillen': ['https://www.cameo.com/ozzieguillen13?nodeId=featured&nodeType=category'],\n",
       " 'Oliver Phelps': ['https://www.cameo.com/oliverphelps?nodeId=featured&nodeType=category'],\n",
       " 'Ben Stein': ['https://www.cameo.com/benstein99?nodeId=featured&nodeType=category'],\n",
       " 'Jon Lovitz': ['https://www.cameo.com/jonlovitz?nodeId=featured&nodeType=category'],\n",
       " 'Felicia Day': ['https://www.cameo.com/feliciaday?nodeId=featured&nodeType=category'],\n",
       " 'Richard Schiff': ['https://www.cameo.com/richard_schiff?nodeId=featured&nodeType=category'],\n",
       " 'Lamar Odom': ['https://www.cameo.com/lamarodom?nodeId=featured&nodeType=category'],\n",
       " 'Devin McCourty': ['https://www.cameo.com/devinmccourty?nodeId=featured&nodeType=category'],\n",
       " 'Ozzie Smith': ['https://www.cameo.com/ozziesmith?nodeId=featured&nodeType=category'],\n",
       " 'Tara Strong': ['https://www.cameo.com/tarastrong?nodeId=featured&nodeType=category'],\n",
       " 'Terry O’Quinn': ['https://www.cameo.com/terryoquinn?nodeId=featured&nodeType=category'],\n",
       " 'Curt Schilling': ['https://www.cameo.com/curt.schilling?nodeId=featured&nodeType=category'],\n",
       " 'Tracy Austin': ['https://www.cameo.com/tracyaustin1?nodeId=featured&nodeType=category'],\n",
       " 'Mario Cantone': ['https://www.cameo.com/mariocantone?nodeId=featured&nodeType=category'],\n",
       " 'Kym Whitley': ['https://www.cameo.com/kymwhitley?nodeId=featured&nodeType=category'],\n",
       " 'Arin Hanson': ['https://www.cameo.com/helloimarin?nodeId=featured&nodeType=category'],\n",
       " 'Dan Fogler': ['https://www.cameo.com/danfogler?nodeId=featured&nodeType=category'],\n",
       " 'Tito Ortiz': ['https://www.cameo.com/titoortiz?nodeId=featured&nodeType=category'],\n",
       " 'Ruben Studdard': ['https://www.cameo.com/rstud1898?nodeId=featured&nodeType=category'],\n",
       " 'Tommy Lee': ['https://www.cameo.com/tommylee?nodeId=featured&nodeType=category'],\n",
       " 'Mike \"The Situation\" Sorrentino': ['https://www.cameo.com/mikethesituation?nodeId=featured&nodeType=category'],\n",
       " 'Drew Bledsoe': ['https://www.cameo.com/drewbledsoe?nodeId=featured&nodeType=category'],\n",
       " 'Erin Andrews': ['https://www.cameo.com/erinandrews28?nodeId=featured&nodeType=category'],\n",
       " 'Jesse McCartney': ['https://www.cameo.com/jessemccartney?nodeId=featured&nodeType=category'],\n",
       " 'Melissa Gilbert': ['https://www.cameo.com/melissaegilbert?nodeId=featured&nodeType=category'],\n",
       " 'Ron White': ['https://www.cameo.com/ronwhite?nodeId=featured&nodeType=category'],\n",
       " 'Brian Cashman': ['https://www.cameo.com/briancashman?nodeId=featured&nodeType=category'],\n",
       " 'Andrew Zimmern': ['https://www.cameo.com/chefaz?nodeId=featured&nodeType=category'],\n",
       " 'Jordan Belfort - Wolf of Wall Street': ['https://www.cameo.com/wolfofwallst?nodeId=featured&nodeType=category'],\n",
       " 'SISQÓ': ['https://www.cameo.com/sisqo?nodeId=featured&nodeType=category'],\n",
       " 'Jose Canseco': ['https://www.cameo.com/josecanseco?nodeId=featured&nodeType=category'],\n",
       " 'Anthony Scaramucci': ['https://www.cameo.com/themooch?nodeId=featured&nodeType=category'],\n",
       " 'Chris Pronger': ['https://www.cameo.com/chris_pronger?nodeId=featured&nodeType=category'],\n",
       " 'Justin Tuck': ['https://www.cameo.com/therealjustintuck91?nodeId=featured&nodeType=category'],\n",
       " 'Javale McGee': ['https://www.cameo.com/javalemcgee7?nodeId=featured&nodeType=category'],\n",
       " 'Will Friedle': ['https://www.cameo.com/willfriedle?nodeId=featured&nodeType=category'],\n",
       " 'Willie McGinest': ['https://www.cameo.com/williemcginest?nodeId=featured&nodeType=category'],\n",
       " 'Phil Heath': ['https://www.cameo.com/philheath?nodeId=featured&nodeType=category'],\n",
       " 'Mischa Barton': ['https://www.cameo.com/themischabarton?nodeId=featured&nodeType=category'],\n",
       " 'Dylan Playfair': ['https://www.cameo.com/dylanplayfair1?nodeId=featured&nodeType=category'],\n",
       " 'Bethany Hamilton': ['https://www.cameo.com/bethanyhamilton?nodeId=featured&nodeType=category'],\n",
       " 'deadmau5': ['https://www.cameo.com/deadmau5?nodeId=featured&nodeType=category'],\n",
       " 'Howie Day': ['https://www.cameo.com/howiekday?nodeId=featured&nodeType=category'],\n",
       " 'Alfonso Ribeiro': ['https://www.cameo.com/therealalfonsoribeiro?nodeId=featured&nodeType=category'],\n",
       " 'Sir Geoff Hurst MBE': ['https://www.cameo.com/sir_geoffhurst?nodeId=featured&nodeType=category'],\n",
       " 'Billy Boyd': ['https://www.cameo.com/billyboyd?nodeId=featured&nodeType=category'],\n",
       " 'Steve Burton': ['https://www.cameo.com/steveburton?nodeId=featured&nodeType=category'],\n",
       " 'Jesse Metcalfe': ['https://www.cameo.com/jmet12978?nodeId=featured&nodeType=category'],\n",
       " 'Troy Aikman': ['https://www.cameo.com/troyaikman?nodeId=featured&nodeType=category'],\n",
       " 'AKON': ['https://www.cameo.com/akon?nodeId=featured&nodeType=category'],\n",
       " 'Efren Ramirez': ['https://www.cameo.com/actorefrenramirez?nodeId=featured&nodeType=category'],\n",
       " 'Lindsay Lohan': ['https://www.cameo.com/lindsaylohan?nodeId=featured&nodeType=category'],\n",
       " 'The Game': ['https://www.cameo.com/thegame?nodeId=featured&nodeType=category'],\n",
       " 'Justin Willman': ['https://www.cameo.com/justinwillman?nodeId=featured&nodeType=category'],\n",
       " 'George Clinton': ['https://www.cameo.com/george_clinton?nodeId=featured&nodeType=category'],\n",
       " 'James Phelps': ['https://www.cameo.com/jamesphelps?nodeId=featured&nodeType=category'],\n",
       " 'Melora Hardin': ['https://www.cameo.com/meloradhardin?nodeId=featured&nodeType=category'],\n",
       " 'Dolph Lundgren': ['https://www.cameo.com/dolphlundgren?nodeId=featured&nodeType=category'],\n",
       " 'Kel Mitchell': ['https://www.cameo.com/kelmitchell?nodeId=featured&nodeType=category'],\n",
       " 'Brian Billick': ['https://www.cameo.com/coachbillick?nodeId=featured&nodeType=category'],\n",
       " 'Ricky Dean Logan': ['https://www.cameo.com/rdl?nodeId=featured&nodeType=category'],\n",
       " 'Rufus Wainwright': ['https://www.cameo.com/rufuswainwright?nodeId=featured&nodeType=category'],\n",
       " 'Brooke Burke': ['https://www.cameo.com/brookeburke?nodeId=featured&nodeType=category'],\n",
       " 'Tony Hawk': ['https://www.cameo.com/tonyhawk?nodeId=featured&nodeType=category'],\n",
       " 'Juicy J': ['https://www.cameo.com/juicyjay?nodeId=featured&nodeType=category'],\n",
       " 'Jaylon Smith': ['https://www.cameo.com/thejaylonsmith?nodeId=featured&nodeType=category'],\n",
       " 'Aaron Watson': ['https://www.cameo.com/aaronwatson?nodeId=featured&nodeType=category'],\n",
       " 'Luis Severino': ['https://www.cameo.com/sevy40?nodeId=featured&nodeType=category'],\n",
       " 'Isiah Thomas': ['https://www.cameo.com/isiahthomas?nodeId=featured&nodeType=category'],\n",
       " 'Granger Smith': ['https://www.cameo.com/grangersmith?nodeId=featured&nodeType=category'],\n",
       " 'Flavor Flav': ['https://www.cameo.com/flavorflav?nodeId=featured&nodeType=category'],\n",
       " 'Krysten Ritter': ['https://www.cameo.com/krystenritter?nodeId=featured&nodeType=category'],\n",
       " 'Sting': ['https://www.cameo.com/sting?nodeId=featured&nodeType=category'],\n",
       " 'Bill Self': ['https://www.cameo.com/self?nodeId=featured&nodeType=category'],\n",
       " 'Dr Sandra Lee aka Dr Pimple Popper': ['https://www.cameo.com/drpimplepopper?nodeId=featured&nodeType=category'],\n",
       " 'Kevin O’Leary aka Mr. Wonderful': ['https://www.cameo.com/mrwonderful?nodeId=featured&nodeType=category'],\n",
       " 'Ben Sinclair': ['https://www.cameo.com/bathroomremodel?nodeId=featured&nodeType=category'],\n",
       " 'Chris Mullin': ['https://www.cameo.com/chrismullin?nodeId=featured&nodeType=category'],\n",
       " 'Richard Hamilton': ['https://www.cameo.com/ripcity3232?nodeId=featured&nodeType=category'],\n",
       " 'Urban Meyer': ['https://www.cameo.com/urbanmeyercoach?nodeId=featured&nodeType=category'],\n",
       " 'Rick Harrison': ['https://www.cameo.com/rickharrison?nodeId=featured&nodeType=category'],\n",
       " 'Jonathan Frakes': ['https://www.cameo.com/windyoaks?nodeId=featured&nodeType=category'],\n",
       " 'Wayne Coyne': ['https://www.cameo.com/waynecoyne?nodeId=featured&nodeType=category'],\n",
       " 'Michael Vick': ['https://www.cameo.com/mikevickmv7?nodeId=featured&nodeType=category'],\n",
       " 'Andrew Dice Clay': ['https://www.cameo.com/diceman?nodeId=featured&nodeType=category'],\n",
       " 'Yandy Smith': ['https://www.cameo.com/yandysmith?nodeId=featured&nodeType=category'],\n",
       " 'Ruth Buzzi': ['https://www.cameo.com/ruth_buzzi?nodeId=featured&nodeType=category'],\n",
       " 'Patricia Richardson': ['https://www.cameo.com/patriciarichardson?nodeId=featured&nodeType=category'],\n",
       " 'DANIELLE CORMACK': ['https://www.cameo.com/_daniellecormack_?nodeId=featured&nodeType=category'],\n",
       " 'Debbie Allen': ['https://www.cameo.com/dallen?nodeId=featured&nodeType=category'],\n",
       " 'Mariano Rivera': ['https://www.cameo.com/marianorivera?nodeId=featured&nodeType=category'],\n",
       " 'Billy Baldwin': ['https://www.cameo.com/thebillybaldwin?nodeId=featured&nodeType=category'],\n",
       " 'Leslie David Baker': ['https://www.cameo.com/lesliedavidbaker?nodeId=featured&nodeType=category'],\n",
       " 'Hal Sutton': ['https://www.cameo.com/halsutton?nodeId=featured&nodeType=category'],\n",
       " 'Jon Heder': ['https://www.cameo.com/hederjon?nodeId=featured&nodeType=category'],\n",
       " 'Alexander Ludwig': ['https://www.cameo.com/alexanderludwig?nodeId=featured&nodeType=category'],\n",
       " 'Emmitt Smith': ['https://www.cameo.com/emmittsmith?nodeId=featured&nodeType=category'],\n",
       " 'Jackie Bradley Jr.': ['https://www.cameo.com/jackiebradleyjr?nodeId=featured&nodeType=category'],\n",
       " 'Ghostface Killah': ['https://www.cameo.com/realghostfacekillah?nodeId=featured&nodeType=category'],\n",
       " 'Mark Pellegrino': ['https://www.cameo.com/markpellegrino?nodeId=featured&nodeType=category'],\n",
       " 'Martin Brodeur': ['https://www.cameo.com/jawa30?nodeId=featured&nodeType=category'],\n",
       " 'Eric Dickerson': ['https://www.cameo.com/ericdickerson?nodeId=featured&nodeType=category'],\n",
       " 'Golden Tate III': ['https://www.cameo.com/showtimetate?nodeId=featured&nodeType=category'],\n",
       " 'Jesse Palmer': ['https://www.cameo.com/jessepalmer?nodeId=featured&nodeType=category'],\n",
       " 'Brian Austin Green': ['https://www.cameo.com/arent_you_that_guy?nodeId=featured&nodeType=category'],\n",
       " 'Albert Pujols': ['https://www.cameo.com/ap5?nodeId=featured&nodeType=category'],\n",
       " 'Nolan North': ['https://www.cameo.com/nolannorth?nodeId=featured&nodeType=category'],\n",
       " 'Clyde Drexler': ['https://www.cameo.com/clydetheglide?nodeId=featured&nodeType=category'],\n",
       " 'Michael Franti': ['https://www.cameo.com/michaelfranti?nodeId=featured&nodeType=category'],\n",
       " 'Ryne Sandberg': ['https://www.cameo.com/ryno23?nodeId=featured&nodeType=category'],\n",
       " 'Adam Wainwright': ['https://www.cameo.com/adamwainwright?nodeId=featured&nodeType=category'],\n",
       " 'Dule Hill': ['https://www.cameo.com/dulehill?nodeId=featured&nodeType=category'],\n",
       " 'Lea DeLaria': ['https://www.cameo.com/realleadelaria?nodeId=featured&nodeType=category'],\n",
       " 'Alton Brown': ['https://www.cameo.com/altonbrown?nodeId=featured&nodeType=category'],\n",
       " 'Engelbert Humperdinck': ['https://www.cameo.com/engelberthumperdinck?nodeId=featured&nodeType=category'],\n",
       " 'Michelle Akers': ['https://www.cameo.com/michelleakers?nodeId=featured&nodeType=category'],\n",
       " 'Jake The Snake Roberts': ['https://www.cameo.com/jakesnake?nodeId=featured&nodeType=category'],\n",
       " 'Freddie Prinze Jr.': ['https://www.cameo.com/jrprinze?nodeId=featured&nodeType=category'],\n",
       " 'Christina Milian': ['https://www.cameo.com/christinamilian?nodeId=featured&nodeType=category'],\n",
       " 'Doug Flutie': ['https://www.cameo.com/dougflutie?nodeId=featured&nodeType=category'],\n",
       " 'LeAnn Rimes': ['https://www.cameo.com/leannrimes?nodeId=featured&nodeType=category'],\n",
       " 'Paul Reubens aka Pee-wee Herman': ['https://www.cameo.com/paulreubens?nodeId=featured&nodeType=category'],\n",
       " 'Chaka Khan': ['https://www.cameo.com/chakakhan?nodeId=featured&nodeType=category'],\n",
       " 'Michael Costello': ['https://www.cameo.com/michaelcostello?nodeId=featured&nodeType=category'],\n",
       " 'Isabela Merced': ['https://www.cameo.com/isabelamerced?nodeId=featured&nodeType=category'],\n",
       " 'Mike Modano': ['https://www.cameo.com/mikemodano9?nodeId=featured&nodeType=category'],\n",
       " 'Shangela': ['https://www.cameo.com/shangela?nodeId=featured&nodeType=category'],\n",
       " 'Alex Killorn': ['https://www.cameo.com/akillorn?nodeId=featured&nodeType=category'],\n",
       " 'Michael Essien': ['https://www.cameo.com/michaelessien?nodeId=featured&nodeType=category'],\n",
       " 'Dillon Passage': ['https://www.cameo.com/dillert_lclm?nodeId=featured&nodeType=category'],\n",
       " 'Isaiah Mustafa': ['https://www.cameo.com/isaiahmustafa?nodeId=featured&nodeType=category'],\n",
       " 'Anthony Anderson': ['https://www.cameo.com/anthonyanderson?nodeId=featured&nodeType=category'],\n",
       " 'Tyler Oakley': ['https://www.cameo.com/tyleroakley?nodeId=featured&nodeType=category'],\n",
       " 'D-Roc from the Ying Yang Twins': ['https://www.cameo.com/yingyangtwins?nodeId=featured&nodeType=category'],\n",
       " 'Boy George': ['https://www.cameo.com/boygeorge5?nodeId=featured&nodeType=category'],\n",
       " 'David Pogue': ['https://www.cameo.com/pogue?nodeId=featured&nodeType=category'],\n",
       " 'Milo Manheim': ['https://www.cameo.com/milomanheim?nodeId=featured&nodeType=category'],\n",
       " 'Michael Rapaport': ['https://www.cameo.com/michaelrapaport?nodeId=featured&nodeType=category'],\n",
       " 'Gina Schock': ['https://www.cameo.com/ginaschock?nodeId=featured&nodeType=category'],\n",
       " 'Owain Yeoman': ['https://www.cameo.com/owainyeoman?nodeId=featured&nodeType=category'],\n",
       " 'Tamar Braxton': ['https://www.cameo.com/tamarbraxton?nodeId=featured&nodeType=category'],\n",
       " 'Chuck Norris': ['https://www.cameo.com/chucknorris?nodeId=featured&nodeType=category'],\n",
       " 'Kat Graham': ['https://www.cameo.com/katgraham?nodeId=featured&nodeType=category'],\n",
       " 'Mecole Hardman, Jr.': ['https://www.cameo.com/mecolehardman17?nodeId=featured&nodeType=category'],\n",
       " 'James Buckley': ['https://www.cameo.com/buxtagram?nodeId=featured&nodeType=category'],\n",
       " 'Joshua Malina': ['https://www.cameo.com/mrjoshuamalina?nodeId=featured&nodeType=category'],\n",
       " 'Ian Ziering': ['https://www.cameo.com/ianziering?nodeId=featured&nodeType=category'],\n",
       " 'Tori Spelling': ['https://www.cameo.com/torispelling?nodeId=featured&nodeType=category'],\n",
       " 'Coyote Peterson': ['https://www.cameo.com/coyotepeterson_pt1?nodeId=featured&nodeType=category'],\n",
       " 'Joe Thomas': ['https://www.cameo.com/joethomas73?nodeId=featured&nodeType=category'],\n",
       " 'Rex Lee': ['https://www.cameo.com/rexlee?nodeId=featured&nodeType=category'],\n",
       " 'Randy Travis': ['https://www.cameo.com/randytravis?nodeId=featured&nodeType=category'],\n",
       " 'LuAnn de Lesseps': ['https://www.cameo.com/countess?nodeId=featured&nodeType=category'],\n",
       " 'Melissa Etheridge': ['https://www.cameo.com/melissaetheridge?nodeId=featured&nodeType=category'],\n",
       " 'Teresa Giudice': ['https://www.cameo.com/teresagiudice?nodeId=featured&nodeType=category'],\n",
       " 'Bob Stoops': ['https://www.cameo.com/coachstoops?nodeId=featured&nodeType=category'],\n",
       " 'Vanilla Ice': ['https://www.cameo.com/vanillaice?nodeId=featured&nodeType=category'],\n",
       " 'Pauly Shore': ['https://www.cameo.com/paulyshore?nodeId=featured&nodeType=category'],\n",
       " 'John Calipari': ['https://www.cameo.com/johncalipari?nodeId=featured&nodeType=category'],\n",
       " 'Vernon Davis': ['https://www.cameo.com/vernondavis?nodeId=featured&nodeType=category'],\n",
       " 'Bruce Arians': ['https://www.cameo.com/barians?nodeId=featured&nodeType=category'],\n",
       " 'Chumlee': ['https://www.cameo.com/chumlee?nodeId=featured&nodeType=category'],\n",
       " 'Bo Derek': ['https://www.cameo.com/boderek?nodeId=featured&nodeType=category'],\n",
       " 'Sebastian Bach': ['https://www.cameo.com/sebastianbach?nodeId=featured&nodeType=category'],\n",
       " 'Roger Clemens': ['https://www.cameo.com/rogerclemens?nodeId=featured&nodeType=category'],\n",
       " 'Spencer Pratt on Cameo dot com': ['https://www.cameo.com/spencerpratt?nodeId=featured&nodeType=category'],\n",
       " 'Carrot Top': ['https://www.cameo.com/carrottop?nodeId=featured&nodeType=category'],\n",
       " 'Misha Collins': ['https://www.cameo.com/mishacollins?nodeId=featured&nodeType=category'],\n",
       " 'Katharine McPhee-Foster': ['https://www.cameo.com/katharinemcphee?nodeId=featured&nodeType=category'],\n",
       " 'Corey Feldman': ['https://www.cameo.com/cdogg22?nodeId=featured&nodeType=category'],\n",
       " 'Jamaal Wilkes': ['https://www.cameo.com/smoothassilk?nodeId=featured&nodeType=category'],\n",
       " 'Tom Higgenson': ['https://www.cameo.com/tomhiggenson?nodeId=featured&nodeType=category'],\n",
       " 'Wade Phillips': ['https://www.cameo.com/sonofbum?nodeId=featured&nodeType=category'],\n",
       " 'Lisa Leslie': ['https://www.cameo.com/lisaleslie?nodeId=featured&nodeType=category'],\n",
       " 'George Foreman': ['https://www.cameo.com/georgeforeman?nodeId=featured&nodeType=category'],\n",
       " 'Chris Noth': ['https://www.cameo.com/chrisnoth?nodeId=featured&nodeType=category'],\n",
       " 'David Koechner': ['https://www.cameo.com/davidkoechner?nodeId=featured&nodeType=category'],\n",
       " 'Jeremy Piven': ['https://www.cameo.com/jeremypiven?nodeId=featured&nodeType=category'],\n",
       " 'Roastmaster General Jeff Ross': ['https://www.cameo.com/jeffross?nodeId=featured&nodeType=category'],\n",
       " 'Sergio García': ['https://www.cameo.com/sergiogarcia?nodeId=featured&nodeType=category'],\n",
       " 'Charles Oakley': ['https://www.cameo.com/charlesoakley?nodeId=featured&nodeType=category'],\n",
       " 'Roger Clark': ['https://www.cameo.com/rollingrog?nodeId=featured&nodeType=category'],\n",
       " 'Jay Mewes': ['https://www.cameo.com/jaymewes?nodeId=featured&nodeType=category'],\n",
       " 'Boris Kodjoe': ['https://www.cameo.com/bluvoma?nodeId=featured&nodeType=category'],\n",
       " 'Chad Ochocinco': ['https://www.cameo.com/ochocinco?nodeId=featured&nodeType=category'],\n",
       " 'Ice T': ['https://www.cameo.com/icet?nodeId=featured&nodeType=category'],\n",
       " 'Big Boy': ['https://www.cameo.com/bigboy?nodeId=featured&nodeType=category'],\n",
       " 'Max Joseph': ['https://www.cameo.com/maxjoseph?nodeId=featured&nodeType=category'],\n",
       " 'Tyronn Lue': ['https://www.cameo.com/tyronnlue?nodeId=featured&nodeType=category'],\n",
       " 'Nigel Lythgoe': ['https://www.cameo.com/dizzyfeet?nodeId=featured&nodeType=category'],\n",
       " 'Sean Astin': ['https://www.cameo.com/seanastin?nodeId=featured&nodeType=category'],\n",
       " 'Annika Sorenstam': ['https://www.cameo.com/annika59?nodeId=featured&nodeType=category'],\n",
       " 'Tom Felton': ['https://www.cameo.com/t22felton?nodeId=featured&nodeType=category'],\n",
       " 'Terrell Davis': ['https://www.cameo.com/terrelldavis?nodeId=featured&nodeType=category'],\n",
       " 'John Starks': ['https://www.cameo.com/johnstarks?nodeId=featured&nodeType=category'],\n",
       " 'Graham McTavish': ['https://www.cameo.com/grahammctavish?nodeId=featured&nodeType=category'],\n",
       " 'Dorinda Medley': ['https://www.cameo.com/dorindamedley?nodeId=featured&nodeType=category'],\n",
       " 'Todrick Hall': ['https://www.cameo.com/todrick?nodeId=featured&nodeType=category'],\n",
       " 'DL Hughley': ['https://www.cameo.com/realdlhughley?nodeId=featured&nodeType=category'],\n",
       " 'Lennox Lewis': ['https://www.cameo.com/lennoxlewis?nodeId=featured&nodeType=category'],\n",
       " 'Udonis Haslem': ['https://www.cameo.com/ud40?nodeId=featured&nodeType=category'],\n",
       " 'John Smoltz': ['https://www.cameo.com/johnsmoltz29?nodeId=featured&nodeType=category'],\n",
       " 'Richard Dreyfuss': ['https://www.cameo.com/richarddreyfuss1?nodeId=featured&nodeType=category'],\n",
       " 'Greg Maddux': ['https://www.cameo.com/gregmaddux31?nodeId=featured&nodeType=category'],\n",
       " 'Dorian Yates': ['https://www.cameo.com/dorianyates?nodeId=featured&nodeType=category'],\n",
       " 'Stormy Daniels': ['https://www.cameo.com/stormydaniels?nodeId=featured&nodeType=category'],\n",
       " 'Bart Johnson': ['https://www.cameo.com/bart?nodeId=featured&nodeType=category'],\n",
       " 'Oscar Nunez': ['https://www.cameo.com/oscarenunez?nodeId=featured&nodeType=category'],\n",
       " 'Josh Radnor': ['https://www.cameo.com/joshradnor?nodeId=featured&nodeType=category'],\n",
       " 'Bonnie Wright': ['https://www.cameo.com/bonniewright?nodeId=featured&nodeType=category'],\n",
       " 'Ice Cube': ['https://www.cameo.com/donmega69?nodeId=featured&nodeType=category'],\n",
       " 'Roquan Smith': ['https://www.cameo.com/roquansmith58?nodeId=featured&nodeType=category'],\n",
       " 'John Barrowman MBE': ['https://www.cameo.com/johnscotbarrowman?nodeId=featured&nodeType=category'],\n",
       " 'Tom Welling': ['https://www.cameo.com/tomwelling?nodeId=featured&nodeType=category'],\n",
       " 'Sugar Ray Leonard': ['https://www.cameo.com/sugarrayleonard?nodeId=featured&nodeType=category'],\n",
       " 'Robert Griffin III': ['https://www.cameo.com/rg3?nodeId=featured&nodeType=category'],\n",
       " 'Roy Jones Jr.': ['https://www.cameo.com/royjonesjr?nodeId=featured&nodeType=category'],\n",
       " 'Mike Love': ['https://www.cameo.com/mikeloveofcl?nodeId=featured&nodeType=category'],\n",
       " 'Ric Flair': ['https://www.cameo.com/natureboy16?nodeId=featured&nodeType=category'],\n",
       " 'Brian Baumgartner': ['https://www.cameo.com/brianbaumgartner?nodeId=featured&nodeType=category'],\n",
       " 'Drew Brees': ['https://www.cameo.com/drewbrees?nodeId=featured&nodeType=category'],\n",
       " 'Ian Kinsler': ['https://www.cameo.com/5kinsler3?nodeId=featured&nodeType=category'],\n",
       " 'Mark Messier': ['https://www.cameo.com/mess11?nodeId=featured&nodeType=category'],\n",
       " 'David Foster': ['https://www.cameo.com/davidhitmanfoster?nodeId=featured&nodeType=category'],\n",
       " 'Ramona Singer': ['https://www.cameo.com/ramona56?nodeId=featured&nodeType=category'],\n",
       " 'Ross Marquand': ['https://www.cameo.com/rossmarquand?nodeId=featured&nodeType=category'],\n",
       " 'Troy Baker': ['https://www.cameo.com/officialtroybaker?nodeId=featured&nodeType=category'],\n",
       " 'Scott Patterson': ['https://www.cameo.com/scottpatterson?nodeId=featured&nodeType=category'],\n",
       " 'David Ortiz': ['https://www.cameo.com/davidortiz?nodeId=featured&nodeType=category'],\n",
       " 'Tyler Hubbard': ['https://www.cameo.com/tylerhubbard?nodeId=featured&nodeType=category'],\n",
       " 'Daniella Monet': ['https://www.cameo.com/daniellamonet?nodeId=featured&nodeType=category'],\n",
       " 'Jimmy Bullard': ['https://www.cameo.com/jimmybullard?nodeId=featured&nodeType=category'],\n",
       " 'Ashley and Jared': ['https://www.cameo.com/ashleyiandjared?nodeId=featured&nodeType=category'],\n",
       " 'Natalie Eva Marie': ['https://www.cameo.com/natalieevamarie?nodeId=featured&nodeType=category'],\n",
       " 'Lisa Vanderpump': ['https://www.cameo.com/lisavanderpump?nodeId=featured&nodeType=category'],\n",
       " 'Joe Maddon': ['https://www.cameo.com/joe?nodeId=featured&nodeType=category'],\n",
       " 'Echosmith': ['https://www.cameo.com/echosmith?nodeId=featured&nodeType=category'],\n",
       " 'Ceelo Green': ['https://www.cameo.com/ceelo?nodeId=featured&nodeType=category'],\n",
       " 'Luis Guzman': ['https://www.cameo.com/luisguzman?nodeId=featured&nodeType=category'],\n",
       " 'Jon Taffer': ['https://www.cameo.com/jontaffer?nodeId=featured&nodeType=category'],\n",
       " 'Anthony Rapp': ['https://www.cameo.com/antrapp?nodeId=featured&nodeType=category'],\n",
       " 'Tara Reid': ['https://www.cameo.com/tarareid?nodeId=featured&nodeType=category'],\n",
       " 'Johnny Bananas': ['https://www.cameo.com/johnnybananas?nodeId=featured&nodeType=category'],\n",
       " 'Geoffrey Zakarian': ['https://www.cameo.com/geoffreyzakarian?nodeId=featured&nodeType=category'],\n",
       " 'Tom Lehman': ['https://www.cameo.com/tomlehman?nodeId=featured&nodeType=category'],\n",
       " 'Kristian Nairn': ['https://www.cameo.com/kristiannairn?nodeId=featured&nodeType=category'],\n",
       " 'Donald Driver': ['https://www.cameo.com/donalddriver80?nodeId=featured&nodeType=category'],\n",
       " 'Pat Connaughton': ['https://www.cameo.com/planetpat5?nodeId=featured&nodeType=category'],\n",
       " 'Joey Fatone': ['https://www.cameo.com/realjoeyfatone?nodeId=featured&nodeType=category'],\n",
       " 'Steve Wozniak': ['https://www.cameo.com/stevewoz?nodeId=featured&nodeType=category'],\n",
       " 'Abby Lee Miller': ['https://www.cameo.com/therealabbylee?nodeId=featured&nodeType=category'],\n",
       " 'Mike Ditka': ['https://www.cameo.com/mikeditka?nodeId=featured&nodeType=category'],\n",
       " 'Sherri Shepherd': ['https://www.cameo.com/sherrieshepherd?nodeId=featured&nodeType=category'],\n",
       " 'Chuck Liddell': ['https://www.cameo.com/chuckliddell?nodeId=featured&nodeType=category'],\n",
       " 'Pete Alonso': ['https://www.cameo.com/petealonso?nodeId=featured&nodeType=category'],\n",
       " 'Greg Page (original Yellow Wiggle)': ['https://www.cameo.com/gregjpage?nodeId=featured&nodeType=category'],\n",
       " 'Melissa Gorga': ['https://www.cameo.com/melissagorga?nodeId=featured&nodeType=category'],\n",
       " 'Brittany Cartwright': ['https://www.cameo.com/bncartwright?nodeId=featured&nodeType=category'],\n",
       " 'Jo-Wilfried Tsonga': ['https://www.cameo.com/jotsonga?nodeId=featured&nodeType=category'],\n",
       " 'Smokey Robinson': ['https://www.cameo.com/smokeyrob?nodeId=featured&nodeType=category'],\n",
       " 'Stephon Marbury': ['https://www.cameo.com/starburymarbury?nodeId=featured&nodeType=category'],\n",
       " 'Sean Paul': ['https://www.cameo.com/duttypaul?nodeId=featured&nodeType=category'],\n",
       " 'Michael Irvin': ['https://www.cameo.com/michaelirvin?nodeId=featured&nodeType=category'],\n",
       " 'Nick Kyrgios': ['https://www.cameo.com/nickkyrgios?nodeId=featured&nodeType=category'],\n",
       " 'Frank Grillo': ['https://www.cameo.com/frankgrillo?nodeId=featured&nodeType=category'],\n",
       " 'Jana Kramer': ['https://www.cameo.com/kramergirl?nodeId=featured&nodeType=category'],\n",
       " 'Chris Kattan': ['https://www.cameo.com/chriskattan?nodeId=featured&nodeType=category'],\n",
       " 'Chris Chelios': ['https://www.cameo.com/chelios7?nodeId=featured&nodeType=category'],\n",
       " 'Jerome Bettis': ['https://www.cameo.com/jerome36bettis?nodeId=featured&nodeType=category'],\n",
       " 'Gigi Gorgeous': ['https://www.cameo.com/gigigorgeous?nodeId=featured&nodeType=category'],\n",
       " 'Lawrence Taylor': ['https://www.cameo.com/lawrencetaylor?nodeId=featured&nodeType=category'],\n",
       " 'Tacko Fall': ['https://www.cameo.com/tackofall99?nodeId=featured&nodeType=category'],\n",
       " 'JD Martinez': ['https://www.cameo.com/jdmartinez28?nodeId=featured&nodeType=category'],\n",
       " 'Remy Ma': ['https://www.cameo.com/remyma?nodeId=featured&nodeType=category'],\n",
       " 'JoJo Siwa': ['https://www.cameo.com/itsjojosiwa?nodeId=featured&nodeType=category'],\n",
       " 'Soulja Boy (Big Draco)': ['https://www.cameo.com/souljaboy?nodeId=featured&nodeType=category'],\n",
       " 'Seth Curry': ['https://www.cameo.com/sdotcurry?nodeId=featured&nodeType=category'],\n",
       " 'Hunter Pence': ['https://www.cameo.com/hunterpence?nodeId=featured&nodeType=category'],\n",
       " 'Taryn Manning': ['https://www.cameo.com/tarynmanning?nodeId=featured&nodeType=category'],\n",
       " 'Blac Chyna': ['https://www.cameo.com/blacchyna?nodeId=featured&nodeType=category'],\n",
       " 'Nicole \"Snooki\" Polizzi': ['https://www.cameo.com/snooki?nodeId=featured&nodeType=category'],\n",
       " 'Tituss Burgess': ['https://www.cameo.com/instatituss?nodeId=featured&nodeType=category'],\n",
       " 'Tatyana Ali': ['https://www.cameo.com/tatyanaali?nodeId=featured&nodeType=category'],\n",
       " 'Warren Moon': ['https://www.cameo.com/warrenmoon?nodeId=featured&nodeType=category'],\n",
       " 'Sophie Skelton': ['https://www.cameo.com/sophieskelton1?nodeId=featured&nodeType=category'],\n",
       " 'Jerry Jeudy': ['https://www.cameo.com/jerryjeudy?nodeId=featured&nodeType=category'],\n",
       " 'Dr. Mehmet Oz': ['https://www.cameo.com/droz?nodeId=featured&nodeType=category'],\n",
       " 'Jim Brown': ['https://www.cameo.com/jimbrown?nodeId=featured&nodeType=category'],\n",
       " 'Mike Epps': ['https://www.cameo.com/mikeepps?nodeId=featured&nodeType=category'],\n",
       " 'Ezekiel Elliott': ['https://www.cameo.com/ezekielelliott?nodeId=featured&nodeType=category'],\n",
       " 'Bam Adebayo': ['https://www.cameo.com/bam1of1?nodeId=featured&nodeType=category']}"
      ]
     },
     "execution_count": 6,
     "metadata": {},
     "output_type": "execute_result"
    }
   ],
   "source": [
    "dict"
   ]
  },
  {
   "cell_type": "code",
   "execution_count": 7,
   "id": "03af9057",
   "metadata": {},
   "outputs": [],
   "source": [
    "# Data cleaning & creating a list of dictionary\n",
    "all_actors=[]\n",
    "for actor in element_list:\n",
    "    actors_info={}\n",
    "    actors_info['actor_name'] = actor[0]\n",
    "    actors_info['href'] = actor[1]\n",
    "    all_actors.append(actors_info)"
   ]
  },
  {
   "cell_type": "code",
   "execution_count": 8,
   "id": "52a4a30c",
   "metadata": {},
   "outputs": [],
   "source": [
    "test_actor=all_actors[3]"
   ]
  },
  {
   "cell_type": "markdown",
   "id": "cb81dafa",
   "metadata": {},
   "source": [
    "### Define a function which hit the each & every url of celebrities & fetch the data"
   ]
  },
  {
   "cell_type": "code",
   "execution_count": 15,
   "id": "55ce98ab",
   "metadata": {},
   "outputs": [],
   "source": [
    "# Function to extract the only text\n",
    "def get_feature(soup,class_name,tag):\n",
    "    feature_val=soup.find(tag, attrs={'class':class_name})\n",
    "    if feature_val:\n",
    "        feature_val=feature_val.get_text()\n",
    "        return [feature_val]\n",
    "    return []\n",
    "    \n",
    "    \n",
    "    \n",
    "    \n",
    "\n",
    "\n",
    "# Function to hit each link of celebrity & fetching associate meta data \n",
    "def get_actor(test_actor):\n",
    "    URL=test_actor['href']\n",
    "#     print(URL)\n",
    "    r = requests.get(URL)\n",
    "\n",
    "    # Parsing the HTML\n",
    "    soup_actors = BeautifulSoup(r.content, 'html.parser')\n",
    "\n",
    "    \n",
    "    \n",
    "    actor_rating = get_feature(soup_actors,'Styled__RatingText-sc-18xiniy-5 kazLgS','span')\n",
    "    actor_fan = get_feature(soup_actors,'Styled__FanClubCount-sc-18xiniy-6 bUGUoh','span')\n",
    "    actor_subheader = get_feature(soup_actors,'Styled__Profession-vimn3q-5 gCcrvK','p')\n",
    "    actor_desc = get_feature(soup_actors,'css-901oao css-cens5h r-1e14oph r-f6vrx0 r-ubezar r-16dba41 r-132tqjk r-14yzgew','div')\n",
    "    actor_number_review = get_feature(soup_actors,'Styled__ReviewsText-sc-18xiniy-4 cFwMIZ','span')\n",
    "        \n",
    "        \n",
    "    full_data={}\n",
    "    full_data['name']=test_actor['actor_name']\n",
    "    full_data['actor_rating']=actor_rating\n",
    "    full_data['actor_fan']=actor_fan\n",
    "    full_data['actor_subheader']=actor_subheader\n",
    "    full_data['actor_desc']=actor_desc\n",
    "    full_data['number_review']=actor_number_review\n",
    "    full_data['full_link']=URL\n",
    "\n",
    "    return full_data "
   ]
  },
  {
   "cell_type": "code",
   "execution_count": 16,
   "id": "edbdbbbe",
   "metadata": {},
   "outputs": [
    {
     "name": "stderr",
     "output_type": "stream",
     "text": [
      "100%|██████████| 624/624 [30:15<00:00,  2.91s/it]  \n"
     ]
    }
   ],
   "source": [
    "# formng a scraped data into tabular format\n",
    "json_df=[]\n",
    "tem=[]\n",
    "import time \n",
    "from tqdm import tqdm\n",
    "for actor in tqdm(all_actors):\n",
    "    try:\n",
    "        json_data=get_actor(actor)\n",
    "#         print(json_data)\n",
    "        tem.append(json_data)\n",
    "#         print('*'*50)\n",
    "    except Exception as err:\n",
    "        print(err)\n",
    "        print(actor['actor_name'])\n",
    "    time.sleep(1)"
   ]
  },
  {
   "cell_type": "markdown",
   "id": "5422d79c",
   "metadata": {},
   "source": [
    "### Make a dataframe"
   ]
  },
  {
   "cell_type": "code",
   "execution_count": 17,
   "id": "92a6e52b",
   "metadata": {},
   "outputs": [
    {
     "data": {
      "text/html": [
       "<div>\n",
       "<style scoped>\n",
       "    .dataframe tbody tr th:only-of-type {\n",
       "        vertical-align: middle;\n",
       "    }\n",
       "\n",
       "    .dataframe tbody tr th {\n",
       "        vertical-align: top;\n",
       "    }\n",
       "\n",
       "    .dataframe thead th {\n",
       "        text-align: right;\n",
       "    }\n",
       "</style>\n",
       "<table border=\"1\" class=\"dataframe\">\n",
       "  <thead>\n",
       "    <tr style=\"text-align: right;\">\n",
       "      <th></th>\n",
       "      <th>name</th>\n",
       "      <th>actor_rating</th>\n",
       "      <th>actor_fan</th>\n",
       "      <th>actor_subheader</th>\n",
       "      <th>actor_desc</th>\n",
       "      <th>number_review</th>\n",
       "      <th>full_link</th>\n",
       "    </tr>\n",
       "  </thead>\n",
       "  <tbody>\n",
       "    <tr>\n",
       "      <th>0</th>\n",
       "      <td>Savannah Chrisley</td>\n",
       "      <td>[5.0]</td>\n",
       "      <td>[35]</td>\n",
       "      <td>[Reality TV - Chrisley Knows Best]</td>\n",
       "      <td>[Chek out my 💝NEW fragrance: Sassy | \\nChrisle...</td>\n",
       "      <td>[2 Reviews]</td>\n",
       "      <td>https://www.cameo.com/savannahchrisley</td>\n",
       "    </tr>\n",
       "    <tr>\n",
       "      <th>1</th>\n",
       "      <td>Paddy Pimblett</td>\n",
       "      <td>[]</td>\n",
       "      <td>[18]</td>\n",
       "      <td>[MMA Fighter]</td>\n",
       "      <td>[MMA Fighter]</td>\n",
       "      <td>[]</td>\n",
       "      <td>https://www.cameo.com/paddythebaddy</td>\n",
       "    </tr>\n",
       "    <tr>\n",
       "      <th>2</th>\n",
       "      <td>Frankie Muniz</td>\n",
       "      <td>[5.0]</td>\n",
       "      <td>[300]</td>\n",
       "      <td>[Actor - Malcolm In The Middle]</td>\n",
       "      <td>[American Actor - Malcolm in the Middle, Deuce...</td>\n",
       "      <td>[11 Reviews]</td>\n",
       "      <td>https://www.cameo.com/frankiemuniz</td>\n",
       "    </tr>\n",
       "    <tr>\n",
       "      <th>3</th>\n",
       "      <td>Katharine McPhee and David Foster</td>\n",
       "      <td>[]</td>\n",
       "      <td>[82]</td>\n",
       "      <td>[Music Icons]</td>\n",
       "      <td>[]</td>\n",
       "      <td>[]</td>\n",
       "      <td>https://www.cameo.com/katanddavid</td>\n",
       "    </tr>\n",
       "    <tr>\n",
       "      <th>4</th>\n",
       "      <td>Brian Cox</td>\n",
       "      <td>[5.0]</td>\n",
       "      <td>[214]</td>\n",
       "      <td>[Actor - Succession, X-Men, Bourne Supremacy]</td>\n",
       "      <td>[Brian won a Golden Globe for his performance ...</td>\n",
       "      <td>[7 Reviews]</td>\n",
       "      <td>https://www.cameo.com/brian_cox</td>\n",
       "    </tr>\n",
       "  </tbody>\n",
       "</table>\n",
       "</div>"
      ],
      "text/plain": [
       "                                name actor_rating actor_fan  \\\n",
       "0                  Savannah Chrisley        [5.0]      [35]   \n",
       "1                     Paddy Pimblett           []      [18]   \n",
       "2                      Frankie Muniz        [5.0]     [300]   \n",
       "3  Katharine McPhee and David Foster           []      [82]   \n",
       "4                          Brian Cox        [5.0]     [214]   \n",
       "\n",
       "                                 actor_subheader  \\\n",
       "0             [Reality TV - Chrisley Knows Best]   \n",
       "1                                  [MMA Fighter]   \n",
       "2                [Actor - Malcolm In The Middle]   \n",
       "3                                  [Music Icons]   \n",
       "4  [Actor - Succession, X-Men, Bourne Supremacy]   \n",
       "\n",
       "                                          actor_desc number_review  \\\n",
       "0  [Chek out my 💝NEW fragrance: Sassy | \\nChrisle...   [2 Reviews]   \n",
       "1                                      [MMA Fighter]            []   \n",
       "2  [American Actor - Malcolm in the Middle, Deuce...  [11 Reviews]   \n",
       "3                                                 []            []   \n",
       "4  [Brian won a Golden Globe for his performance ...   [7 Reviews]   \n",
       "\n",
       "                                full_link  \n",
       "0  https://www.cameo.com/savannahchrisley  \n",
       "1     https://www.cameo.com/paddythebaddy  \n",
       "2      https://www.cameo.com/frankiemuniz  \n",
       "3       https://www.cameo.com/katanddavid  \n",
       "4         https://www.cameo.com/brian_cox  "
      ]
     },
     "execution_count": 17,
     "metadata": {},
     "output_type": "execute_result"
    }
   ],
   "source": [
    "final_df=pd.DataFrame(tem)\n",
    "final_df.head()"
   ]
  },
  {
   "cell_type": "code",
   "execution_count": 18,
   "id": "bbccc750",
   "metadata": {},
   "outputs": [
    {
     "data": {
      "text/plain": [
       "(624, 7)"
      ]
     },
     "execution_count": 18,
     "metadata": {},
     "output_type": "execute_result"
    }
   ],
   "source": [
    "final_df.shape"
   ]
  },
  {
   "cell_type": "code",
   "execution_count": 31,
   "id": "a0711745",
   "metadata": {},
   "outputs": [],
   "source": [
    "cols=final_df.columns\n",
    "\n",
    "for col in cols:\n",
    "    final_df[col]=final_df[col].apply(lambda x: x if x else 'Not Found')\n",
    "    final_df[col]=final_df[col].apply(lambda x: x[0] if isinstance(x, list) else x)"
   ]
  },
  {
   "cell_type": "code",
   "execution_count": 32,
   "id": "7d87f38a",
   "metadata": {},
   "outputs": [
    {
     "data": {
      "text/html": [
       "<div>\n",
       "<style scoped>\n",
       "    .dataframe tbody tr th:only-of-type {\n",
       "        vertical-align: middle;\n",
       "    }\n",
       "\n",
       "    .dataframe tbody tr th {\n",
       "        vertical-align: top;\n",
       "    }\n",
       "\n",
       "    .dataframe thead th {\n",
       "        text-align: right;\n",
       "    }\n",
       "</style>\n",
       "<table border=\"1\" class=\"dataframe\">\n",
       "  <thead>\n",
       "    <tr style=\"text-align: right;\">\n",
       "      <th></th>\n",
       "      <th>name</th>\n",
       "      <th>actor_rating</th>\n",
       "      <th>actor_fan</th>\n",
       "      <th>actor_subheader</th>\n",
       "      <th>actor_desc</th>\n",
       "      <th>number_review</th>\n",
       "      <th>full_link</th>\n",
       "    </tr>\n",
       "  </thead>\n",
       "  <tbody>\n",
       "    <tr>\n",
       "      <th>0</th>\n",
       "      <td>Savannah Chrisley</td>\n",
       "      <td>5.0</td>\n",
       "      <td>35</td>\n",
       "      <td>Reality TV - Chrisley Knows Best</td>\n",
       "      <td>Chek out my 💝NEW fragrance: Sassy | \\nChrisley...</td>\n",
       "      <td>2 Reviews</td>\n",
       "      <td>https://www.cameo.com/savannahchrisley</td>\n",
       "    </tr>\n",
       "    <tr>\n",
       "      <th>1</th>\n",
       "      <td>Paddy Pimblett</td>\n",
       "      <td>Not Found</td>\n",
       "      <td>18</td>\n",
       "      <td>MMA Fighter</td>\n",
       "      <td>MMA Fighter</td>\n",
       "      <td>Not Found</td>\n",
       "      <td>https://www.cameo.com/paddythebaddy</td>\n",
       "    </tr>\n",
       "    <tr>\n",
       "      <th>2</th>\n",
       "      <td>Frankie Muniz</td>\n",
       "      <td>5.0</td>\n",
       "      <td>300</td>\n",
       "      <td>Actor - Malcolm In The Middle</td>\n",
       "      <td>American Actor - Malcolm in the Middle, Deuces...</td>\n",
       "      <td>11 Reviews</td>\n",
       "      <td>https://www.cameo.com/frankiemuniz</td>\n",
       "    </tr>\n",
       "    <tr>\n",
       "      <th>3</th>\n",
       "      <td>Katharine McPhee and David Foster</td>\n",
       "      <td>Not Found</td>\n",
       "      <td>82</td>\n",
       "      <td>Music Icons</td>\n",
       "      <td>Not Found</td>\n",
       "      <td>Not Found</td>\n",
       "      <td>https://www.cameo.com/katanddavid</td>\n",
       "    </tr>\n",
       "    <tr>\n",
       "      <th>4</th>\n",
       "      <td>Brian Cox</td>\n",
       "      <td>5.0</td>\n",
       "      <td>214</td>\n",
       "      <td>Actor - Succession, X-Men, Bourne Supremacy</td>\n",
       "      <td>Brian won a Golden Globe for his performance a...</td>\n",
       "      <td>7 Reviews</td>\n",
       "      <td>https://www.cameo.com/brian_cox</td>\n",
       "    </tr>\n",
       "    <tr>\n",
       "      <th>...</th>\n",
       "      <td>...</td>\n",
       "      <td>...</td>\n",
       "      <td>...</td>\n",
       "      <td>...</td>\n",
       "      <td>...</td>\n",
       "      <td>...</td>\n",
       "      <td>...</td>\n",
       "    </tr>\n",
       "    <tr>\n",
       "      <th>619</th>\n",
       "      <td>Nathalie Emmanuel</td>\n",
       "      <td>5.0</td>\n",
       "      <td>138</td>\n",
       "      <td>Actor - Game of Thrones</td>\n",
       "      <td>Not Found</td>\n",
       "      <td>11 Reviews</td>\n",
       "      <td>https://www.cameo.com/nathalieemmanuel1</td>\n",
       "    </tr>\n",
       "    <tr>\n",
       "      <th>620</th>\n",
       "      <td>Rich Homie Quan</td>\n",
       "      <td>Not Found</td>\n",
       "      <td>40</td>\n",
       "      <td>Rapper</td>\n",
       "      <td>Not Found</td>\n",
       "      <td>Not Found</td>\n",
       "      <td>https://www.cameo.com/richhomiequan</td>\n",
       "    </tr>\n",
       "    <tr>\n",
       "      <th>621</th>\n",
       "      <td>Andrew Johns</td>\n",
       "      <td>5.0</td>\n",
       "      <td>39</td>\n",
       "      <td>NRL Legend/Commentator</td>\n",
       "      <td>Former Captain of the Newcastle Knights. Fathe...</td>\n",
       "      <td>29 Reviews</td>\n",
       "      <td>https://www.cameo.com/andrewjohns</td>\n",
       "    </tr>\n",
       "    <tr>\n",
       "      <th>622</th>\n",
       "      <td>Maria Menounos</td>\n",
       "      <td>5.0</td>\n",
       "      <td>122</td>\n",
       "      <td>TV Personality</td>\n",
       "      <td>Not Found</td>\n",
       "      <td>10 Reviews</td>\n",
       "      <td>https://www.cameo.com/mariamenounos</td>\n",
       "    </tr>\n",
       "    <tr>\n",
       "      <th>623</th>\n",
       "      <td>Matthew Berry</td>\n",
       "      <td>4.9</td>\n",
       "      <td>62</td>\n",
       "      <td>Fantasy Football Analyst</td>\n",
       "      <td>Fantasy Football Analyst And NYTimes Best Sell...</td>\n",
       "      <td>16 Reviews</td>\n",
       "      <td>https://www.cameo.com/matthewberrytmr</td>\n",
       "    </tr>\n",
       "  </tbody>\n",
       "</table>\n",
       "<p>624 rows × 7 columns</p>\n",
       "</div>"
      ],
      "text/plain": [
       "                                  name actor_rating actor_fan  \\\n",
       "0                    Savannah Chrisley          5.0        35   \n",
       "1                       Paddy Pimblett    Not Found        18   \n",
       "2                        Frankie Muniz          5.0       300   \n",
       "3    Katharine McPhee and David Foster    Not Found        82   \n",
       "4                            Brian Cox          5.0       214   \n",
       "..                                 ...          ...       ...   \n",
       "619                  Nathalie Emmanuel          5.0       138   \n",
       "620                    Rich Homie Quan    Not Found        40   \n",
       "621                       Andrew Johns          5.0        39   \n",
       "622                     Maria Menounos          5.0       122   \n",
       "623                      Matthew Berry          4.9        62   \n",
       "\n",
       "                                 actor_subheader  \\\n",
       "0               Reality TV - Chrisley Knows Best   \n",
       "1                                    MMA Fighter   \n",
       "2                  Actor - Malcolm In The Middle   \n",
       "3                                    Music Icons   \n",
       "4    Actor - Succession, X-Men, Bourne Supremacy   \n",
       "..                                           ...   \n",
       "619                      Actor - Game of Thrones   \n",
       "620                                       Rapper   \n",
       "621                       NRL Legend/Commentator   \n",
       "622                               TV Personality   \n",
       "623                    Fantasy Football Analyst    \n",
       "\n",
       "                                            actor_desc number_review  \\\n",
       "0    Chek out my 💝NEW fragrance: Sassy | \\nChrisley...     2 Reviews   \n",
       "1                                          MMA Fighter     Not Found   \n",
       "2    American Actor - Malcolm in the Middle, Deuces...    11 Reviews   \n",
       "3                                            Not Found     Not Found   \n",
       "4    Brian won a Golden Globe for his performance a...     7 Reviews   \n",
       "..                                                 ...           ...   \n",
       "619                                          Not Found    11 Reviews   \n",
       "620                                          Not Found     Not Found   \n",
       "621  Former Captain of the Newcastle Knights. Fathe...    29 Reviews   \n",
       "622                                          Not Found    10 Reviews   \n",
       "623  Fantasy Football Analyst And NYTimes Best Sell...    16 Reviews   \n",
       "\n",
       "                                   full_link  \n",
       "0     https://www.cameo.com/savannahchrisley  \n",
       "1        https://www.cameo.com/paddythebaddy  \n",
       "2         https://www.cameo.com/frankiemuniz  \n",
       "3          https://www.cameo.com/katanddavid  \n",
       "4            https://www.cameo.com/brian_cox  \n",
       "..                                       ...  \n",
       "619  https://www.cameo.com/nathalieemmanuel1  \n",
       "620      https://www.cameo.com/richhomiequan  \n",
       "621        https://www.cameo.com/andrewjohns  \n",
       "622      https://www.cameo.com/mariamenounos  \n",
       "623    https://www.cameo.com/matthewberrytmr  \n",
       "\n",
       "[624 rows x 7 columns]"
      ]
     },
     "execution_count": 32,
     "metadata": {},
     "output_type": "execute_result"
    }
   ],
   "source": [
    "final_df"
   ]
  },
  {
   "cell_type": "markdown",
   "id": "7bce85e2",
   "metadata": {},
   "source": [
    "### Data Analysis"
   ]
  },
  {
   "cell_type": "code",
   "execution_count": 33,
   "id": "7fde5a1c",
   "metadata": {},
   "outputs": [
    {
     "data": {
      "text/plain": [
       "5.0          421\n",
       "4.9          104\n",
       "Not Found     45\n",
       "4.8           30\n",
       "4.7            9\n",
       "4.5            6\n",
       "4.6            4\n",
       "4.0            2\n",
       "4.3            1\n",
       "2.6            1\n",
       "4.4            1\n",
       "Name: actor_rating, dtype: int64"
      ]
     },
     "execution_count": 33,
     "metadata": {},
     "output_type": "execute_result"
    }
   ],
   "source": [
    "\n",
    "final_df['actor_rating'].value_counts()."
   ]
  },
  {
   "cell_type": "code",
   "execution_count": 34,
   "id": "694ec4fd",
   "metadata": {},
   "outputs": [
    {
     "data": {
      "text/plain": [
       "484"
      ]
     },
     "execution_count": 34,
     "metadata": {},
     "output_type": "execute_result"
    }
   ],
   "source": [
    "final_df['name'].nunique()"
   ]
  },
  {
   "cell_type": "code",
   "execution_count": 35,
   "id": "40dd3bbe",
   "metadata": {},
   "outputs": [
    {
     "data": {
      "text/plain": [
       "Matthew Berry                        15\n",
       "Andrew Johns                         15\n",
       "Katharine McPhee and David Foster    15\n",
       "Frankie Muniz                        15\n",
       "Maria Menounos                       15\n",
       "                                     ..\n",
       "Vincent Curatola                      1\n",
       "Robert Englund                        1\n",
       "Gabby Douglas                         1\n",
       "Mecole Hardman, Jr.                   1\n",
       "Gretchen Carlson                      1\n",
       "Name: name, Length: 484, dtype: int64"
      ]
     },
     "execution_count": 35,
     "metadata": {},
     "output_type": "execute_result"
    }
   ],
   "source": [
    "final_df['name'].value_counts()"
   ]
  },
  {
   "cell_type": "code",
   "execution_count": 58,
   "id": "3b42eb33",
   "metadata": {},
   "outputs": [
    {
     "data": {
      "text/plain": [
       "(494, 7)"
      ]
     },
     "execution_count": 58,
     "metadata": {},
     "output_type": "execute_result"
    }
   ],
   "source": [
    "final_data = final_df.drop_duplicates()\n",
    "final_data.shape"
   ]
  },
  {
   "cell_type": "code",
   "execution_count": 59,
   "id": "7b2d1ec1",
   "metadata": {},
   "outputs": [
    {
     "data": {
      "text/html": [
       "<div>\n",
       "<style scoped>\n",
       "    .dataframe tbody tr th:only-of-type {\n",
       "        vertical-align: middle;\n",
       "    }\n",
       "\n",
       "    .dataframe tbody tr th {\n",
       "        vertical-align: top;\n",
       "    }\n",
       "\n",
       "    .dataframe thead th {\n",
       "        text-align: right;\n",
       "    }\n",
       "</style>\n",
       "<table border=\"1\" class=\"dataframe\">\n",
       "  <thead>\n",
       "    <tr style=\"text-align: right;\">\n",
       "      <th></th>\n",
       "      <th>name</th>\n",
       "      <th>actor_rating</th>\n",
       "      <th>actor_fan</th>\n",
       "      <th>actor_subheader</th>\n",
       "      <th>actor_desc</th>\n",
       "      <th>number_review</th>\n",
       "      <th>full_link</th>\n",
       "    </tr>\n",
       "  </thead>\n",
       "  <tbody>\n",
       "    <tr>\n",
       "      <th>0</th>\n",
       "      <td>Savannah Chrisley</td>\n",
       "      <td>5.0</td>\n",
       "      <td>35</td>\n",
       "      <td>Reality TV - Chrisley Knows Best</td>\n",
       "      <td>Chek out my 💝NEW fragrance: Sassy | \\nChrisley...</td>\n",
       "      <td>2 Reviews</td>\n",
       "      <td>https://www.cameo.com/savannahchrisley</td>\n",
       "    </tr>\n",
       "    <tr>\n",
       "      <th>1</th>\n",
       "      <td>Paddy Pimblett</td>\n",
       "      <td>Not Found</td>\n",
       "      <td>18</td>\n",
       "      <td>MMA Fighter</td>\n",
       "      <td>MMA Fighter</td>\n",
       "      <td>Not Found</td>\n",
       "      <td>https://www.cameo.com/paddythebaddy</td>\n",
       "    </tr>\n",
       "    <tr>\n",
       "      <th>2</th>\n",
       "      <td>Frankie Muniz</td>\n",
       "      <td>5.0</td>\n",
       "      <td>300</td>\n",
       "      <td>Actor - Malcolm In The Middle</td>\n",
       "      <td>American Actor - Malcolm in the Middle, Deuces...</td>\n",
       "      <td>11 Reviews</td>\n",
       "      <td>https://www.cameo.com/frankiemuniz</td>\n",
       "    </tr>\n",
       "    <tr>\n",
       "      <th>3</th>\n",
       "      <td>Katharine McPhee and David Foster</td>\n",
       "      <td>Not Found</td>\n",
       "      <td>82</td>\n",
       "      <td>Music Icons</td>\n",
       "      <td>Not Found</td>\n",
       "      <td>Not Found</td>\n",
       "      <td>https://www.cameo.com/katanddavid</td>\n",
       "    </tr>\n",
       "    <tr>\n",
       "      <th>4</th>\n",
       "      <td>Brian Cox</td>\n",
       "      <td>5.0</td>\n",
       "      <td>214</td>\n",
       "      <td>Actor - Succession, X-Men, Bourne Supremacy</td>\n",
       "      <td>Brian won a Golden Globe for his performance a...</td>\n",
       "      <td>7 Reviews</td>\n",
       "      <td>https://www.cameo.com/brian_cox</td>\n",
       "    </tr>\n",
       "    <tr>\n",
       "      <th>...</th>\n",
       "      <td>...</td>\n",
       "      <td>...</td>\n",
       "      <td>...</td>\n",
       "      <td>...</td>\n",
       "      <td>...</td>\n",
       "      <td>...</td>\n",
       "      <td>...</td>\n",
       "    </tr>\n",
       "    <tr>\n",
       "      <th>599</th>\n",
       "      <td>Jim Brown</td>\n",
       "      <td>4.9</td>\n",
       "      <td>164</td>\n",
       "      <td>NFL Hall of Famer - Cleveland Browns</td>\n",
       "      <td>Not Found</td>\n",
       "      <td>10 Reviews</td>\n",
       "      <td>https://www.cameo.com/jimbrown?nodeId=featured...</td>\n",
       "    </tr>\n",
       "    <tr>\n",
       "      <th>610</th>\n",
       "      <td>Mike Epps</td>\n",
       "      <td>5.0</td>\n",
       "      <td>681</td>\n",
       "      <td>Comedian - Actor</td>\n",
       "      <td>For promos &amp; endorsements, please book at my b...</td>\n",
       "      <td>7 Reviews</td>\n",
       "      <td>https://www.cameo.com/mikeepps?nodeId=featured...</td>\n",
       "    </tr>\n",
       "    <tr>\n",
       "      <th>611</th>\n",
       "      <td>Ezekiel Elliott</td>\n",
       "      <td>5.0</td>\n",
       "      <td>318</td>\n",
       "      <td>NFL - Dallas Cowboys</td>\n",
       "      <td>Dallas Cowboys Running Back #21 | Ohio State B...</td>\n",
       "      <td>5 Reviews</td>\n",
       "      <td>https://www.cameo.com/ezekielelliott?nodeId=fe...</td>\n",
       "    </tr>\n",
       "    <tr>\n",
       "      <th>612</th>\n",
       "      <td>Bam Adebayo</td>\n",
       "      <td>5.0</td>\n",
       "      <td>215</td>\n",
       "      <td>NBA - Miami Heat</td>\n",
       "      <td>“Let no one look down on your youthfulness, bu...</td>\n",
       "      <td>4 Reviews</td>\n",
       "      <td>https://www.cameo.com/bam1of1?nodeId=featured&amp;...</td>\n",
       "    </tr>\n",
       "    <tr>\n",
       "      <th>613</th>\n",
       "      <td>Katharine McPhee and David Foster</td>\n",
       "      <td>Not Found</td>\n",
       "      <td>82</td>\n",
       "      <td>Music Icons</td>\n",
       "      <td>Not Found</td>\n",
       "      <td>Not Found</td>\n",
       "      <td>https://www.cameo.com/katanddavid?nodeId=featu...</td>\n",
       "    </tr>\n",
       "  </tbody>\n",
       "</table>\n",
       "<p>494 rows × 7 columns</p>\n",
       "</div>"
      ],
      "text/plain": [
       "                                  name actor_rating actor_fan  \\\n",
       "0                    Savannah Chrisley          5.0        35   \n",
       "1                       Paddy Pimblett    Not Found        18   \n",
       "2                        Frankie Muniz          5.0       300   \n",
       "3    Katharine McPhee and David Foster    Not Found        82   \n",
       "4                            Brian Cox          5.0       214   \n",
       "..                                 ...          ...       ...   \n",
       "599                          Jim Brown          4.9       164   \n",
       "610                          Mike Epps          5.0       681   \n",
       "611                    Ezekiel Elliott          5.0       318   \n",
       "612                        Bam Adebayo          5.0       215   \n",
       "613  Katharine McPhee and David Foster    Not Found        82   \n",
       "\n",
       "                                 actor_subheader  \\\n",
       "0               Reality TV - Chrisley Knows Best   \n",
       "1                                    MMA Fighter   \n",
       "2                  Actor - Malcolm In The Middle   \n",
       "3                                    Music Icons   \n",
       "4    Actor - Succession, X-Men, Bourne Supremacy   \n",
       "..                                           ...   \n",
       "599         NFL Hall of Famer - Cleveland Browns   \n",
       "610                             Comedian - Actor   \n",
       "611                         NFL - Dallas Cowboys   \n",
       "612                             NBA - Miami Heat   \n",
       "613                                  Music Icons   \n",
       "\n",
       "                                            actor_desc number_review  \\\n",
       "0    Chek out my 💝NEW fragrance: Sassy | \\nChrisley...     2 Reviews   \n",
       "1                                          MMA Fighter     Not Found   \n",
       "2    American Actor - Malcolm in the Middle, Deuces...    11 Reviews   \n",
       "3                                            Not Found     Not Found   \n",
       "4    Brian won a Golden Globe for his performance a...     7 Reviews   \n",
       "..                                                 ...           ...   \n",
       "599                                          Not Found    10 Reviews   \n",
       "610  For promos & endorsements, please book at my b...     7 Reviews   \n",
       "611  Dallas Cowboys Running Back #21 | Ohio State B...     5 Reviews   \n",
       "612  “Let no one look down on your youthfulness, bu...     4 Reviews   \n",
       "613                                          Not Found     Not Found   \n",
       "\n",
       "                                             full_link  \n",
       "0               https://www.cameo.com/savannahchrisley  \n",
       "1                  https://www.cameo.com/paddythebaddy  \n",
       "2                   https://www.cameo.com/frankiemuniz  \n",
       "3                    https://www.cameo.com/katanddavid  \n",
       "4                      https://www.cameo.com/brian_cox  \n",
       "..                                                 ...  \n",
       "599  https://www.cameo.com/jimbrown?nodeId=featured...  \n",
       "610  https://www.cameo.com/mikeepps?nodeId=featured...  \n",
       "611  https://www.cameo.com/ezekielelliott?nodeId=fe...  \n",
       "612  https://www.cameo.com/bam1of1?nodeId=featured&...  \n",
       "613  https://www.cameo.com/katanddavid?nodeId=featu...  \n",
       "\n",
       "[494 rows x 7 columns]"
      ]
     },
     "execution_count": 59,
     "metadata": {},
     "output_type": "execute_result"
    }
   ],
   "source": [
    "final_data"
   ]
  },
  {
   "cell_type": "code",
   "execution_count": 60,
   "id": "8ead3f47",
   "metadata": {},
   "outputs": [
    {
     "data": {
      "text/plain": [
       "Comedian                 8\n",
       "Rapper                   6\n",
       "Actor                    4\n",
       "Actor - Comedian         4\n",
       "Comedian - Actor         4\n",
       "                        ..\n",
       "Lifetime - Dance Moms    1\n",
       "Actor - Comedian         1\n",
       "Actress - Broadway       1\n",
       "Actor - Baywatch         1\n",
       "Actor - Sopranos         1\n",
       "Name: actor_subheader, Length: 432, dtype: int64"
      ]
     },
     "execution_count": 60,
     "metadata": {},
     "output_type": "execute_result"
    }
   ],
   "source": [
    "final_data['actor_subheader'].value_counts()"
   ]
  },
  {
   "cell_type": "code",
   "execution_count": 61,
   "id": "484398cb",
   "metadata": {},
   "outputs": [
    {
     "data": {
      "text/plain": [
       "name               object\n",
       "actor_rating       object\n",
       "actor_fan          object\n",
       "actor_subheader    object\n",
       "actor_desc         object\n",
       "number_review      object\n",
       "full_link          object\n",
       "dtype: object"
      ]
     },
     "execution_count": 61,
     "metadata": {},
     "output_type": "execute_result"
    }
   ],
   "source": [
    "final_data.dtypes"
   ]
  },
  {
   "cell_type": "code",
   "execution_count": 62,
   "id": "2c735b06",
   "metadata": {},
   "outputs": [
    {
     "name": "stderr",
     "output_type": "stream",
     "text": [
      "<ipython-input-62-d89fa45efdfc>:1: SettingWithCopyWarning: \n",
      "A value is trying to be set on a copy of a slice from a DataFrame.\n",
      "Try using .loc[row_indexer,col_indexer] = value instead\n",
      "\n",
      "See the caveats in the documentation: https://pandas.pydata.org/pandas-docs/stable/user_guide/indexing.html#returning-a-view-versus-a-copy\n",
      "  final_data['actor_rating'] = final_data['actor_rating'].str.replace('Not Found','0').astype(float)\n"
     ]
    },
    {
     "data": {
      "text/html": [
       "<div>\n",
       "<style scoped>\n",
       "    .dataframe tbody tr th:only-of-type {\n",
       "        vertical-align: middle;\n",
       "    }\n",
       "\n",
       "    .dataframe tbody tr th {\n",
       "        vertical-align: top;\n",
       "    }\n",
       "\n",
       "    .dataframe thead th {\n",
       "        text-align: right;\n",
       "    }\n",
       "</style>\n",
       "<table border=\"1\" class=\"dataframe\">\n",
       "  <thead>\n",
       "    <tr style=\"text-align: right;\">\n",
       "      <th></th>\n",
       "      <th>name</th>\n",
       "      <th>actor_rating</th>\n",
       "      <th>actor_fan</th>\n",
       "      <th>actor_subheader</th>\n",
       "      <th>actor_desc</th>\n",
       "      <th>number_review</th>\n",
       "      <th>full_link</th>\n",
       "    </tr>\n",
       "  </thead>\n",
       "  <tbody>\n",
       "    <tr>\n",
       "      <th>0</th>\n",
       "      <td>Savannah Chrisley</td>\n",
       "      <td>5.0</td>\n",
       "      <td>35</td>\n",
       "      <td>Reality TV - Chrisley Knows Best</td>\n",
       "      <td>Chek out my 💝NEW fragrance: Sassy | \\nChrisley...</td>\n",
       "      <td>2 Reviews</td>\n",
       "      <td>https://www.cameo.com/savannahchrisley</td>\n",
       "    </tr>\n",
       "    <tr>\n",
       "      <th>1</th>\n",
       "      <td>Paddy Pimblett</td>\n",
       "      <td>0.0</td>\n",
       "      <td>18</td>\n",
       "      <td>MMA Fighter</td>\n",
       "      <td>MMA Fighter</td>\n",
       "      <td>Not Found</td>\n",
       "      <td>https://www.cameo.com/paddythebaddy</td>\n",
       "    </tr>\n",
       "    <tr>\n",
       "      <th>2</th>\n",
       "      <td>Frankie Muniz</td>\n",
       "      <td>5.0</td>\n",
       "      <td>300</td>\n",
       "      <td>Actor - Malcolm In The Middle</td>\n",
       "      <td>American Actor - Malcolm in the Middle, Deuces...</td>\n",
       "      <td>11 Reviews</td>\n",
       "      <td>https://www.cameo.com/frankiemuniz</td>\n",
       "    </tr>\n",
       "    <tr>\n",
       "      <th>3</th>\n",
       "      <td>Katharine McPhee and David Foster</td>\n",
       "      <td>0.0</td>\n",
       "      <td>82</td>\n",
       "      <td>Music Icons</td>\n",
       "      <td>Not Found</td>\n",
       "      <td>Not Found</td>\n",
       "      <td>https://www.cameo.com/katanddavid</td>\n",
       "    </tr>\n",
       "    <tr>\n",
       "      <th>4</th>\n",
       "      <td>Brian Cox</td>\n",
       "      <td>5.0</td>\n",
       "      <td>214</td>\n",
       "      <td>Actor - Succession, X-Men, Bourne Supremacy</td>\n",
       "      <td>Brian won a Golden Globe for his performance a...</td>\n",
       "      <td>7 Reviews</td>\n",
       "      <td>https://www.cameo.com/brian_cox</td>\n",
       "    </tr>\n",
       "  </tbody>\n",
       "</table>\n",
       "</div>"
      ],
      "text/plain": [
       "                                name  actor_rating actor_fan  \\\n",
       "0                  Savannah Chrisley           5.0        35   \n",
       "1                     Paddy Pimblett           0.0        18   \n",
       "2                      Frankie Muniz           5.0       300   \n",
       "3  Katharine McPhee and David Foster           0.0        82   \n",
       "4                          Brian Cox           5.0       214   \n",
       "\n",
       "                               actor_subheader  \\\n",
       "0             Reality TV - Chrisley Knows Best   \n",
       "1                                  MMA Fighter   \n",
       "2                Actor - Malcolm In The Middle   \n",
       "3                                  Music Icons   \n",
       "4  Actor - Succession, X-Men, Bourne Supremacy   \n",
       "\n",
       "                                          actor_desc number_review  \\\n",
       "0  Chek out my 💝NEW fragrance: Sassy | \\nChrisley...     2 Reviews   \n",
       "1                                        MMA Fighter     Not Found   \n",
       "2  American Actor - Malcolm in the Middle, Deuces...    11 Reviews   \n",
       "3                                          Not Found     Not Found   \n",
       "4  Brian won a Golden Globe for his performance a...     7 Reviews   \n",
       "\n",
       "                                full_link  \n",
       "0  https://www.cameo.com/savannahchrisley  \n",
       "1     https://www.cameo.com/paddythebaddy  \n",
       "2      https://www.cameo.com/frankiemuniz  \n",
       "3       https://www.cameo.com/katanddavid  \n",
       "4         https://www.cameo.com/brian_cox  "
      ]
     },
     "execution_count": 62,
     "metadata": {},
     "output_type": "execute_result"
    }
   ],
   "source": [
    "final_data['actor_rating'] = final_data['actor_rating'].str.replace('Not Found','0').astype(float)\n",
    "final_data.head()"
   ]
  },
  {
   "cell_type": "code",
   "execution_count": 63,
   "id": "1a16c4d4",
   "metadata": {},
   "outputs": [
    {
     "data": {
      "text/plain": [
       "name                object\n",
       "actor_rating       float64\n",
       "actor_fan           object\n",
       "actor_subheader     object\n",
       "actor_desc          object\n",
       "number_review       object\n",
       "full_link           object\n",
       "dtype: object"
      ]
     },
     "execution_count": 63,
     "metadata": {},
     "output_type": "execute_result"
    }
   ],
   "source": [
    "final_data.dtypes"
   ]
  },
  {
   "cell_type": "code",
   "execution_count": 64,
   "id": "b57b5a58",
   "metadata": {},
   "outputs": [
    {
     "name": "stderr",
     "output_type": "stream",
     "text": [
      "<ipython-input-64-e8eed3e525ed>:1: SettingWithCopyWarning: \n",
      "A value is trying to be set on a copy of a slice from a DataFrame.\n",
      "Try using .loc[row_indexer,col_indexer] = value instead\n",
      "\n",
      "See the caveats in the documentation: https://pandas.pydata.org/pandas-docs/stable/user_guide/indexing.html#returning-a-view-versus-a-copy\n",
      "  final_data['number_review'] = final_data['number_review'].str.replace('Reviews','')\n",
      "<ipython-input-64-e8eed3e525ed>:2: SettingWithCopyWarning: \n",
      "A value is trying to be set on a copy of a slice from a DataFrame.\n",
      "Try using .loc[row_indexer,col_indexer] = value instead\n",
      "\n",
      "See the caveats in the documentation: https://pandas.pydata.org/pandas-docs/stable/user_guide/indexing.html#returning-a-view-versus-a-copy\n",
      "  final_data['number_review'] = final_data['number_review'].str.replace('Not Found','0').astype(float)\n"
     ]
    },
    {
     "data": {
      "text/plain": [
       "name                object\n",
       "actor_rating       float64\n",
       "actor_fan           object\n",
       "actor_subheader     object\n",
       "actor_desc          object\n",
       "number_review      float64\n",
       "full_link           object\n",
       "dtype: object"
      ]
     },
     "execution_count": 64,
     "metadata": {},
     "output_type": "execute_result"
    }
   ],
   "source": [
    "final_data['number_review'] = final_data['number_review'].str.replace('Reviews','')\n",
    "final_data['number_review'] = final_data['number_review'].str.replace('Not Found','0').astype(float)\n",
    "final_data.dtypes"
   ]
  },
  {
   "cell_type": "code",
   "execution_count": 65,
   "id": "a74b606c",
   "metadata": {},
   "outputs": [
    {
     "data": {
      "text/plain": [
       "1k     83\n",
       "2k     35\n",
       "3k      8\n",
       "4k      5\n",
       "122     5\n",
       "       ..\n",
       "102     1\n",
       "464     1\n",
       "200     1\n",
       "473     1\n",
       "827     1\n",
       "Name: actor_fan, Length: 280, dtype: int64"
      ]
     },
     "execution_count": 65,
     "metadata": {},
     "output_type": "execute_result"
    }
   ],
   "source": [
    "final_data['actor_fan'].value_counts()"
   ]
  },
  {
   "cell_type": "code",
   "execution_count": 66,
   "id": "cbbf3929",
   "metadata": {},
   "outputs": [
    {
     "name": "stderr",
     "output_type": "stream",
     "text": [
      "<ipython-input-66-964d547375d8>:1: SettingWithCopyWarning: \n",
      "A value is trying to be set on a copy of a slice from a DataFrame.\n",
      "Try using .loc[row_indexer,col_indexer] = value instead\n",
      "\n",
      "See the caveats in the documentation: https://pandas.pydata.org/pandas-docs/stable/user_guide/indexing.html#returning-a-view-versus-a-copy\n",
      "  final_data['actor_fan'] = final_data['actor_fan'].str.replace('k','000').astype(int)\n"
     ]
    },
    {
     "data": {
      "text/plain": [
       "name                object\n",
       "actor_rating       float64\n",
       "actor_fan            int32\n",
       "actor_subheader     object\n",
       "actor_desc          object\n",
       "number_review      float64\n",
       "full_link           object\n",
       "dtype: object"
      ]
     },
     "execution_count": 66,
     "metadata": {},
     "output_type": "execute_result"
    }
   ],
   "source": [
    "final_data['actor_fan'] = final_data['actor_fan'].str.replace('k','000').astype(int)\n",
    "final_data.dtypes"
   ]
  },
  {
   "cell_type": "markdown",
   "id": "8a3f33a0",
   "metadata": {},
   "source": [
    "### Best celebrities based on rating greater than >=3 & having no. of fans greater than >=200 & should have a reviews more than >=200"
   ]
  },
  {
   "cell_type": "code",
   "execution_count": 72,
   "id": "2fadee9f",
   "metadata": {},
   "outputs": [
    {
     "data": {
      "text/html": [
       "<div>\n",
       "<style scoped>\n",
       "    .dataframe tbody tr th:only-of-type {\n",
       "        vertical-align: middle;\n",
       "    }\n",
       "\n",
       "    .dataframe tbody tr th {\n",
       "        vertical-align: top;\n",
       "    }\n",
       "\n",
       "    .dataframe thead th {\n",
       "        text-align: right;\n",
       "    }\n",
       "</style>\n",
       "<table border=\"1\" class=\"dataframe\">\n",
       "  <thead>\n",
       "    <tr style=\"text-align: right;\">\n",
       "      <th></th>\n",
       "      <th>name</th>\n",
       "      <th>actor_rating</th>\n",
       "      <th>actor_fan</th>\n",
       "      <th>actor_subheader</th>\n",
       "      <th>actor_desc</th>\n",
       "      <th>number_review</th>\n",
       "      <th>full_link</th>\n",
       "    </tr>\n",
       "  </thead>\n",
       "  <tbody>\n",
       "    <tr>\n",
       "      <th>10</th>\n",
       "      <td>Mick Foley</td>\n",
       "      <td>5.0</td>\n",
       "      <td>4000</td>\n",
       "      <td>Pro Wrestling Legend</td>\n",
       "      <td>I LOVE MAKING THESE VIDEOS - and I think it sh...</td>\n",
       "      <td>3501.0</td>\n",
       "      <td>https://www.cameo.com/mickfoley?nodeId=feature...</td>\n",
       "    </tr>\n",
       "    <tr>\n",
       "      <th>11</th>\n",
       "      <td>Ray Abruzzo</td>\n",
       "      <td>5.0</td>\n",
       "      <td>399</td>\n",
       "      <td>Actor - Sopranos</td>\n",
       "      <td>Been working in this biz for 40 yrs. Been fort...</td>\n",
       "      <td>454.0</td>\n",
       "      <td>https://www.cameo.com/realrayabruzzo?nodeId=fe...</td>\n",
       "    </tr>\n",
       "    <tr>\n",
       "      <th>12</th>\n",
       "      <td>Diamond Dallas Page aka DDP</td>\n",
       "      <td>5.0</td>\n",
       "      <td>993</td>\n",
       "      <td>Former Professional Wrestler; Yoga Instructor</td>\n",
       "      <td>DDP, Diamond Dallas Page WWE HOF CEO of DDPYog...</td>\n",
       "      <td>541.0</td>\n",
       "      <td>https://www.cameo.com/diamonddallaspage?nodeId...</td>\n",
       "    </tr>\n",
       "    <tr>\n",
       "      <th>13</th>\n",
       "      <td>Chris Hansen</td>\n",
       "      <td>5.0</td>\n",
       "      <td>2000</td>\n",
       "      <td>TV Star</td>\n",
       "      <td>Not Found</td>\n",
       "      <td>3273.0</td>\n",
       "      <td>https://www.cameo.com/chansen?nodeId=featured&amp;...</td>\n",
       "    </tr>\n",
       "    <tr>\n",
       "      <th>14</th>\n",
       "      <td>Mark McGrath</td>\n",
       "      <td>5.0</td>\n",
       "      <td>1000</td>\n",
       "      <td>Singer - Sugar Ray</td>\n",
       "      <td>Lead Singer and Songwriter for the band Sugar ...</td>\n",
       "      <td>1139.0</td>\n",
       "      <td>https://www.cameo.com/markmcgrath?nodeId=featu...</td>\n",
       "    </tr>\n",
       "    <tr>\n",
       "      <th>...</th>\n",
       "      <td>...</td>\n",
       "      <td>...</td>\n",
       "      <td>...</td>\n",
       "      <td>...</td>\n",
       "      <td>...</td>\n",
       "      <td>...</td>\n",
       "      <td>...</td>\n",
       "    </tr>\n",
       "    <tr>\n",
       "      <th>542</th>\n",
       "      <td>Johnny Bananas</td>\n",
       "      <td>4.9</td>\n",
       "      <td>705</td>\n",
       "      <td>MTV - The Challenge</td>\n",
       "      <td>Born and raised in Orange County California, I...</td>\n",
       "      <td>445.0</td>\n",
       "      <td>https://www.cameo.com/johnnybananas?nodeId=fea...</td>\n",
       "    </tr>\n",
       "    <tr>\n",
       "      <th>545</th>\n",
       "      <td>Kristian Nairn</td>\n",
       "      <td>5.0</td>\n",
       "      <td>827</td>\n",
       "      <td>Actor - Game of Thrones</td>\n",
       "      <td>Hey !  Looking forward to saying hello , helpi...</td>\n",
       "      <td>303.0</td>\n",
       "      <td>https://www.cameo.com/kristiannairn?nodeId=fea...</td>\n",
       "    </tr>\n",
       "    <tr>\n",
       "      <th>560</th>\n",
       "      <td>Abby Lee Miller</td>\n",
       "      <td>5.0</td>\n",
       "      <td>1000</td>\n",
       "      <td>Lifetime - Dance Moms</td>\n",
       "      <td>The Abby Lee Dance Company\\nOwner/ Director/ S...</td>\n",
       "      <td>413.0</td>\n",
       "      <td>https://www.cameo.com/therealabbylee?nodeId=fe...</td>\n",
       "    </tr>\n",
       "    <tr>\n",
       "      <th>564</th>\n",
       "      <td>Pete Alonso</td>\n",
       "      <td>4.9</td>\n",
       "      <td>550</td>\n",
       "      <td>MLB - New York Mets</td>\n",
       "      <td>Polar Bear | 1B of the New York Mets | 2019 Ro...</td>\n",
       "      <td>269.0</td>\n",
       "      <td>https://www.cameo.com/petealonso?nodeId=featur...</td>\n",
       "    </tr>\n",
       "    <tr>\n",
       "      <th>572</th>\n",
       "      <td>Sean Paul</td>\n",
       "      <td>4.9</td>\n",
       "      <td>1000</td>\n",
       "      <td>Musician - Reggae - DanceHall</td>\n",
       "      <td>Not Found</td>\n",
       "      <td>304.0</td>\n",
       "      <td>https://www.cameo.com/duttypaul?nodeId=feature...</td>\n",
       "    </tr>\n",
       "  </tbody>\n",
       "</table>\n",
       "<p>175 rows × 7 columns</p>\n",
       "</div>"
      ],
      "text/plain": [
       "                            name  actor_rating  actor_fan  \\\n",
       "10                    Mick Foley           5.0       4000   \n",
       "11                   Ray Abruzzo           5.0        399   \n",
       "12   Diamond Dallas Page aka DDP           5.0        993   \n",
       "13                  Chris Hansen           5.0       2000   \n",
       "14                  Mark McGrath           5.0       1000   \n",
       "..                           ...           ...        ...   \n",
       "542               Johnny Bananas           4.9        705   \n",
       "545               Kristian Nairn           5.0        827   \n",
       "560              Abby Lee Miller           5.0       1000   \n",
       "564                  Pete Alonso           4.9        550   \n",
       "572                    Sean Paul           4.9       1000   \n",
       "\n",
       "                                   actor_subheader  \\\n",
       "10                            Pro Wrestling Legend   \n",
       "11                                Actor - Sopranos   \n",
       "12   Former Professional Wrestler; Yoga Instructor   \n",
       "13                                         TV Star   \n",
       "14                              Singer - Sugar Ray   \n",
       "..                                             ...   \n",
       "542                            MTV - The Challenge   \n",
       "545                        Actor - Game of Thrones   \n",
       "560                          Lifetime - Dance Moms   \n",
       "564                            MLB - New York Mets   \n",
       "572                 Musician - Reggae - DanceHall    \n",
       "\n",
       "                                            actor_desc  number_review  \\\n",
       "10   I LOVE MAKING THESE VIDEOS - and I think it sh...         3501.0   \n",
       "11   Been working in this biz for 40 yrs. Been fort...          454.0   \n",
       "12   DDP, Diamond Dallas Page WWE HOF CEO of DDPYog...          541.0   \n",
       "13                                           Not Found         3273.0   \n",
       "14   Lead Singer and Songwriter for the band Sugar ...         1139.0   \n",
       "..                                                 ...            ...   \n",
       "542  Born and raised in Orange County California, I...          445.0   \n",
       "545  Hey !  Looking forward to saying hello , helpi...          303.0   \n",
       "560  The Abby Lee Dance Company\\nOwner/ Director/ S...          413.0   \n",
       "564  Polar Bear | 1B of the New York Mets | 2019 Ro...          269.0   \n",
       "572                                          Not Found          304.0   \n",
       "\n",
       "                                             full_link  \n",
       "10   https://www.cameo.com/mickfoley?nodeId=feature...  \n",
       "11   https://www.cameo.com/realrayabruzzo?nodeId=fe...  \n",
       "12   https://www.cameo.com/diamonddallaspage?nodeId...  \n",
       "13   https://www.cameo.com/chansen?nodeId=featured&...  \n",
       "14   https://www.cameo.com/markmcgrath?nodeId=featu...  \n",
       "..                                                 ...  \n",
       "542  https://www.cameo.com/johnnybananas?nodeId=fea...  \n",
       "545  https://www.cameo.com/kristiannairn?nodeId=fea...  \n",
       "560  https://www.cameo.com/therealabbylee?nodeId=fe...  \n",
       "564  https://www.cameo.com/petealonso?nodeId=featur...  \n",
       "572  https://www.cameo.com/duttypaul?nodeId=feature...  \n",
       "\n",
       "[175 rows x 7 columns]"
      ]
     },
     "execution_count": 72,
     "metadata": {},
     "output_type": "execute_result"
    }
   ],
   "source": [
    "top_actor = final_data[(final_data['actor_rating']>=3) & (final_data['actor_fan']>=200) & (final_data['number_review']>=200)]\n",
    "top_actor"
   ]
  },
  {
   "cell_type": "code",
   "execution_count": 73,
   "id": "6501b4c1",
   "metadata": {},
   "outputs": [
    {
     "data": {
      "text/html": [
       "<div>\n",
       "<style scoped>\n",
       "    .dataframe tbody tr th:only-of-type {\n",
       "        vertical-align: middle;\n",
       "    }\n",
       "\n",
       "    .dataframe tbody tr th {\n",
       "        vertical-align: top;\n",
       "    }\n",
       "\n",
       "    .dataframe thead th {\n",
       "        text-align: right;\n",
       "    }\n",
       "</style>\n",
       "<table border=\"1\" class=\"dataframe\">\n",
       "  <thead>\n",
       "    <tr style=\"text-align: right;\">\n",
       "      <th></th>\n",
       "      <th>name</th>\n",
       "      <th>actor_rating</th>\n",
       "      <th>actor_fan</th>\n",
       "      <th>actor_subheader</th>\n",
       "      <th>actor_desc</th>\n",
       "      <th>number_review</th>\n",
       "      <th>full_link</th>\n",
       "    </tr>\n",
       "  </thead>\n",
       "  <tbody>\n",
       "    <tr>\n",
       "      <th>0</th>\n",
       "      <td>Mick Foley</td>\n",
       "      <td>5.0</td>\n",
       "      <td>4000</td>\n",
       "      <td>Pro Wrestling Legend</td>\n",
       "      <td>I LOVE MAKING THESE VIDEOS - and I think it sh...</td>\n",
       "      <td>3501.0</td>\n",
       "      <td>https://www.cameo.com/mickfoley?nodeId=feature...</td>\n",
       "    </tr>\n",
       "    <tr>\n",
       "      <th>1</th>\n",
       "      <td>Ben Sinclair</td>\n",
       "      <td>5.0</td>\n",
       "      <td>232</td>\n",
       "      <td>Actor - High Maintenance</td>\n",
       "      <td>I’m not a flat-earther, but I feel for ’em \\n💁...</td>\n",
       "      <td>204.0</td>\n",
       "      <td>https://www.cameo.com/bathroomremodel?nodeId=f...</td>\n",
       "    </tr>\n",
       "    <tr>\n",
       "      <th>2</th>\n",
       "      <td>Billy Boyd</td>\n",
       "      <td>5.0</td>\n",
       "      <td>2000</td>\n",
       "      <td>Actor - Lord of the Rings, Outlander</td>\n",
       "      <td>The official Cameo of Actor &amp; Musician Billy B...</td>\n",
       "      <td>613.0</td>\n",
       "      <td>https://www.cameo.com/billyboyd?nodeId=feature...</td>\n",
       "    </tr>\n",
       "    <tr>\n",
       "      <th>3</th>\n",
       "      <td>Steve Burton</td>\n",
       "      <td>5.0</td>\n",
       "      <td>1000</td>\n",
       "      <td>Actor - General Hospital - The Young and The R...</td>\n",
       "      <td>Not Found</td>\n",
       "      <td>529.0</td>\n",
       "      <td>https://www.cameo.com/steveburton?nodeId=featu...</td>\n",
       "    </tr>\n",
       "    <tr>\n",
       "      <th>4</th>\n",
       "      <td>Justin Willman</td>\n",
       "      <td>5.0</td>\n",
       "      <td>403</td>\n",
       "      <td>Magician, Netflix - Magic for Humans</td>\n",
       "      <td>Magician guy from Magic for Humans on Netflix!...</td>\n",
       "      <td>219.0</td>\n",
       "      <td>https://www.cameo.com/justinwillman?nodeId=fea...</td>\n",
       "    </tr>\n",
       "    <tr>\n",
       "      <th>...</th>\n",
       "      <td>...</td>\n",
       "      <td>...</td>\n",
       "      <td>...</td>\n",
       "      <td>...</td>\n",
       "      <td>...</td>\n",
       "      <td>...</td>\n",
       "      <td>...</td>\n",
       "    </tr>\n",
       "    <tr>\n",
       "      <th>170</th>\n",
       "      <td>Tommy Chong</td>\n",
       "      <td>4.8</td>\n",
       "      <td>3000</td>\n",
       "      <td>Comedian - Musician - Actor - Writer</td>\n",
       "      <td>Living legend</td>\n",
       "      <td>788.0</td>\n",
       "      <td>https://www.cameo.com/tommychong?nodeId=featur...</td>\n",
       "    </tr>\n",
       "    <tr>\n",
       "      <th>171</th>\n",
       "      <td>Teresa Giudice</td>\n",
       "      <td>4.8</td>\n",
       "      <td>687</td>\n",
       "      <td>Bravo - Real Housewives of New Jersey</td>\n",
       "      <td>Not Found</td>\n",
       "      <td>256.0</td>\n",
       "      <td>https://www.cameo.com/teresagiudice?nodeId=fea...</td>\n",
       "    </tr>\n",
       "    <tr>\n",
       "      <th>172</th>\n",
       "      <td>Pauly Shore</td>\n",
       "      <td>4.8</td>\n",
       "      <td>994</td>\n",
       "      <td>Comedian &amp; Actor - Bio-Dome, Encino Man</td>\n",
       "      <td>Hey BUUDDY! It’s me Pauly. My fans are the bes...</td>\n",
       "      <td>214.0</td>\n",
       "      <td>https://www.cameo.com/paulyshore?nodeId=featur...</td>\n",
       "    </tr>\n",
       "    <tr>\n",
       "      <th>173</th>\n",
       "      <td>RiFF RAFF</td>\n",
       "      <td>4.7</td>\n",
       "      <td>1000</td>\n",
       "      <td>Rapper</td>\n",
       "      <td>Write out a script of exactly what you would l...</td>\n",
       "      <td>965.0</td>\n",
       "      <td>https://www.cameo.com/riffraff?nodeId=featured...</td>\n",
       "    </tr>\n",
       "    <tr>\n",
       "      <th>174</th>\n",
       "      <td>Lindsay Lohan</td>\n",
       "      <td>4.7</td>\n",
       "      <td>4000</td>\n",
       "      <td>Actress - Parent Trap, Mean Girls</td>\n",
       "      <td>Lindsay Lohan is an international actress, mod...</td>\n",
       "      <td>208.0</td>\n",
       "      <td>https://www.cameo.com/lindsaylohan?nodeId=feat...</td>\n",
       "    </tr>\n",
       "  </tbody>\n",
       "</table>\n",
       "<p>175 rows × 7 columns</p>\n",
       "</div>"
      ],
      "text/plain": [
       "               name  actor_rating  actor_fan  \\\n",
       "0        Mick Foley           5.0       4000   \n",
       "1      Ben Sinclair           5.0        232   \n",
       "2        Billy Boyd           5.0       2000   \n",
       "3      Steve Burton           5.0       1000   \n",
       "4    Justin Willman           5.0        403   \n",
       "..              ...           ...        ...   \n",
       "170     Tommy Chong           4.8       3000   \n",
       "171  Teresa Giudice           4.8        687   \n",
       "172     Pauly Shore           4.8        994   \n",
       "173       RiFF RAFF           4.7       1000   \n",
       "174   Lindsay Lohan           4.7       4000   \n",
       "\n",
       "                                       actor_subheader  \\\n",
       "0                                 Pro Wrestling Legend   \n",
       "1                             Actor - High Maintenance   \n",
       "2                 Actor - Lord of the Rings, Outlander   \n",
       "3    Actor - General Hospital - The Young and The R...   \n",
       "4                 Magician, Netflix - Magic for Humans   \n",
       "..                                                 ...   \n",
       "170               Comedian - Musician - Actor - Writer   \n",
       "171              Bravo - Real Housewives of New Jersey   \n",
       "172            Comedian & Actor - Bio-Dome, Encino Man   \n",
       "173                                             Rapper   \n",
       "174                  Actress - Parent Trap, Mean Girls   \n",
       "\n",
       "                                            actor_desc  number_review  \\\n",
       "0    I LOVE MAKING THESE VIDEOS - and I think it sh...         3501.0   \n",
       "1    I’m not a flat-earther, but I feel for ’em \\n💁...          204.0   \n",
       "2    The official Cameo of Actor & Musician Billy B...          613.0   \n",
       "3                                            Not Found          529.0   \n",
       "4    Magician guy from Magic for Humans on Netflix!...          219.0   \n",
       "..                                                 ...            ...   \n",
       "170                                      Living legend          788.0   \n",
       "171                                          Not Found          256.0   \n",
       "172  Hey BUUDDY! It’s me Pauly. My fans are the bes...          214.0   \n",
       "173  Write out a script of exactly what you would l...          965.0   \n",
       "174  Lindsay Lohan is an international actress, mod...          208.0   \n",
       "\n",
       "                                             full_link  \n",
       "0    https://www.cameo.com/mickfoley?nodeId=feature...  \n",
       "1    https://www.cameo.com/bathroomremodel?nodeId=f...  \n",
       "2    https://www.cameo.com/billyboyd?nodeId=feature...  \n",
       "3    https://www.cameo.com/steveburton?nodeId=featu...  \n",
       "4    https://www.cameo.com/justinwillman?nodeId=fea...  \n",
       "..                                                 ...  \n",
       "170  https://www.cameo.com/tommychong?nodeId=featur...  \n",
       "171  https://www.cameo.com/teresagiudice?nodeId=fea...  \n",
       "172  https://www.cameo.com/paulyshore?nodeId=featur...  \n",
       "173  https://www.cameo.com/riffraff?nodeId=featured...  \n",
       "174  https://www.cameo.com/lindsaylohan?nodeId=feat...  \n",
       "\n",
       "[175 rows x 7 columns]"
      ]
     },
     "execution_count": 73,
     "metadata": {},
     "output_type": "execute_result"
    }
   ],
   "source": [
    "sorted_top_actor = top_actor.sort_values(\"actor_rating\", ascending=False).reset_index().drop('index',1)\n",
    "sorted_top_actor"
   ]
  },
  {
   "cell_type": "markdown",
   "id": "41d1dbff",
   "metadata": {},
   "source": [
    "### Import the all libraries require for EDA"
   ]
  },
  {
   "cell_type": "code",
   "execution_count": 74,
   "id": "1bc1cffd",
   "metadata": {},
   "outputs": [
    {
     "data": {
      "text/html": [
       "        <script type=\"text/javascript\">\n",
       "        window.PlotlyConfig = {MathJaxConfig: 'local'};\n",
       "        if (window.MathJax) {MathJax.Hub.Config({SVG: {font: \"STIX-Web\"}});}\n",
       "        if (typeof require !== 'undefined') {\n",
       "        require.undef(\"plotly\");\n",
       "        requirejs.config({\n",
       "            paths: {\n",
       "                'plotly': ['https://cdn.plot.ly/plotly-2.4.2.min']\n",
       "            }\n",
       "        });\n",
       "        require(['plotly'], function(Plotly) {\n",
       "            window._Plotly = Plotly;\n",
       "        });\n",
       "        }\n",
       "        </script>\n",
       "        "
      ]
     },
     "metadata": {},
     "output_type": "display_data"
    }
   ],
   "source": [
    "import plotly.express as px\n",
    "import plotly.graph_objects as go\n",
    "import plotly.figure_factory as ff\n",
    "from plotly.subplots import make_subplots\n",
    "\n",
    "import folium\n",
    "import pandas as pd\n",
    "import numpy as np\n",
    "import matplotlib.pyplot as plt\n",
    "%matplotlib inline\n",
    "\n",
    "import math\n",
    "import random\n",
    "from datetime import timedelta\n",
    "import warnings\n",
    "warnings.filterwarnings('ignore')\n",
    "import cufflinks as cf\n",
    "cf.go_offline()"
   ]
  },
  {
   "cell_type": "markdown",
   "id": "73a11899",
   "metadata": {},
   "source": [
    "### Represent the actor based on their rating"
   ]
  },
  {
   "cell_type": "code",
   "execution_count": 75,
   "id": "7cb30bc6",
   "metadata": {},
   "outputs": [
    {
     "data": {
      "application/vnd.plotly.v1+json": {
       "config": {
        "plotlyServerURL": "https://plot.ly"
       },
       "data": [
        {
         "branchvalues": "total",
         "domain": {
          "x": [
           0,
           1
          ],
          "y": [
           0,
           1
          ]
         },
         "hovertemplate": "labels=%{label}<br>actor_rating=%{value}<br>parent=%{parent}<br>id=%{id}<extra></extra>",
         "ids": [
          "Ben Higgins/ABC - The Bachelor Season 20",
          "Chuck Norris/Actor",
          "John Schneider/Actor",
          "David Hasselhoff/Actor - Baywatch",
          "Anthony Anderson/Actor - Black-ish",
          "Will Friedle/Actor - Boy Meets World ",
          "Dean Norris/Actor - Breaking Bad",
          "Bob Saget/Actor - Comedian",
          "Michael Ian Black/Actor - Comedian",
          "Michael Rapaport/Actor - Comedian",
          "James Van Der Beek/Actor - Dawson’s Creek - What Would Diplo Do? ",
          "Jesse Metcalfe/Actor - Desperate Housewives",
          "David Henrie/Actor - Disney Star",
          "John Barrowman MBE/Actor - Doctor Who, Arrow, Torchwood",
          "Jonathan Goldsmith/Actor - Formerly Portrayed The Most Interesting Man",
          "James Cosmo/Actor - Game of Thrones",
          "Kristian Nairn/Actor - Game of Thrones",
          "Steve Burton/Actor - General Hospital - The Young and The Restless - Final Fan...",
          "Ernie Hudson/Actor - Ghostbusters",
          "Scott Patterson/Actor - Gilmore Girls",
          "James Pickens Jr./Actor - Grey’s Anatomy",
          "Shooter McGavin/Actor - Happy Gilmore",
          "James Phelps/Actor - Harry Potter",
          "Oliver Phelps/Actor - Harry Potter",
          "Tom Felton/Actor - Harry Potter Series",
          "Ben Sinclair/Actor - High Maintenance",
          "Bart Johnson/Actor - High School Musical",
          "Josh Radnor/Actor - How I Met Your Mother, Hunters",
          "Conrad Ricamora/Actor - How to Get Away With Murder ",
          "Jaime Camil/Actor - Jane The Virgin & Broke (CBS)",
          "Jay Mewes/Actor - Jay and Silent Bob",
          "Terry O’Quinn/Actor - LOST",
          "Gary Busey/Actor - Lethal Weapon",
          "Dylan Playfair/Actor - Letterkenny | Descendants 3",
          "Billy Boyd/Actor - Lord of the Rings, Outlander",
          "Sean Astin/Actor - Lord of the Rings, Stranger Things ",
          "Enrique Arce/Actor - Money Heist",
          "Jon Heder/Actor - Napoleon Dynamite, Blades of Glory, Benchwarmers",
          "Graham McTavish/Actor - Outlander, The Hobbit",
          "Jim O’Heir/Actor - Parks and Recreation",
          "Brant Daugherty/Actor - Pretty Little Liars",
          "Anthony Rapp/Actor - RENT - Star Trek",
          "Roger Clark/Actor - Red Dead Redemption II",
          "John C. McGinley/Actor - Scrubs",
          "John O’Hurley/Actor - Seinfeld",
          "Mario Cantone/Actor - Sex & The City",
          "Chris Diamantopoulos/Actor - Silicon Valley, Mickey Mouse",
          "Michael Rosenbaum/Actor - Smallville - Guardians of the Galaxy 2",
          "Ray Abruzzo/Actor - Sopranos",
          "Brent Spiner/Actor - Star Trek: The Next Generation",
          "Jonathan Frakes/Actor - Star Trek: The Next Generation",
          "Dean Cain/Actor - Superman",
          "Felicia Day/Actor - Supernatural",
          "Mark Sheppard/Actor - Supernatural",
          "Misha Collins/Actor - Supernatural",
          "Mark Pellegrino/Actor - Supernatural, Dexter, Lost",
          "Barry Williams/Actor - The Brady Bunch  ",
          "Corey Feldman/Actor - The Goonies",
          "James Buckley/Actor - The Inbetweeners",
          "Troy Baker/Actor - The Last of Us, BioShock Infinite, Uncharted 4, Batman: A...",
          "Brian Baumgartner/Actor - The Office",
          "Oscar Nunez/Actor - The Office",
          "David Koechner/Actor - The Office - Anchorman",
          "Andy Buckley/Actor - The Office, Odd Mom Out",
          "Vincent Curatola/Actor - The Sopranos",
          "Ross Marquand/Actor - The Walking Dead",
          "Dule Hill/Actor - The Wonder Years, Psych, Suits, The West Wing",
          "Nolan North/Actor - Uncharted series, Assassin's Creed, Deadpool",
          "DANIELLE CORMACK/Actor - Wentworth, Producer, Writer, Humanitarian, Goose.",
          "Milo Manheim/Actor - Zombies",
          "James Maslow/Actor / Singer - Big Time Rush",
          "Cedric The Entertainer/Actor/Comedian - The Original Kings of Comedy",
          "Laura Osnes/Actress - Broadway",
          "Stacey Dash/Actress - Clueless",
          "Didi Conn/Actress - Grease",
          "Danica McKellar/Actress - Hallmark Channel",
          "Melissa Gilbert/Actress - Little House on the Prairie",
          "Lindsay Lohan/Actress - Parent Trap, Mean Girls",
          "Amy Jo Johnson/Actress - Power Rangers, Felicity",
          "Kate Flannery/Actress - The Office",
          "Todrick Hall/Artist - Youtuber",
          "Brian Scalabrine/Basketball Player - Celtics/Bulls",
          "CT Fletcher/Bodybuilder",
          "Carson Kressley/Bravo - Queer Eye for the Straight Guy/ RuPauls Drag Race",
          "Teresa Giudice/Bravo - Real Housewives of New Jersey",
          "Dorinda Medley/Bravo - Real Housewives of New York City",
          "LuAnn de Lesseps/Bravo - Real Housewives of New York City",
          "Ramona Singer/Bravo - Real Housewives of New York City",
          "Sonja Morgan/Bravo - Real Housewives of New York City",
          "James Kennedy/Bravo - Vanderpump Rules",
          "LaVar Ball/CEO of Big Baller Brand",
          "Chef Duff Goldman/Chef - TV Personality",
          "Andrew Dice Clay/Comedian",
          "Bassem Youssef/Comedian",
          "Gilbert Gottfried/Comedian",
          "Pauly Shore/Comedian & Actor - Bio-Dome, Encino Man",
          "Paul Reubens aka Pee-wee Herman/Comedian - Actor",
          "Tom Arnold/Comedian - Actor: Roseanne",
          "Tommy Chong/Comedian - Musician - Actor - Writer",
          "Jon Lovitz/Comedian - Saturday Night Live  ",
          "Colin Mochrie/Comedian - Whose Line is it Anyway?",
          "Aaron Watson/Country Music Singer",
          "Granger Smith/Country Music Singer",
          "Randy Travis/Country Music Singer - Actor",
          "Maurice Benard/Emmy Award Winning Actor - Soap Opera Star - General Hospital, Joy",
          "Bethenny Frankel/Entrepreneur - Real Housewives of New York City",
          "Sarah Palin/Former Governor of Alaska",
          "Johnny Damon/Former MLB - Boston Red Sox & New York Yankees",
          "Randy Couture/Former MMA Fighter, 6x UFC Champion & Actor",
          "Jake The Snake Roberts/Former Professional Wrestler",
          "Diamond Dallas Page aka DDP/Former Professional Wrestler; Yoga Instructor",
          "Shangela/HBO- We’re Here, RuPaul's Drag Race",
          "Kurt Angle/Hall of Fame Wrestler & Olympic Gold Medalist",
          "Doug E. Fresh/Hip Hop Legend",
          "Chumlee/History - Pawn Stars",
          "Rick Harrison/History - Pawn Stars",
          "Jon Taffer/Host - Bar Rescue",
          "Arin Hanson/Host - Game Grumps | Creator - Egoraptor",
          "Kevin O’Leary aka Mr. Wonderful/Investor - Shark Tank",
          "Nick Hexum/Lead Singer - 311",
          "Arnel Pineda/Lead Singer - Journey",
          "Johnny Van Zant/Lead Singer - Lynyrd Skynyrd",
          "Abby Lee Miller/Lifetime - Dance Moms",
          "Pete Alonso/MLB - New York Mets",
          "Ryne Sandberg/MLB Hall of Famer - Chicago Cubs",
          "Ozzie Smith/MLB Hall of Famer - St. Louis Cardinals",
          "Ozzie Guillen/MLB World Series Champ - Chicago White Sox",
          "Nev Schulman/MTV - Catfish",
          "Johnny Bananas/MTV - The Challenge",
          "Spencer Pratt on Cameo dot com/MTV - The Hills",
          "Penn Jillette/Magician - Penn & Teller",
          "Justin Willman/Magician, Netflix - Magic for Humans",
          "Michael Franti/Musician",
          "Lance Bass/Musician - NSYNC",
          "Sean Paul/Musician - Reggae - DanceHall ",
          "Marky Ramone/Musician - The Ramones",
          "Tommy Lee/Mötley Crüe",
          "Joe Thomas/NFL - Cleveland Browns",
          "Brandon Graham/NFL - Philadelphia Eagles",
          "Ray Lewis/NFL Hall of Famer - Baltimore Ravens",
          "Brett Favre/NFL Legend - Green Bay Packers",
          "Sean Avery/NHL Legend - NY Rangers",
          "Carole Baskin/Netflix - Tiger King",
          "Nadia Comaneci/Olympic Gold Medalist - Gymnast",
          "Dan Gable/Olympic Wrestler - Gold Medalist ",
          "Anthony Scaramucci/Political Figure - The Mooch",
          "Tony Hawk/Pro Skateboarder",
          "Mick Foley/Pro Wrestling Legend",
          "Bret Hitman Hart/Professional Wrestling Legend ",
          "RiFF RAFF/Rapper",
          "Redman/Rapper ",
          "Ice T/Rapper - Law & Order: SVU",
          "Flavor Flav/Rapper - VH1's Flavor of Love",
          "Alice Cooper/Rock Legend - Actor - Comic Book Star",
          "The Cameo Santa/Santa Claus",
          "Kenny G/Saxophonist ",
          "Wayne Coyne/Singer - Flaming Lips",
          "Melissa Etheridge/Singer - Rock Legend",
          "Pierre Bouvier/Singer - Simple Plan",
          "Mark McGrath/Singer - Sugar Ray",
          "Dee Snider/Singer - Twisted Sister",
          "Montell Jordan/Singer/Songwriter - This Is How We Do It",
          "Lisa Vanderpump/Star of Bravo's Vanderpump Rules",
          "Chris Harrison/TV Host - ABC's The Bachelor",
          "Tom Bergeron/TV Host - AFV, Hollywood Squares, etc.",
          "Jerry Springer/TV Host - Jerry Springer Show",
          "TJ Lavin/TV Host - MTV's The Challenge - BMX Rider ",
          "Chris Hansen/TV Star",
          "Tori Spelling/TV Star",
          "Ashley and Jared/TV Stars - Bachelor in Paradise",
          "Mia Hamm/U.S. Women's Soccer Legend | USWNT | 2x Olympic Gold Medalist & W...",
          "Bruce Buffer/UFC Octagon Announcer",
          "Tara Strong/Voice Actor - Harley Quinn, Timmy Turner, Bubbles, Ben 10",
          "Ric Flair/WWE Superstar",
          "Coyote Peterson/YouTube Creator - Brave Wilderness",
          "Aaron Watson",
          "Abby Lee Miller",
          "Alice Cooper",
          "Amy Jo Johnson",
          "Andrew Dice Clay",
          "Andy Buckley",
          "Anthony Anderson",
          "Anthony Rapp",
          "Anthony Scaramucci",
          "Arin Hanson",
          "Arnel Pineda",
          "Ashley and Jared",
          "Barry Williams",
          "Bart Johnson",
          "Bassem Youssef",
          "Ben Higgins",
          "Ben Sinclair",
          "Bethenny Frankel",
          "Billy Boyd",
          "Bob Saget",
          "Brandon Graham",
          "Brant Daugherty",
          "Brent Spiner",
          "Bret Hitman Hart",
          "Brett Favre",
          "Brian Baumgartner",
          "Brian Scalabrine",
          "Bruce Buffer",
          "CT Fletcher",
          "Carole Baskin",
          "Carson Kressley",
          "Cedric The Entertainer",
          "Chef Duff Goldman",
          "Chris Diamantopoulos",
          "Chris Hansen",
          "Chris Harrison",
          "Chuck Norris",
          "Chumlee",
          "Colin Mochrie",
          "Conrad Ricamora",
          "Corey Feldman",
          "Coyote Peterson",
          "DANIELLE CORMACK",
          "Dan Gable",
          "Danica McKellar",
          "David Hasselhoff",
          "David Henrie",
          "David Koechner",
          "Dean Cain",
          "Dean Norris",
          "Dee Snider",
          "Diamond Dallas Page aka DDP",
          "Didi Conn",
          "Dorinda Medley",
          "Doug E. Fresh",
          "Dule Hill",
          "Dylan Playfair",
          "Enrique Arce",
          "Ernie Hudson",
          "Felicia Day",
          "Flavor Flav",
          "Gary Busey",
          "Gilbert Gottfried",
          "Graham McTavish",
          "Granger Smith",
          "Ice T",
          "Jaime Camil",
          "Jake The Snake Roberts",
          "James Buckley",
          "James Cosmo",
          "James Kennedy",
          "James Maslow",
          "James Phelps",
          "James Pickens Jr.",
          "James Van Der Beek",
          "Jay Mewes",
          "Jerry Springer",
          "Jesse Metcalfe",
          "Jim O’Heir",
          "Joe Thomas",
          "John Barrowman MBE",
          "John C. McGinley",
          "John O’Hurley",
          "John Schneider",
          "Johnny Bananas",
          "Johnny Damon",
          "Johnny Van Zant",
          "Jon Heder",
          "Jon Lovitz",
          "Jon Taffer",
          "Jonathan Frakes",
          "Jonathan Goldsmith",
          "Josh Radnor",
          "Justin Willman",
          "Kate Flannery",
          "Kenny G",
          "Kevin O’Leary aka Mr. Wonderful",
          "Kristian Nairn",
          "Kurt Angle",
          "LaVar Ball",
          "Lance Bass",
          "Laura Osnes",
          "Lindsay Lohan",
          "Lisa Vanderpump",
          "LuAnn de Lesseps",
          "Mario Cantone",
          "Mark McGrath",
          "Mark Pellegrino",
          "Mark Sheppard",
          "Marky Ramone",
          "Maurice Benard",
          "Melissa Etheridge",
          "Melissa Gilbert",
          "Mia Hamm",
          "Michael Franti",
          "Michael Ian Black",
          "Michael Rapaport",
          "Michael Rosenbaum",
          "Mick Foley",
          "Milo Manheim",
          "Misha Collins",
          "Montell Jordan",
          "Nadia Comaneci",
          "Nev Schulman",
          "Nick Hexum",
          "Nolan North",
          "Oliver Phelps",
          "Oscar Nunez",
          "Ozzie Guillen",
          "Ozzie Smith",
          "Paul Reubens aka Pee-wee Herman",
          "Pauly Shore",
          "Penn Jillette",
          "Pete Alonso",
          "Pierre Bouvier",
          "Ramona Singer",
          "Randy Couture",
          "Randy Travis",
          "Ray Abruzzo",
          "Ray Lewis",
          "Redman",
          "RiFF RAFF",
          "Ric Flair",
          "Rick Harrison",
          "Roger Clark",
          "Ross Marquand",
          "Ryne Sandberg",
          "Sarah Palin",
          "Scott Patterson",
          "Sean Astin",
          "Sean Avery",
          "Sean Paul",
          "Shangela",
          "Shooter McGavin",
          "Sonja Morgan",
          "Spencer Pratt on Cameo dot com",
          "Stacey Dash",
          "Steve Burton",
          "TJ Lavin",
          "Tara Strong",
          "Teresa Giudice",
          "Terry O’Quinn",
          "The Cameo Santa",
          "Todrick Hall",
          "Tom Arnold",
          "Tom Bergeron",
          "Tom Felton",
          "Tommy Chong",
          "Tommy Lee",
          "Tony Hawk",
          "Tori Spelling",
          "Troy Baker",
          "Vincent Curatola",
          "Wayne Coyne",
          "Will Friedle"
         ],
         "labels": [
          "ABC - The Bachelor Season 20",
          "Actor",
          "Actor",
          "Actor - Baywatch",
          "Actor - Black-ish",
          "Actor - Boy Meets World ",
          "Actor - Breaking Bad",
          "Actor - Comedian",
          "Actor - Comedian",
          "Actor - Comedian",
          "Actor - Dawson’s Creek - What Would Diplo Do? ",
          "Actor - Desperate Housewives",
          "Actor - Disney Star",
          "Actor - Doctor Who, Arrow, Torchwood",
          "Actor - Formerly Portrayed The Most Interesting Man",
          "Actor - Game of Thrones",
          "Actor - Game of Thrones",
          "Actor - General Hospital - The Young and The Restless - Final Fan...",
          "Actor - Ghostbusters",
          "Actor - Gilmore Girls",
          "Actor - Grey’s Anatomy",
          "Actor - Happy Gilmore",
          "Actor - Harry Potter",
          "Actor - Harry Potter",
          "Actor - Harry Potter Series",
          "Actor - High Maintenance",
          "Actor - High School Musical",
          "Actor - How I Met Your Mother, Hunters",
          "Actor - How to Get Away With Murder ",
          "Actor - Jane The Virgin & Broke (CBS)",
          "Actor - Jay and Silent Bob",
          "Actor - LOST",
          "Actor - Lethal Weapon",
          "Actor - Letterkenny | Descendants 3",
          "Actor - Lord of the Rings, Outlander",
          "Actor - Lord of the Rings, Stranger Things ",
          "Actor - Money Heist",
          "Actor - Napoleon Dynamite, Blades of Glory, Benchwarmers",
          "Actor - Outlander, The Hobbit",
          "Actor - Parks and Recreation",
          "Actor - Pretty Little Liars",
          "Actor - RENT - Star Trek",
          "Actor - Red Dead Redemption II",
          "Actor - Scrubs",
          "Actor - Seinfeld",
          "Actor - Sex & The City",
          "Actor - Silicon Valley, Mickey Mouse",
          "Actor - Smallville - Guardians of the Galaxy 2",
          "Actor - Sopranos",
          "Actor - Star Trek: The Next Generation",
          "Actor - Star Trek: The Next Generation",
          "Actor - Superman",
          "Actor - Supernatural",
          "Actor - Supernatural",
          "Actor - Supernatural",
          "Actor - Supernatural, Dexter, Lost",
          "Actor - The Brady Bunch  ",
          "Actor - The Goonies",
          "Actor - The Inbetweeners",
          "Actor - The Last of Us, BioShock Infinite, Uncharted 4, Batman: A...",
          "Actor - The Office",
          "Actor - The Office",
          "Actor - The Office - Anchorman",
          "Actor - The Office, Odd Mom Out",
          "Actor - The Sopranos",
          "Actor - The Walking Dead",
          "Actor - The Wonder Years, Psych, Suits, The West Wing",
          "Actor - Uncharted series, Assassin's Creed, Deadpool",
          "Actor - Wentworth, Producer, Writer, Humanitarian, Goose.",
          "Actor - Zombies",
          "Actor / Singer - Big Time Rush",
          "Actor/Comedian - The Original Kings of Comedy",
          "Actress - Broadway",
          "Actress - Clueless",
          "Actress - Grease",
          "Actress - Hallmark Channel",
          "Actress - Little House on the Prairie",
          "Actress - Parent Trap, Mean Girls",
          "Actress - Power Rangers, Felicity",
          "Actress - The Office",
          "Artist - Youtuber",
          "Basketball Player - Celtics/Bulls",
          "Bodybuilder",
          "Bravo - Queer Eye for the Straight Guy/ RuPauls Drag Race",
          "Bravo - Real Housewives of New Jersey",
          "Bravo - Real Housewives of New York City",
          "Bravo - Real Housewives of New York City",
          "Bravo - Real Housewives of New York City",
          "Bravo - Real Housewives of New York City",
          "Bravo - Vanderpump Rules",
          "CEO of Big Baller Brand",
          "Chef - TV Personality",
          "Comedian",
          "Comedian",
          "Comedian",
          "Comedian & Actor - Bio-Dome, Encino Man",
          "Comedian - Actor",
          "Comedian - Actor: Roseanne",
          "Comedian - Musician - Actor - Writer",
          "Comedian - Saturday Night Live  ",
          "Comedian - Whose Line is it Anyway?",
          "Country Music Singer",
          "Country Music Singer",
          "Country Music Singer - Actor",
          "Emmy Award Winning Actor - Soap Opera Star - General Hospital, Joy",
          "Entrepreneur - Real Housewives of New York City",
          "Former Governor of Alaska",
          "Former MLB - Boston Red Sox & New York Yankees",
          "Former MMA Fighter, 6x UFC Champion & Actor",
          "Former Professional Wrestler",
          "Former Professional Wrestler; Yoga Instructor",
          "HBO- We’re Here, RuPaul's Drag Race",
          "Hall of Fame Wrestler & Olympic Gold Medalist",
          "Hip Hop Legend",
          "History - Pawn Stars",
          "History - Pawn Stars",
          "Host - Bar Rescue",
          "Host - Game Grumps | Creator - Egoraptor",
          "Investor - Shark Tank",
          "Lead Singer - 311",
          "Lead Singer - Journey",
          "Lead Singer - Lynyrd Skynyrd",
          "Lifetime - Dance Moms",
          "MLB - New York Mets",
          "MLB Hall of Famer - Chicago Cubs",
          "MLB Hall of Famer - St. Louis Cardinals",
          "MLB World Series Champ - Chicago White Sox",
          "MTV - Catfish",
          "MTV - The Challenge",
          "MTV - The Hills",
          "Magician - Penn & Teller",
          "Magician, Netflix - Magic for Humans",
          "Musician",
          "Musician - NSYNC",
          "Musician - Reggae - DanceHall ",
          "Musician - The Ramones",
          "Mötley Crüe",
          "NFL - Cleveland Browns",
          "NFL - Philadelphia Eagles",
          "NFL Hall of Famer - Baltimore Ravens",
          "NFL Legend - Green Bay Packers",
          "NHL Legend - NY Rangers",
          "Netflix - Tiger King",
          "Olympic Gold Medalist - Gymnast",
          "Olympic Wrestler - Gold Medalist ",
          "Political Figure - The Mooch",
          "Pro Skateboarder",
          "Pro Wrestling Legend",
          "Professional Wrestling Legend ",
          "Rapper",
          "Rapper ",
          "Rapper - Law & Order: SVU",
          "Rapper - VH1's Flavor of Love",
          "Rock Legend - Actor - Comic Book Star",
          "Santa Claus",
          "Saxophonist ",
          "Singer - Flaming Lips",
          "Singer - Rock Legend",
          "Singer - Simple Plan",
          "Singer - Sugar Ray",
          "Singer - Twisted Sister",
          "Singer/Songwriter - This Is How We Do It",
          "Star of Bravo's Vanderpump Rules",
          "TV Host - ABC's The Bachelor",
          "TV Host - AFV, Hollywood Squares, etc.",
          "TV Host - Jerry Springer Show",
          "TV Host - MTV's The Challenge - BMX Rider ",
          "TV Star",
          "TV Star",
          "TV Stars - Bachelor in Paradise",
          "U.S. Women's Soccer Legend | USWNT | 2x Olympic Gold Medalist & W...",
          "UFC Octagon Announcer",
          "Voice Actor - Harley Quinn, Timmy Turner, Bubbles, Ben 10",
          "WWE Superstar",
          "YouTube Creator - Brave Wilderness",
          "Aaron Watson",
          "Abby Lee Miller",
          "Alice Cooper",
          "Amy Jo Johnson",
          "Andrew Dice Clay",
          "Andy Buckley",
          "Anthony Anderson",
          "Anthony Rapp",
          "Anthony Scaramucci",
          "Arin Hanson",
          "Arnel Pineda",
          "Ashley and Jared",
          "Barry Williams",
          "Bart Johnson",
          "Bassem Youssef",
          "Ben Higgins",
          "Ben Sinclair",
          "Bethenny Frankel",
          "Billy Boyd",
          "Bob Saget",
          "Brandon Graham",
          "Brant Daugherty",
          "Brent Spiner",
          "Bret Hitman Hart",
          "Brett Favre",
          "Brian Baumgartner",
          "Brian Scalabrine",
          "Bruce Buffer",
          "CT Fletcher",
          "Carole Baskin",
          "Carson Kressley",
          "Cedric The Entertainer",
          "Chef Duff Goldman",
          "Chris Diamantopoulos",
          "Chris Hansen",
          "Chris Harrison",
          "Chuck Norris",
          "Chumlee",
          "Colin Mochrie",
          "Conrad Ricamora",
          "Corey Feldman",
          "Coyote Peterson",
          "DANIELLE CORMACK",
          "Dan Gable",
          "Danica McKellar",
          "David Hasselhoff",
          "David Henrie",
          "David Koechner",
          "Dean Cain",
          "Dean Norris",
          "Dee Snider",
          "Diamond Dallas Page aka DDP",
          "Didi Conn",
          "Dorinda Medley",
          "Doug E. Fresh",
          "Dule Hill",
          "Dylan Playfair",
          "Enrique Arce",
          "Ernie Hudson",
          "Felicia Day",
          "Flavor Flav",
          "Gary Busey",
          "Gilbert Gottfried",
          "Graham McTavish",
          "Granger Smith",
          "Ice T",
          "Jaime Camil",
          "Jake The Snake Roberts",
          "James Buckley",
          "James Cosmo",
          "James Kennedy",
          "James Maslow",
          "James Phelps",
          "James Pickens Jr.",
          "James Van Der Beek",
          "Jay Mewes",
          "Jerry Springer",
          "Jesse Metcalfe",
          "Jim O’Heir",
          "Joe Thomas",
          "John Barrowman MBE",
          "John C. McGinley",
          "John O’Hurley",
          "John Schneider",
          "Johnny Bananas",
          "Johnny Damon",
          "Johnny Van Zant",
          "Jon Heder",
          "Jon Lovitz",
          "Jon Taffer",
          "Jonathan Frakes",
          "Jonathan Goldsmith",
          "Josh Radnor",
          "Justin Willman",
          "Kate Flannery",
          "Kenny G",
          "Kevin O’Leary aka Mr. Wonderful",
          "Kristian Nairn",
          "Kurt Angle",
          "LaVar Ball",
          "Lance Bass",
          "Laura Osnes",
          "Lindsay Lohan",
          "Lisa Vanderpump",
          "LuAnn de Lesseps",
          "Mario Cantone",
          "Mark McGrath",
          "Mark Pellegrino",
          "Mark Sheppard",
          "Marky Ramone",
          "Maurice Benard",
          "Melissa Etheridge",
          "Melissa Gilbert",
          "Mia Hamm",
          "Michael Franti",
          "Michael Ian Black",
          "Michael Rapaport",
          "Michael Rosenbaum",
          "Mick Foley",
          "Milo Manheim",
          "Misha Collins",
          "Montell Jordan",
          "Nadia Comaneci",
          "Nev Schulman",
          "Nick Hexum",
          "Nolan North",
          "Oliver Phelps",
          "Oscar Nunez",
          "Ozzie Guillen",
          "Ozzie Smith",
          "Paul Reubens aka Pee-wee Herman",
          "Pauly Shore",
          "Penn Jillette",
          "Pete Alonso",
          "Pierre Bouvier",
          "Ramona Singer",
          "Randy Couture",
          "Randy Travis",
          "Ray Abruzzo",
          "Ray Lewis",
          "Redman",
          "RiFF RAFF",
          "Ric Flair",
          "Rick Harrison",
          "Roger Clark",
          "Ross Marquand",
          "Ryne Sandberg",
          "Sarah Palin",
          "Scott Patterson",
          "Sean Astin",
          "Sean Avery",
          "Sean Paul",
          "Shangela",
          "Shooter McGavin",
          "Sonja Morgan",
          "Spencer Pratt on Cameo dot com",
          "Stacey Dash",
          "Steve Burton",
          "TJ Lavin",
          "Tara Strong",
          "Teresa Giudice",
          "Terry O’Quinn",
          "The Cameo Santa",
          "Todrick Hall",
          "Tom Arnold",
          "Tom Bergeron",
          "Tom Felton",
          "Tommy Chong",
          "Tommy Lee",
          "Tony Hawk",
          "Tori Spelling",
          "Troy Baker",
          "Vincent Curatola",
          "Wayne Coyne",
          "Will Friedle"
         ],
         "name": "",
         "parents": [
          "Ben Higgins",
          "Chuck Norris",
          "John Schneider",
          "David Hasselhoff",
          "Anthony Anderson",
          "Will Friedle",
          "Dean Norris",
          "Bob Saget",
          "Michael Ian Black",
          "Michael Rapaport",
          "James Van Der Beek",
          "Jesse Metcalfe",
          "David Henrie",
          "John Barrowman MBE",
          "Jonathan Goldsmith",
          "James Cosmo",
          "Kristian Nairn",
          "Steve Burton",
          "Ernie Hudson",
          "Scott Patterson",
          "James Pickens Jr.",
          "Shooter McGavin",
          "James Phelps",
          "Oliver Phelps",
          "Tom Felton",
          "Ben Sinclair",
          "Bart Johnson",
          "Josh Radnor",
          "Conrad Ricamora",
          "Jaime Camil",
          "Jay Mewes",
          "Terry O’Quinn",
          "Gary Busey",
          "Dylan Playfair",
          "Billy Boyd",
          "Sean Astin",
          "Enrique Arce",
          "Jon Heder",
          "Graham McTavish",
          "Jim O’Heir",
          "Brant Daugherty",
          "Anthony Rapp",
          "Roger Clark",
          "John C. McGinley",
          "John O’Hurley",
          "Mario Cantone",
          "Chris Diamantopoulos",
          "Michael Rosenbaum",
          "Ray Abruzzo",
          "Brent Spiner",
          "Jonathan Frakes",
          "Dean Cain",
          "Felicia Day",
          "Mark Sheppard",
          "Misha Collins",
          "Mark Pellegrino",
          "Barry Williams",
          "Corey Feldman",
          "James Buckley",
          "Troy Baker",
          "Brian Baumgartner",
          "Oscar Nunez",
          "David Koechner",
          "Andy Buckley",
          "Vincent Curatola",
          "Ross Marquand",
          "Dule Hill",
          "Nolan North",
          "DANIELLE CORMACK",
          "Milo Manheim",
          "James Maslow",
          "Cedric The Entertainer",
          "Laura Osnes",
          "Stacey Dash",
          "Didi Conn",
          "Danica McKellar",
          "Melissa Gilbert",
          "Lindsay Lohan",
          "Amy Jo Johnson",
          "Kate Flannery",
          "Todrick Hall",
          "Brian Scalabrine",
          "CT Fletcher",
          "Carson Kressley",
          "Teresa Giudice",
          "Dorinda Medley",
          "LuAnn de Lesseps",
          "Ramona Singer",
          "Sonja Morgan",
          "James Kennedy",
          "LaVar Ball",
          "Chef Duff Goldman",
          "Andrew Dice Clay",
          "Bassem Youssef",
          "Gilbert Gottfried",
          "Pauly Shore",
          "Paul Reubens aka Pee-wee Herman",
          "Tom Arnold",
          "Tommy Chong",
          "Jon Lovitz",
          "Colin Mochrie",
          "Aaron Watson",
          "Granger Smith",
          "Randy Travis",
          "Maurice Benard",
          "Bethenny Frankel",
          "Sarah Palin",
          "Johnny Damon",
          "Randy Couture",
          "Jake The Snake Roberts",
          "Diamond Dallas Page aka DDP",
          "Shangela",
          "Kurt Angle",
          "Doug E. Fresh",
          "Chumlee",
          "Rick Harrison",
          "Jon Taffer",
          "Arin Hanson",
          "Kevin O’Leary aka Mr. Wonderful",
          "Nick Hexum",
          "Arnel Pineda",
          "Johnny Van Zant",
          "Abby Lee Miller",
          "Pete Alonso",
          "Ryne Sandberg",
          "Ozzie Smith",
          "Ozzie Guillen",
          "Nev Schulman",
          "Johnny Bananas",
          "Spencer Pratt on Cameo dot com",
          "Penn Jillette",
          "Justin Willman",
          "Michael Franti",
          "Lance Bass",
          "Sean Paul",
          "Marky Ramone",
          "Tommy Lee",
          "Joe Thomas",
          "Brandon Graham",
          "Ray Lewis",
          "Brett Favre",
          "Sean Avery",
          "Carole Baskin",
          "Nadia Comaneci",
          "Dan Gable",
          "Anthony Scaramucci",
          "Tony Hawk",
          "Mick Foley",
          "Bret Hitman Hart",
          "RiFF RAFF",
          "Redman",
          "Ice T",
          "Flavor Flav",
          "Alice Cooper",
          "The Cameo Santa",
          "Kenny G",
          "Wayne Coyne",
          "Melissa Etheridge",
          "Pierre Bouvier",
          "Mark McGrath",
          "Dee Snider",
          "Montell Jordan",
          "Lisa Vanderpump",
          "Chris Harrison",
          "Tom Bergeron",
          "Jerry Springer",
          "TJ Lavin",
          "Chris Hansen",
          "Tori Spelling",
          "Ashley and Jared",
          "Mia Hamm",
          "Bruce Buffer",
          "Tara Strong",
          "Ric Flair",
          "Coyote Peterson",
          "",
          "",
          "",
          "",
          "",
          "",
          "",
          "",
          "",
          "",
          "",
          "",
          "",
          "",
          "",
          "",
          "",
          "",
          "",
          "",
          "",
          "",
          "",
          "",
          "",
          "",
          "",
          "",
          "",
          "",
          "",
          "",
          "",
          "",
          "",
          "",
          "",
          "",
          "",
          "",
          "",
          "",
          "",
          "",
          "",
          "",
          "",
          "",
          "",
          "",
          "",
          "",
          "",
          "",
          "",
          "",
          "",
          "",
          "",
          "",
          "",
          "",
          "",
          "",
          "",
          "",
          "",
          "",
          "",
          "",
          "",
          "",
          "",
          "",
          "",
          "",
          "",
          "",
          "",
          "",
          "",
          "",
          "",
          "",
          "",
          "",
          "",
          "",
          "",
          "",
          "",
          "",
          "",
          "",
          "",
          "",
          "",
          "",
          "",
          "",
          "",
          "",
          "",
          "",
          "",
          "",
          "",
          "",
          "",
          "",
          "",
          "",
          "",
          "",
          "",
          "",
          "",
          "",
          "",
          "",
          "",
          "",
          "",
          "",
          "",
          "",
          "",
          "",
          "",
          "",
          "",
          "",
          "",
          "",
          "",
          "",
          "",
          "",
          "",
          "",
          "",
          "",
          "",
          "",
          "",
          "",
          "",
          "",
          "",
          "",
          "",
          "",
          "",
          "",
          "",
          "",
          "",
          "",
          "",
          "",
          "",
          "",
          "",
          "",
          "",
          "",
          "",
          "",
          "",
          "",
          "",
          "",
          "",
          "",
          ""
         ],
         "textinfo": "label+text+value",
         "type": "treemap",
         "values": [
          5,
          5,
          5,
          4.9,
          5,
          5,
          5,
          5,
          5,
          5,
          5,
          4.9,
          4.9,
          5,
          4.9,
          5,
          5,
          5,
          5,
          5,
          5,
          5,
          5,
          5,
          5,
          5,
          5,
          5,
          5,
          5,
          5,
          5,
          5,
          5,
          5,
          5,
          5,
          5,
          5,
          5,
          5,
          5,
          5,
          5,
          5,
          5,
          5,
          5,
          5,
          5,
          5,
          5,
          5,
          5,
          5,
          5,
          5,
          5,
          5,
          5,
          5,
          4.9,
          5,
          5,
          5,
          5,
          5,
          5,
          5,
          5,
          4.9,
          5,
          5,
          4.9,
          5,
          5,
          5,
          4.7,
          5,
          5,
          4.9,
          5,
          5,
          5,
          4.8,
          4.9,
          4.9,
          4.8,
          4.9,
          4.9,
          5,
          5,
          4.9,
          5,
          5,
          4.8,
          5,
          4.9,
          4.8,
          5,
          5,
          5,
          5,
          5,
          5,
          4.9,
          5,
          5,
          5,
          5,
          5,
          5,
          5,
          5,
          4.9,
          5,
          5,
          5,
          4.9,
          5,
          5,
          5,
          5,
          4.9,
          5,
          4.9,
          4.9,
          5,
          4.9,
          5,
          5,
          5,
          5,
          5,
          4.9,
          5,
          4.9,
          5,
          5,
          5,
          4.9,
          5,
          5,
          4.9,
          5,
          4.9,
          5,
          5,
          5,
          4.7,
          5,
          5,
          4.9,
          5,
          5,
          5,
          5,
          5,
          5,
          5,
          5,
          5,
          5,
          5,
          5,
          5,
          5,
          5,
          4.9,
          5,
          5,
          5,
          5,
          5,
          5,
          5,
          5,
          5,
          5,
          4.9,
          5,
          5,
          5,
          4.9,
          5,
          5,
          5,
          5,
          5,
          5,
          5,
          5,
          4.9,
          5,
          5,
          5,
          5,
          5,
          5,
          4.9,
          5,
          5,
          5,
          5,
          5,
          5,
          5,
          5,
          5,
          5,
          5,
          5,
          4.9,
          5,
          5,
          5,
          5,
          5,
          5,
          5,
          4.9,
          4.9,
          5,
          5,
          5,
          5,
          5,
          5,
          4.9,
          5,
          5,
          5,
          5,
          5,
          5,
          4.9,
          5,
          5,
          5,
          5,
          5,
          5,
          5,
          5,
          5,
          4.9,
          4.9,
          5,
          5,
          5,
          5,
          5,
          4.9,
          5,
          5,
          5,
          5,
          5,
          5,
          4.9,
          5,
          5,
          5,
          5,
          5,
          5,
          4.9,
          5,
          5,
          5,
          5,
          4.9,
          5,
          5,
          5,
          5,
          5,
          4.7,
          5,
          4.9,
          5,
          5,
          5,
          5,
          5,
          5,
          5,
          5,
          5,
          5,
          5,
          5,
          5,
          5,
          5,
          5,
          5,
          4.9,
          5,
          5,
          5,
          5,
          4.9,
          4.9,
          4.9,
          5,
          4.8,
          5,
          4.9,
          5,
          4.8,
          5,
          5,
          5,
          5,
          5,
          4.7,
          5,
          5,
          5,
          5,
          5,
          5,
          5,
          5,
          5,
          4.9,
          5,
          5,
          4.9,
          5,
          4.9,
          5,
          5,
          5,
          4.8,
          5,
          5,
          4.9,
          4.9,
          5,
          5,
          4.8,
          4.9,
          5,
          4.9,
          5,
          5,
          5,
          5
         ]
        }
       ],
       "layout": {
        "height": 700,
        "legend": {
         "tracegroupgap": 0
        },
        "template": {
         "data": {
          "bar": [
           {
            "error_x": {
             "color": "#2a3f5f"
            },
            "error_y": {
             "color": "#2a3f5f"
            },
            "marker": {
             "line": {
              "color": "#E5ECF6",
              "width": 0.5
             },
             "pattern": {
              "fillmode": "overlay",
              "size": 10,
              "solidity": 0.2
             }
            },
            "type": "bar"
           }
          ],
          "barpolar": [
           {
            "marker": {
             "line": {
              "color": "#E5ECF6",
              "width": 0.5
             },
             "pattern": {
              "fillmode": "overlay",
              "size": 10,
              "solidity": 0.2
             }
            },
            "type": "barpolar"
           }
          ],
          "carpet": [
           {
            "aaxis": {
             "endlinecolor": "#2a3f5f",
             "gridcolor": "white",
             "linecolor": "white",
             "minorgridcolor": "white",
             "startlinecolor": "#2a3f5f"
            },
            "baxis": {
             "endlinecolor": "#2a3f5f",
             "gridcolor": "white",
             "linecolor": "white",
             "minorgridcolor": "white",
             "startlinecolor": "#2a3f5f"
            },
            "type": "carpet"
           }
          ],
          "choropleth": [
           {
            "colorbar": {
             "outlinewidth": 0,
             "ticks": ""
            },
            "type": "choropleth"
           }
          ],
          "contour": [
           {
            "colorbar": {
             "outlinewidth": 0,
             "ticks": ""
            },
            "colorscale": [
             [
              0,
              "#0d0887"
             ],
             [
              0.1111111111111111,
              "#46039f"
             ],
             [
              0.2222222222222222,
              "#7201a8"
             ],
             [
              0.3333333333333333,
              "#9c179e"
             ],
             [
              0.4444444444444444,
              "#bd3786"
             ],
             [
              0.5555555555555556,
              "#d8576b"
             ],
             [
              0.6666666666666666,
              "#ed7953"
             ],
             [
              0.7777777777777778,
              "#fb9f3a"
             ],
             [
              0.8888888888888888,
              "#fdca26"
             ],
             [
              1,
              "#f0f921"
             ]
            ],
            "type": "contour"
           }
          ],
          "contourcarpet": [
           {
            "colorbar": {
             "outlinewidth": 0,
             "ticks": ""
            },
            "type": "contourcarpet"
           }
          ],
          "heatmap": [
           {
            "colorbar": {
             "outlinewidth": 0,
             "ticks": ""
            },
            "colorscale": [
             [
              0,
              "#0d0887"
             ],
             [
              0.1111111111111111,
              "#46039f"
             ],
             [
              0.2222222222222222,
              "#7201a8"
             ],
             [
              0.3333333333333333,
              "#9c179e"
             ],
             [
              0.4444444444444444,
              "#bd3786"
             ],
             [
              0.5555555555555556,
              "#d8576b"
             ],
             [
              0.6666666666666666,
              "#ed7953"
             ],
             [
              0.7777777777777778,
              "#fb9f3a"
             ],
             [
              0.8888888888888888,
              "#fdca26"
             ],
             [
              1,
              "#f0f921"
             ]
            ],
            "type": "heatmap"
           }
          ],
          "heatmapgl": [
           {
            "colorbar": {
             "outlinewidth": 0,
             "ticks": ""
            },
            "colorscale": [
             [
              0,
              "#0d0887"
             ],
             [
              0.1111111111111111,
              "#46039f"
             ],
             [
              0.2222222222222222,
              "#7201a8"
             ],
             [
              0.3333333333333333,
              "#9c179e"
             ],
             [
              0.4444444444444444,
              "#bd3786"
             ],
             [
              0.5555555555555556,
              "#d8576b"
             ],
             [
              0.6666666666666666,
              "#ed7953"
             ],
             [
              0.7777777777777778,
              "#fb9f3a"
             ],
             [
              0.8888888888888888,
              "#fdca26"
             ],
             [
              1,
              "#f0f921"
             ]
            ],
            "type": "heatmapgl"
           }
          ],
          "histogram": [
           {
            "marker": {
             "pattern": {
              "fillmode": "overlay",
              "size": 10,
              "solidity": 0.2
             }
            },
            "type": "histogram"
           }
          ],
          "histogram2d": [
           {
            "colorbar": {
             "outlinewidth": 0,
             "ticks": ""
            },
            "colorscale": [
             [
              0,
              "#0d0887"
             ],
             [
              0.1111111111111111,
              "#46039f"
             ],
             [
              0.2222222222222222,
              "#7201a8"
             ],
             [
              0.3333333333333333,
              "#9c179e"
             ],
             [
              0.4444444444444444,
              "#bd3786"
             ],
             [
              0.5555555555555556,
              "#d8576b"
             ],
             [
              0.6666666666666666,
              "#ed7953"
             ],
             [
              0.7777777777777778,
              "#fb9f3a"
             ],
             [
              0.8888888888888888,
              "#fdca26"
             ],
             [
              1,
              "#f0f921"
             ]
            ],
            "type": "histogram2d"
           }
          ],
          "histogram2dcontour": [
           {
            "colorbar": {
             "outlinewidth": 0,
             "ticks": ""
            },
            "colorscale": [
             [
              0,
              "#0d0887"
             ],
             [
              0.1111111111111111,
              "#46039f"
             ],
             [
              0.2222222222222222,
              "#7201a8"
             ],
             [
              0.3333333333333333,
              "#9c179e"
             ],
             [
              0.4444444444444444,
              "#bd3786"
             ],
             [
              0.5555555555555556,
              "#d8576b"
             ],
             [
              0.6666666666666666,
              "#ed7953"
             ],
             [
              0.7777777777777778,
              "#fb9f3a"
             ],
             [
              0.8888888888888888,
              "#fdca26"
             ],
             [
              1,
              "#f0f921"
             ]
            ],
            "type": "histogram2dcontour"
           }
          ],
          "mesh3d": [
           {
            "colorbar": {
             "outlinewidth": 0,
             "ticks": ""
            },
            "type": "mesh3d"
           }
          ],
          "parcoords": [
           {
            "line": {
             "colorbar": {
              "outlinewidth": 0,
              "ticks": ""
             }
            },
            "type": "parcoords"
           }
          ],
          "pie": [
           {
            "automargin": true,
            "type": "pie"
           }
          ],
          "scatter": [
           {
            "marker": {
             "colorbar": {
              "outlinewidth": 0,
              "ticks": ""
             }
            },
            "type": "scatter"
           }
          ],
          "scatter3d": [
           {
            "line": {
             "colorbar": {
              "outlinewidth": 0,
              "ticks": ""
             }
            },
            "marker": {
             "colorbar": {
              "outlinewidth": 0,
              "ticks": ""
             }
            },
            "type": "scatter3d"
           }
          ],
          "scattercarpet": [
           {
            "marker": {
             "colorbar": {
              "outlinewidth": 0,
              "ticks": ""
             }
            },
            "type": "scattercarpet"
           }
          ],
          "scattergeo": [
           {
            "marker": {
             "colorbar": {
              "outlinewidth": 0,
              "ticks": ""
             }
            },
            "type": "scattergeo"
           }
          ],
          "scattergl": [
           {
            "marker": {
             "colorbar": {
              "outlinewidth": 0,
              "ticks": ""
             }
            },
            "type": "scattergl"
           }
          ],
          "scattermapbox": [
           {
            "marker": {
             "colorbar": {
              "outlinewidth": 0,
              "ticks": ""
             }
            },
            "type": "scattermapbox"
           }
          ],
          "scatterpolar": [
           {
            "marker": {
             "colorbar": {
              "outlinewidth": 0,
              "ticks": ""
             }
            },
            "type": "scatterpolar"
           }
          ],
          "scatterpolargl": [
           {
            "marker": {
             "colorbar": {
              "outlinewidth": 0,
              "ticks": ""
             }
            },
            "type": "scatterpolargl"
           }
          ],
          "scatterternary": [
           {
            "marker": {
             "colorbar": {
              "outlinewidth": 0,
              "ticks": ""
             }
            },
            "type": "scatterternary"
           }
          ],
          "surface": [
           {
            "colorbar": {
             "outlinewidth": 0,
             "ticks": ""
            },
            "colorscale": [
             [
              0,
              "#0d0887"
             ],
             [
              0.1111111111111111,
              "#46039f"
             ],
             [
              0.2222222222222222,
              "#7201a8"
             ],
             [
              0.3333333333333333,
              "#9c179e"
             ],
             [
              0.4444444444444444,
              "#bd3786"
             ],
             [
              0.5555555555555556,
              "#d8576b"
             ],
             [
              0.6666666666666666,
              "#ed7953"
             ],
             [
              0.7777777777777778,
              "#fb9f3a"
             ],
             [
              0.8888888888888888,
              "#fdca26"
             ],
             [
              1,
              "#f0f921"
             ]
            ],
            "type": "surface"
           }
          ],
          "table": [
           {
            "cells": {
             "fill": {
              "color": "#EBF0F8"
             },
             "line": {
              "color": "white"
             }
            },
            "header": {
             "fill": {
              "color": "#C8D4E3"
             },
             "line": {
              "color": "white"
             }
            },
            "type": "table"
           }
          ]
         },
         "layout": {
          "annotationdefaults": {
           "arrowcolor": "#2a3f5f",
           "arrowhead": 0,
           "arrowwidth": 1
          },
          "autotypenumbers": "strict",
          "coloraxis": {
           "colorbar": {
            "outlinewidth": 0,
            "ticks": ""
           }
          },
          "colorscale": {
           "diverging": [
            [
             0,
             "#8e0152"
            ],
            [
             0.1,
             "#c51b7d"
            ],
            [
             0.2,
             "#de77ae"
            ],
            [
             0.3,
             "#f1b6da"
            ],
            [
             0.4,
             "#fde0ef"
            ],
            [
             0.5,
             "#f7f7f7"
            ],
            [
             0.6,
             "#e6f5d0"
            ],
            [
             0.7,
             "#b8e186"
            ],
            [
             0.8,
             "#7fbc41"
            ],
            [
             0.9,
             "#4d9221"
            ],
            [
             1,
             "#276419"
            ]
           ],
           "sequential": [
            [
             0,
             "#0d0887"
            ],
            [
             0.1111111111111111,
             "#46039f"
            ],
            [
             0.2222222222222222,
             "#7201a8"
            ],
            [
             0.3333333333333333,
             "#9c179e"
            ],
            [
             0.4444444444444444,
             "#bd3786"
            ],
            [
             0.5555555555555556,
             "#d8576b"
            ],
            [
             0.6666666666666666,
             "#ed7953"
            ],
            [
             0.7777777777777778,
             "#fb9f3a"
            ],
            [
             0.8888888888888888,
             "#fdca26"
            ],
            [
             1,
             "#f0f921"
            ]
           ],
           "sequentialminus": [
            [
             0,
             "#0d0887"
            ],
            [
             0.1111111111111111,
             "#46039f"
            ],
            [
             0.2222222222222222,
             "#7201a8"
            ],
            [
             0.3333333333333333,
             "#9c179e"
            ],
            [
             0.4444444444444444,
             "#bd3786"
            ],
            [
             0.5555555555555556,
             "#d8576b"
            ],
            [
             0.6666666666666666,
             "#ed7953"
            ],
            [
             0.7777777777777778,
             "#fb9f3a"
            ],
            [
             0.8888888888888888,
             "#fdca26"
            ],
            [
             1,
             "#f0f921"
            ]
           ]
          },
          "colorway": [
           "#636efa",
           "#EF553B",
           "#00cc96",
           "#ab63fa",
           "#FFA15A",
           "#19d3f3",
           "#FF6692",
           "#B6E880",
           "#FF97FF",
           "#FECB52"
          ],
          "font": {
           "color": "#2a3f5f"
          },
          "geo": {
           "bgcolor": "white",
           "lakecolor": "white",
           "landcolor": "#E5ECF6",
           "showlakes": true,
           "showland": true,
           "subunitcolor": "white"
          },
          "hoverlabel": {
           "align": "left"
          },
          "hovermode": "closest",
          "mapbox": {
           "style": "light"
          },
          "paper_bgcolor": "white",
          "plot_bgcolor": "#E5ECF6",
          "polar": {
           "angularaxis": {
            "gridcolor": "white",
            "linecolor": "white",
            "ticks": ""
           },
           "bgcolor": "#E5ECF6",
           "radialaxis": {
            "gridcolor": "white",
            "linecolor": "white",
            "ticks": ""
           }
          },
          "scene": {
           "xaxis": {
            "backgroundcolor": "#E5ECF6",
            "gridcolor": "white",
            "gridwidth": 2,
            "linecolor": "white",
            "showbackground": true,
            "ticks": "",
            "zerolinecolor": "white"
           },
           "yaxis": {
            "backgroundcolor": "#E5ECF6",
            "gridcolor": "white",
            "gridwidth": 2,
            "linecolor": "white",
            "showbackground": true,
            "ticks": "",
            "zerolinecolor": "white"
           },
           "zaxis": {
            "backgroundcolor": "#E5ECF6",
            "gridcolor": "white",
            "gridwidth": 2,
            "linecolor": "white",
            "showbackground": true,
            "ticks": "",
            "zerolinecolor": "white"
           }
          },
          "shapedefaults": {
           "line": {
            "color": "#2a3f5f"
           }
          },
          "ternary": {
           "aaxis": {
            "gridcolor": "white",
            "linecolor": "white",
            "ticks": ""
           },
           "baxis": {
            "gridcolor": "white",
            "linecolor": "white",
            "ticks": ""
           },
           "bgcolor": "#E5ECF6",
           "caxis": {
            "gridcolor": "white",
            "linecolor": "white",
            "ticks": ""
           }
          },
          "title": {
           "x": 0.05
          },
          "xaxis": {
           "automargin": true,
           "gridcolor": "white",
           "linecolor": "white",
           "ticks": "",
           "title": {
            "standoff": 15
           },
           "zerolinecolor": "white",
           "zerolinewidth": 2
          },
          "yaxis": {
           "automargin": true,
           "gridcolor": "white",
           "linecolor": "white",
           "ticks": "",
           "title": {
            "standoff": 15
           },
           "zerolinecolor": "white",
           "zerolinewidth": 2
          }
         }
        },
        "title": {
         "text": "Top actor based on rating"
        },
        "treemapcolorway": [
         "rgb(27,158,119)",
         "rgb(217,95,2)",
         "rgb(117,112,179)",
         "rgb(231,41,138)",
         "rgb(102,166,30)",
         "rgb(230,171,2)",
         "rgb(166,118,29)",
         "rgb(102,102,102)"
        ]
       }
      },
      "text/html": [
       "<div>                            <div id=\"11bba2f7-4238-44fe-b33a-313873857de8\" class=\"plotly-graph-div\" style=\"height:700px; width:100%;\"></div>            <script type=\"text/javascript\">                require([\"plotly\"], function(Plotly) {                    window.PLOTLYENV=window.PLOTLYENV || {};                                    if (document.getElementById(\"11bba2f7-4238-44fe-b33a-313873857de8\")) {                    Plotly.newPlot(                        \"11bba2f7-4238-44fe-b33a-313873857de8\",                        [{\"branchvalues\":\"total\",\"domain\":{\"x\":[0.0,1.0],\"y\":[0.0,1.0]},\"hovertemplate\":\"labels=%{label}<br>actor_rating=%{value}<br>parent=%{parent}<br>id=%{id}<extra></extra>\",\"ids\":[\"Ben Higgins/ABC - The Bachelor Season 20\",\"Chuck Norris/Actor\",\"John Schneider/Actor\",\"David Hasselhoff/Actor - Baywatch\",\"Anthony Anderson/Actor - Black-ish\",\"Will Friedle/Actor - Boy Meets World \",\"Dean Norris/Actor - Breaking Bad\",\"Bob Saget/Actor - Comedian\",\"Michael Ian Black/Actor - Comedian\",\"Michael Rapaport/Actor - Comedian\",\"James Van Der Beek/Actor - Dawson\\u2019s Creek - What Would Diplo Do? \",\"Jesse Metcalfe/Actor - Desperate Housewives\",\"David Henrie/Actor - Disney Star\",\"John Barrowman MBE/Actor - Doctor Who, Arrow, Torchwood\",\"Jonathan Goldsmith/Actor - Formerly Portrayed The Most Interesting Man\",\"James Cosmo/Actor - Game of Thrones\",\"Kristian Nairn/Actor - Game of Thrones\",\"Steve Burton/Actor - General Hospital - The Young and The Restless - Final Fan...\",\"Ernie Hudson/Actor - Ghostbusters\",\"Scott Patterson/Actor - Gilmore Girls\",\"James Pickens Jr./Actor - Grey\\u2019s Anatomy\",\"Shooter McGavin/Actor - Happy Gilmore\",\"James Phelps/Actor - Harry Potter\",\"Oliver Phelps/Actor - Harry Potter\",\"Tom Felton/Actor - Harry Potter Series\",\"Ben Sinclair/Actor - High Maintenance\",\"Bart Johnson/Actor - High School Musical\",\"Josh Radnor/Actor - How I Met Your Mother, Hunters\",\"Conrad Ricamora/Actor - How to Get Away With Murder \",\"Jaime Camil/Actor - Jane The Virgin & Broke (CBS)\",\"Jay Mewes/Actor - Jay and Silent Bob\",\"Terry O\\u2019Quinn/Actor - LOST\",\"Gary Busey/Actor - Lethal Weapon\",\"Dylan Playfair/Actor - Letterkenny | Descendants 3\",\"Billy Boyd/Actor - Lord of the Rings, Outlander\",\"Sean Astin/Actor - Lord of the Rings, Stranger Things \",\"Enrique Arce/Actor - Money Heist\",\"Jon Heder/Actor - Napoleon Dynamite, Blades of Glory, Benchwarmers\",\"Graham McTavish/Actor - Outlander, The Hobbit\",\"Jim O\\u2019Heir/Actor - Parks and Recreation\",\"Brant Daugherty/Actor - Pretty Little Liars\",\"Anthony Rapp/Actor - RENT - Star Trek\",\"Roger Clark/Actor - Red Dead Redemption II\",\"John C. McGinley/Actor - Scrubs\",\"John O\\u2019Hurley/Actor - Seinfeld\",\"Mario Cantone/Actor - Sex & The City\",\"Chris Diamantopoulos/Actor - Silicon Valley, Mickey Mouse\",\"Michael Rosenbaum/Actor - Smallville - Guardians of the Galaxy 2\",\"Ray Abruzzo/Actor - Sopranos\",\"Brent Spiner/Actor - Star Trek: The Next Generation\",\"Jonathan Frakes/Actor - Star Trek: The Next Generation\",\"Dean Cain/Actor - Superman\",\"Felicia Day/Actor - Supernatural\",\"Mark Sheppard/Actor - Supernatural\",\"Misha Collins/Actor - Supernatural\",\"Mark Pellegrino/Actor - Supernatural, Dexter, Lost\",\"Barry Williams/Actor - The Brady Bunch  \",\"Corey Feldman/Actor - The Goonies\",\"James Buckley/Actor - The Inbetweeners\",\"Troy Baker/Actor - The Last of Us, BioShock Infinite, Uncharted 4, Batman: A...\",\"Brian Baumgartner/Actor - The Office\",\"Oscar Nunez/Actor - The Office\",\"David Koechner/Actor - The Office - Anchorman\",\"Andy Buckley/Actor - The Office, Odd Mom Out\",\"Vincent Curatola/Actor - The Sopranos\",\"Ross Marquand/Actor - The Walking Dead\",\"Dule Hill/Actor - The Wonder Years, Psych, Suits, The West Wing\",\"Nolan North/Actor - Uncharted series, Assassin's Creed, Deadpool\",\"DANIELLE CORMACK/Actor - Wentworth, Producer, Writer, Humanitarian, Goose.\",\"Milo Manheim/Actor - Zombies\",\"James Maslow/Actor / Singer - Big Time Rush\",\"Cedric The Entertainer/Actor/Comedian - The Original Kings of Comedy\",\"Laura Osnes/Actress - Broadway\",\"Stacey Dash/Actress - Clueless\",\"Didi Conn/Actress - Grease\",\"Danica McKellar/Actress - Hallmark Channel\",\"Melissa Gilbert/Actress - Little House on the Prairie\",\"Lindsay Lohan/Actress - Parent Trap, Mean Girls\",\"Amy Jo Johnson/Actress - Power Rangers, Felicity\",\"Kate Flannery/Actress - The Office\",\"Todrick Hall/Artist - Youtuber\",\"Brian Scalabrine/Basketball Player - Celtics/Bulls\",\"CT Fletcher/Bodybuilder\",\"Carson Kressley/Bravo - Queer Eye for the Straight Guy/ RuPauls Drag Race\",\"Teresa Giudice/Bravo - Real Housewives of New Jersey\",\"Dorinda Medley/Bravo - Real Housewives of New York City\",\"LuAnn de Lesseps/Bravo - Real Housewives of New York City\",\"Ramona Singer/Bravo - Real Housewives of New York City\",\"Sonja Morgan/Bravo - Real Housewives of New York City\",\"James Kennedy/Bravo - Vanderpump Rules\",\"LaVar Ball/CEO of Big Baller Brand\",\"Chef Duff Goldman/Chef - TV Personality\",\"Andrew Dice Clay/Comedian\",\"Bassem Youssef/Comedian\",\"Gilbert Gottfried/Comedian\",\"Pauly Shore/Comedian & Actor - Bio-Dome, Encino Man\",\"Paul Reubens aka Pee-wee Herman/Comedian - Actor\",\"Tom Arnold/Comedian - Actor: Roseanne\",\"Tommy Chong/Comedian - Musician - Actor - Writer\",\"Jon Lovitz/Comedian - Saturday Night Live  \",\"Colin Mochrie/Comedian - Whose Line is it Anyway?\",\"Aaron Watson/Country Music Singer\",\"Granger Smith/Country Music Singer\",\"Randy Travis/Country Music Singer - Actor\",\"Maurice Benard/Emmy Award Winning Actor - Soap Opera Star - General Hospital, Joy\",\"Bethenny Frankel/Entrepreneur - Real Housewives of New York City\",\"Sarah Palin/Former Governor of Alaska\",\"Johnny Damon/Former MLB - Boston Red Sox & New York Yankees\",\"Randy Couture/Former MMA Fighter, 6x UFC Champion & Actor\",\"Jake The Snake Roberts/Former Professional Wrestler\",\"Diamond Dallas Page aka DDP/Former Professional Wrestler; Yoga Instructor\",\"Shangela/HBO- We\\u2019re Here, RuPaul's Drag Race\",\"Kurt Angle/Hall of Fame Wrestler & Olympic Gold Medalist\",\"Doug E. Fresh/Hip Hop Legend\",\"Chumlee/History - Pawn Stars\",\"Rick Harrison/History - Pawn Stars\",\"Jon Taffer/Host - Bar Rescue\",\"Arin Hanson/Host - Game Grumps | Creator - Egoraptor\",\"Kevin O\\u2019Leary aka Mr. Wonderful/Investor - Shark Tank\",\"Nick Hexum/Lead Singer - 311\",\"Arnel Pineda/Lead Singer - Journey\",\"Johnny Van Zant/Lead Singer - Lynyrd Skynyrd\",\"Abby Lee Miller/Lifetime - Dance Moms\",\"Pete Alonso/MLB - New York Mets\",\"Ryne Sandberg/MLB Hall of Famer - Chicago Cubs\",\"Ozzie Smith/MLB Hall of Famer - St. Louis Cardinals\",\"Ozzie Guillen/MLB World Series Champ - Chicago White Sox\",\"Nev Schulman/MTV - Catfish\",\"Johnny Bananas/MTV - The Challenge\",\"Spencer Pratt on Cameo dot com/MTV - The Hills\",\"Penn Jillette/Magician - Penn & Teller\",\"Justin Willman/Magician, Netflix - Magic for Humans\",\"Michael Franti/Musician\",\"Lance Bass/Musician - NSYNC\",\"Sean Paul/Musician - Reggae - DanceHall \",\"Marky Ramone/Musician - The Ramones\",\"Tommy Lee/M\\u00f6tley Cr\\u00fce\",\"Joe Thomas/NFL - Cleveland Browns\",\"Brandon Graham/NFL - Philadelphia Eagles\",\"Ray Lewis/NFL Hall of Famer - Baltimore Ravens\",\"Brett Favre/NFL Legend - Green Bay Packers\",\"Sean Avery/NHL Legend - NY Rangers\",\"Carole Baskin/Netflix - Tiger King\",\"Nadia Comaneci/Olympic Gold Medalist - Gymnast\",\"Dan Gable/Olympic Wrestler - Gold Medalist \",\"Anthony Scaramucci/Political Figure - The Mooch\",\"Tony Hawk/Pro Skateboarder\",\"Mick Foley/Pro Wrestling Legend\",\"Bret Hitman Hart/Professional Wrestling Legend \",\"RiFF RAFF/Rapper\",\"Redman/Rapper \",\"Ice T/Rapper - Law & Order: SVU\",\"Flavor Flav/Rapper - VH1's Flavor of Love\",\"Alice Cooper/Rock Legend - Actor - Comic Book Star\",\"The Cameo Santa/Santa Claus\",\"Kenny G/Saxophonist \",\"Wayne Coyne/Singer - Flaming Lips\",\"Melissa Etheridge/Singer - Rock Legend\",\"Pierre Bouvier/Singer - Simple Plan\",\"Mark McGrath/Singer - Sugar Ray\",\"Dee Snider/Singer - Twisted Sister\",\"Montell Jordan/Singer/Songwriter - This Is How We Do It\",\"Lisa Vanderpump/Star of Bravo's Vanderpump Rules\",\"Chris Harrison/TV Host - ABC's The Bachelor\",\"Tom Bergeron/TV Host - AFV, Hollywood Squares, etc.\",\"Jerry Springer/TV Host - Jerry Springer Show\",\"TJ Lavin/TV Host - MTV's The Challenge - BMX Rider \",\"Chris Hansen/TV Star\",\"Tori Spelling/TV Star\",\"Ashley and Jared/TV Stars - Bachelor in Paradise\",\"Mia Hamm/U.S. Women's Soccer Legend | USWNT | 2x Olympic Gold Medalist & W...\",\"Bruce Buffer/UFC Octagon Announcer\",\"Tara Strong/Voice Actor - Harley Quinn, Timmy Turner, Bubbles, Ben 10\",\"Ric Flair/WWE Superstar\",\"Coyote Peterson/YouTube Creator - Brave Wilderness\",\"Aaron Watson\",\"Abby Lee Miller\",\"Alice Cooper\",\"Amy Jo Johnson\",\"Andrew Dice Clay\",\"Andy Buckley\",\"Anthony Anderson\",\"Anthony Rapp\",\"Anthony Scaramucci\",\"Arin Hanson\",\"Arnel Pineda\",\"Ashley and Jared\",\"Barry Williams\",\"Bart Johnson\",\"Bassem Youssef\",\"Ben Higgins\",\"Ben Sinclair\",\"Bethenny Frankel\",\"Billy Boyd\",\"Bob Saget\",\"Brandon Graham\",\"Brant Daugherty\",\"Brent Spiner\",\"Bret Hitman Hart\",\"Brett Favre\",\"Brian Baumgartner\",\"Brian Scalabrine\",\"Bruce Buffer\",\"CT Fletcher\",\"Carole Baskin\",\"Carson Kressley\",\"Cedric The Entertainer\",\"Chef Duff Goldman\",\"Chris Diamantopoulos\",\"Chris Hansen\",\"Chris Harrison\",\"Chuck Norris\",\"Chumlee\",\"Colin Mochrie\",\"Conrad Ricamora\",\"Corey Feldman\",\"Coyote Peterson\",\"DANIELLE CORMACK\",\"Dan Gable\",\"Danica McKellar\",\"David Hasselhoff\",\"David Henrie\",\"David Koechner\",\"Dean Cain\",\"Dean Norris\",\"Dee Snider\",\"Diamond Dallas Page aka DDP\",\"Didi Conn\",\"Dorinda Medley\",\"Doug E. Fresh\",\"Dule Hill\",\"Dylan Playfair\",\"Enrique Arce\",\"Ernie Hudson\",\"Felicia Day\",\"Flavor Flav\",\"Gary Busey\",\"Gilbert Gottfried\",\"Graham McTavish\",\"Granger Smith\",\"Ice T\",\"Jaime Camil\",\"Jake The Snake Roberts\",\"James Buckley\",\"James Cosmo\",\"James Kennedy\",\"James Maslow\",\"James Phelps\",\"James Pickens Jr.\",\"James Van Der Beek\",\"Jay Mewes\",\"Jerry Springer\",\"Jesse Metcalfe\",\"Jim O\\u2019Heir\",\"Joe Thomas\",\"John Barrowman MBE\",\"John C. McGinley\",\"John O\\u2019Hurley\",\"John Schneider\",\"Johnny Bananas\",\"Johnny Damon\",\"Johnny Van Zant\",\"Jon Heder\",\"Jon Lovitz\",\"Jon Taffer\",\"Jonathan Frakes\",\"Jonathan Goldsmith\",\"Josh Radnor\",\"Justin Willman\",\"Kate Flannery\",\"Kenny G\",\"Kevin O\\u2019Leary aka Mr. Wonderful\",\"Kristian Nairn\",\"Kurt Angle\",\"LaVar Ball\",\"Lance Bass\",\"Laura Osnes\",\"Lindsay Lohan\",\"Lisa Vanderpump\",\"LuAnn de Lesseps\",\"Mario Cantone\",\"Mark McGrath\",\"Mark Pellegrino\",\"Mark Sheppard\",\"Marky Ramone\",\"Maurice Benard\",\"Melissa Etheridge\",\"Melissa Gilbert\",\"Mia Hamm\",\"Michael Franti\",\"Michael Ian Black\",\"Michael Rapaport\",\"Michael Rosenbaum\",\"Mick Foley\",\"Milo Manheim\",\"Misha Collins\",\"Montell Jordan\",\"Nadia Comaneci\",\"Nev Schulman\",\"Nick Hexum\",\"Nolan North\",\"Oliver Phelps\",\"Oscar Nunez\",\"Ozzie Guillen\",\"Ozzie Smith\",\"Paul Reubens aka Pee-wee Herman\",\"Pauly Shore\",\"Penn Jillette\",\"Pete Alonso\",\"Pierre Bouvier\",\"Ramona Singer\",\"Randy Couture\",\"Randy Travis\",\"Ray Abruzzo\",\"Ray Lewis\",\"Redman\",\"RiFF RAFF\",\"Ric Flair\",\"Rick Harrison\",\"Roger Clark\",\"Ross Marquand\",\"Ryne Sandberg\",\"Sarah Palin\",\"Scott Patterson\",\"Sean Astin\",\"Sean Avery\",\"Sean Paul\",\"Shangela\",\"Shooter McGavin\",\"Sonja Morgan\",\"Spencer Pratt on Cameo dot com\",\"Stacey Dash\",\"Steve Burton\",\"TJ Lavin\",\"Tara Strong\",\"Teresa Giudice\",\"Terry O\\u2019Quinn\",\"The Cameo Santa\",\"Todrick Hall\",\"Tom Arnold\",\"Tom Bergeron\",\"Tom Felton\",\"Tommy Chong\",\"Tommy Lee\",\"Tony Hawk\",\"Tori Spelling\",\"Troy Baker\",\"Vincent Curatola\",\"Wayne Coyne\",\"Will Friedle\"],\"labels\":[\"ABC - The Bachelor Season 20\",\"Actor\",\"Actor\",\"Actor - Baywatch\",\"Actor - Black-ish\",\"Actor - Boy Meets World \",\"Actor - Breaking Bad\",\"Actor - Comedian\",\"Actor - Comedian\",\"Actor - Comedian\",\"Actor - Dawson\\u2019s Creek - What Would Diplo Do? \",\"Actor - Desperate Housewives\",\"Actor - Disney Star\",\"Actor - Doctor Who, Arrow, Torchwood\",\"Actor - Formerly Portrayed The Most Interesting Man\",\"Actor - Game of Thrones\",\"Actor - Game of Thrones\",\"Actor - General Hospital - The Young and The Restless - Final Fan...\",\"Actor - Ghostbusters\",\"Actor - Gilmore Girls\",\"Actor - Grey\\u2019s Anatomy\",\"Actor - Happy Gilmore\",\"Actor - Harry Potter\",\"Actor - Harry Potter\",\"Actor - Harry Potter Series\",\"Actor - High Maintenance\",\"Actor - High School Musical\",\"Actor - How I Met Your Mother, Hunters\",\"Actor - How to Get Away With Murder \",\"Actor - Jane The Virgin & Broke (CBS)\",\"Actor - Jay and Silent Bob\",\"Actor - LOST\",\"Actor - Lethal Weapon\",\"Actor - Letterkenny | Descendants 3\",\"Actor - Lord of the Rings, Outlander\",\"Actor - Lord of the Rings, Stranger Things \",\"Actor - Money Heist\",\"Actor - Napoleon Dynamite, Blades of Glory, Benchwarmers\",\"Actor - Outlander, The Hobbit\",\"Actor - Parks and Recreation\",\"Actor - Pretty Little Liars\",\"Actor - RENT - Star Trek\",\"Actor - Red Dead Redemption II\",\"Actor - Scrubs\",\"Actor - Seinfeld\",\"Actor - Sex & The City\",\"Actor - Silicon Valley, Mickey Mouse\",\"Actor - Smallville - Guardians of the Galaxy 2\",\"Actor - Sopranos\",\"Actor - Star Trek: The Next Generation\",\"Actor - Star Trek: The Next Generation\",\"Actor - Superman\",\"Actor - Supernatural\",\"Actor - Supernatural\",\"Actor - Supernatural\",\"Actor - Supernatural, Dexter, Lost\",\"Actor - The Brady Bunch  \",\"Actor - The Goonies\",\"Actor - The Inbetweeners\",\"Actor - The Last of Us, BioShock Infinite, Uncharted 4, Batman: A...\",\"Actor - The Office\",\"Actor - The Office\",\"Actor - The Office - Anchorman\",\"Actor - The Office, Odd Mom Out\",\"Actor - The Sopranos\",\"Actor - The Walking Dead\",\"Actor - The Wonder Years, Psych, Suits, The West Wing\",\"Actor - Uncharted series, Assassin's Creed, Deadpool\",\"Actor - Wentworth, Producer, Writer, Humanitarian, Goose.\",\"Actor - Zombies\",\"Actor / Singer - Big Time Rush\",\"Actor/Comedian - The Original Kings of Comedy\",\"Actress - Broadway\",\"Actress - Clueless\",\"Actress - Grease\",\"Actress - Hallmark Channel\",\"Actress - Little House on the Prairie\",\"Actress - Parent Trap, Mean Girls\",\"Actress - Power Rangers, Felicity\",\"Actress - The Office\",\"Artist - Youtuber\",\"Basketball Player - Celtics/Bulls\",\"Bodybuilder\",\"Bravo - Queer Eye for the Straight Guy/ RuPauls Drag Race\",\"Bravo - Real Housewives of New Jersey\",\"Bravo - Real Housewives of New York City\",\"Bravo - Real Housewives of New York City\",\"Bravo - Real Housewives of New York City\",\"Bravo - Real Housewives of New York City\",\"Bravo - Vanderpump Rules\",\"CEO of Big Baller Brand\",\"Chef - TV Personality\",\"Comedian\",\"Comedian\",\"Comedian\",\"Comedian & Actor - Bio-Dome, Encino Man\",\"Comedian - Actor\",\"Comedian - Actor: Roseanne\",\"Comedian - Musician - Actor - Writer\",\"Comedian - Saturday Night Live  \",\"Comedian - Whose Line is it Anyway?\",\"Country Music Singer\",\"Country Music Singer\",\"Country Music Singer - Actor\",\"Emmy Award Winning Actor - Soap Opera Star - General Hospital, Joy\",\"Entrepreneur - Real Housewives of New York City\",\"Former Governor of Alaska\",\"Former MLB - Boston Red Sox & New York Yankees\",\"Former MMA Fighter, 6x UFC Champion & Actor\",\"Former Professional Wrestler\",\"Former Professional Wrestler; Yoga Instructor\",\"HBO- We\\u2019re Here, RuPaul's Drag Race\",\"Hall of Fame Wrestler & Olympic Gold Medalist\",\"Hip Hop Legend\",\"History - Pawn Stars\",\"History - Pawn Stars\",\"Host - Bar Rescue\",\"Host - Game Grumps | Creator - Egoraptor\",\"Investor - Shark Tank\",\"Lead Singer - 311\",\"Lead Singer - Journey\",\"Lead Singer - Lynyrd Skynyrd\",\"Lifetime - Dance Moms\",\"MLB - New York Mets\",\"MLB Hall of Famer - Chicago Cubs\",\"MLB Hall of Famer - St. Louis Cardinals\",\"MLB World Series Champ - Chicago White Sox\",\"MTV - Catfish\",\"MTV - The Challenge\",\"MTV - The Hills\",\"Magician - Penn & Teller\",\"Magician, Netflix - Magic for Humans\",\"Musician\",\"Musician - NSYNC\",\"Musician - Reggae - DanceHall \",\"Musician - The Ramones\",\"M\\u00f6tley Cr\\u00fce\",\"NFL - Cleveland Browns\",\"NFL - Philadelphia Eagles\",\"NFL Hall of Famer - Baltimore Ravens\",\"NFL Legend - Green Bay Packers\",\"NHL Legend - NY Rangers\",\"Netflix - Tiger King\",\"Olympic Gold Medalist - Gymnast\",\"Olympic Wrestler - Gold Medalist \",\"Political Figure - The Mooch\",\"Pro Skateboarder\",\"Pro Wrestling Legend\",\"Professional Wrestling Legend \",\"Rapper\",\"Rapper \",\"Rapper - Law & Order: SVU\",\"Rapper - VH1's Flavor of Love\",\"Rock Legend - Actor - Comic Book Star\",\"Santa Claus\",\"Saxophonist \",\"Singer - Flaming Lips\",\"Singer - Rock Legend\",\"Singer - Simple Plan\",\"Singer - Sugar Ray\",\"Singer - Twisted Sister\",\"Singer/Songwriter - This Is How We Do It\",\"Star of Bravo's Vanderpump Rules\",\"TV Host - ABC's The Bachelor\",\"TV Host - AFV, Hollywood Squares, etc.\",\"TV Host - Jerry Springer Show\",\"TV Host - MTV's The Challenge - BMX Rider \",\"TV Star\",\"TV Star\",\"TV Stars - Bachelor in Paradise\",\"U.S. Women's Soccer Legend | USWNT | 2x Olympic Gold Medalist & W...\",\"UFC Octagon Announcer\",\"Voice Actor - Harley Quinn, Timmy Turner, Bubbles, Ben 10\",\"WWE Superstar\",\"YouTube Creator - Brave Wilderness\",\"Aaron Watson\",\"Abby Lee Miller\",\"Alice Cooper\",\"Amy Jo Johnson\",\"Andrew Dice Clay\",\"Andy Buckley\",\"Anthony Anderson\",\"Anthony Rapp\",\"Anthony Scaramucci\",\"Arin Hanson\",\"Arnel Pineda\",\"Ashley and Jared\",\"Barry Williams\",\"Bart Johnson\",\"Bassem Youssef\",\"Ben Higgins\",\"Ben Sinclair\",\"Bethenny Frankel\",\"Billy Boyd\",\"Bob Saget\",\"Brandon Graham\",\"Brant Daugherty\",\"Brent Spiner\",\"Bret Hitman Hart\",\"Brett Favre\",\"Brian Baumgartner\",\"Brian Scalabrine\",\"Bruce Buffer\",\"CT Fletcher\",\"Carole Baskin\",\"Carson Kressley\",\"Cedric The Entertainer\",\"Chef Duff Goldman\",\"Chris Diamantopoulos\",\"Chris Hansen\",\"Chris Harrison\",\"Chuck Norris\",\"Chumlee\",\"Colin Mochrie\",\"Conrad Ricamora\",\"Corey Feldman\",\"Coyote Peterson\",\"DANIELLE CORMACK\",\"Dan Gable\",\"Danica McKellar\",\"David Hasselhoff\",\"David Henrie\",\"David Koechner\",\"Dean Cain\",\"Dean Norris\",\"Dee Snider\",\"Diamond Dallas Page aka DDP\",\"Didi Conn\",\"Dorinda Medley\",\"Doug E. Fresh\",\"Dule Hill\",\"Dylan Playfair\",\"Enrique Arce\",\"Ernie Hudson\",\"Felicia Day\",\"Flavor Flav\",\"Gary Busey\",\"Gilbert Gottfried\",\"Graham McTavish\",\"Granger Smith\",\"Ice T\",\"Jaime Camil\",\"Jake The Snake Roberts\",\"James Buckley\",\"James Cosmo\",\"James Kennedy\",\"James Maslow\",\"James Phelps\",\"James Pickens Jr.\",\"James Van Der Beek\",\"Jay Mewes\",\"Jerry Springer\",\"Jesse Metcalfe\",\"Jim O\\u2019Heir\",\"Joe Thomas\",\"John Barrowman MBE\",\"John C. McGinley\",\"John O\\u2019Hurley\",\"John Schneider\",\"Johnny Bananas\",\"Johnny Damon\",\"Johnny Van Zant\",\"Jon Heder\",\"Jon Lovitz\",\"Jon Taffer\",\"Jonathan Frakes\",\"Jonathan Goldsmith\",\"Josh Radnor\",\"Justin Willman\",\"Kate Flannery\",\"Kenny G\",\"Kevin O\\u2019Leary aka Mr. Wonderful\",\"Kristian Nairn\",\"Kurt Angle\",\"LaVar Ball\",\"Lance Bass\",\"Laura Osnes\",\"Lindsay Lohan\",\"Lisa Vanderpump\",\"LuAnn de Lesseps\",\"Mario Cantone\",\"Mark McGrath\",\"Mark Pellegrino\",\"Mark Sheppard\",\"Marky Ramone\",\"Maurice Benard\",\"Melissa Etheridge\",\"Melissa Gilbert\",\"Mia Hamm\",\"Michael Franti\",\"Michael Ian Black\",\"Michael Rapaport\",\"Michael Rosenbaum\",\"Mick Foley\",\"Milo Manheim\",\"Misha Collins\",\"Montell Jordan\",\"Nadia Comaneci\",\"Nev Schulman\",\"Nick Hexum\",\"Nolan North\",\"Oliver Phelps\",\"Oscar Nunez\",\"Ozzie Guillen\",\"Ozzie Smith\",\"Paul Reubens aka Pee-wee Herman\",\"Pauly Shore\",\"Penn Jillette\",\"Pete Alonso\",\"Pierre Bouvier\",\"Ramona Singer\",\"Randy Couture\",\"Randy Travis\",\"Ray Abruzzo\",\"Ray Lewis\",\"Redman\",\"RiFF RAFF\",\"Ric Flair\",\"Rick Harrison\",\"Roger Clark\",\"Ross Marquand\",\"Ryne Sandberg\",\"Sarah Palin\",\"Scott Patterson\",\"Sean Astin\",\"Sean Avery\",\"Sean Paul\",\"Shangela\",\"Shooter McGavin\",\"Sonja Morgan\",\"Spencer Pratt on Cameo dot com\",\"Stacey Dash\",\"Steve Burton\",\"TJ Lavin\",\"Tara Strong\",\"Teresa Giudice\",\"Terry O\\u2019Quinn\",\"The Cameo Santa\",\"Todrick Hall\",\"Tom Arnold\",\"Tom Bergeron\",\"Tom Felton\",\"Tommy Chong\",\"Tommy Lee\",\"Tony Hawk\",\"Tori Spelling\",\"Troy Baker\",\"Vincent Curatola\",\"Wayne Coyne\",\"Will Friedle\"],\"name\":\"\",\"parents\":[\"Ben Higgins\",\"Chuck Norris\",\"John Schneider\",\"David Hasselhoff\",\"Anthony Anderson\",\"Will Friedle\",\"Dean Norris\",\"Bob Saget\",\"Michael Ian Black\",\"Michael Rapaport\",\"James Van Der Beek\",\"Jesse Metcalfe\",\"David Henrie\",\"John Barrowman MBE\",\"Jonathan Goldsmith\",\"James Cosmo\",\"Kristian Nairn\",\"Steve Burton\",\"Ernie Hudson\",\"Scott Patterson\",\"James Pickens Jr.\",\"Shooter McGavin\",\"James Phelps\",\"Oliver Phelps\",\"Tom Felton\",\"Ben Sinclair\",\"Bart Johnson\",\"Josh Radnor\",\"Conrad Ricamora\",\"Jaime Camil\",\"Jay Mewes\",\"Terry O\\u2019Quinn\",\"Gary Busey\",\"Dylan Playfair\",\"Billy Boyd\",\"Sean Astin\",\"Enrique Arce\",\"Jon Heder\",\"Graham McTavish\",\"Jim O\\u2019Heir\",\"Brant Daugherty\",\"Anthony Rapp\",\"Roger Clark\",\"John C. McGinley\",\"John O\\u2019Hurley\",\"Mario Cantone\",\"Chris Diamantopoulos\",\"Michael Rosenbaum\",\"Ray Abruzzo\",\"Brent Spiner\",\"Jonathan Frakes\",\"Dean Cain\",\"Felicia Day\",\"Mark Sheppard\",\"Misha Collins\",\"Mark Pellegrino\",\"Barry Williams\",\"Corey Feldman\",\"James Buckley\",\"Troy Baker\",\"Brian Baumgartner\",\"Oscar Nunez\",\"David Koechner\",\"Andy Buckley\",\"Vincent Curatola\",\"Ross Marquand\",\"Dule Hill\",\"Nolan North\",\"DANIELLE CORMACK\",\"Milo Manheim\",\"James Maslow\",\"Cedric The Entertainer\",\"Laura Osnes\",\"Stacey Dash\",\"Didi Conn\",\"Danica McKellar\",\"Melissa Gilbert\",\"Lindsay Lohan\",\"Amy Jo Johnson\",\"Kate Flannery\",\"Todrick Hall\",\"Brian Scalabrine\",\"CT Fletcher\",\"Carson Kressley\",\"Teresa Giudice\",\"Dorinda Medley\",\"LuAnn de Lesseps\",\"Ramona Singer\",\"Sonja Morgan\",\"James Kennedy\",\"LaVar Ball\",\"Chef Duff Goldman\",\"Andrew Dice Clay\",\"Bassem Youssef\",\"Gilbert Gottfried\",\"Pauly Shore\",\"Paul Reubens aka Pee-wee Herman\",\"Tom Arnold\",\"Tommy Chong\",\"Jon Lovitz\",\"Colin Mochrie\",\"Aaron Watson\",\"Granger Smith\",\"Randy Travis\",\"Maurice Benard\",\"Bethenny Frankel\",\"Sarah Palin\",\"Johnny Damon\",\"Randy Couture\",\"Jake The Snake Roberts\",\"Diamond Dallas Page aka DDP\",\"Shangela\",\"Kurt Angle\",\"Doug E. Fresh\",\"Chumlee\",\"Rick Harrison\",\"Jon Taffer\",\"Arin Hanson\",\"Kevin O\\u2019Leary aka Mr. Wonderful\",\"Nick Hexum\",\"Arnel Pineda\",\"Johnny Van Zant\",\"Abby Lee Miller\",\"Pete Alonso\",\"Ryne Sandberg\",\"Ozzie Smith\",\"Ozzie Guillen\",\"Nev Schulman\",\"Johnny Bananas\",\"Spencer Pratt on Cameo dot com\",\"Penn Jillette\",\"Justin Willman\",\"Michael Franti\",\"Lance Bass\",\"Sean Paul\",\"Marky Ramone\",\"Tommy Lee\",\"Joe Thomas\",\"Brandon Graham\",\"Ray Lewis\",\"Brett Favre\",\"Sean Avery\",\"Carole Baskin\",\"Nadia Comaneci\",\"Dan Gable\",\"Anthony Scaramucci\",\"Tony Hawk\",\"Mick Foley\",\"Bret Hitman Hart\",\"RiFF RAFF\",\"Redman\",\"Ice T\",\"Flavor Flav\",\"Alice Cooper\",\"The Cameo Santa\",\"Kenny G\",\"Wayne Coyne\",\"Melissa Etheridge\",\"Pierre Bouvier\",\"Mark McGrath\",\"Dee Snider\",\"Montell Jordan\",\"Lisa Vanderpump\",\"Chris Harrison\",\"Tom Bergeron\",\"Jerry Springer\",\"TJ Lavin\",\"Chris Hansen\",\"Tori Spelling\",\"Ashley and Jared\",\"Mia Hamm\",\"Bruce Buffer\",\"Tara Strong\",\"Ric Flair\",\"Coyote Peterson\",\"\",\"\",\"\",\"\",\"\",\"\",\"\",\"\",\"\",\"\",\"\",\"\",\"\",\"\",\"\",\"\",\"\",\"\",\"\",\"\",\"\",\"\",\"\",\"\",\"\",\"\",\"\",\"\",\"\",\"\",\"\",\"\",\"\",\"\",\"\",\"\",\"\",\"\",\"\",\"\",\"\",\"\",\"\",\"\",\"\",\"\",\"\",\"\",\"\",\"\",\"\",\"\",\"\",\"\",\"\",\"\",\"\",\"\",\"\",\"\",\"\",\"\",\"\",\"\",\"\",\"\",\"\",\"\",\"\",\"\",\"\",\"\",\"\",\"\",\"\",\"\",\"\",\"\",\"\",\"\",\"\",\"\",\"\",\"\",\"\",\"\",\"\",\"\",\"\",\"\",\"\",\"\",\"\",\"\",\"\",\"\",\"\",\"\",\"\",\"\",\"\",\"\",\"\",\"\",\"\",\"\",\"\",\"\",\"\",\"\",\"\",\"\",\"\",\"\",\"\",\"\",\"\",\"\",\"\",\"\",\"\",\"\",\"\",\"\",\"\",\"\",\"\",\"\",\"\",\"\",\"\",\"\",\"\",\"\",\"\",\"\",\"\",\"\",\"\",\"\",\"\",\"\",\"\",\"\",\"\",\"\",\"\",\"\",\"\",\"\",\"\",\"\",\"\",\"\",\"\",\"\",\"\",\"\",\"\",\"\",\"\",\"\",\"\",\"\",\"\",\"\",\"\",\"\",\"\",\"\",\"\",\"\",\"\",\"\",\"\"],\"textinfo\":\"label+text+value\",\"type\":\"treemap\",\"values\":[5.0,5.0,5.0,4.9,5.0,5.0,5.0,5.0,5.0,5.0,5.0,4.9,4.9,5.0,4.9,5.0,5.0,5.0,5.0,5.0,5.0,5.0,5.0,5.0,5.0,5.0,5.0,5.0,5.0,5.0,5.0,5.0,5.0,5.0,5.0,5.0,5.0,5.0,5.0,5.0,5.0,5.0,5.0,5.0,5.0,5.0,5.0,5.0,5.0,5.0,5.0,5.0,5.0,5.0,5.0,5.0,5.0,5.0,5.0,5.0,5.0,4.9,5.0,5.0,5.0,5.0,5.0,5.0,5.0,5.0,4.9,5.0,5.0,4.9,5.0,5.0,5.0,4.7,5.0,5.0,4.9,5.0,5.0,5.0,4.8,4.9,4.9,4.8,4.9,4.9,5.0,5.0,4.9,5.0,5.0,4.8,5.0,4.9,4.8,5.0,5.0,5.0,5.0,5.0,5.0,4.9,5.0,5.0,5.0,5.0,5.0,5.0,5.0,5.0,4.9,5.0,5.0,5.0,4.9,5.0,5.0,5.0,5.0,4.9,5.0,4.9,4.9,5.0,4.9,5.0,5.0,5.0,5.0,5.0,4.9,5.0,4.9,5.0,5.0,5.0,4.9,5.0,5.0,4.9,5.0,4.9,5.0,5.0,5.0,4.7,5.0,5.0,4.9,5.0,5.0,5.0,5.0,5.0,5.0,5.0,5.0,5.0,5.0,5.0,5.0,5.0,5.0,5.0,4.9,5.0,5.0,5.0,5.0,5.0,5.0,5.0,5.0,5.0,5.0,4.9,5.0,5.0,5.0,4.9,5.0,5.0,5.0,5.0,5.0,5.0,5.0,5.0,4.9,5.0,5.0,5.0,5.0,5.0,5.0,4.9,5.0,5.0,5.0,5.0,5.0,5.0,5.0,5.0,5.0,5.0,5.0,5.0,4.9,5.0,5.0,5.0,5.0,5.0,5.0,5.0,4.9,4.9,5.0,5.0,5.0,5.0,5.0,5.0,4.9,5.0,5.0,5.0,5.0,5.0,5.0,4.9,5.0,5.0,5.0,5.0,5.0,5.0,5.0,5.0,5.0,4.9,4.9,5.0,5.0,5.0,5.0,5.0,4.9,5.0,5.0,5.0,5.0,5.0,5.0,4.9,5.0,5.0,5.0,5.0,5.0,5.0,4.9,5.0,5.0,5.0,5.0,4.9,5.0,5.0,5.0,5.0,5.0,4.7,5.0,4.9,5.0,5.0,5.0,5.0,5.0,5.0,5.0,5.0,5.0,5.0,5.0,5.0,5.0,5.0,5.0,5.0,5.0,4.9,5.0,5.0,5.0,5.0,4.9,4.9,4.9,5.0,4.8,5.0,4.9,5.0,4.8,5.0,5.0,5.0,5.0,5.0,4.7,5.0,5.0,5.0,5.0,5.0,5.0,5.0,5.0,5.0,4.9,5.0,5.0,4.9,5.0,4.9,5.0,5.0,5.0,4.8,5.0,5.0,4.9,4.9,5.0,5.0,4.8,4.9,5.0,4.9,5.0,5.0,5.0,5.0]}],                        {\"height\":700,\"legend\":{\"tracegroupgap\":0},\"template\":{\"data\":{\"bar\":[{\"error_x\":{\"color\":\"#2a3f5f\"},\"error_y\":{\"color\":\"#2a3f5f\"},\"marker\":{\"line\":{\"color\":\"#E5ECF6\",\"width\":0.5},\"pattern\":{\"fillmode\":\"overlay\",\"size\":10,\"solidity\":0.2}},\"type\":\"bar\"}],\"barpolar\":[{\"marker\":{\"line\":{\"color\":\"#E5ECF6\",\"width\":0.5},\"pattern\":{\"fillmode\":\"overlay\",\"size\":10,\"solidity\":0.2}},\"type\":\"barpolar\"}],\"carpet\":[{\"aaxis\":{\"endlinecolor\":\"#2a3f5f\",\"gridcolor\":\"white\",\"linecolor\":\"white\",\"minorgridcolor\":\"white\",\"startlinecolor\":\"#2a3f5f\"},\"baxis\":{\"endlinecolor\":\"#2a3f5f\",\"gridcolor\":\"white\",\"linecolor\":\"white\",\"minorgridcolor\":\"white\",\"startlinecolor\":\"#2a3f5f\"},\"type\":\"carpet\"}],\"choropleth\":[{\"colorbar\":{\"outlinewidth\":0,\"ticks\":\"\"},\"type\":\"choropleth\"}],\"contour\":[{\"colorbar\":{\"outlinewidth\":0,\"ticks\":\"\"},\"colorscale\":[[0.0,\"#0d0887\"],[0.1111111111111111,\"#46039f\"],[0.2222222222222222,\"#7201a8\"],[0.3333333333333333,\"#9c179e\"],[0.4444444444444444,\"#bd3786\"],[0.5555555555555556,\"#d8576b\"],[0.6666666666666666,\"#ed7953\"],[0.7777777777777778,\"#fb9f3a\"],[0.8888888888888888,\"#fdca26\"],[1.0,\"#f0f921\"]],\"type\":\"contour\"}],\"contourcarpet\":[{\"colorbar\":{\"outlinewidth\":0,\"ticks\":\"\"},\"type\":\"contourcarpet\"}],\"heatmap\":[{\"colorbar\":{\"outlinewidth\":0,\"ticks\":\"\"},\"colorscale\":[[0.0,\"#0d0887\"],[0.1111111111111111,\"#46039f\"],[0.2222222222222222,\"#7201a8\"],[0.3333333333333333,\"#9c179e\"],[0.4444444444444444,\"#bd3786\"],[0.5555555555555556,\"#d8576b\"],[0.6666666666666666,\"#ed7953\"],[0.7777777777777778,\"#fb9f3a\"],[0.8888888888888888,\"#fdca26\"],[1.0,\"#f0f921\"]],\"type\":\"heatmap\"}],\"heatmapgl\":[{\"colorbar\":{\"outlinewidth\":0,\"ticks\":\"\"},\"colorscale\":[[0.0,\"#0d0887\"],[0.1111111111111111,\"#46039f\"],[0.2222222222222222,\"#7201a8\"],[0.3333333333333333,\"#9c179e\"],[0.4444444444444444,\"#bd3786\"],[0.5555555555555556,\"#d8576b\"],[0.6666666666666666,\"#ed7953\"],[0.7777777777777778,\"#fb9f3a\"],[0.8888888888888888,\"#fdca26\"],[1.0,\"#f0f921\"]],\"type\":\"heatmapgl\"}],\"histogram\":[{\"marker\":{\"pattern\":{\"fillmode\":\"overlay\",\"size\":10,\"solidity\":0.2}},\"type\":\"histogram\"}],\"histogram2d\":[{\"colorbar\":{\"outlinewidth\":0,\"ticks\":\"\"},\"colorscale\":[[0.0,\"#0d0887\"],[0.1111111111111111,\"#46039f\"],[0.2222222222222222,\"#7201a8\"],[0.3333333333333333,\"#9c179e\"],[0.4444444444444444,\"#bd3786\"],[0.5555555555555556,\"#d8576b\"],[0.6666666666666666,\"#ed7953\"],[0.7777777777777778,\"#fb9f3a\"],[0.8888888888888888,\"#fdca26\"],[1.0,\"#f0f921\"]],\"type\":\"histogram2d\"}],\"histogram2dcontour\":[{\"colorbar\":{\"outlinewidth\":0,\"ticks\":\"\"},\"colorscale\":[[0.0,\"#0d0887\"],[0.1111111111111111,\"#46039f\"],[0.2222222222222222,\"#7201a8\"],[0.3333333333333333,\"#9c179e\"],[0.4444444444444444,\"#bd3786\"],[0.5555555555555556,\"#d8576b\"],[0.6666666666666666,\"#ed7953\"],[0.7777777777777778,\"#fb9f3a\"],[0.8888888888888888,\"#fdca26\"],[1.0,\"#f0f921\"]],\"type\":\"histogram2dcontour\"}],\"mesh3d\":[{\"colorbar\":{\"outlinewidth\":0,\"ticks\":\"\"},\"type\":\"mesh3d\"}],\"parcoords\":[{\"line\":{\"colorbar\":{\"outlinewidth\":0,\"ticks\":\"\"}},\"type\":\"parcoords\"}],\"pie\":[{\"automargin\":true,\"type\":\"pie\"}],\"scatter\":[{\"marker\":{\"colorbar\":{\"outlinewidth\":0,\"ticks\":\"\"}},\"type\":\"scatter\"}],\"scatter3d\":[{\"line\":{\"colorbar\":{\"outlinewidth\":0,\"ticks\":\"\"}},\"marker\":{\"colorbar\":{\"outlinewidth\":0,\"ticks\":\"\"}},\"type\":\"scatter3d\"}],\"scattercarpet\":[{\"marker\":{\"colorbar\":{\"outlinewidth\":0,\"ticks\":\"\"}},\"type\":\"scattercarpet\"}],\"scattergeo\":[{\"marker\":{\"colorbar\":{\"outlinewidth\":0,\"ticks\":\"\"}},\"type\":\"scattergeo\"}],\"scattergl\":[{\"marker\":{\"colorbar\":{\"outlinewidth\":0,\"ticks\":\"\"}},\"type\":\"scattergl\"}],\"scattermapbox\":[{\"marker\":{\"colorbar\":{\"outlinewidth\":0,\"ticks\":\"\"}},\"type\":\"scattermapbox\"}],\"scatterpolar\":[{\"marker\":{\"colorbar\":{\"outlinewidth\":0,\"ticks\":\"\"}},\"type\":\"scatterpolar\"}],\"scatterpolargl\":[{\"marker\":{\"colorbar\":{\"outlinewidth\":0,\"ticks\":\"\"}},\"type\":\"scatterpolargl\"}],\"scatterternary\":[{\"marker\":{\"colorbar\":{\"outlinewidth\":0,\"ticks\":\"\"}},\"type\":\"scatterternary\"}],\"surface\":[{\"colorbar\":{\"outlinewidth\":0,\"ticks\":\"\"},\"colorscale\":[[0.0,\"#0d0887\"],[0.1111111111111111,\"#46039f\"],[0.2222222222222222,\"#7201a8\"],[0.3333333333333333,\"#9c179e\"],[0.4444444444444444,\"#bd3786\"],[0.5555555555555556,\"#d8576b\"],[0.6666666666666666,\"#ed7953\"],[0.7777777777777778,\"#fb9f3a\"],[0.8888888888888888,\"#fdca26\"],[1.0,\"#f0f921\"]],\"type\":\"surface\"}],\"table\":[{\"cells\":{\"fill\":{\"color\":\"#EBF0F8\"},\"line\":{\"color\":\"white\"}},\"header\":{\"fill\":{\"color\":\"#C8D4E3\"},\"line\":{\"color\":\"white\"}},\"type\":\"table\"}]},\"layout\":{\"annotationdefaults\":{\"arrowcolor\":\"#2a3f5f\",\"arrowhead\":0,\"arrowwidth\":1},\"autotypenumbers\":\"strict\",\"coloraxis\":{\"colorbar\":{\"outlinewidth\":0,\"ticks\":\"\"}},\"colorscale\":{\"diverging\":[[0,\"#8e0152\"],[0.1,\"#c51b7d\"],[0.2,\"#de77ae\"],[0.3,\"#f1b6da\"],[0.4,\"#fde0ef\"],[0.5,\"#f7f7f7\"],[0.6,\"#e6f5d0\"],[0.7,\"#b8e186\"],[0.8,\"#7fbc41\"],[0.9,\"#4d9221\"],[1,\"#276419\"]],\"sequential\":[[0.0,\"#0d0887\"],[0.1111111111111111,\"#46039f\"],[0.2222222222222222,\"#7201a8\"],[0.3333333333333333,\"#9c179e\"],[0.4444444444444444,\"#bd3786\"],[0.5555555555555556,\"#d8576b\"],[0.6666666666666666,\"#ed7953\"],[0.7777777777777778,\"#fb9f3a\"],[0.8888888888888888,\"#fdca26\"],[1.0,\"#f0f921\"]],\"sequentialminus\":[[0.0,\"#0d0887\"],[0.1111111111111111,\"#46039f\"],[0.2222222222222222,\"#7201a8\"],[0.3333333333333333,\"#9c179e\"],[0.4444444444444444,\"#bd3786\"],[0.5555555555555556,\"#d8576b\"],[0.6666666666666666,\"#ed7953\"],[0.7777777777777778,\"#fb9f3a\"],[0.8888888888888888,\"#fdca26\"],[1.0,\"#f0f921\"]]},\"colorway\":[\"#636efa\",\"#EF553B\",\"#00cc96\",\"#ab63fa\",\"#FFA15A\",\"#19d3f3\",\"#FF6692\",\"#B6E880\",\"#FF97FF\",\"#FECB52\"],\"font\":{\"color\":\"#2a3f5f\"},\"geo\":{\"bgcolor\":\"white\",\"lakecolor\":\"white\",\"landcolor\":\"#E5ECF6\",\"showlakes\":true,\"showland\":true,\"subunitcolor\":\"white\"},\"hoverlabel\":{\"align\":\"left\"},\"hovermode\":\"closest\",\"mapbox\":{\"style\":\"light\"},\"paper_bgcolor\":\"white\",\"plot_bgcolor\":\"#E5ECF6\",\"polar\":{\"angularaxis\":{\"gridcolor\":\"white\",\"linecolor\":\"white\",\"ticks\":\"\"},\"bgcolor\":\"#E5ECF6\",\"radialaxis\":{\"gridcolor\":\"white\",\"linecolor\":\"white\",\"ticks\":\"\"}},\"scene\":{\"xaxis\":{\"backgroundcolor\":\"#E5ECF6\",\"gridcolor\":\"white\",\"gridwidth\":2,\"linecolor\":\"white\",\"showbackground\":true,\"ticks\":\"\",\"zerolinecolor\":\"white\"},\"yaxis\":{\"backgroundcolor\":\"#E5ECF6\",\"gridcolor\":\"white\",\"gridwidth\":2,\"linecolor\":\"white\",\"showbackground\":true,\"ticks\":\"\",\"zerolinecolor\":\"white\"},\"zaxis\":{\"backgroundcolor\":\"#E5ECF6\",\"gridcolor\":\"white\",\"gridwidth\":2,\"linecolor\":\"white\",\"showbackground\":true,\"ticks\":\"\",\"zerolinecolor\":\"white\"}},\"shapedefaults\":{\"line\":{\"color\":\"#2a3f5f\"}},\"ternary\":{\"aaxis\":{\"gridcolor\":\"white\",\"linecolor\":\"white\",\"ticks\":\"\"},\"baxis\":{\"gridcolor\":\"white\",\"linecolor\":\"white\",\"ticks\":\"\"},\"bgcolor\":\"#E5ECF6\",\"caxis\":{\"gridcolor\":\"white\",\"linecolor\":\"white\",\"ticks\":\"\"}},\"title\":{\"x\":0.05},\"xaxis\":{\"automargin\":true,\"gridcolor\":\"white\",\"linecolor\":\"white\",\"ticks\":\"\",\"title\":{\"standoff\":15},\"zerolinecolor\":\"white\",\"zerolinewidth\":2},\"yaxis\":{\"automargin\":true,\"gridcolor\":\"white\",\"linecolor\":\"white\",\"ticks\":\"\",\"title\":{\"standoff\":15},\"zerolinecolor\":\"white\",\"zerolinewidth\":2}}},\"title\":{\"text\":\"Top actor based on rating\"},\"treemapcolorway\":[\"rgb(27,158,119)\",\"rgb(217,95,2)\",\"rgb(117,112,179)\",\"rgb(231,41,138)\",\"rgb(102,166,30)\",\"rgb(230,171,2)\",\"rgb(166,118,29)\",\"rgb(102,102,102)\"]},                        {\"responsive\": true}                    ).then(function(){\n",
       "                            \n",
       "var gd = document.getElementById('11bba2f7-4238-44fe-b33a-313873857de8');\n",
       "var x = new MutationObserver(function (mutations, observer) {{\n",
       "        var display = window.getComputedStyle(gd).display;\n",
       "        if (!display || display === 'none') {{\n",
       "            console.log([gd, 'removed!']);\n",
       "            Plotly.purge(gd);\n",
       "            observer.disconnect();\n",
       "        }}\n",
       "}});\n",
       "\n",
       "// Listen for the removal of the full notebook cells\n",
       "var notebookContainer = gd.closest('#notebook-container');\n",
       "if (notebookContainer) {{\n",
       "    x.observe(notebookContainer, {childList: true});\n",
       "}}\n",
       "\n",
       "// Listen for the clearing of the current output cell\n",
       "var outputEl = gd.closest('.output');\n",
       "if (outputEl) {{\n",
       "    x.observe(outputEl, {childList: true});\n",
       "}}\n",
       "\n",
       "                        })                };                });            </script>        </div>"
      ]
     },
     "metadata": {},
     "output_type": "display_data"
    }
   ],
   "source": [
    "fig = px.treemap(sorted_top_actor.sort_values(by = 'actor_rating', ascending = False).reset_index(drop = True), \n",
    "                 path = ['name', 'actor_subheader'], values = 'actor_rating', height = 700,\n",
    "                 title = 'Top actor based on rating', color_discrete_sequence = px.colors.qualitative.Dark2)\n",
    "\n",
    "fig.data[0].textinfo = 'label+text+value'\n",
    "\n",
    "fig.show()"
   ]
  },
  {
   "cell_type": "markdown",
   "id": "6f0225e2",
   "metadata": {},
   "source": [
    "### Represent the top actor based on number of fans"
   ]
  },
  {
   "cell_type": "code",
   "execution_count": 76,
   "id": "aa6fa007",
   "metadata": {},
   "outputs": [
    {
     "data": {
      "application/vnd.plotly.v1+json": {
       "config": {
        "plotlyServerURL": "https://plot.ly"
       },
       "data": [
        {
         "branchvalues": "total",
         "domain": {
          "x": [
           0,
           1
          ],
          "y": [
           0,
           1
          ]
         },
         "hovertemplate": "labels=%{label}<br>actor_fan=%{value}<br>parent=%{parent}<br>id=%{id}<extra></extra>",
         "ids": [
          "Ben Higgins/ABC - The Bachelor Season 20",
          "Chuck Norris/Actor",
          "John Schneider/Actor",
          "David Hasselhoff/Actor - Baywatch",
          "Anthony Anderson/Actor - Black-ish",
          "Will Friedle/Actor - Boy Meets World ",
          "Dean Norris/Actor - Breaking Bad",
          "Bob Saget/Actor - Comedian",
          "Michael Ian Black/Actor - Comedian",
          "Michael Rapaport/Actor - Comedian",
          "James Van Der Beek/Actor - Dawson’s Creek - What Would Diplo Do? ",
          "Jesse Metcalfe/Actor - Desperate Housewives",
          "David Henrie/Actor - Disney Star",
          "John Barrowman MBE/Actor - Doctor Who, Arrow, Torchwood",
          "Jonathan Goldsmith/Actor - Formerly Portrayed The Most Interesting Man",
          "James Cosmo/Actor - Game of Thrones",
          "Kristian Nairn/Actor - Game of Thrones",
          "Steve Burton/Actor - General Hospital - The Young and The Restless - Final Fan...",
          "Ernie Hudson/Actor - Ghostbusters",
          "Scott Patterson/Actor - Gilmore Girls",
          "James Pickens Jr./Actor - Grey’s Anatomy",
          "Shooter McGavin/Actor - Happy Gilmore",
          "James Phelps/Actor - Harry Potter",
          "Oliver Phelps/Actor - Harry Potter",
          "Tom Felton/Actor - Harry Potter Series",
          "Ben Sinclair/Actor - High Maintenance",
          "Bart Johnson/Actor - High School Musical",
          "Josh Radnor/Actor - How I Met Your Mother, Hunters",
          "Conrad Ricamora/Actor - How to Get Away With Murder ",
          "Jaime Camil/Actor - Jane The Virgin & Broke (CBS)",
          "Jay Mewes/Actor - Jay and Silent Bob",
          "Terry O’Quinn/Actor - LOST",
          "Gary Busey/Actor - Lethal Weapon",
          "Dylan Playfair/Actor - Letterkenny | Descendants 3",
          "Billy Boyd/Actor - Lord of the Rings, Outlander",
          "Sean Astin/Actor - Lord of the Rings, Stranger Things ",
          "Enrique Arce/Actor - Money Heist",
          "Jon Heder/Actor - Napoleon Dynamite, Blades of Glory, Benchwarmers",
          "Graham McTavish/Actor - Outlander, The Hobbit",
          "Jim O’Heir/Actor - Parks and Recreation",
          "Brant Daugherty/Actor - Pretty Little Liars",
          "Anthony Rapp/Actor - RENT - Star Trek",
          "Roger Clark/Actor - Red Dead Redemption II",
          "John C. McGinley/Actor - Scrubs",
          "John O’Hurley/Actor - Seinfeld",
          "Mario Cantone/Actor - Sex & The City",
          "Chris Diamantopoulos/Actor - Silicon Valley, Mickey Mouse",
          "Michael Rosenbaum/Actor - Smallville - Guardians of the Galaxy 2",
          "Ray Abruzzo/Actor - Sopranos",
          "Brent Spiner/Actor - Star Trek: The Next Generation",
          "Jonathan Frakes/Actor - Star Trek: The Next Generation",
          "Dean Cain/Actor - Superman",
          "Felicia Day/Actor - Supernatural",
          "Mark Sheppard/Actor - Supernatural",
          "Misha Collins/Actor - Supernatural",
          "Mark Pellegrino/Actor - Supernatural, Dexter, Lost",
          "Barry Williams/Actor - The Brady Bunch  ",
          "Corey Feldman/Actor - The Goonies",
          "James Buckley/Actor - The Inbetweeners",
          "Troy Baker/Actor - The Last of Us, BioShock Infinite, Uncharted 4, Batman: A...",
          "Brian Baumgartner/Actor - The Office",
          "Oscar Nunez/Actor - The Office",
          "David Koechner/Actor - The Office - Anchorman",
          "Andy Buckley/Actor - The Office, Odd Mom Out",
          "Vincent Curatola/Actor - The Sopranos",
          "Ross Marquand/Actor - The Walking Dead",
          "Dule Hill/Actor - The Wonder Years, Psych, Suits, The West Wing",
          "Nolan North/Actor - Uncharted series, Assassin's Creed, Deadpool",
          "DANIELLE CORMACK/Actor - Wentworth, Producer, Writer, Humanitarian, Goose.",
          "Milo Manheim/Actor - Zombies",
          "James Maslow/Actor / Singer - Big Time Rush",
          "Cedric The Entertainer/Actor/Comedian - The Original Kings of Comedy",
          "Laura Osnes/Actress - Broadway",
          "Stacey Dash/Actress - Clueless",
          "Didi Conn/Actress - Grease",
          "Danica McKellar/Actress - Hallmark Channel",
          "Melissa Gilbert/Actress - Little House on the Prairie",
          "Lindsay Lohan/Actress - Parent Trap, Mean Girls",
          "Amy Jo Johnson/Actress - Power Rangers, Felicity",
          "Kate Flannery/Actress - The Office",
          "Todrick Hall/Artist - Youtuber",
          "Brian Scalabrine/Basketball Player - Celtics/Bulls",
          "CT Fletcher/Bodybuilder",
          "Carson Kressley/Bravo - Queer Eye for the Straight Guy/ RuPauls Drag Race",
          "Teresa Giudice/Bravo - Real Housewives of New Jersey",
          "Dorinda Medley/Bravo - Real Housewives of New York City",
          "LuAnn de Lesseps/Bravo - Real Housewives of New York City",
          "Ramona Singer/Bravo - Real Housewives of New York City",
          "Sonja Morgan/Bravo - Real Housewives of New York City",
          "James Kennedy/Bravo - Vanderpump Rules",
          "LaVar Ball/CEO of Big Baller Brand",
          "Chef Duff Goldman/Chef - TV Personality",
          "Andrew Dice Clay/Comedian",
          "Bassem Youssef/Comedian",
          "Gilbert Gottfried/Comedian",
          "Pauly Shore/Comedian & Actor - Bio-Dome, Encino Man",
          "Paul Reubens aka Pee-wee Herman/Comedian - Actor",
          "Tom Arnold/Comedian - Actor: Roseanne",
          "Tommy Chong/Comedian - Musician - Actor - Writer",
          "Jon Lovitz/Comedian - Saturday Night Live  ",
          "Colin Mochrie/Comedian - Whose Line is it Anyway?",
          "Aaron Watson/Country Music Singer",
          "Granger Smith/Country Music Singer",
          "Randy Travis/Country Music Singer - Actor",
          "Maurice Benard/Emmy Award Winning Actor - Soap Opera Star - General Hospital, Joy",
          "Bethenny Frankel/Entrepreneur - Real Housewives of New York City",
          "Sarah Palin/Former Governor of Alaska",
          "Johnny Damon/Former MLB - Boston Red Sox & New York Yankees",
          "Randy Couture/Former MMA Fighter, 6x UFC Champion & Actor",
          "Jake The Snake Roberts/Former Professional Wrestler",
          "Diamond Dallas Page aka DDP/Former Professional Wrestler; Yoga Instructor",
          "Shangela/HBO- We’re Here, RuPaul's Drag Race",
          "Kurt Angle/Hall of Fame Wrestler & Olympic Gold Medalist",
          "Doug E. Fresh/Hip Hop Legend",
          "Chumlee/History - Pawn Stars",
          "Rick Harrison/History - Pawn Stars",
          "Jon Taffer/Host - Bar Rescue",
          "Arin Hanson/Host - Game Grumps | Creator - Egoraptor",
          "Kevin O’Leary aka Mr. Wonderful/Investor - Shark Tank",
          "Nick Hexum/Lead Singer - 311",
          "Arnel Pineda/Lead Singer - Journey",
          "Johnny Van Zant/Lead Singer - Lynyrd Skynyrd",
          "Abby Lee Miller/Lifetime - Dance Moms",
          "Pete Alonso/MLB - New York Mets",
          "Ryne Sandberg/MLB Hall of Famer - Chicago Cubs",
          "Ozzie Smith/MLB Hall of Famer - St. Louis Cardinals",
          "Ozzie Guillen/MLB World Series Champ - Chicago White Sox",
          "Nev Schulman/MTV - Catfish",
          "Johnny Bananas/MTV - The Challenge",
          "Spencer Pratt on Cameo dot com/MTV - The Hills",
          "Penn Jillette/Magician - Penn & Teller",
          "Justin Willman/Magician, Netflix - Magic for Humans",
          "Michael Franti/Musician",
          "Lance Bass/Musician - NSYNC",
          "Sean Paul/Musician - Reggae - DanceHall ",
          "Marky Ramone/Musician - The Ramones",
          "Tommy Lee/Mötley Crüe",
          "Joe Thomas/NFL - Cleveland Browns",
          "Brandon Graham/NFL - Philadelphia Eagles",
          "Ray Lewis/NFL Hall of Famer - Baltimore Ravens",
          "Brett Favre/NFL Legend - Green Bay Packers",
          "Sean Avery/NHL Legend - NY Rangers",
          "Carole Baskin/Netflix - Tiger King",
          "Nadia Comaneci/Olympic Gold Medalist - Gymnast",
          "Dan Gable/Olympic Wrestler - Gold Medalist ",
          "Anthony Scaramucci/Political Figure - The Mooch",
          "Tony Hawk/Pro Skateboarder",
          "Mick Foley/Pro Wrestling Legend",
          "Bret Hitman Hart/Professional Wrestling Legend ",
          "RiFF RAFF/Rapper",
          "Redman/Rapper ",
          "Ice T/Rapper - Law & Order: SVU",
          "Flavor Flav/Rapper - VH1's Flavor of Love",
          "Alice Cooper/Rock Legend - Actor - Comic Book Star",
          "The Cameo Santa/Santa Claus",
          "Kenny G/Saxophonist ",
          "Wayne Coyne/Singer - Flaming Lips",
          "Melissa Etheridge/Singer - Rock Legend",
          "Pierre Bouvier/Singer - Simple Plan",
          "Mark McGrath/Singer - Sugar Ray",
          "Dee Snider/Singer - Twisted Sister",
          "Montell Jordan/Singer/Songwriter - This Is How We Do It",
          "Lisa Vanderpump/Star of Bravo's Vanderpump Rules",
          "Chris Harrison/TV Host - ABC's The Bachelor",
          "Tom Bergeron/TV Host - AFV, Hollywood Squares, etc.",
          "Jerry Springer/TV Host - Jerry Springer Show",
          "TJ Lavin/TV Host - MTV's The Challenge - BMX Rider ",
          "Chris Hansen/TV Star",
          "Tori Spelling/TV Star",
          "Ashley and Jared/TV Stars - Bachelor in Paradise",
          "Mia Hamm/U.S. Women's Soccer Legend | USWNT | 2x Olympic Gold Medalist & W...",
          "Bruce Buffer/UFC Octagon Announcer",
          "Tara Strong/Voice Actor - Harley Quinn, Timmy Turner, Bubbles, Ben 10",
          "Ric Flair/WWE Superstar",
          "Coyote Peterson/YouTube Creator - Brave Wilderness",
          "Aaron Watson",
          "Abby Lee Miller",
          "Alice Cooper",
          "Amy Jo Johnson",
          "Andrew Dice Clay",
          "Andy Buckley",
          "Anthony Anderson",
          "Anthony Rapp",
          "Anthony Scaramucci",
          "Arin Hanson",
          "Arnel Pineda",
          "Ashley and Jared",
          "Barry Williams",
          "Bart Johnson",
          "Bassem Youssef",
          "Ben Higgins",
          "Ben Sinclair",
          "Bethenny Frankel",
          "Billy Boyd",
          "Bob Saget",
          "Brandon Graham",
          "Brant Daugherty",
          "Brent Spiner",
          "Bret Hitman Hart",
          "Brett Favre",
          "Brian Baumgartner",
          "Brian Scalabrine",
          "Bruce Buffer",
          "CT Fletcher",
          "Carole Baskin",
          "Carson Kressley",
          "Cedric The Entertainer",
          "Chef Duff Goldman",
          "Chris Diamantopoulos",
          "Chris Hansen",
          "Chris Harrison",
          "Chuck Norris",
          "Chumlee",
          "Colin Mochrie",
          "Conrad Ricamora",
          "Corey Feldman",
          "Coyote Peterson",
          "DANIELLE CORMACK",
          "Dan Gable",
          "Danica McKellar",
          "David Hasselhoff",
          "David Henrie",
          "David Koechner",
          "Dean Cain",
          "Dean Norris",
          "Dee Snider",
          "Diamond Dallas Page aka DDP",
          "Didi Conn",
          "Dorinda Medley",
          "Doug E. Fresh",
          "Dule Hill",
          "Dylan Playfair",
          "Enrique Arce",
          "Ernie Hudson",
          "Felicia Day",
          "Flavor Flav",
          "Gary Busey",
          "Gilbert Gottfried",
          "Graham McTavish",
          "Granger Smith",
          "Ice T",
          "Jaime Camil",
          "Jake The Snake Roberts",
          "James Buckley",
          "James Cosmo",
          "James Kennedy",
          "James Maslow",
          "James Phelps",
          "James Pickens Jr.",
          "James Van Der Beek",
          "Jay Mewes",
          "Jerry Springer",
          "Jesse Metcalfe",
          "Jim O’Heir",
          "Joe Thomas",
          "John Barrowman MBE",
          "John C. McGinley",
          "John O’Hurley",
          "John Schneider",
          "Johnny Bananas",
          "Johnny Damon",
          "Johnny Van Zant",
          "Jon Heder",
          "Jon Lovitz",
          "Jon Taffer",
          "Jonathan Frakes",
          "Jonathan Goldsmith",
          "Josh Radnor",
          "Justin Willman",
          "Kate Flannery",
          "Kenny G",
          "Kevin O’Leary aka Mr. Wonderful",
          "Kristian Nairn",
          "Kurt Angle",
          "LaVar Ball",
          "Lance Bass",
          "Laura Osnes",
          "Lindsay Lohan",
          "Lisa Vanderpump",
          "LuAnn de Lesseps",
          "Mario Cantone",
          "Mark McGrath",
          "Mark Pellegrino",
          "Mark Sheppard",
          "Marky Ramone",
          "Maurice Benard",
          "Melissa Etheridge",
          "Melissa Gilbert",
          "Mia Hamm",
          "Michael Franti",
          "Michael Ian Black",
          "Michael Rapaport",
          "Michael Rosenbaum",
          "Mick Foley",
          "Milo Manheim",
          "Misha Collins",
          "Montell Jordan",
          "Nadia Comaneci",
          "Nev Schulman",
          "Nick Hexum",
          "Nolan North",
          "Oliver Phelps",
          "Oscar Nunez",
          "Ozzie Guillen",
          "Ozzie Smith",
          "Paul Reubens aka Pee-wee Herman",
          "Pauly Shore",
          "Penn Jillette",
          "Pete Alonso",
          "Pierre Bouvier",
          "Ramona Singer",
          "Randy Couture",
          "Randy Travis",
          "Ray Abruzzo",
          "Ray Lewis",
          "Redman",
          "RiFF RAFF",
          "Ric Flair",
          "Rick Harrison",
          "Roger Clark",
          "Ross Marquand",
          "Ryne Sandberg",
          "Sarah Palin",
          "Scott Patterson",
          "Sean Astin",
          "Sean Avery",
          "Sean Paul",
          "Shangela",
          "Shooter McGavin",
          "Sonja Morgan",
          "Spencer Pratt on Cameo dot com",
          "Stacey Dash",
          "Steve Burton",
          "TJ Lavin",
          "Tara Strong",
          "Teresa Giudice",
          "Terry O’Quinn",
          "The Cameo Santa",
          "Todrick Hall",
          "Tom Arnold",
          "Tom Bergeron",
          "Tom Felton",
          "Tommy Chong",
          "Tommy Lee",
          "Tony Hawk",
          "Tori Spelling",
          "Troy Baker",
          "Vincent Curatola",
          "Wayne Coyne",
          "Will Friedle"
         ],
         "labels": [
          "ABC - The Bachelor Season 20",
          "Actor",
          "Actor",
          "Actor - Baywatch",
          "Actor - Black-ish",
          "Actor - Boy Meets World ",
          "Actor - Breaking Bad",
          "Actor - Comedian",
          "Actor - Comedian",
          "Actor - Comedian",
          "Actor - Dawson’s Creek - What Would Diplo Do? ",
          "Actor - Desperate Housewives",
          "Actor - Disney Star",
          "Actor - Doctor Who, Arrow, Torchwood",
          "Actor - Formerly Portrayed The Most Interesting Man",
          "Actor - Game of Thrones",
          "Actor - Game of Thrones",
          "Actor - General Hospital - The Young and The Restless - Final Fan...",
          "Actor - Ghostbusters",
          "Actor - Gilmore Girls",
          "Actor - Grey’s Anatomy",
          "Actor - Happy Gilmore",
          "Actor - Harry Potter",
          "Actor - Harry Potter",
          "Actor - Harry Potter Series",
          "Actor - High Maintenance",
          "Actor - High School Musical",
          "Actor - How I Met Your Mother, Hunters",
          "Actor - How to Get Away With Murder ",
          "Actor - Jane The Virgin & Broke (CBS)",
          "Actor - Jay and Silent Bob",
          "Actor - LOST",
          "Actor - Lethal Weapon",
          "Actor - Letterkenny | Descendants 3",
          "Actor - Lord of the Rings, Outlander",
          "Actor - Lord of the Rings, Stranger Things ",
          "Actor - Money Heist",
          "Actor - Napoleon Dynamite, Blades of Glory, Benchwarmers",
          "Actor - Outlander, The Hobbit",
          "Actor - Parks and Recreation",
          "Actor - Pretty Little Liars",
          "Actor - RENT - Star Trek",
          "Actor - Red Dead Redemption II",
          "Actor - Scrubs",
          "Actor - Seinfeld",
          "Actor - Sex & The City",
          "Actor - Silicon Valley, Mickey Mouse",
          "Actor - Smallville - Guardians of the Galaxy 2",
          "Actor - Sopranos",
          "Actor - Star Trek: The Next Generation",
          "Actor - Star Trek: The Next Generation",
          "Actor - Superman",
          "Actor - Supernatural",
          "Actor - Supernatural",
          "Actor - Supernatural",
          "Actor - Supernatural, Dexter, Lost",
          "Actor - The Brady Bunch  ",
          "Actor - The Goonies",
          "Actor - The Inbetweeners",
          "Actor - The Last of Us, BioShock Infinite, Uncharted 4, Batman: A...",
          "Actor - The Office",
          "Actor - The Office",
          "Actor - The Office - Anchorman",
          "Actor - The Office, Odd Mom Out",
          "Actor - The Sopranos",
          "Actor - The Walking Dead",
          "Actor - The Wonder Years, Psych, Suits, The West Wing",
          "Actor - Uncharted series, Assassin's Creed, Deadpool",
          "Actor - Wentworth, Producer, Writer, Humanitarian, Goose.",
          "Actor - Zombies",
          "Actor / Singer - Big Time Rush",
          "Actor/Comedian - The Original Kings of Comedy",
          "Actress - Broadway",
          "Actress - Clueless",
          "Actress - Grease",
          "Actress - Hallmark Channel",
          "Actress - Little House on the Prairie",
          "Actress - Parent Trap, Mean Girls",
          "Actress - Power Rangers, Felicity",
          "Actress - The Office",
          "Artist - Youtuber",
          "Basketball Player - Celtics/Bulls",
          "Bodybuilder",
          "Bravo - Queer Eye for the Straight Guy/ RuPauls Drag Race",
          "Bravo - Real Housewives of New Jersey",
          "Bravo - Real Housewives of New York City",
          "Bravo - Real Housewives of New York City",
          "Bravo - Real Housewives of New York City",
          "Bravo - Real Housewives of New York City",
          "Bravo - Vanderpump Rules",
          "CEO of Big Baller Brand",
          "Chef - TV Personality",
          "Comedian",
          "Comedian",
          "Comedian",
          "Comedian & Actor - Bio-Dome, Encino Man",
          "Comedian - Actor",
          "Comedian - Actor: Roseanne",
          "Comedian - Musician - Actor - Writer",
          "Comedian - Saturday Night Live  ",
          "Comedian - Whose Line is it Anyway?",
          "Country Music Singer",
          "Country Music Singer",
          "Country Music Singer - Actor",
          "Emmy Award Winning Actor - Soap Opera Star - General Hospital, Joy",
          "Entrepreneur - Real Housewives of New York City",
          "Former Governor of Alaska",
          "Former MLB - Boston Red Sox & New York Yankees",
          "Former MMA Fighter, 6x UFC Champion & Actor",
          "Former Professional Wrestler",
          "Former Professional Wrestler; Yoga Instructor",
          "HBO- We’re Here, RuPaul's Drag Race",
          "Hall of Fame Wrestler & Olympic Gold Medalist",
          "Hip Hop Legend",
          "History - Pawn Stars",
          "History - Pawn Stars",
          "Host - Bar Rescue",
          "Host - Game Grumps | Creator - Egoraptor",
          "Investor - Shark Tank",
          "Lead Singer - 311",
          "Lead Singer - Journey",
          "Lead Singer - Lynyrd Skynyrd",
          "Lifetime - Dance Moms",
          "MLB - New York Mets",
          "MLB Hall of Famer - Chicago Cubs",
          "MLB Hall of Famer - St. Louis Cardinals",
          "MLB World Series Champ - Chicago White Sox",
          "MTV - Catfish",
          "MTV - The Challenge",
          "MTV - The Hills",
          "Magician - Penn & Teller",
          "Magician, Netflix - Magic for Humans",
          "Musician",
          "Musician - NSYNC",
          "Musician - Reggae - DanceHall ",
          "Musician - The Ramones",
          "Mötley Crüe",
          "NFL - Cleveland Browns",
          "NFL - Philadelphia Eagles",
          "NFL Hall of Famer - Baltimore Ravens",
          "NFL Legend - Green Bay Packers",
          "NHL Legend - NY Rangers",
          "Netflix - Tiger King",
          "Olympic Gold Medalist - Gymnast",
          "Olympic Wrestler - Gold Medalist ",
          "Political Figure - The Mooch",
          "Pro Skateboarder",
          "Pro Wrestling Legend",
          "Professional Wrestling Legend ",
          "Rapper",
          "Rapper ",
          "Rapper - Law & Order: SVU",
          "Rapper - VH1's Flavor of Love",
          "Rock Legend - Actor - Comic Book Star",
          "Santa Claus",
          "Saxophonist ",
          "Singer - Flaming Lips",
          "Singer - Rock Legend",
          "Singer - Simple Plan",
          "Singer - Sugar Ray",
          "Singer - Twisted Sister",
          "Singer/Songwriter - This Is How We Do It",
          "Star of Bravo's Vanderpump Rules",
          "TV Host - ABC's The Bachelor",
          "TV Host - AFV, Hollywood Squares, etc.",
          "TV Host - Jerry Springer Show",
          "TV Host - MTV's The Challenge - BMX Rider ",
          "TV Star",
          "TV Star",
          "TV Stars - Bachelor in Paradise",
          "U.S. Women's Soccer Legend | USWNT | 2x Olympic Gold Medalist & W...",
          "UFC Octagon Announcer",
          "Voice Actor - Harley Quinn, Timmy Turner, Bubbles, Ben 10",
          "WWE Superstar",
          "YouTube Creator - Brave Wilderness",
          "Aaron Watson",
          "Abby Lee Miller",
          "Alice Cooper",
          "Amy Jo Johnson",
          "Andrew Dice Clay",
          "Andy Buckley",
          "Anthony Anderson",
          "Anthony Rapp",
          "Anthony Scaramucci",
          "Arin Hanson",
          "Arnel Pineda",
          "Ashley and Jared",
          "Barry Williams",
          "Bart Johnson",
          "Bassem Youssef",
          "Ben Higgins",
          "Ben Sinclair",
          "Bethenny Frankel",
          "Billy Boyd",
          "Bob Saget",
          "Brandon Graham",
          "Brant Daugherty",
          "Brent Spiner",
          "Bret Hitman Hart",
          "Brett Favre",
          "Brian Baumgartner",
          "Brian Scalabrine",
          "Bruce Buffer",
          "CT Fletcher",
          "Carole Baskin",
          "Carson Kressley",
          "Cedric The Entertainer",
          "Chef Duff Goldman",
          "Chris Diamantopoulos",
          "Chris Hansen",
          "Chris Harrison",
          "Chuck Norris",
          "Chumlee",
          "Colin Mochrie",
          "Conrad Ricamora",
          "Corey Feldman",
          "Coyote Peterson",
          "DANIELLE CORMACK",
          "Dan Gable",
          "Danica McKellar",
          "David Hasselhoff",
          "David Henrie",
          "David Koechner",
          "Dean Cain",
          "Dean Norris",
          "Dee Snider",
          "Diamond Dallas Page aka DDP",
          "Didi Conn",
          "Dorinda Medley",
          "Doug E. Fresh",
          "Dule Hill",
          "Dylan Playfair",
          "Enrique Arce",
          "Ernie Hudson",
          "Felicia Day",
          "Flavor Flav",
          "Gary Busey",
          "Gilbert Gottfried",
          "Graham McTavish",
          "Granger Smith",
          "Ice T",
          "Jaime Camil",
          "Jake The Snake Roberts",
          "James Buckley",
          "James Cosmo",
          "James Kennedy",
          "James Maslow",
          "James Phelps",
          "James Pickens Jr.",
          "James Van Der Beek",
          "Jay Mewes",
          "Jerry Springer",
          "Jesse Metcalfe",
          "Jim O’Heir",
          "Joe Thomas",
          "John Barrowman MBE",
          "John C. McGinley",
          "John O’Hurley",
          "John Schneider",
          "Johnny Bananas",
          "Johnny Damon",
          "Johnny Van Zant",
          "Jon Heder",
          "Jon Lovitz",
          "Jon Taffer",
          "Jonathan Frakes",
          "Jonathan Goldsmith",
          "Josh Radnor",
          "Justin Willman",
          "Kate Flannery",
          "Kenny G",
          "Kevin O’Leary aka Mr. Wonderful",
          "Kristian Nairn",
          "Kurt Angle",
          "LaVar Ball",
          "Lance Bass",
          "Laura Osnes",
          "Lindsay Lohan",
          "Lisa Vanderpump",
          "LuAnn de Lesseps",
          "Mario Cantone",
          "Mark McGrath",
          "Mark Pellegrino",
          "Mark Sheppard",
          "Marky Ramone",
          "Maurice Benard",
          "Melissa Etheridge",
          "Melissa Gilbert",
          "Mia Hamm",
          "Michael Franti",
          "Michael Ian Black",
          "Michael Rapaport",
          "Michael Rosenbaum",
          "Mick Foley",
          "Milo Manheim",
          "Misha Collins",
          "Montell Jordan",
          "Nadia Comaneci",
          "Nev Schulman",
          "Nick Hexum",
          "Nolan North",
          "Oliver Phelps",
          "Oscar Nunez",
          "Ozzie Guillen",
          "Ozzie Smith",
          "Paul Reubens aka Pee-wee Herman",
          "Pauly Shore",
          "Penn Jillette",
          "Pete Alonso",
          "Pierre Bouvier",
          "Ramona Singer",
          "Randy Couture",
          "Randy Travis",
          "Ray Abruzzo",
          "Ray Lewis",
          "Redman",
          "RiFF RAFF",
          "Ric Flair",
          "Rick Harrison",
          "Roger Clark",
          "Ross Marquand",
          "Ryne Sandberg",
          "Sarah Palin",
          "Scott Patterson",
          "Sean Astin",
          "Sean Avery",
          "Sean Paul",
          "Shangela",
          "Shooter McGavin",
          "Sonja Morgan",
          "Spencer Pratt on Cameo dot com",
          "Stacey Dash",
          "Steve Burton",
          "TJ Lavin",
          "Tara Strong",
          "Teresa Giudice",
          "Terry O’Quinn",
          "The Cameo Santa",
          "Todrick Hall",
          "Tom Arnold",
          "Tom Bergeron",
          "Tom Felton",
          "Tommy Chong",
          "Tommy Lee",
          "Tony Hawk",
          "Tori Spelling",
          "Troy Baker",
          "Vincent Curatola",
          "Wayne Coyne",
          "Will Friedle"
         ],
         "name": "",
         "parents": [
          "Ben Higgins",
          "Chuck Norris",
          "John Schneider",
          "David Hasselhoff",
          "Anthony Anderson",
          "Will Friedle",
          "Dean Norris",
          "Bob Saget",
          "Michael Ian Black",
          "Michael Rapaport",
          "James Van Der Beek",
          "Jesse Metcalfe",
          "David Henrie",
          "John Barrowman MBE",
          "Jonathan Goldsmith",
          "James Cosmo",
          "Kristian Nairn",
          "Steve Burton",
          "Ernie Hudson",
          "Scott Patterson",
          "James Pickens Jr.",
          "Shooter McGavin",
          "James Phelps",
          "Oliver Phelps",
          "Tom Felton",
          "Ben Sinclair",
          "Bart Johnson",
          "Josh Radnor",
          "Conrad Ricamora",
          "Jaime Camil",
          "Jay Mewes",
          "Terry O’Quinn",
          "Gary Busey",
          "Dylan Playfair",
          "Billy Boyd",
          "Sean Astin",
          "Enrique Arce",
          "Jon Heder",
          "Graham McTavish",
          "Jim O’Heir",
          "Brant Daugherty",
          "Anthony Rapp",
          "Roger Clark",
          "John C. McGinley",
          "John O’Hurley",
          "Mario Cantone",
          "Chris Diamantopoulos",
          "Michael Rosenbaum",
          "Ray Abruzzo",
          "Brent Spiner",
          "Jonathan Frakes",
          "Dean Cain",
          "Felicia Day",
          "Mark Sheppard",
          "Misha Collins",
          "Mark Pellegrino",
          "Barry Williams",
          "Corey Feldman",
          "James Buckley",
          "Troy Baker",
          "Brian Baumgartner",
          "Oscar Nunez",
          "David Koechner",
          "Andy Buckley",
          "Vincent Curatola",
          "Ross Marquand",
          "Dule Hill",
          "Nolan North",
          "DANIELLE CORMACK",
          "Milo Manheim",
          "James Maslow",
          "Cedric The Entertainer",
          "Laura Osnes",
          "Stacey Dash",
          "Didi Conn",
          "Danica McKellar",
          "Melissa Gilbert",
          "Lindsay Lohan",
          "Amy Jo Johnson",
          "Kate Flannery",
          "Todrick Hall",
          "Brian Scalabrine",
          "CT Fletcher",
          "Carson Kressley",
          "Teresa Giudice",
          "Dorinda Medley",
          "LuAnn de Lesseps",
          "Ramona Singer",
          "Sonja Morgan",
          "James Kennedy",
          "LaVar Ball",
          "Chef Duff Goldman",
          "Andrew Dice Clay",
          "Bassem Youssef",
          "Gilbert Gottfried",
          "Pauly Shore",
          "Paul Reubens aka Pee-wee Herman",
          "Tom Arnold",
          "Tommy Chong",
          "Jon Lovitz",
          "Colin Mochrie",
          "Aaron Watson",
          "Granger Smith",
          "Randy Travis",
          "Maurice Benard",
          "Bethenny Frankel",
          "Sarah Palin",
          "Johnny Damon",
          "Randy Couture",
          "Jake The Snake Roberts",
          "Diamond Dallas Page aka DDP",
          "Shangela",
          "Kurt Angle",
          "Doug E. Fresh",
          "Chumlee",
          "Rick Harrison",
          "Jon Taffer",
          "Arin Hanson",
          "Kevin O’Leary aka Mr. Wonderful",
          "Nick Hexum",
          "Arnel Pineda",
          "Johnny Van Zant",
          "Abby Lee Miller",
          "Pete Alonso",
          "Ryne Sandberg",
          "Ozzie Smith",
          "Ozzie Guillen",
          "Nev Schulman",
          "Johnny Bananas",
          "Spencer Pratt on Cameo dot com",
          "Penn Jillette",
          "Justin Willman",
          "Michael Franti",
          "Lance Bass",
          "Sean Paul",
          "Marky Ramone",
          "Tommy Lee",
          "Joe Thomas",
          "Brandon Graham",
          "Ray Lewis",
          "Brett Favre",
          "Sean Avery",
          "Carole Baskin",
          "Nadia Comaneci",
          "Dan Gable",
          "Anthony Scaramucci",
          "Tony Hawk",
          "Mick Foley",
          "Bret Hitman Hart",
          "RiFF RAFF",
          "Redman",
          "Ice T",
          "Flavor Flav",
          "Alice Cooper",
          "The Cameo Santa",
          "Kenny G",
          "Wayne Coyne",
          "Melissa Etheridge",
          "Pierre Bouvier",
          "Mark McGrath",
          "Dee Snider",
          "Montell Jordan",
          "Lisa Vanderpump",
          "Chris Harrison",
          "Tom Bergeron",
          "Jerry Springer",
          "TJ Lavin",
          "Chris Hansen",
          "Tori Spelling",
          "Ashley and Jared",
          "Mia Hamm",
          "Bruce Buffer",
          "Tara Strong",
          "Ric Flair",
          "Coyote Peterson",
          "",
          "",
          "",
          "",
          "",
          "",
          "",
          "",
          "",
          "",
          "",
          "",
          "",
          "",
          "",
          "",
          "",
          "",
          "",
          "",
          "",
          "",
          "",
          "",
          "",
          "",
          "",
          "",
          "",
          "",
          "",
          "",
          "",
          "",
          "",
          "",
          "",
          "",
          "",
          "",
          "",
          "",
          "",
          "",
          "",
          "",
          "",
          "",
          "",
          "",
          "",
          "",
          "",
          "",
          "",
          "",
          "",
          "",
          "",
          "",
          "",
          "",
          "",
          "",
          "",
          "",
          "",
          "",
          "",
          "",
          "",
          "",
          "",
          "",
          "",
          "",
          "",
          "",
          "",
          "",
          "",
          "",
          "",
          "",
          "",
          "",
          "",
          "",
          "",
          "",
          "",
          "",
          "",
          "",
          "",
          "",
          "",
          "",
          "",
          "",
          "",
          "",
          "",
          "",
          "",
          "",
          "",
          "",
          "",
          "",
          "",
          "",
          "",
          "",
          "",
          "",
          "",
          "",
          "",
          "",
          "",
          "",
          "",
          "",
          "",
          "",
          "",
          "",
          "",
          "",
          "",
          "",
          "",
          "",
          "",
          "",
          "",
          "",
          "",
          "",
          "",
          "",
          "",
          "",
          "",
          "",
          "",
          "",
          "",
          "",
          "",
          "",
          "",
          "",
          "",
          "",
          "",
          "",
          "",
          "",
          "",
          "",
          "",
          "",
          "",
          "",
          "",
          "",
          "",
          "",
          "",
          "",
          "",
          "",
          ""
         ],
         "textinfo": "label+text+value",
         "type": "treemap",
         "values": [
          384,
          2000,
          743,
          2000,
          2000,
          2000,
          2000,
          2000,
          897,
          2000,
          1000,
          1000,
          5000,
          3000,
          1000,
          940,
          827,
          1000,
          2000,
          1000,
          2000,
          1000,
          36000,
          41000,
          61000,
          232,
          1000,
          1000,
          883,
          2000,
          1000,
          771,
          1000,
          1000,
          2000,
          3000,
          482,
          889,
          1000,
          1000,
          755,
          863,
          2000,
          1000,
          1000,
          558,
          1000,
          1000,
          399,
          2000,
          2000,
          842,
          4000,
          5000,
          8000,
          3000,
          679,
          672,
          4000,
          1000,
          5000,
          1000,
          1000,
          1000,
          434,
          865,
          2000,
          1000,
          928,
          2000,
          2000,
          1000,
          489,
          844,
          3000,
          1000,
          503,
          4000,
          1000,
          2000,
          3000,
          301,
          339,
          1000,
          687,
          530,
          518,
          365,
          1000,
          287,
          1000,
          916,
          1000,
          243,
          4000,
          994,
          2000,
          699,
          3000,
          2000,
          3000,
          304,
          1000,
          1000,
          1000,
          899,
          1000,
          326,
          816,
          740,
          993,
          1000,
          1000,
          1000,
          1000,
          1000,
          698,
          2000,
          1000,
          837,
          726,
          746,
          1000,
          550,
          359,
          420,
          241,
          971,
          705,
          235,
          1000,
          403,
          488,
          1000,
          1000,
          492,
          1000,
          219,
          241,
          1000,
          1000,
          1000,
          2000,
          519,
          207,
          524,
          2000,
          4000,
          2000,
          1000,
          1000,
          2000,
          930,
          2000,
          2000,
          1000,
          450,
          908,
          2000,
          1000,
          1000,
          1000,
          1000,
          1000,
          489,
          1000,
          771,
          2000,
          503,
          337,
          744,
          1000,
          1000,
          2000,
          720,
          304,
          1000,
          2000,
          1000,
          1000,
          1000,
          2000,
          863,
          524,
          2000,
          726,
          337,
          679,
          1000,
          243,
          384,
          232,
          899,
          2000,
          2000,
          241,
          755,
          2000,
          2000,
          1000,
          5000,
          301,
          1000,
          339,
          2000,
          1000,
          1000,
          916,
          1000,
          2000,
          1000,
          2000,
          1000,
          3000,
          883,
          672,
          720,
          928,
          207,
          1000,
          2000,
          5000,
          1000,
          842,
          2000,
          1000,
          993,
          3000,
          530,
          1000,
          2000,
          1000,
          482,
          2000,
          4000,
          930,
          1000,
          4000,
          1000,
          1000,
          2000,
          2000,
          740,
          4000,
          940,
          287,
          2000,
          36000,
          2000,
          1000,
          1000,
          1000,
          1000,
          1000,
          219,
          3000,
          1000,
          1000,
          743,
          705,
          326,
          746,
          889,
          2000,
          698,
          2000,
          1000,
          1000,
          403,
          2000,
          1000,
          1000,
          827,
          1000,
          1000,
          1000,
          489,
          4000,
          1000,
          518,
          558,
          1000,
          3000,
          5000,
          492,
          1000,
          908,
          503,
          744,
          488,
          897,
          2000,
          1000,
          4000,
          2000,
          8000,
          1000,
          519,
          971,
          837,
          1000,
          41000,
          1000,
          241,
          420,
          2000,
          994,
          1000,
          550,
          2000,
          365,
          816,
          1000,
          399,
          1000,
          1000,
          1000,
          2000,
          1000,
          2000,
          865,
          359,
          1000,
          1000,
          3000,
          1000,
          1000,
          1000,
          1000,
          1000,
          235,
          844,
          1000,
          771,
          1000,
          687,
          771,
          2000,
          3000,
          699,
          489,
          61000,
          3000,
          1000,
          2000,
          503,
          1000,
          434,
          450,
          2000
         ]
        }
       ],
       "layout": {
        "height": 700,
        "legend": {
         "tracegroupgap": 0
        },
        "template": {
         "data": {
          "bar": [
           {
            "error_x": {
             "color": "#2a3f5f"
            },
            "error_y": {
             "color": "#2a3f5f"
            },
            "marker": {
             "line": {
              "color": "#E5ECF6",
              "width": 0.5
             },
             "pattern": {
              "fillmode": "overlay",
              "size": 10,
              "solidity": 0.2
             }
            },
            "type": "bar"
           }
          ],
          "barpolar": [
           {
            "marker": {
             "line": {
              "color": "#E5ECF6",
              "width": 0.5
             },
             "pattern": {
              "fillmode": "overlay",
              "size": 10,
              "solidity": 0.2
             }
            },
            "type": "barpolar"
           }
          ],
          "carpet": [
           {
            "aaxis": {
             "endlinecolor": "#2a3f5f",
             "gridcolor": "white",
             "linecolor": "white",
             "minorgridcolor": "white",
             "startlinecolor": "#2a3f5f"
            },
            "baxis": {
             "endlinecolor": "#2a3f5f",
             "gridcolor": "white",
             "linecolor": "white",
             "minorgridcolor": "white",
             "startlinecolor": "#2a3f5f"
            },
            "type": "carpet"
           }
          ],
          "choropleth": [
           {
            "colorbar": {
             "outlinewidth": 0,
             "ticks": ""
            },
            "type": "choropleth"
           }
          ],
          "contour": [
           {
            "colorbar": {
             "outlinewidth": 0,
             "ticks": ""
            },
            "colorscale": [
             [
              0,
              "#0d0887"
             ],
             [
              0.1111111111111111,
              "#46039f"
             ],
             [
              0.2222222222222222,
              "#7201a8"
             ],
             [
              0.3333333333333333,
              "#9c179e"
             ],
             [
              0.4444444444444444,
              "#bd3786"
             ],
             [
              0.5555555555555556,
              "#d8576b"
             ],
             [
              0.6666666666666666,
              "#ed7953"
             ],
             [
              0.7777777777777778,
              "#fb9f3a"
             ],
             [
              0.8888888888888888,
              "#fdca26"
             ],
             [
              1,
              "#f0f921"
             ]
            ],
            "type": "contour"
           }
          ],
          "contourcarpet": [
           {
            "colorbar": {
             "outlinewidth": 0,
             "ticks": ""
            },
            "type": "contourcarpet"
           }
          ],
          "heatmap": [
           {
            "colorbar": {
             "outlinewidth": 0,
             "ticks": ""
            },
            "colorscale": [
             [
              0,
              "#0d0887"
             ],
             [
              0.1111111111111111,
              "#46039f"
             ],
             [
              0.2222222222222222,
              "#7201a8"
             ],
             [
              0.3333333333333333,
              "#9c179e"
             ],
             [
              0.4444444444444444,
              "#bd3786"
             ],
             [
              0.5555555555555556,
              "#d8576b"
             ],
             [
              0.6666666666666666,
              "#ed7953"
             ],
             [
              0.7777777777777778,
              "#fb9f3a"
             ],
             [
              0.8888888888888888,
              "#fdca26"
             ],
             [
              1,
              "#f0f921"
             ]
            ],
            "type": "heatmap"
           }
          ],
          "heatmapgl": [
           {
            "colorbar": {
             "outlinewidth": 0,
             "ticks": ""
            },
            "colorscale": [
             [
              0,
              "#0d0887"
             ],
             [
              0.1111111111111111,
              "#46039f"
             ],
             [
              0.2222222222222222,
              "#7201a8"
             ],
             [
              0.3333333333333333,
              "#9c179e"
             ],
             [
              0.4444444444444444,
              "#bd3786"
             ],
             [
              0.5555555555555556,
              "#d8576b"
             ],
             [
              0.6666666666666666,
              "#ed7953"
             ],
             [
              0.7777777777777778,
              "#fb9f3a"
             ],
             [
              0.8888888888888888,
              "#fdca26"
             ],
             [
              1,
              "#f0f921"
             ]
            ],
            "type": "heatmapgl"
           }
          ],
          "histogram": [
           {
            "marker": {
             "pattern": {
              "fillmode": "overlay",
              "size": 10,
              "solidity": 0.2
             }
            },
            "type": "histogram"
           }
          ],
          "histogram2d": [
           {
            "colorbar": {
             "outlinewidth": 0,
             "ticks": ""
            },
            "colorscale": [
             [
              0,
              "#0d0887"
             ],
             [
              0.1111111111111111,
              "#46039f"
             ],
             [
              0.2222222222222222,
              "#7201a8"
             ],
             [
              0.3333333333333333,
              "#9c179e"
             ],
             [
              0.4444444444444444,
              "#bd3786"
             ],
             [
              0.5555555555555556,
              "#d8576b"
             ],
             [
              0.6666666666666666,
              "#ed7953"
             ],
             [
              0.7777777777777778,
              "#fb9f3a"
             ],
             [
              0.8888888888888888,
              "#fdca26"
             ],
             [
              1,
              "#f0f921"
             ]
            ],
            "type": "histogram2d"
           }
          ],
          "histogram2dcontour": [
           {
            "colorbar": {
             "outlinewidth": 0,
             "ticks": ""
            },
            "colorscale": [
             [
              0,
              "#0d0887"
             ],
             [
              0.1111111111111111,
              "#46039f"
             ],
             [
              0.2222222222222222,
              "#7201a8"
             ],
             [
              0.3333333333333333,
              "#9c179e"
             ],
             [
              0.4444444444444444,
              "#bd3786"
             ],
             [
              0.5555555555555556,
              "#d8576b"
             ],
             [
              0.6666666666666666,
              "#ed7953"
             ],
             [
              0.7777777777777778,
              "#fb9f3a"
             ],
             [
              0.8888888888888888,
              "#fdca26"
             ],
             [
              1,
              "#f0f921"
             ]
            ],
            "type": "histogram2dcontour"
           }
          ],
          "mesh3d": [
           {
            "colorbar": {
             "outlinewidth": 0,
             "ticks": ""
            },
            "type": "mesh3d"
           }
          ],
          "parcoords": [
           {
            "line": {
             "colorbar": {
              "outlinewidth": 0,
              "ticks": ""
             }
            },
            "type": "parcoords"
           }
          ],
          "pie": [
           {
            "automargin": true,
            "type": "pie"
           }
          ],
          "scatter": [
           {
            "marker": {
             "colorbar": {
              "outlinewidth": 0,
              "ticks": ""
             }
            },
            "type": "scatter"
           }
          ],
          "scatter3d": [
           {
            "line": {
             "colorbar": {
              "outlinewidth": 0,
              "ticks": ""
             }
            },
            "marker": {
             "colorbar": {
              "outlinewidth": 0,
              "ticks": ""
             }
            },
            "type": "scatter3d"
           }
          ],
          "scattercarpet": [
           {
            "marker": {
             "colorbar": {
              "outlinewidth": 0,
              "ticks": ""
             }
            },
            "type": "scattercarpet"
           }
          ],
          "scattergeo": [
           {
            "marker": {
             "colorbar": {
              "outlinewidth": 0,
              "ticks": ""
             }
            },
            "type": "scattergeo"
           }
          ],
          "scattergl": [
           {
            "marker": {
             "colorbar": {
              "outlinewidth": 0,
              "ticks": ""
             }
            },
            "type": "scattergl"
           }
          ],
          "scattermapbox": [
           {
            "marker": {
             "colorbar": {
              "outlinewidth": 0,
              "ticks": ""
             }
            },
            "type": "scattermapbox"
           }
          ],
          "scatterpolar": [
           {
            "marker": {
             "colorbar": {
              "outlinewidth": 0,
              "ticks": ""
             }
            },
            "type": "scatterpolar"
           }
          ],
          "scatterpolargl": [
           {
            "marker": {
             "colorbar": {
              "outlinewidth": 0,
              "ticks": ""
             }
            },
            "type": "scatterpolargl"
           }
          ],
          "scatterternary": [
           {
            "marker": {
             "colorbar": {
              "outlinewidth": 0,
              "ticks": ""
             }
            },
            "type": "scatterternary"
           }
          ],
          "surface": [
           {
            "colorbar": {
             "outlinewidth": 0,
             "ticks": ""
            },
            "colorscale": [
             [
              0,
              "#0d0887"
             ],
             [
              0.1111111111111111,
              "#46039f"
             ],
             [
              0.2222222222222222,
              "#7201a8"
             ],
             [
              0.3333333333333333,
              "#9c179e"
             ],
             [
              0.4444444444444444,
              "#bd3786"
             ],
             [
              0.5555555555555556,
              "#d8576b"
             ],
             [
              0.6666666666666666,
              "#ed7953"
             ],
             [
              0.7777777777777778,
              "#fb9f3a"
             ],
             [
              0.8888888888888888,
              "#fdca26"
             ],
             [
              1,
              "#f0f921"
             ]
            ],
            "type": "surface"
           }
          ],
          "table": [
           {
            "cells": {
             "fill": {
              "color": "#EBF0F8"
             },
             "line": {
              "color": "white"
             }
            },
            "header": {
             "fill": {
              "color": "#C8D4E3"
             },
             "line": {
              "color": "white"
             }
            },
            "type": "table"
           }
          ]
         },
         "layout": {
          "annotationdefaults": {
           "arrowcolor": "#2a3f5f",
           "arrowhead": 0,
           "arrowwidth": 1
          },
          "autotypenumbers": "strict",
          "coloraxis": {
           "colorbar": {
            "outlinewidth": 0,
            "ticks": ""
           }
          },
          "colorscale": {
           "diverging": [
            [
             0,
             "#8e0152"
            ],
            [
             0.1,
             "#c51b7d"
            ],
            [
             0.2,
             "#de77ae"
            ],
            [
             0.3,
             "#f1b6da"
            ],
            [
             0.4,
             "#fde0ef"
            ],
            [
             0.5,
             "#f7f7f7"
            ],
            [
             0.6,
             "#e6f5d0"
            ],
            [
             0.7,
             "#b8e186"
            ],
            [
             0.8,
             "#7fbc41"
            ],
            [
             0.9,
             "#4d9221"
            ],
            [
             1,
             "#276419"
            ]
           ],
           "sequential": [
            [
             0,
             "#0d0887"
            ],
            [
             0.1111111111111111,
             "#46039f"
            ],
            [
             0.2222222222222222,
             "#7201a8"
            ],
            [
             0.3333333333333333,
             "#9c179e"
            ],
            [
             0.4444444444444444,
             "#bd3786"
            ],
            [
             0.5555555555555556,
             "#d8576b"
            ],
            [
             0.6666666666666666,
             "#ed7953"
            ],
            [
             0.7777777777777778,
             "#fb9f3a"
            ],
            [
             0.8888888888888888,
             "#fdca26"
            ],
            [
             1,
             "#f0f921"
            ]
           ],
           "sequentialminus": [
            [
             0,
             "#0d0887"
            ],
            [
             0.1111111111111111,
             "#46039f"
            ],
            [
             0.2222222222222222,
             "#7201a8"
            ],
            [
             0.3333333333333333,
             "#9c179e"
            ],
            [
             0.4444444444444444,
             "#bd3786"
            ],
            [
             0.5555555555555556,
             "#d8576b"
            ],
            [
             0.6666666666666666,
             "#ed7953"
            ],
            [
             0.7777777777777778,
             "#fb9f3a"
            ],
            [
             0.8888888888888888,
             "#fdca26"
            ],
            [
             1,
             "#f0f921"
            ]
           ]
          },
          "colorway": [
           "#636efa",
           "#EF553B",
           "#00cc96",
           "#ab63fa",
           "#FFA15A",
           "#19d3f3",
           "#FF6692",
           "#B6E880",
           "#FF97FF",
           "#FECB52"
          ],
          "font": {
           "color": "#2a3f5f"
          },
          "geo": {
           "bgcolor": "white",
           "lakecolor": "white",
           "landcolor": "#E5ECF6",
           "showlakes": true,
           "showland": true,
           "subunitcolor": "white"
          },
          "hoverlabel": {
           "align": "left"
          },
          "hovermode": "closest",
          "mapbox": {
           "style": "light"
          },
          "paper_bgcolor": "white",
          "plot_bgcolor": "#E5ECF6",
          "polar": {
           "angularaxis": {
            "gridcolor": "white",
            "linecolor": "white",
            "ticks": ""
           },
           "bgcolor": "#E5ECF6",
           "radialaxis": {
            "gridcolor": "white",
            "linecolor": "white",
            "ticks": ""
           }
          },
          "scene": {
           "xaxis": {
            "backgroundcolor": "#E5ECF6",
            "gridcolor": "white",
            "gridwidth": 2,
            "linecolor": "white",
            "showbackground": true,
            "ticks": "",
            "zerolinecolor": "white"
           },
           "yaxis": {
            "backgroundcolor": "#E5ECF6",
            "gridcolor": "white",
            "gridwidth": 2,
            "linecolor": "white",
            "showbackground": true,
            "ticks": "",
            "zerolinecolor": "white"
           },
           "zaxis": {
            "backgroundcolor": "#E5ECF6",
            "gridcolor": "white",
            "gridwidth": 2,
            "linecolor": "white",
            "showbackground": true,
            "ticks": "",
            "zerolinecolor": "white"
           }
          },
          "shapedefaults": {
           "line": {
            "color": "#2a3f5f"
           }
          },
          "ternary": {
           "aaxis": {
            "gridcolor": "white",
            "linecolor": "white",
            "ticks": ""
           },
           "baxis": {
            "gridcolor": "white",
            "linecolor": "white",
            "ticks": ""
           },
           "bgcolor": "#E5ECF6",
           "caxis": {
            "gridcolor": "white",
            "linecolor": "white",
            "ticks": ""
           }
          },
          "title": {
           "x": 0.05
          },
          "xaxis": {
           "automargin": true,
           "gridcolor": "white",
           "linecolor": "white",
           "ticks": "",
           "title": {
            "standoff": 15
           },
           "zerolinecolor": "white",
           "zerolinewidth": 2
          },
          "yaxis": {
           "automargin": true,
           "gridcolor": "white",
           "linecolor": "white",
           "ticks": "",
           "title": {
            "standoff": 15
           },
           "zerolinecolor": "white",
           "zerolinewidth": 2
          }
         }
        },
        "title": {
         "text": "Top actor based on rating"
        },
        "treemapcolorway": [
         "rgb(27,158,119)",
         "rgb(217,95,2)",
         "rgb(117,112,179)",
         "rgb(231,41,138)",
         "rgb(102,166,30)",
         "rgb(230,171,2)",
         "rgb(166,118,29)",
         "rgb(102,102,102)"
        ]
       }
      },
      "text/html": [
       "<div>                            <div id=\"98aacdd2-2de9-49e8-88bf-47d7b782a827\" class=\"plotly-graph-div\" style=\"height:700px; width:100%;\"></div>            <script type=\"text/javascript\">                require([\"plotly\"], function(Plotly) {                    window.PLOTLYENV=window.PLOTLYENV || {};                                    if (document.getElementById(\"98aacdd2-2de9-49e8-88bf-47d7b782a827\")) {                    Plotly.newPlot(                        \"98aacdd2-2de9-49e8-88bf-47d7b782a827\",                        [{\"branchvalues\":\"total\",\"domain\":{\"x\":[0.0,1.0],\"y\":[0.0,1.0]},\"hovertemplate\":\"labels=%{label}<br>actor_fan=%{value}<br>parent=%{parent}<br>id=%{id}<extra></extra>\",\"ids\":[\"Ben Higgins/ABC - The Bachelor Season 20\",\"Chuck Norris/Actor\",\"John Schneider/Actor\",\"David Hasselhoff/Actor - Baywatch\",\"Anthony Anderson/Actor - Black-ish\",\"Will Friedle/Actor - Boy Meets World \",\"Dean Norris/Actor - Breaking Bad\",\"Bob Saget/Actor - Comedian\",\"Michael Ian Black/Actor - Comedian\",\"Michael Rapaport/Actor - Comedian\",\"James Van Der Beek/Actor - Dawson\\u2019s Creek - What Would Diplo Do? \",\"Jesse Metcalfe/Actor - Desperate Housewives\",\"David Henrie/Actor - Disney Star\",\"John Barrowman MBE/Actor - Doctor Who, Arrow, Torchwood\",\"Jonathan Goldsmith/Actor - Formerly Portrayed The Most Interesting Man\",\"James Cosmo/Actor - Game of Thrones\",\"Kristian Nairn/Actor - Game of Thrones\",\"Steve Burton/Actor - General Hospital - The Young and The Restless - Final Fan...\",\"Ernie Hudson/Actor - Ghostbusters\",\"Scott Patterson/Actor - Gilmore Girls\",\"James Pickens Jr./Actor - Grey\\u2019s Anatomy\",\"Shooter McGavin/Actor - Happy Gilmore\",\"James Phelps/Actor - Harry Potter\",\"Oliver Phelps/Actor - Harry Potter\",\"Tom Felton/Actor - Harry Potter Series\",\"Ben Sinclair/Actor - High Maintenance\",\"Bart Johnson/Actor - High School Musical\",\"Josh Radnor/Actor - How I Met Your Mother, Hunters\",\"Conrad Ricamora/Actor - How to Get Away With Murder \",\"Jaime Camil/Actor - Jane The Virgin & Broke (CBS)\",\"Jay Mewes/Actor - Jay and Silent Bob\",\"Terry O\\u2019Quinn/Actor - LOST\",\"Gary Busey/Actor - Lethal Weapon\",\"Dylan Playfair/Actor - Letterkenny | Descendants 3\",\"Billy Boyd/Actor - Lord of the Rings, Outlander\",\"Sean Astin/Actor - Lord of the Rings, Stranger Things \",\"Enrique Arce/Actor - Money Heist\",\"Jon Heder/Actor - Napoleon Dynamite, Blades of Glory, Benchwarmers\",\"Graham McTavish/Actor - Outlander, The Hobbit\",\"Jim O\\u2019Heir/Actor - Parks and Recreation\",\"Brant Daugherty/Actor - Pretty Little Liars\",\"Anthony Rapp/Actor - RENT - Star Trek\",\"Roger Clark/Actor - Red Dead Redemption II\",\"John C. McGinley/Actor - Scrubs\",\"John O\\u2019Hurley/Actor - Seinfeld\",\"Mario Cantone/Actor - Sex & The City\",\"Chris Diamantopoulos/Actor - Silicon Valley, Mickey Mouse\",\"Michael Rosenbaum/Actor - Smallville - Guardians of the Galaxy 2\",\"Ray Abruzzo/Actor - Sopranos\",\"Brent Spiner/Actor - Star Trek: The Next Generation\",\"Jonathan Frakes/Actor - Star Trek: The Next Generation\",\"Dean Cain/Actor - Superman\",\"Felicia Day/Actor - Supernatural\",\"Mark Sheppard/Actor - Supernatural\",\"Misha Collins/Actor - Supernatural\",\"Mark Pellegrino/Actor - Supernatural, Dexter, Lost\",\"Barry Williams/Actor - The Brady Bunch  \",\"Corey Feldman/Actor - The Goonies\",\"James Buckley/Actor - The Inbetweeners\",\"Troy Baker/Actor - The Last of Us, BioShock Infinite, Uncharted 4, Batman: A...\",\"Brian Baumgartner/Actor - The Office\",\"Oscar Nunez/Actor - The Office\",\"David Koechner/Actor - The Office - Anchorman\",\"Andy Buckley/Actor - The Office, Odd Mom Out\",\"Vincent Curatola/Actor - The Sopranos\",\"Ross Marquand/Actor - The Walking Dead\",\"Dule Hill/Actor - The Wonder Years, Psych, Suits, The West Wing\",\"Nolan North/Actor - Uncharted series, Assassin's Creed, Deadpool\",\"DANIELLE CORMACK/Actor - Wentworth, Producer, Writer, Humanitarian, Goose.\",\"Milo Manheim/Actor - Zombies\",\"James Maslow/Actor / Singer - Big Time Rush\",\"Cedric The Entertainer/Actor/Comedian - The Original Kings of Comedy\",\"Laura Osnes/Actress - Broadway\",\"Stacey Dash/Actress - Clueless\",\"Didi Conn/Actress - Grease\",\"Danica McKellar/Actress - Hallmark Channel\",\"Melissa Gilbert/Actress - Little House on the Prairie\",\"Lindsay Lohan/Actress - Parent Trap, Mean Girls\",\"Amy Jo Johnson/Actress - Power Rangers, Felicity\",\"Kate Flannery/Actress - The Office\",\"Todrick Hall/Artist - Youtuber\",\"Brian Scalabrine/Basketball Player - Celtics/Bulls\",\"CT Fletcher/Bodybuilder\",\"Carson Kressley/Bravo - Queer Eye for the Straight Guy/ RuPauls Drag Race\",\"Teresa Giudice/Bravo - Real Housewives of New Jersey\",\"Dorinda Medley/Bravo - Real Housewives of New York City\",\"LuAnn de Lesseps/Bravo - Real Housewives of New York City\",\"Ramona Singer/Bravo - Real Housewives of New York City\",\"Sonja Morgan/Bravo - Real Housewives of New York City\",\"James Kennedy/Bravo - Vanderpump Rules\",\"LaVar Ball/CEO of Big Baller Brand\",\"Chef Duff Goldman/Chef - TV Personality\",\"Andrew Dice Clay/Comedian\",\"Bassem Youssef/Comedian\",\"Gilbert Gottfried/Comedian\",\"Pauly Shore/Comedian & Actor - Bio-Dome, Encino Man\",\"Paul Reubens aka Pee-wee Herman/Comedian - Actor\",\"Tom Arnold/Comedian - Actor: Roseanne\",\"Tommy Chong/Comedian - Musician - Actor - Writer\",\"Jon Lovitz/Comedian - Saturday Night Live  \",\"Colin Mochrie/Comedian - Whose Line is it Anyway?\",\"Aaron Watson/Country Music Singer\",\"Granger Smith/Country Music Singer\",\"Randy Travis/Country Music Singer - Actor\",\"Maurice Benard/Emmy Award Winning Actor - Soap Opera Star - General Hospital, Joy\",\"Bethenny Frankel/Entrepreneur - Real Housewives of New York City\",\"Sarah Palin/Former Governor of Alaska\",\"Johnny Damon/Former MLB - Boston Red Sox & New York Yankees\",\"Randy Couture/Former MMA Fighter, 6x UFC Champion & Actor\",\"Jake The Snake Roberts/Former Professional Wrestler\",\"Diamond Dallas Page aka DDP/Former Professional Wrestler; Yoga Instructor\",\"Shangela/HBO- We\\u2019re Here, RuPaul's Drag Race\",\"Kurt Angle/Hall of Fame Wrestler & Olympic Gold Medalist\",\"Doug E. Fresh/Hip Hop Legend\",\"Chumlee/History - Pawn Stars\",\"Rick Harrison/History - Pawn Stars\",\"Jon Taffer/Host - Bar Rescue\",\"Arin Hanson/Host - Game Grumps | Creator - Egoraptor\",\"Kevin O\\u2019Leary aka Mr. Wonderful/Investor - Shark Tank\",\"Nick Hexum/Lead Singer - 311\",\"Arnel Pineda/Lead Singer - Journey\",\"Johnny Van Zant/Lead Singer - Lynyrd Skynyrd\",\"Abby Lee Miller/Lifetime - Dance Moms\",\"Pete Alonso/MLB - New York Mets\",\"Ryne Sandberg/MLB Hall of Famer - Chicago Cubs\",\"Ozzie Smith/MLB Hall of Famer - St. Louis Cardinals\",\"Ozzie Guillen/MLB World Series Champ - Chicago White Sox\",\"Nev Schulman/MTV - Catfish\",\"Johnny Bananas/MTV - The Challenge\",\"Spencer Pratt on Cameo dot com/MTV - The Hills\",\"Penn Jillette/Magician - Penn & Teller\",\"Justin Willman/Magician, Netflix - Magic for Humans\",\"Michael Franti/Musician\",\"Lance Bass/Musician - NSYNC\",\"Sean Paul/Musician - Reggae - DanceHall \",\"Marky Ramone/Musician - The Ramones\",\"Tommy Lee/M\\u00f6tley Cr\\u00fce\",\"Joe Thomas/NFL - Cleveland Browns\",\"Brandon Graham/NFL - Philadelphia Eagles\",\"Ray Lewis/NFL Hall of Famer - Baltimore Ravens\",\"Brett Favre/NFL Legend - Green Bay Packers\",\"Sean Avery/NHL Legend - NY Rangers\",\"Carole Baskin/Netflix - Tiger King\",\"Nadia Comaneci/Olympic Gold Medalist - Gymnast\",\"Dan Gable/Olympic Wrestler - Gold Medalist \",\"Anthony Scaramucci/Political Figure - The Mooch\",\"Tony Hawk/Pro Skateboarder\",\"Mick Foley/Pro Wrestling Legend\",\"Bret Hitman Hart/Professional Wrestling Legend \",\"RiFF RAFF/Rapper\",\"Redman/Rapper \",\"Ice T/Rapper - Law & Order: SVU\",\"Flavor Flav/Rapper - VH1's Flavor of Love\",\"Alice Cooper/Rock Legend - Actor - Comic Book Star\",\"The Cameo Santa/Santa Claus\",\"Kenny G/Saxophonist \",\"Wayne Coyne/Singer - Flaming Lips\",\"Melissa Etheridge/Singer - Rock Legend\",\"Pierre Bouvier/Singer - Simple Plan\",\"Mark McGrath/Singer - Sugar Ray\",\"Dee Snider/Singer - Twisted Sister\",\"Montell Jordan/Singer/Songwriter - This Is How We Do It\",\"Lisa Vanderpump/Star of Bravo's Vanderpump Rules\",\"Chris Harrison/TV Host - ABC's The Bachelor\",\"Tom Bergeron/TV Host - AFV, Hollywood Squares, etc.\",\"Jerry Springer/TV Host - Jerry Springer Show\",\"TJ Lavin/TV Host - MTV's The Challenge - BMX Rider \",\"Chris Hansen/TV Star\",\"Tori Spelling/TV Star\",\"Ashley and Jared/TV Stars - Bachelor in Paradise\",\"Mia Hamm/U.S. Women's Soccer Legend | USWNT | 2x Olympic Gold Medalist & W...\",\"Bruce Buffer/UFC Octagon Announcer\",\"Tara Strong/Voice Actor - Harley Quinn, Timmy Turner, Bubbles, Ben 10\",\"Ric Flair/WWE Superstar\",\"Coyote Peterson/YouTube Creator - Brave Wilderness\",\"Aaron Watson\",\"Abby Lee Miller\",\"Alice Cooper\",\"Amy Jo Johnson\",\"Andrew Dice Clay\",\"Andy Buckley\",\"Anthony Anderson\",\"Anthony Rapp\",\"Anthony Scaramucci\",\"Arin Hanson\",\"Arnel Pineda\",\"Ashley and Jared\",\"Barry Williams\",\"Bart Johnson\",\"Bassem Youssef\",\"Ben Higgins\",\"Ben Sinclair\",\"Bethenny Frankel\",\"Billy Boyd\",\"Bob Saget\",\"Brandon Graham\",\"Brant Daugherty\",\"Brent Spiner\",\"Bret Hitman Hart\",\"Brett Favre\",\"Brian Baumgartner\",\"Brian Scalabrine\",\"Bruce Buffer\",\"CT Fletcher\",\"Carole Baskin\",\"Carson Kressley\",\"Cedric The Entertainer\",\"Chef Duff Goldman\",\"Chris Diamantopoulos\",\"Chris Hansen\",\"Chris Harrison\",\"Chuck Norris\",\"Chumlee\",\"Colin Mochrie\",\"Conrad Ricamora\",\"Corey Feldman\",\"Coyote Peterson\",\"DANIELLE CORMACK\",\"Dan Gable\",\"Danica McKellar\",\"David Hasselhoff\",\"David Henrie\",\"David Koechner\",\"Dean Cain\",\"Dean Norris\",\"Dee Snider\",\"Diamond Dallas Page aka DDP\",\"Didi Conn\",\"Dorinda Medley\",\"Doug E. Fresh\",\"Dule Hill\",\"Dylan Playfair\",\"Enrique Arce\",\"Ernie Hudson\",\"Felicia Day\",\"Flavor Flav\",\"Gary Busey\",\"Gilbert Gottfried\",\"Graham McTavish\",\"Granger Smith\",\"Ice T\",\"Jaime Camil\",\"Jake The Snake Roberts\",\"James Buckley\",\"James Cosmo\",\"James Kennedy\",\"James Maslow\",\"James Phelps\",\"James Pickens Jr.\",\"James Van Der Beek\",\"Jay Mewes\",\"Jerry Springer\",\"Jesse Metcalfe\",\"Jim O\\u2019Heir\",\"Joe Thomas\",\"John Barrowman MBE\",\"John C. McGinley\",\"John O\\u2019Hurley\",\"John Schneider\",\"Johnny Bananas\",\"Johnny Damon\",\"Johnny Van Zant\",\"Jon Heder\",\"Jon Lovitz\",\"Jon Taffer\",\"Jonathan Frakes\",\"Jonathan Goldsmith\",\"Josh Radnor\",\"Justin Willman\",\"Kate Flannery\",\"Kenny G\",\"Kevin O\\u2019Leary aka Mr. Wonderful\",\"Kristian Nairn\",\"Kurt Angle\",\"LaVar Ball\",\"Lance Bass\",\"Laura Osnes\",\"Lindsay Lohan\",\"Lisa Vanderpump\",\"LuAnn de Lesseps\",\"Mario Cantone\",\"Mark McGrath\",\"Mark Pellegrino\",\"Mark Sheppard\",\"Marky Ramone\",\"Maurice Benard\",\"Melissa Etheridge\",\"Melissa Gilbert\",\"Mia Hamm\",\"Michael Franti\",\"Michael Ian Black\",\"Michael Rapaport\",\"Michael Rosenbaum\",\"Mick Foley\",\"Milo Manheim\",\"Misha Collins\",\"Montell Jordan\",\"Nadia Comaneci\",\"Nev Schulman\",\"Nick Hexum\",\"Nolan North\",\"Oliver Phelps\",\"Oscar Nunez\",\"Ozzie Guillen\",\"Ozzie Smith\",\"Paul Reubens aka Pee-wee Herman\",\"Pauly Shore\",\"Penn Jillette\",\"Pete Alonso\",\"Pierre Bouvier\",\"Ramona Singer\",\"Randy Couture\",\"Randy Travis\",\"Ray Abruzzo\",\"Ray Lewis\",\"Redman\",\"RiFF RAFF\",\"Ric Flair\",\"Rick Harrison\",\"Roger Clark\",\"Ross Marquand\",\"Ryne Sandberg\",\"Sarah Palin\",\"Scott Patterson\",\"Sean Astin\",\"Sean Avery\",\"Sean Paul\",\"Shangela\",\"Shooter McGavin\",\"Sonja Morgan\",\"Spencer Pratt on Cameo dot com\",\"Stacey Dash\",\"Steve Burton\",\"TJ Lavin\",\"Tara Strong\",\"Teresa Giudice\",\"Terry O\\u2019Quinn\",\"The Cameo Santa\",\"Todrick Hall\",\"Tom Arnold\",\"Tom Bergeron\",\"Tom Felton\",\"Tommy Chong\",\"Tommy Lee\",\"Tony Hawk\",\"Tori Spelling\",\"Troy Baker\",\"Vincent Curatola\",\"Wayne Coyne\",\"Will Friedle\"],\"labels\":[\"ABC - The Bachelor Season 20\",\"Actor\",\"Actor\",\"Actor - Baywatch\",\"Actor - Black-ish\",\"Actor - Boy Meets World \",\"Actor - Breaking Bad\",\"Actor - Comedian\",\"Actor - Comedian\",\"Actor - Comedian\",\"Actor - Dawson\\u2019s Creek - What Would Diplo Do? \",\"Actor - Desperate Housewives\",\"Actor - Disney Star\",\"Actor - Doctor Who, Arrow, Torchwood\",\"Actor - Formerly Portrayed The Most Interesting Man\",\"Actor - Game of Thrones\",\"Actor - Game of Thrones\",\"Actor - General Hospital - The Young and The Restless - Final Fan...\",\"Actor - Ghostbusters\",\"Actor - Gilmore Girls\",\"Actor - Grey\\u2019s Anatomy\",\"Actor - Happy Gilmore\",\"Actor - Harry Potter\",\"Actor - Harry Potter\",\"Actor - Harry Potter Series\",\"Actor - High Maintenance\",\"Actor - High School Musical\",\"Actor - How I Met Your Mother, Hunters\",\"Actor - How to Get Away With Murder \",\"Actor - Jane The Virgin & Broke (CBS)\",\"Actor - Jay and Silent Bob\",\"Actor - LOST\",\"Actor - Lethal Weapon\",\"Actor - Letterkenny | Descendants 3\",\"Actor - Lord of the Rings, Outlander\",\"Actor - Lord of the Rings, Stranger Things \",\"Actor - Money Heist\",\"Actor - Napoleon Dynamite, Blades of Glory, Benchwarmers\",\"Actor - Outlander, The Hobbit\",\"Actor - Parks and Recreation\",\"Actor - Pretty Little Liars\",\"Actor - RENT - Star Trek\",\"Actor - Red Dead Redemption II\",\"Actor - Scrubs\",\"Actor - Seinfeld\",\"Actor - Sex & The City\",\"Actor - Silicon Valley, Mickey Mouse\",\"Actor - Smallville - Guardians of the Galaxy 2\",\"Actor - Sopranos\",\"Actor - Star Trek: The Next Generation\",\"Actor - Star Trek: The Next Generation\",\"Actor - Superman\",\"Actor - Supernatural\",\"Actor - Supernatural\",\"Actor - Supernatural\",\"Actor - Supernatural, Dexter, Lost\",\"Actor - The Brady Bunch  \",\"Actor - The Goonies\",\"Actor - The Inbetweeners\",\"Actor - The Last of Us, BioShock Infinite, Uncharted 4, Batman: A...\",\"Actor - The Office\",\"Actor - The Office\",\"Actor - The Office - Anchorman\",\"Actor - The Office, Odd Mom Out\",\"Actor - The Sopranos\",\"Actor - The Walking Dead\",\"Actor - The Wonder Years, Psych, Suits, The West Wing\",\"Actor - Uncharted series, Assassin's Creed, Deadpool\",\"Actor - Wentworth, Producer, Writer, Humanitarian, Goose.\",\"Actor - Zombies\",\"Actor / Singer - Big Time Rush\",\"Actor/Comedian - The Original Kings of Comedy\",\"Actress - Broadway\",\"Actress - Clueless\",\"Actress - Grease\",\"Actress - Hallmark Channel\",\"Actress - Little House on the Prairie\",\"Actress - Parent Trap, Mean Girls\",\"Actress - Power Rangers, Felicity\",\"Actress - The Office\",\"Artist - Youtuber\",\"Basketball Player - Celtics/Bulls\",\"Bodybuilder\",\"Bravo - Queer Eye for the Straight Guy/ RuPauls Drag Race\",\"Bravo - Real Housewives of New Jersey\",\"Bravo - Real Housewives of New York City\",\"Bravo - Real Housewives of New York City\",\"Bravo - Real Housewives of New York City\",\"Bravo - Real Housewives of New York City\",\"Bravo - Vanderpump Rules\",\"CEO of Big Baller Brand\",\"Chef - TV Personality\",\"Comedian\",\"Comedian\",\"Comedian\",\"Comedian & Actor - Bio-Dome, Encino Man\",\"Comedian - Actor\",\"Comedian - Actor: Roseanne\",\"Comedian - Musician - Actor - Writer\",\"Comedian - Saturday Night Live  \",\"Comedian - Whose Line is it Anyway?\",\"Country Music Singer\",\"Country Music Singer\",\"Country Music Singer - Actor\",\"Emmy Award Winning Actor - Soap Opera Star - General Hospital, Joy\",\"Entrepreneur - Real Housewives of New York City\",\"Former Governor of Alaska\",\"Former MLB - Boston Red Sox & New York Yankees\",\"Former MMA Fighter, 6x UFC Champion & Actor\",\"Former Professional Wrestler\",\"Former Professional Wrestler; Yoga Instructor\",\"HBO- We\\u2019re Here, RuPaul's Drag Race\",\"Hall of Fame Wrestler & Olympic Gold Medalist\",\"Hip Hop Legend\",\"History - Pawn Stars\",\"History - Pawn Stars\",\"Host - Bar Rescue\",\"Host - Game Grumps | Creator - Egoraptor\",\"Investor - Shark Tank\",\"Lead Singer - 311\",\"Lead Singer - Journey\",\"Lead Singer - Lynyrd Skynyrd\",\"Lifetime - Dance Moms\",\"MLB - New York Mets\",\"MLB Hall of Famer - Chicago Cubs\",\"MLB Hall of Famer - St. Louis Cardinals\",\"MLB World Series Champ - Chicago White Sox\",\"MTV - Catfish\",\"MTV - The Challenge\",\"MTV - The Hills\",\"Magician - Penn & Teller\",\"Magician, Netflix - Magic for Humans\",\"Musician\",\"Musician - NSYNC\",\"Musician - Reggae - DanceHall \",\"Musician - The Ramones\",\"M\\u00f6tley Cr\\u00fce\",\"NFL - Cleveland Browns\",\"NFL - Philadelphia Eagles\",\"NFL Hall of Famer - Baltimore Ravens\",\"NFL Legend - Green Bay Packers\",\"NHL Legend - NY Rangers\",\"Netflix - Tiger King\",\"Olympic Gold Medalist - Gymnast\",\"Olympic Wrestler - Gold Medalist \",\"Political Figure - The Mooch\",\"Pro Skateboarder\",\"Pro Wrestling Legend\",\"Professional Wrestling Legend \",\"Rapper\",\"Rapper \",\"Rapper - Law & Order: SVU\",\"Rapper - VH1's Flavor of Love\",\"Rock Legend - Actor - Comic Book Star\",\"Santa Claus\",\"Saxophonist \",\"Singer - Flaming Lips\",\"Singer - Rock Legend\",\"Singer - Simple Plan\",\"Singer - Sugar Ray\",\"Singer - Twisted Sister\",\"Singer/Songwriter - This Is How We Do It\",\"Star of Bravo's Vanderpump Rules\",\"TV Host - ABC's The Bachelor\",\"TV Host - AFV, Hollywood Squares, etc.\",\"TV Host - Jerry Springer Show\",\"TV Host - MTV's The Challenge - BMX Rider \",\"TV Star\",\"TV Star\",\"TV Stars - Bachelor in Paradise\",\"U.S. Women's Soccer Legend | USWNT | 2x Olympic Gold Medalist & W...\",\"UFC Octagon Announcer\",\"Voice Actor - Harley Quinn, Timmy Turner, Bubbles, Ben 10\",\"WWE Superstar\",\"YouTube Creator - Brave Wilderness\",\"Aaron Watson\",\"Abby Lee Miller\",\"Alice Cooper\",\"Amy Jo Johnson\",\"Andrew Dice Clay\",\"Andy Buckley\",\"Anthony Anderson\",\"Anthony Rapp\",\"Anthony Scaramucci\",\"Arin Hanson\",\"Arnel Pineda\",\"Ashley and Jared\",\"Barry Williams\",\"Bart Johnson\",\"Bassem Youssef\",\"Ben Higgins\",\"Ben Sinclair\",\"Bethenny Frankel\",\"Billy Boyd\",\"Bob Saget\",\"Brandon Graham\",\"Brant Daugherty\",\"Brent Spiner\",\"Bret Hitman Hart\",\"Brett Favre\",\"Brian Baumgartner\",\"Brian Scalabrine\",\"Bruce Buffer\",\"CT Fletcher\",\"Carole Baskin\",\"Carson Kressley\",\"Cedric The Entertainer\",\"Chef Duff Goldman\",\"Chris Diamantopoulos\",\"Chris Hansen\",\"Chris Harrison\",\"Chuck Norris\",\"Chumlee\",\"Colin Mochrie\",\"Conrad Ricamora\",\"Corey Feldman\",\"Coyote Peterson\",\"DANIELLE CORMACK\",\"Dan Gable\",\"Danica McKellar\",\"David Hasselhoff\",\"David Henrie\",\"David Koechner\",\"Dean Cain\",\"Dean Norris\",\"Dee Snider\",\"Diamond Dallas Page aka DDP\",\"Didi Conn\",\"Dorinda Medley\",\"Doug E. Fresh\",\"Dule Hill\",\"Dylan Playfair\",\"Enrique Arce\",\"Ernie Hudson\",\"Felicia Day\",\"Flavor Flav\",\"Gary Busey\",\"Gilbert Gottfried\",\"Graham McTavish\",\"Granger Smith\",\"Ice T\",\"Jaime Camil\",\"Jake The Snake Roberts\",\"James Buckley\",\"James Cosmo\",\"James Kennedy\",\"James Maslow\",\"James Phelps\",\"James Pickens Jr.\",\"James Van Der Beek\",\"Jay Mewes\",\"Jerry Springer\",\"Jesse Metcalfe\",\"Jim O\\u2019Heir\",\"Joe Thomas\",\"John Barrowman MBE\",\"John C. McGinley\",\"John O\\u2019Hurley\",\"John Schneider\",\"Johnny Bananas\",\"Johnny Damon\",\"Johnny Van Zant\",\"Jon Heder\",\"Jon Lovitz\",\"Jon Taffer\",\"Jonathan Frakes\",\"Jonathan Goldsmith\",\"Josh Radnor\",\"Justin Willman\",\"Kate Flannery\",\"Kenny G\",\"Kevin O\\u2019Leary aka Mr. Wonderful\",\"Kristian Nairn\",\"Kurt Angle\",\"LaVar Ball\",\"Lance Bass\",\"Laura Osnes\",\"Lindsay Lohan\",\"Lisa Vanderpump\",\"LuAnn de Lesseps\",\"Mario Cantone\",\"Mark McGrath\",\"Mark Pellegrino\",\"Mark Sheppard\",\"Marky Ramone\",\"Maurice Benard\",\"Melissa Etheridge\",\"Melissa Gilbert\",\"Mia Hamm\",\"Michael Franti\",\"Michael Ian Black\",\"Michael Rapaport\",\"Michael Rosenbaum\",\"Mick Foley\",\"Milo Manheim\",\"Misha Collins\",\"Montell Jordan\",\"Nadia Comaneci\",\"Nev Schulman\",\"Nick Hexum\",\"Nolan North\",\"Oliver Phelps\",\"Oscar Nunez\",\"Ozzie Guillen\",\"Ozzie Smith\",\"Paul Reubens aka Pee-wee Herman\",\"Pauly Shore\",\"Penn Jillette\",\"Pete Alonso\",\"Pierre Bouvier\",\"Ramona Singer\",\"Randy Couture\",\"Randy Travis\",\"Ray Abruzzo\",\"Ray Lewis\",\"Redman\",\"RiFF RAFF\",\"Ric Flair\",\"Rick Harrison\",\"Roger Clark\",\"Ross Marquand\",\"Ryne Sandberg\",\"Sarah Palin\",\"Scott Patterson\",\"Sean Astin\",\"Sean Avery\",\"Sean Paul\",\"Shangela\",\"Shooter McGavin\",\"Sonja Morgan\",\"Spencer Pratt on Cameo dot com\",\"Stacey Dash\",\"Steve Burton\",\"TJ Lavin\",\"Tara Strong\",\"Teresa Giudice\",\"Terry O\\u2019Quinn\",\"The Cameo Santa\",\"Todrick Hall\",\"Tom Arnold\",\"Tom Bergeron\",\"Tom Felton\",\"Tommy Chong\",\"Tommy Lee\",\"Tony Hawk\",\"Tori Spelling\",\"Troy Baker\",\"Vincent Curatola\",\"Wayne Coyne\",\"Will Friedle\"],\"name\":\"\",\"parents\":[\"Ben Higgins\",\"Chuck Norris\",\"John Schneider\",\"David Hasselhoff\",\"Anthony Anderson\",\"Will Friedle\",\"Dean Norris\",\"Bob Saget\",\"Michael Ian Black\",\"Michael Rapaport\",\"James Van Der Beek\",\"Jesse Metcalfe\",\"David Henrie\",\"John Barrowman MBE\",\"Jonathan Goldsmith\",\"James Cosmo\",\"Kristian Nairn\",\"Steve Burton\",\"Ernie Hudson\",\"Scott Patterson\",\"James Pickens Jr.\",\"Shooter McGavin\",\"James Phelps\",\"Oliver Phelps\",\"Tom Felton\",\"Ben Sinclair\",\"Bart Johnson\",\"Josh Radnor\",\"Conrad Ricamora\",\"Jaime Camil\",\"Jay Mewes\",\"Terry O\\u2019Quinn\",\"Gary Busey\",\"Dylan Playfair\",\"Billy Boyd\",\"Sean Astin\",\"Enrique Arce\",\"Jon Heder\",\"Graham McTavish\",\"Jim O\\u2019Heir\",\"Brant Daugherty\",\"Anthony Rapp\",\"Roger Clark\",\"John C. McGinley\",\"John O\\u2019Hurley\",\"Mario Cantone\",\"Chris Diamantopoulos\",\"Michael Rosenbaum\",\"Ray Abruzzo\",\"Brent Spiner\",\"Jonathan Frakes\",\"Dean Cain\",\"Felicia Day\",\"Mark Sheppard\",\"Misha Collins\",\"Mark Pellegrino\",\"Barry Williams\",\"Corey Feldman\",\"James Buckley\",\"Troy Baker\",\"Brian Baumgartner\",\"Oscar Nunez\",\"David Koechner\",\"Andy Buckley\",\"Vincent Curatola\",\"Ross Marquand\",\"Dule Hill\",\"Nolan North\",\"DANIELLE CORMACK\",\"Milo Manheim\",\"James Maslow\",\"Cedric The Entertainer\",\"Laura Osnes\",\"Stacey Dash\",\"Didi Conn\",\"Danica McKellar\",\"Melissa Gilbert\",\"Lindsay Lohan\",\"Amy Jo Johnson\",\"Kate Flannery\",\"Todrick Hall\",\"Brian Scalabrine\",\"CT Fletcher\",\"Carson Kressley\",\"Teresa Giudice\",\"Dorinda Medley\",\"LuAnn de Lesseps\",\"Ramona Singer\",\"Sonja Morgan\",\"James Kennedy\",\"LaVar Ball\",\"Chef Duff Goldman\",\"Andrew Dice Clay\",\"Bassem Youssef\",\"Gilbert Gottfried\",\"Pauly Shore\",\"Paul Reubens aka Pee-wee Herman\",\"Tom Arnold\",\"Tommy Chong\",\"Jon Lovitz\",\"Colin Mochrie\",\"Aaron Watson\",\"Granger Smith\",\"Randy Travis\",\"Maurice Benard\",\"Bethenny Frankel\",\"Sarah Palin\",\"Johnny Damon\",\"Randy Couture\",\"Jake The Snake Roberts\",\"Diamond Dallas Page aka DDP\",\"Shangela\",\"Kurt Angle\",\"Doug E. Fresh\",\"Chumlee\",\"Rick Harrison\",\"Jon Taffer\",\"Arin Hanson\",\"Kevin O\\u2019Leary aka Mr. Wonderful\",\"Nick Hexum\",\"Arnel Pineda\",\"Johnny Van Zant\",\"Abby Lee Miller\",\"Pete Alonso\",\"Ryne Sandberg\",\"Ozzie Smith\",\"Ozzie Guillen\",\"Nev Schulman\",\"Johnny Bananas\",\"Spencer Pratt on Cameo dot com\",\"Penn Jillette\",\"Justin Willman\",\"Michael Franti\",\"Lance Bass\",\"Sean Paul\",\"Marky Ramone\",\"Tommy Lee\",\"Joe Thomas\",\"Brandon Graham\",\"Ray Lewis\",\"Brett Favre\",\"Sean Avery\",\"Carole Baskin\",\"Nadia Comaneci\",\"Dan Gable\",\"Anthony Scaramucci\",\"Tony Hawk\",\"Mick Foley\",\"Bret Hitman Hart\",\"RiFF RAFF\",\"Redman\",\"Ice T\",\"Flavor Flav\",\"Alice Cooper\",\"The Cameo Santa\",\"Kenny G\",\"Wayne Coyne\",\"Melissa Etheridge\",\"Pierre Bouvier\",\"Mark McGrath\",\"Dee Snider\",\"Montell Jordan\",\"Lisa Vanderpump\",\"Chris Harrison\",\"Tom Bergeron\",\"Jerry Springer\",\"TJ Lavin\",\"Chris Hansen\",\"Tori Spelling\",\"Ashley and Jared\",\"Mia Hamm\",\"Bruce Buffer\",\"Tara Strong\",\"Ric Flair\",\"Coyote Peterson\",\"\",\"\",\"\",\"\",\"\",\"\",\"\",\"\",\"\",\"\",\"\",\"\",\"\",\"\",\"\",\"\",\"\",\"\",\"\",\"\",\"\",\"\",\"\",\"\",\"\",\"\",\"\",\"\",\"\",\"\",\"\",\"\",\"\",\"\",\"\",\"\",\"\",\"\",\"\",\"\",\"\",\"\",\"\",\"\",\"\",\"\",\"\",\"\",\"\",\"\",\"\",\"\",\"\",\"\",\"\",\"\",\"\",\"\",\"\",\"\",\"\",\"\",\"\",\"\",\"\",\"\",\"\",\"\",\"\",\"\",\"\",\"\",\"\",\"\",\"\",\"\",\"\",\"\",\"\",\"\",\"\",\"\",\"\",\"\",\"\",\"\",\"\",\"\",\"\",\"\",\"\",\"\",\"\",\"\",\"\",\"\",\"\",\"\",\"\",\"\",\"\",\"\",\"\",\"\",\"\",\"\",\"\",\"\",\"\",\"\",\"\",\"\",\"\",\"\",\"\",\"\",\"\",\"\",\"\",\"\",\"\",\"\",\"\",\"\",\"\",\"\",\"\",\"\",\"\",\"\",\"\",\"\",\"\",\"\",\"\",\"\",\"\",\"\",\"\",\"\",\"\",\"\",\"\",\"\",\"\",\"\",\"\",\"\",\"\",\"\",\"\",\"\",\"\",\"\",\"\",\"\",\"\",\"\",\"\",\"\",\"\",\"\",\"\",\"\",\"\",\"\",\"\",\"\",\"\",\"\",\"\",\"\",\"\",\"\",\"\"],\"textinfo\":\"label+text+value\",\"type\":\"treemap\",\"values\":[384,2000,743,2000,2000,2000,2000,2000,897,2000,1000,1000,5000,3000,1000,940,827,1000,2000,1000,2000,1000,36000,41000,61000,232,1000,1000,883,2000,1000,771,1000,1000,2000,3000,482,889,1000,1000,755,863,2000,1000,1000,558,1000,1000,399,2000,2000,842,4000,5000,8000,3000,679,672,4000,1000,5000,1000,1000,1000,434,865,2000,1000,928,2000,2000,1000,489,844,3000,1000,503,4000,1000,2000,3000,301,339,1000,687,530,518,365,1000,287,1000,916,1000,243,4000,994,2000,699,3000,2000,3000,304,1000,1000,1000,899,1000,326,816,740,993,1000,1000,1000,1000,1000,698,2000,1000,837,726,746,1000,550,359,420,241,971,705,235,1000,403,488,1000,1000,492,1000,219,241,1000,1000,1000,2000,519,207,524,2000,4000,2000,1000,1000,2000,930,2000,2000,1000,450,908,2000,1000,1000,1000,1000,1000,489,1000,771,2000,503,337,744,1000,1000,2000,720,304,1000,2000,1000,1000,1000,2000,863,524,2000,726,337,679,1000,243,384,232,899,2000,2000,241,755,2000,2000,1000,5000,301,1000,339,2000,1000,1000,916,1000,2000,1000,2000,1000,3000,883,672,720,928,207,1000,2000,5000,1000,842,2000,1000,993,3000,530,1000,2000,1000,482,2000,4000,930,1000,4000,1000,1000,2000,2000,740,4000,940,287,2000,36000,2000,1000,1000,1000,1000,1000,219,3000,1000,1000,743,705,326,746,889,2000,698,2000,1000,1000,403,2000,1000,1000,827,1000,1000,1000,489,4000,1000,518,558,1000,3000,5000,492,1000,908,503,744,488,897,2000,1000,4000,2000,8000,1000,519,971,837,1000,41000,1000,241,420,2000,994,1000,550,2000,365,816,1000,399,1000,1000,1000,2000,1000,2000,865,359,1000,1000,3000,1000,1000,1000,1000,1000,235,844,1000,771,1000,687,771,2000,3000,699,489,61000,3000,1000,2000,503,1000,434,450,2000]}],                        {\"height\":700,\"legend\":{\"tracegroupgap\":0},\"template\":{\"data\":{\"bar\":[{\"error_x\":{\"color\":\"#2a3f5f\"},\"error_y\":{\"color\":\"#2a3f5f\"},\"marker\":{\"line\":{\"color\":\"#E5ECF6\",\"width\":0.5},\"pattern\":{\"fillmode\":\"overlay\",\"size\":10,\"solidity\":0.2}},\"type\":\"bar\"}],\"barpolar\":[{\"marker\":{\"line\":{\"color\":\"#E5ECF6\",\"width\":0.5},\"pattern\":{\"fillmode\":\"overlay\",\"size\":10,\"solidity\":0.2}},\"type\":\"barpolar\"}],\"carpet\":[{\"aaxis\":{\"endlinecolor\":\"#2a3f5f\",\"gridcolor\":\"white\",\"linecolor\":\"white\",\"minorgridcolor\":\"white\",\"startlinecolor\":\"#2a3f5f\"},\"baxis\":{\"endlinecolor\":\"#2a3f5f\",\"gridcolor\":\"white\",\"linecolor\":\"white\",\"minorgridcolor\":\"white\",\"startlinecolor\":\"#2a3f5f\"},\"type\":\"carpet\"}],\"choropleth\":[{\"colorbar\":{\"outlinewidth\":0,\"ticks\":\"\"},\"type\":\"choropleth\"}],\"contour\":[{\"colorbar\":{\"outlinewidth\":0,\"ticks\":\"\"},\"colorscale\":[[0.0,\"#0d0887\"],[0.1111111111111111,\"#46039f\"],[0.2222222222222222,\"#7201a8\"],[0.3333333333333333,\"#9c179e\"],[0.4444444444444444,\"#bd3786\"],[0.5555555555555556,\"#d8576b\"],[0.6666666666666666,\"#ed7953\"],[0.7777777777777778,\"#fb9f3a\"],[0.8888888888888888,\"#fdca26\"],[1.0,\"#f0f921\"]],\"type\":\"contour\"}],\"contourcarpet\":[{\"colorbar\":{\"outlinewidth\":0,\"ticks\":\"\"},\"type\":\"contourcarpet\"}],\"heatmap\":[{\"colorbar\":{\"outlinewidth\":0,\"ticks\":\"\"},\"colorscale\":[[0.0,\"#0d0887\"],[0.1111111111111111,\"#46039f\"],[0.2222222222222222,\"#7201a8\"],[0.3333333333333333,\"#9c179e\"],[0.4444444444444444,\"#bd3786\"],[0.5555555555555556,\"#d8576b\"],[0.6666666666666666,\"#ed7953\"],[0.7777777777777778,\"#fb9f3a\"],[0.8888888888888888,\"#fdca26\"],[1.0,\"#f0f921\"]],\"type\":\"heatmap\"}],\"heatmapgl\":[{\"colorbar\":{\"outlinewidth\":0,\"ticks\":\"\"},\"colorscale\":[[0.0,\"#0d0887\"],[0.1111111111111111,\"#46039f\"],[0.2222222222222222,\"#7201a8\"],[0.3333333333333333,\"#9c179e\"],[0.4444444444444444,\"#bd3786\"],[0.5555555555555556,\"#d8576b\"],[0.6666666666666666,\"#ed7953\"],[0.7777777777777778,\"#fb9f3a\"],[0.8888888888888888,\"#fdca26\"],[1.0,\"#f0f921\"]],\"type\":\"heatmapgl\"}],\"histogram\":[{\"marker\":{\"pattern\":{\"fillmode\":\"overlay\",\"size\":10,\"solidity\":0.2}},\"type\":\"histogram\"}],\"histogram2d\":[{\"colorbar\":{\"outlinewidth\":0,\"ticks\":\"\"},\"colorscale\":[[0.0,\"#0d0887\"],[0.1111111111111111,\"#46039f\"],[0.2222222222222222,\"#7201a8\"],[0.3333333333333333,\"#9c179e\"],[0.4444444444444444,\"#bd3786\"],[0.5555555555555556,\"#d8576b\"],[0.6666666666666666,\"#ed7953\"],[0.7777777777777778,\"#fb9f3a\"],[0.8888888888888888,\"#fdca26\"],[1.0,\"#f0f921\"]],\"type\":\"histogram2d\"}],\"histogram2dcontour\":[{\"colorbar\":{\"outlinewidth\":0,\"ticks\":\"\"},\"colorscale\":[[0.0,\"#0d0887\"],[0.1111111111111111,\"#46039f\"],[0.2222222222222222,\"#7201a8\"],[0.3333333333333333,\"#9c179e\"],[0.4444444444444444,\"#bd3786\"],[0.5555555555555556,\"#d8576b\"],[0.6666666666666666,\"#ed7953\"],[0.7777777777777778,\"#fb9f3a\"],[0.8888888888888888,\"#fdca26\"],[1.0,\"#f0f921\"]],\"type\":\"histogram2dcontour\"}],\"mesh3d\":[{\"colorbar\":{\"outlinewidth\":0,\"ticks\":\"\"},\"type\":\"mesh3d\"}],\"parcoords\":[{\"line\":{\"colorbar\":{\"outlinewidth\":0,\"ticks\":\"\"}},\"type\":\"parcoords\"}],\"pie\":[{\"automargin\":true,\"type\":\"pie\"}],\"scatter\":[{\"marker\":{\"colorbar\":{\"outlinewidth\":0,\"ticks\":\"\"}},\"type\":\"scatter\"}],\"scatter3d\":[{\"line\":{\"colorbar\":{\"outlinewidth\":0,\"ticks\":\"\"}},\"marker\":{\"colorbar\":{\"outlinewidth\":0,\"ticks\":\"\"}},\"type\":\"scatter3d\"}],\"scattercarpet\":[{\"marker\":{\"colorbar\":{\"outlinewidth\":0,\"ticks\":\"\"}},\"type\":\"scattercarpet\"}],\"scattergeo\":[{\"marker\":{\"colorbar\":{\"outlinewidth\":0,\"ticks\":\"\"}},\"type\":\"scattergeo\"}],\"scattergl\":[{\"marker\":{\"colorbar\":{\"outlinewidth\":0,\"ticks\":\"\"}},\"type\":\"scattergl\"}],\"scattermapbox\":[{\"marker\":{\"colorbar\":{\"outlinewidth\":0,\"ticks\":\"\"}},\"type\":\"scattermapbox\"}],\"scatterpolar\":[{\"marker\":{\"colorbar\":{\"outlinewidth\":0,\"ticks\":\"\"}},\"type\":\"scatterpolar\"}],\"scatterpolargl\":[{\"marker\":{\"colorbar\":{\"outlinewidth\":0,\"ticks\":\"\"}},\"type\":\"scatterpolargl\"}],\"scatterternary\":[{\"marker\":{\"colorbar\":{\"outlinewidth\":0,\"ticks\":\"\"}},\"type\":\"scatterternary\"}],\"surface\":[{\"colorbar\":{\"outlinewidth\":0,\"ticks\":\"\"},\"colorscale\":[[0.0,\"#0d0887\"],[0.1111111111111111,\"#46039f\"],[0.2222222222222222,\"#7201a8\"],[0.3333333333333333,\"#9c179e\"],[0.4444444444444444,\"#bd3786\"],[0.5555555555555556,\"#d8576b\"],[0.6666666666666666,\"#ed7953\"],[0.7777777777777778,\"#fb9f3a\"],[0.8888888888888888,\"#fdca26\"],[1.0,\"#f0f921\"]],\"type\":\"surface\"}],\"table\":[{\"cells\":{\"fill\":{\"color\":\"#EBF0F8\"},\"line\":{\"color\":\"white\"}},\"header\":{\"fill\":{\"color\":\"#C8D4E3\"},\"line\":{\"color\":\"white\"}},\"type\":\"table\"}]},\"layout\":{\"annotationdefaults\":{\"arrowcolor\":\"#2a3f5f\",\"arrowhead\":0,\"arrowwidth\":1},\"autotypenumbers\":\"strict\",\"coloraxis\":{\"colorbar\":{\"outlinewidth\":0,\"ticks\":\"\"}},\"colorscale\":{\"diverging\":[[0,\"#8e0152\"],[0.1,\"#c51b7d\"],[0.2,\"#de77ae\"],[0.3,\"#f1b6da\"],[0.4,\"#fde0ef\"],[0.5,\"#f7f7f7\"],[0.6,\"#e6f5d0\"],[0.7,\"#b8e186\"],[0.8,\"#7fbc41\"],[0.9,\"#4d9221\"],[1,\"#276419\"]],\"sequential\":[[0.0,\"#0d0887\"],[0.1111111111111111,\"#46039f\"],[0.2222222222222222,\"#7201a8\"],[0.3333333333333333,\"#9c179e\"],[0.4444444444444444,\"#bd3786\"],[0.5555555555555556,\"#d8576b\"],[0.6666666666666666,\"#ed7953\"],[0.7777777777777778,\"#fb9f3a\"],[0.8888888888888888,\"#fdca26\"],[1.0,\"#f0f921\"]],\"sequentialminus\":[[0.0,\"#0d0887\"],[0.1111111111111111,\"#46039f\"],[0.2222222222222222,\"#7201a8\"],[0.3333333333333333,\"#9c179e\"],[0.4444444444444444,\"#bd3786\"],[0.5555555555555556,\"#d8576b\"],[0.6666666666666666,\"#ed7953\"],[0.7777777777777778,\"#fb9f3a\"],[0.8888888888888888,\"#fdca26\"],[1.0,\"#f0f921\"]]},\"colorway\":[\"#636efa\",\"#EF553B\",\"#00cc96\",\"#ab63fa\",\"#FFA15A\",\"#19d3f3\",\"#FF6692\",\"#B6E880\",\"#FF97FF\",\"#FECB52\"],\"font\":{\"color\":\"#2a3f5f\"},\"geo\":{\"bgcolor\":\"white\",\"lakecolor\":\"white\",\"landcolor\":\"#E5ECF6\",\"showlakes\":true,\"showland\":true,\"subunitcolor\":\"white\"},\"hoverlabel\":{\"align\":\"left\"},\"hovermode\":\"closest\",\"mapbox\":{\"style\":\"light\"},\"paper_bgcolor\":\"white\",\"plot_bgcolor\":\"#E5ECF6\",\"polar\":{\"angularaxis\":{\"gridcolor\":\"white\",\"linecolor\":\"white\",\"ticks\":\"\"},\"bgcolor\":\"#E5ECF6\",\"radialaxis\":{\"gridcolor\":\"white\",\"linecolor\":\"white\",\"ticks\":\"\"}},\"scene\":{\"xaxis\":{\"backgroundcolor\":\"#E5ECF6\",\"gridcolor\":\"white\",\"gridwidth\":2,\"linecolor\":\"white\",\"showbackground\":true,\"ticks\":\"\",\"zerolinecolor\":\"white\"},\"yaxis\":{\"backgroundcolor\":\"#E5ECF6\",\"gridcolor\":\"white\",\"gridwidth\":2,\"linecolor\":\"white\",\"showbackground\":true,\"ticks\":\"\",\"zerolinecolor\":\"white\"},\"zaxis\":{\"backgroundcolor\":\"#E5ECF6\",\"gridcolor\":\"white\",\"gridwidth\":2,\"linecolor\":\"white\",\"showbackground\":true,\"ticks\":\"\",\"zerolinecolor\":\"white\"}},\"shapedefaults\":{\"line\":{\"color\":\"#2a3f5f\"}},\"ternary\":{\"aaxis\":{\"gridcolor\":\"white\",\"linecolor\":\"white\",\"ticks\":\"\"},\"baxis\":{\"gridcolor\":\"white\",\"linecolor\":\"white\",\"ticks\":\"\"},\"bgcolor\":\"#E5ECF6\",\"caxis\":{\"gridcolor\":\"white\",\"linecolor\":\"white\",\"ticks\":\"\"}},\"title\":{\"x\":0.05},\"xaxis\":{\"automargin\":true,\"gridcolor\":\"white\",\"linecolor\":\"white\",\"ticks\":\"\",\"title\":{\"standoff\":15},\"zerolinecolor\":\"white\",\"zerolinewidth\":2},\"yaxis\":{\"automargin\":true,\"gridcolor\":\"white\",\"linecolor\":\"white\",\"ticks\":\"\",\"title\":{\"standoff\":15},\"zerolinecolor\":\"white\",\"zerolinewidth\":2}}},\"title\":{\"text\":\"Top actor based on rating\"},\"treemapcolorway\":[\"rgb(27,158,119)\",\"rgb(217,95,2)\",\"rgb(117,112,179)\",\"rgb(231,41,138)\",\"rgb(102,166,30)\",\"rgb(230,171,2)\",\"rgb(166,118,29)\",\"rgb(102,102,102)\"]},                        {\"responsive\": true}                    ).then(function(){\n",
       "                            \n",
       "var gd = document.getElementById('98aacdd2-2de9-49e8-88bf-47d7b782a827');\n",
       "var x = new MutationObserver(function (mutations, observer) {{\n",
       "        var display = window.getComputedStyle(gd).display;\n",
       "        if (!display || display === 'none') {{\n",
       "            console.log([gd, 'removed!']);\n",
       "            Plotly.purge(gd);\n",
       "            observer.disconnect();\n",
       "        }}\n",
       "}});\n",
       "\n",
       "// Listen for the removal of the full notebook cells\n",
       "var notebookContainer = gd.closest('#notebook-container');\n",
       "if (notebookContainer) {{\n",
       "    x.observe(notebookContainer, {childList: true});\n",
       "}}\n",
       "\n",
       "// Listen for the clearing of the current output cell\n",
       "var outputEl = gd.closest('.output');\n",
       "if (outputEl) {{\n",
       "    x.observe(outputEl, {childList: true});\n",
       "}}\n",
       "\n",
       "                        })                };                });            </script>        </div>"
      ]
     },
     "metadata": {},
     "output_type": "display_data"
    }
   ],
   "source": [
    "fig = px.treemap(sorted_top_actor.sort_values(by = 'actor_fan', ascending = False).reset_index(drop = True), \n",
    "                 path = ['name', 'actor_subheader'], values = 'actor_fan', height = 700,\n",
    "                 title = 'Top actor based on rating', color_discrete_sequence = px.colors.qualitative.Dark2)\n",
    "\n",
    "fig.data[0].textinfo = 'label+text+value'\n",
    "\n",
    "fig.show()"
   ]
  },
  {
   "cell_type": "code",
   "execution_count": 77,
   "id": "97028e04",
   "metadata": {},
   "outputs": [
    {
     "data": {
      "application/vnd.plotly.v1+json": {
       "config": {
        "plotlyServerURL": "https://plot.ly"
       },
       "data": [
        {
         "alignmentgroup": "True",
         "hovertemplate": "<b>%{hovertext}</b><br><br>Total number of reviews =%{marker.color}<extra></extra>",
         "hovertext": [
          "James Buckley",
          "Brian Baumgartner",
          "Mick Foley",
          "Chris Hansen",
          "Gilbert Gottfried",
          "The Cameo Santa",
          "Sonja Morgan",
          "Todrick Hall",
          "Colin Mochrie",
          "Michael Rapaport",
          "Dylan Playfair",
          "Carson Kressley",
          "Sean Avery",
          "Maurice Benard",
          "Jim O’Heir",
          "Mark McGrath",
          "Bret Hitman Hart",
          "TJ Lavin",
          "Roger Clark",
          "Oliver Phelps"
         ],
         "legendgroup": "",
         "marker": {
          "color": [
           4098,
           3569,
           3501,
           3273,
           2712,
           2211,
           2038,
           1964,
           1720,
           1668,
           1558,
           1531,
           1374,
           1231,
           1148,
           1139,
           1129,
           1120,
           1085,
           1075
          ],
          "coloraxis": "coloraxis",
          "pattern": {
           "shape": ""
          }
         },
         "name": "",
         "offsetgroup": "",
         "orientation": "v",
         "showlegend": false,
         "text": [
          4098,
          3569,
          3501,
          3273,
          2712,
          2211,
          2038,
          1964,
          1720,
          1668,
          1558,
          1531,
          1374,
          1231,
          1148,
          1139,
          1129,
          1120,
          1085,
          1075
         ],
         "textfont": {
          "size": 13
         },
         "textposition": "outside",
         "texttemplate": "%{text:.2s}",
         "type": "bar",
         "x": [
          "James Buckley",
          "Brian Baumgartner",
          "Mick Foley",
          "Chris Hansen",
          "Gilbert Gottfried",
          "The Cameo Santa",
          "Sonja Morgan",
          "Todrick Hall",
          "Colin Mochrie",
          "Michael Rapaport",
          "Dylan Playfair",
          "Carson Kressley",
          "Sean Avery",
          "Maurice Benard",
          "Jim O’Heir",
          "Mark McGrath",
          "Bret Hitman Hart",
          "TJ Lavin",
          "Roger Clark",
          "Oliver Phelps"
         ],
         "xaxis": "x",
         "y": [
          4098,
          3569,
          3501,
          3273,
          2712,
          2211,
          2038,
          1964,
          1720,
          1668,
          1558,
          1531,
          1374,
          1231,
          1148,
          1139,
          1129,
          1120,
          1085,
          1075
         ],
         "yaxis": "y"
        }
       ],
       "layout": {
        "barmode": "relative",
        "coloraxis": {
         "colorbar": {
          "title": {
           "text": "Total number of reviews "
          }
         },
         "colorscale": [
          [
           0,
           "rgb(228, 241, 225)"
          ],
          [
           0.16666666666666666,
           "rgb(180, 217, 204)"
          ],
          [
           0.3333333333333333,
           "rgb(137, 192, 182)"
          ],
          [
           0.5,
           "rgb(99, 166, 160)"
          ],
          [
           0.6666666666666666,
           "rgb(68, 140, 138)"
          ],
          [
           0.8333333333333334,
           "rgb(40, 114, 116)"
          ],
          [
           1,
           "rgb(13, 88, 95)"
          ]
         ]
        },
        "legend": {
         "tracegroupgap": 0
        },
        "margin": {
         "t": 60
        },
        "template": {
         "data": {
          "bar": [
           {
            "error_x": {
             "color": "#2a3f5f"
            },
            "error_y": {
             "color": "#2a3f5f"
            },
            "marker": {
             "line": {
              "color": "white",
              "width": 0.5
             },
             "pattern": {
              "fillmode": "overlay",
              "size": 10,
              "solidity": 0.2
             }
            },
            "type": "bar"
           }
          ],
          "barpolar": [
           {
            "marker": {
             "line": {
              "color": "white",
              "width": 0.5
             },
             "pattern": {
              "fillmode": "overlay",
              "size": 10,
              "solidity": 0.2
             }
            },
            "type": "barpolar"
           }
          ],
          "carpet": [
           {
            "aaxis": {
             "endlinecolor": "#2a3f5f",
             "gridcolor": "#C8D4E3",
             "linecolor": "#C8D4E3",
             "minorgridcolor": "#C8D4E3",
             "startlinecolor": "#2a3f5f"
            },
            "baxis": {
             "endlinecolor": "#2a3f5f",
             "gridcolor": "#C8D4E3",
             "linecolor": "#C8D4E3",
             "minorgridcolor": "#C8D4E3",
             "startlinecolor": "#2a3f5f"
            },
            "type": "carpet"
           }
          ],
          "choropleth": [
           {
            "colorbar": {
             "outlinewidth": 0,
             "ticks": ""
            },
            "type": "choropleth"
           }
          ],
          "contour": [
           {
            "colorbar": {
             "outlinewidth": 0,
             "ticks": ""
            },
            "colorscale": [
             [
              0,
              "#0d0887"
             ],
             [
              0.1111111111111111,
              "#46039f"
             ],
             [
              0.2222222222222222,
              "#7201a8"
             ],
             [
              0.3333333333333333,
              "#9c179e"
             ],
             [
              0.4444444444444444,
              "#bd3786"
             ],
             [
              0.5555555555555556,
              "#d8576b"
             ],
             [
              0.6666666666666666,
              "#ed7953"
             ],
             [
              0.7777777777777778,
              "#fb9f3a"
             ],
             [
              0.8888888888888888,
              "#fdca26"
             ],
             [
              1,
              "#f0f921"
             ]
            ],
            "type": "contour"
           }
          ],
          "contourcarpet": [
           {
            "colorbar": {
             "outlinewidth": 0,
             "ticks": ""
            },
            "type": "contourcarpet"
           }
          ],
          "heatmap": [
           {
            "colorbar": {
             "outlinewidth": 0,
             "ticks": ""
            },
            "colorscale": [
             [
              0,
              "#0d0887"
             ],
             [
              0.1111111111111111,
              "#46039f"
             ],
             [
              0.2222222222222222,
              "#7201a8"
             ],
             [
              0.3333333333333333,
              "#9c179e"
             ],
             [
              0.4444444444444444,
              "#bd3786"
             ],
             [
              0.5555555555555556,
              "#d8576b"
             ],
             [
              0.6666666666666666,
              "#ed7953"
             ],
             [
              0.7777777777777778,
              "#fb9f3a"
             ],
             [
              0.8888888888888888,
              "#fdca26"
             ],
             [
              1,
              "#f0f921"
             ]
            ],
            "type": "heatmap"
           }
          ],
          "heatmapgl": [
           {
            "colorbar": {
             "outlinewidth": 0,
             "ticks": ""
            },
            "colorscale": [
             [
              0,
              "#0d0887"
             ],
             [
              0.1111111111111111,
              "#46039f"
             ],
             [
              0.2222222222222222,
              "#7201a8"
             ],
             [
              0.3333333333333333,
              "#9c179e"
             ],
             [
              0.4444444444444444,
              "#bd3786"
             ],
             [
              0.5555555555555556,
              "#d8576b"
             ],
             [
              0.6666666666666666,
              "#ed7953"
             ],
             [
              0.7777777777777778,
              "#fb9f3a"
             ],
             [
              0.8888888888888888,
              "#fdca26"
             ],
             [
              1,
              "#f0f921"
             ]
            ],
            "type": "heatmapgl"
           }
          ],
          "histogram": [
           {
            "marker": {
             "pattern": {
              "fillmode": "overlay",
              "size": 10,
              "solidity": 0.2
             }
            },
            "type": "histogram"
           }
          ],
          "histogram2d": [
           {
            "colorbar": {
             "outlinewidth": 0,
             "ticks": ""
            },
            "colorscale": [
             [
              0,
              "#0d0887"
             ],
             [
              0.1111111111111111,
              "#46039f"
             ],
             [
              0.2222222222222222,
              "#7201a8"
             ],
             [
              0.3333333333333333,
              "#9c179e"
             ],
             [
              0.4444444444444444,
              "#bd3786"
             ],
             [
              0.5555555555555556,
              "#d8576b"
             ],
             [
              0.6666666666666666,
              "#ed7953"
             ],
             [
              0.7777777777777778,
              "#fb9f3a"
             ],
             [
              0.8888888888888888,
              "#fdca26"
             ],
             [
              1,
              "#f0f921"
             ]
            ],
            "type": "histogram2d"
           }
          ],
          "histogram2dcontour": [
           {
            "colorbar": {
             "outlinewidth": 0,
             "ticks": ""
            },
            "colorscale": [
             [
              0,
              "#0d0887"
             ],
             [
              0.1111111111111111,
              "#46039f"
             ],
             [
              0.2222222222222222,
              "#7201a8"
             ],
             [
              0.3333333333333333,
              "#9c179e"
             ],
             [
              0.4444444444444444,
              "#bd3786"
             ],
             [
              0.5555555555555556,
              "#d8576b"
             ],
             [
              0.6666666666666666,
              "#ed7953"
             ],
             [
              0.7777777777777778,
              "#fb9f3a"
             ],
             [
              0.8888888888888888,
              "#fdca26"
             ],
             [
              1,
              "#f0f921"
             ]
            ],
            "type": "histogram2dcontour"
           }
          ],
          "mesh3d": [
           {
            "colorbar": {
             "outlinewidth": 0,
             "ticks": ""
            },
            "type": "mesh3d"
           }
          ],
          "parcoords": [
           {
            "line": {
             "colorbar": {
              "outlinewidth": 0,
              "ticks": ""
             }
            },
            "type": "parcoords"
           }
          ],
          "pie": [
           {
            "automargin": true,
            "type": "pie"
           }
          ],
          "scatter": [
           {
            "marker": {
             "colorbar": {
              "outlinewidth": 0,
              "ticks": ""
             }
            },
            "type": "scatter"
           }
          ],
          "scatter3d": [
           {
            "line": {
             "colorbar": {
              "outlinewidth": 0,
              "ticks": ""
             }
            },
            "marker": {
             "colorbar": {
              "outlinewidth": 0,
              "ticks": ""
             }
            },
            "type": "scatter3d"
           }
          ],
          "scattercarpet": [
           {
            "marker": {
             "colorbar": {
              "outlinewidth": 0,
              "ticks": ""
             }
            },
            "type": "scattercarpet"
           }
          ],
          "scattergeo": [
           {
            "marker": {
             "colorbar": {
              "outlinewidth": 0,
              "ticks": ""
             }
            },
            "type": "scattergeo"
           }
          ],
          "scattergl": [
           {
            "marker": {
             "colorbar": {
              "outlinewidth": 0,
              "ticks": ""
             }
            },
            "type": "scattergl"
           }
          ],
          "scattermapbox": [
           {
            "marker": {
             "colorbar": {
              "outlinewidth": 0,
              "ticks": ""
             }
            },
            "type": "scattermapbox"
           }
          ],
          "scatterpolar": [
           {
            "marker": {
             "colorbar": {
              "outlinewidth": 0,
              "ticks": ""
             }
            },
            "type": "scatterpolar"
           }
          ],
          "scatterpolargl": [
           {
            "marker": {
             "colorbar": {
              "outlinewidth": 0,
              "ticks": ""
             }
            },
            "type": "scatterpolargl"
           }
          ],
          "scatterternary": [
           {
            "marker": {
             "colorbar": {
              "outlinewidth": 0,
              "ticks": ""
             }
            },
            "type": "scatterternary"
           }
          ],
          "surface": [
           {
            "colorbar": {
             "outlinewidth": 0,
             "ticks": ""
            },
            "colorscale": [
             [
              0,
              "#0d0887"
             ],
             [
              0.1111111111111111,
              "#46039f"
             ],
             [
              0.2222222222222222,
              "#7201a8"
             ],
             [
              0.3333333333333333,
              "#9c179e"
             ],
             [
              0.4444444444444444,
              "#bd3786"
             ],
             [
              0.5555555555555556,
              "#d8576b"
             ],
             [
              0.6666666666666666,
              "#ed7953"
             ],
             [
              0.7777777777777778,
              "#fb9f3a"
             ],
             [
              0.8888888888888888,
              "#fdca26"
             ],
             [
              1,
              "#f0f921"
             ]
            ],
            "type": "surface"
           }
          ],
          "table": [
           {
            "cells": {
             "fill": {
              "color": "#EBF0F8"
             },
             "line": {
              "color": "white"
             }
            },
            "header": {
             "fill": {
              "color": "#C8D4E3"
             },
             "line": {
              "color": "white"
             }
            },
            "type": "table"
           }
          ]
         },
         "layout": {
          "annotationdefaults": {
           "arrowcolor": "#2a3f5f",
           "arrowhead": 0,
           "arrowwidth": 1
          },
          "autotypenumbers": "strict",
          "coloraxis": {
           "colorbar": {
            "outlinewidth": 0,
            "ticks": ""
           }
          },
          "colorscale": {
           "diverging": [
            [
             0,
             "#8e0152"
            ],
            [
             0.1,
             "#c51b7d"
            ],
            [
             0.2,
             "#de77ae"
            ],
            [
             0.3,
             "#f1b6da"
            ],
            [
             0.4,
             "#fde0ef"
            ],
            [
             0.5,
             "#f7f7f7"
            ],
            [
             0.6,
             "#e6f5d0"
            ],
            [
             0.7,
             "#b8e186"
            ],
            [
             0.8,
             "#7fbc41"
            ],
            [
             0.9,
             "#4d9221"
            ],
            [
             1,
             "#276419"
            ]
           ],
           "sequential": [
            [
             0,
             "#0d0887"
            ],
            [
             0.1111111111111111,
             "#46039f"
            ],
            [
             0.2222222222222222,
             "#7201a8"
            ],
            [
             0.3333333333333333,
             "#9c179e"
            ],
            [
             0.4444444444444444,
             "#bd3786"
            ],
            [
             0.5555555555555556,
             "#d8576b"
            ],
            [
             0.6666666666666666,
             "#ed7953"
            ],
            [
             0.7777777777777778,
             "#fb9f3a"
            ],
            [
             0.8888888888888888,
             "#fdca26"
            ],
            [
             1,
             "#f0f921"
            ]
           ],
           "sequentialminus": [
            [
             0,
             "#0d0887"
            ],
            [
             0.1111111111111111,
             "#46039f"
            ],
            [
             0.2222222222222222,
             "#7201a8"
            ],
            [
             0.3333333333333333,
             "#9c179e"
            ],
            [
             0.4444444444444444,
             "#bd3786"
            ],
            [
             0.5555555555555556,
             "#d8576b"
            ],
            [
             0.6666666666666666,
             "#ed7953"
            ],
            [
             0.7777777777777778,
             "#fb9f3a"
            ],
            [
             0.8888888888888888,
             "#fdca26"
            ],
            [
             1,
             "#f0f921"
            ]
           ]
          },
          "colorway": [
           "#636efa",
           "#EF553B",
           "#00cc96",
           "#ab63fa",
           "#FFA15A",
           "#19d3f3",
           "#FF6692",
           "#B6E880",
           "#FF97FF",
           "#FECB52"
          ],
          "font": {
           "color": "#2a3f5f"
          },
          "geo": {
           "bgcolor": "white",
           "lakecolor": "white",
           "landcolor": "white",
           "showlakes": true,
           "showland": true,
           "subunitcolor": "#C8D4E3"
          },
          "hoverlabel": {
           "align": "left"
          },
          "hovermode": "closest",
          "mapbox": {
           "style": "light"
          },
          "paper_bgcolor": "white",
          "plot_bgcolor": "white",
          "polar": {
           "angularaxis": {
            "gridcolor": "#EBF0F8",
            "linecolor": "#EBF0F8",
            "ticks": ""
           },
           "bgcolor": "white",
           "radialaxis": {
            "gridcolor": "#EBF0F8",
            "linecolor": "#EBF0F8",
            "ticks": ""
           }
          },
          "scene": {
           "xaxis": {
            "backgroundcolor": "white",
            "gridcolor": "#DFE8F3",
            "gridwidth": 2,
            "linecolor": "#EBF0F8",
            "showbackground": true,
            "ticks": "",
            "zerolinecolor": "#EBF0F8"
           },
           "yaxis": {
            "backgroundcolor": "white",
            "gridcolor": "#DFE8F3",
            "gridwidth": 2,
            "linecolor": "#EBF0F8",
            "showbackground": true,
            "ticks": "",
            "zerolinecolor": "#EBF0F8"
           },
           "zaxis": {
            "backgroundcolor": "white",
            "gridcolor": "#DFE8F3",
            "gridwidth": 2,
            "linecolor": "#EBF0F8",
            "showbackground": true,
            "ticks": "",
            "zerolinecolor": "#EBF0F8"
           }
          },
          "shapedefaults": {
           "line": {
            "color": "#2a3f5f"
           }
          },
          "ternary": {
           "aaxis": {
            "gridcolor": "#DFE8F3",
            "linecolor": "#A2B1C6",
            "ticks": ""
           },
           "baxis": {
            "gridcolor": "#DFE8F3",
            "linecolor": "#A2B1C6",
            "ticks": ""
           },
           "bgcolor": "white",
           "caxis": {
            "gridcolor": "#DFE8F3",
            "linecolor": "#A2B1C6",
            "ticks": ""
           }
          },
          "title": {
           "x": 0.05
          },
          "xaxis": {
           "automargin": true,
           "gridcolor": "#EBF0F8",
           "linecolor": "#EBF0F8",
           "ticks": "",
           "title": {
            "standoff": 15
           },
           "zerolinecolor": "#EBF0F8",
           "zerolinewidth": 2
          },
          "yaxis": {
           "automargin": true,
           "gridcolor": "#EBF0F8",
           "linecolor": "#EBF0F8",
           "ticks": "",
           "title": {
            "standoff": 15
           },
           "zerolinecolor": "#EBF0F8",
           "zerolinewidth": 2
          }
         }
        },
        "title": {
         "text": "Top 20 actor name by number of reviews",
         "x": 0.5,
         "xanchor": "center",
         "y": 0.95,
         "yanchor": "top"
        },
        "xaxis": {
         "anchor": "y",
         "domain": [
          0,
          1
         ],
         "title": {
          "text": ""
         }
        },
        "yaxis": {
         "anchor": "x",
         "domain": [
          0,
          1
         ],
         "title": {
          "text": "Total number of reviews "
         }
        }
       }
      },
      "text/html": [
       "<div>                            <div id=\"bf30b90e-ffa8-4645-99b5-0c98b8c498f5\" class=\"plotly-graph-div\" style=\"height:525px; width:100%;\"></div>            <script type=\"text/javascript\">                require([\"plotly\"], function(Plotly) {                    window.PLOTLYENV=window.PLOTLYENV || {};                                    if (document.getElementById(\"bf30b90e-ffa8-4645-99b5-0c98b8c498f5\")) {                    Plotly.newPlot(                        \"bf30b90e-ffa8-4645-99b5-0c98b8c498f5\",                        [{\"alignmentgroup\":\"True\",\"hovertemplate\":\"<b>%{hovertext}</b><br><br>Total number of reviews =%{marker.color}<extra></extra>\",\"hovertext\":[\"James Buckley\",\"Brian Baumgartner\",\"Mick Foley\",\"Chris Hansen\",\"Gilbert Gottfried\",\"The Cameo Santa\",\"Sonja Morgan\",\"Todrick Hall\",\"Colin Mochrie\",\"Michael Rapaport\",\"Dylan Playfair\",\"Carson Kressley\",\"Sean Avery\",\"Maurice Benard\",\"Jim O\\u2019Heir\",\"Mark McGrath\",\"Bret Hitman Hart\",\"TJ Lavin\",\"Roger Clark\",\"Oliver Phelps\"],\"legendgroup\":\"\",\"marker\":{\"color\":[4098.0,3569.0,3501.0,3273.0,2712.0,2211.0,2038.0,1964.0,1720.0,1668.0,1558.0,1531.0,1374.0,1231.0,1148.0,1139.0,1129.0,1120.0,1085.0,1075.0],\"coloraxis\":\"coloraxis\",\"pattern\":{\"shape\":\"\"}},\"name\":\"\",\"offsetgroup\":\"\",\"orientation\":\"v\",\"showlegend\":false,\"text\":[4098.0,3569.0,3501.0,3273.0,2712.0,2211.0,2038.0,1964.0,1720.0,1668.0,1558.0,1531.0,1374.0,1231.0,1148.0,1139.0,1129.0,1120.0,1085.0,1075.0],\"textfont\":{\"size\":13},\"textposition\":\"outside\",\"texttemplate\":\"%{text:.2s}\",\"type\":\"bar\",\"x\":[\"James Buckley\",\"Brian Baumgartner\",\"Mick Foley\",\"Chris Hansen\",\"Gilbert Gottfried\",\"The Cameo Santa\",\"Sonja Morgan\",\"Todrick Hall\",\"Colin Mochrie\",\"Michael Rapaport\",\"Dylan Playfair\",\"Carson Kressley\",\"Sean Avery\",\"Maurice Benard\",\"Jim O\\u2019Heir\",\"Mark McGrath\",\"Bret Hitman Hart\",\"TJ Lavin\",\"Roger Clark\",\"Oliver Phelps\"],\"xaxis\":\"x\",\"y\":[4098.0,3569.0,3501.0,3273.0,2712.0,2211.0,2038.0,1964.0,1720.0,1668.0,1558.0,1531.0,1374.0,1231.0,1148.0,1139.0,1129.0,1120.0,1085.0,1075.0],\"yaxis\":\"y\"}],                        {\"barmode\":\"relative\",\"coloraxis\":{\"colorbar\":{\"title\":{\"text\":\"Total number of reviews \"}},\"colorscale\":[[0.0,\"rgb(228, 241, 225)\"],[0.16666666666666666,\"rgb(180, 217, 204)\"],[0.3333333333333333,\"rgb(137, 192, 182)\"],[0.5,\"rgb(99, 166, 160)\"],[0.6666666666666666,\"rgb(68, 140, 138)\"],[0.8333333333333334,\"rgb(40, 114, 116)\"],[1.0,\"rgb(13, 88, 95)\"]]},\"legend\":{\"tracegroupgap\":0},\"margin\":{\"t\":60},\"template\":{\"data\":{\"bar\":[{\"error_x\":{\"color\":\"#2a3f5f\"},\"error_y\":{\"color\":\"#2a3f5f\"},\"marker\":{\"line\":{\"color\":\"white\",\"width\":0.5},\"pattern\":{\"fillmode\":\"overlay\",\"size\":10,\"solidity\":0.2}},\"type\":\"bar\"}],\"barpolar\":[{\"marker\":{\"line\":{\"color\":\"white\",\"width\":0.5},\"pattern\":{\"fillmode\":\"overlay\",\"size\":10,\"solidity\":0.2}},\"type\":\"barpolar\"}],\"carpet\":[{\"aaxis\":{\"endlinecolor\":\"#2a3f5f\",\"gridcolor\":\"#C8D4E3\",\"linecolor\":\"#C8D4E3\",\"minorgridcolor\":\"#C8D4E3\",\"startlinecolor\":\"#2a3f5f\"},\"baxis\":{\"endlinecolor\":\"#2a3f5f\",\"gridcolor\":\"#C8D4E3\",\"linecolor\":\"#C8D4E3\",\"minorgridcolor\":\"#C8D4E3\",\"startlinecolor\":\"#2a3f5f\"},\"type\":\"carpet\"}],\"choropleth\":[{\"colorbar\":{\"outlinewidth\":0,\"ticks\":\"\"},\"type\":\"choropleth\"}],\"contour\":[{\"colorbar\":{\"outlinewidth\":0,\"ticks\":\"\"},\"colorscale\":[[0.0,\"#0d0887\"],[0.1111111111111111,\"#46039f\"],[0.2222222222222222,\"#7201a8\"],[0.3333333333333333,\"#9c179e\"],[0.4444444444444444,\"#bd3786\"],[0.5555555555555556,\"#d8576b\"],[0.6666666666666666,\"#ed7953\"],[0.7777777777777778,\"#fb9f3a\"],[0.8888888888888888,\"#fdca26\"],[1.0,\"#f0f921\"]],\"type\":\"contour\"}],\"contourcarpet\":[{\"colorbar\":{\"outlinewidth\":0,\"ticks\":\"\"},\"type\":\"contourcarpet\"}],\"heatmap\":[{\"colorbar\":{\"outlinewidth\":0,\"ticks\":\"\"},\"colorscale\":[[0.0,\"#0d0887\"],[0.1111111111111111,\"#46039f\"],[0.2222222222222222,\"#7201a8\"],[0.3333333333333333,\"#9c179e\"],[0.4444444444444444,\"#bd3786\"],[0.5555555555555556,\"#d8576b\"],[0.6666666666666666,\"#ed7953\"],[0.7777777777777778,\"#fb9f3a\"],[0.8888888888888888,\"#fdca26\"],[1.0,\"#f0f921\"]],\"type\":\"heatmap\"}],\"heatmapgl\":[{\"colorbar\":{\"outlinewidth\":0,\"ticks\":\"\"},\"colorscale\":[[0.0,\"#0d0887\"],[0.1111111111111111,\"#46039f\"],[0.2222222222222222,\"#7201a8\"],[0.3333333333333333,\"#9c179e\"],[0.4444444444444444,\"#bd3786\"],[0.5555555555555556,\"#d8576b\"],[0.6666666666666666,\"#ed7953\"],[0.7777777777777778,\"#fb9f3a\"],[0.8888888888888888,\"#fdca26\"],[1.0,\"#f0f921\"]],\"type\":\"heatmapgl\"}],\"histogram\":[{\"marker\":{\"pattern\":{\"fillmode\":\"overlay\",\"size\":10,\"solidity\":0.2}},\"type\":\"histogram\"}],\"histogram2d\":[{\"colorbar\":{\"outlinewidth\":0,\"ticks\":\"\"},\"colorscale\":[[0.0,\"#0d0887\"],[0.1111111111111111,\"#46039f\"],[0.2222222222222222,\"#7201a8\"],[0.3333333333333333,\"#9c179e\"],[0.4444444444444444,\"#bd3786\"],[0.5555555555555556,\"#d8576b\"],[0.6666666666666666,\"#ed7953\"],[0.7777777777777778,\"#fb9f3a\"],[0.8888888888888888,\"#fdca26\"],[1.0,\"#f0f921\"]],\"type\":\"histogram2d\"}],\"histogram2dcontour\":[{\"colorbar\":{\"outlinewidth\":0,\"ticks\":\"\"},\"colorscale\":[[0.0,\"#0d0887\"],[0.1111111111111111,\"#46039f\"],[0.2222222222222222,\"#7201a8\"],[0.3333333333333333,\"#9c179e\"],[0.4444444444444444,\"#bd3786\"],[0.5555555555555556,\"#d8576b\"],[0.6666666666666666,\"#ed7953\"],[0.7777777777777778,\"#fb9f3a\"],[0.8888888888888888,\"#fdca26\"],[1.0,\"#f0f921\"]],\"type\":\"histogram2dcontour\"}],\"mesh3d\":[{\"colorbar\":{\"outlinewidth\":0,\"ticks\":\"\"},\"type\":\"mesh3d\"}],\"parcoords\":[{\"line\":{\"colorbar\":{\"outlinewidth\":0,\"ticks\":\"\"}},\"type\":\"parcoords\"}],\"pie\":[{\"automargin\":true,\"type\":\"pie\"}],\"scatter\":[{\"marker\":{\"colorbar\":{\"outlinewidth\":0,\"ticks\":\"\"}},\"type\":\"scatter\"}],\"scatter3d\":[{\"line\":{\"colorbar\":{\"outlinewidth\":0,\"ticks\":\"\"}},\"marker\":{\"colorbar\":{\"outlinewidth\":0,\"ticks\":\"\"}},\"type\":\"scatter3d\"}],\"scattercarpet\":[{\"marker\":{\"colorbar\":{\"outlinewidth\":0,\"ticks\":\"\"}},\"type\":\"scattercarpet\"}],\"scattergeo\":[{\"marker\":{\"colorbar\":{\"outlinewidth\":0,\"ticks\":\"\"}},\"type\":\"scattergeo\"}],\"scattergl\":[{\"marker\":{\"colorbar\":{\"outlinewidth\":0,\"ticks\":\"\"}},\"type\":\"scattergl\"}],\"scattermapbox\":[{\"marker\":{\"colorbar\":{\"outlinewidth\":0,\"ticks\":\"\"}},\"type\":\"scattermapbox\"}],\"scatterpolar\":[{\"marker\":{\"colorbar\":{\"outlinewidth\":0,\"ticks\":\"\"}},\"type\":\"scatterpolar\"}],\"scatterpolargl\":[{\"marker\":{\"colorbar\":{\"outlinewidth\":0,\"ticks\":\"\"}},\"type\":\"scatterpolargl\"}],\"scatterternary\":[{\"marker\":{\"colorbar\":{\"outlinewidth\":0,\"ticks\":\"\"}},\"type\":\"scatterternary\"}],\"surface\":[{\"colorbar\":{\"outlinewidth\":0,\"ticks\":\"\"},\"colorscale\":[[0.0,\"#0d0887\"],[0.1111111111111111,\"#46039f\"],[0.2222222222222222,\"#7201a8\"],[0.3333333333333333,\"#9c179e\"],[0.4444444444444444,\"#bd3786\"],[0.5555555555555556,\"#d8576b\"],[0.6666666666666666,\"#ed7953\"],[0.7777777777777778,\"#fb9f3a\"],[0.8888888888888888,\"#fdca26\"],[1.0,\"#f0f921\"]],\"type\":\"surface\"}],\"table\":[{\"cells\":{\"fill\":{\"color\":\"#EBF0F8\"},\"line\":{\"color\":\"white\"}},\"header\":{\"fill\":{\"color\":\"#C8D4E3\"},\"line\":{\"color\":\"white\"}},\"type\":\"table\"}]},\"layout\":{\"annotationdefaults\":{\"arrowcolor\":\"#2a3f5f\",\"arrowhead\":0,\"arrowwidth\":1},\"autotypenumbers\":\"strict\",\"coloraxis\":{\"colorbar\":{\"outlinewidth\":0,\"ticks\":\"\"}},\"colorscale\":{\"diverging\":[[0,\"#8e0152\"],[0.1,\"#c51b7d\"],[0.2,\"#de77ae\"],[0.3,\"#f1b6da\"],[0.4,\"#fde0ef\"],[0.5,\"#f7f7f7\"],[0.6,\"#e6f5d0\"],[0.7,\"#b8e186\"],[0.8,\"#7fbc41\"],[0.9,\"#4d9221\"],[1,\"#276419\"]],\"sequential\":[[0.0,\"#0d0887\"],[0.1111111111111111,\"#46039f\"],[0.2222222222222222,\"#7201a8\"],[0.3333333333333333,\"#9c179e\"],[0.4444444444444444,\"#bd3786\"],[0.5555555555555556,\"#d8576b\"],[0.6666666666666666,\"#ed7953\"],[0.7777777777777778,\"#fb9f3a\"],[0.8888888888888888,\"#fdca26\"],[1.0,\"#f0f921\"]],\"sequentialminus\":[[0.0,\"#0d0887\"],[0.1111111111111111,\"#46039f\"],[0.2222222222222222,\"#7201a8\"],[0.3333333333333333,\"#9c179e\"],[0.4444444444444444,\"#bd3786\"],[0.5555555555555556,\"#d8576b\"],[0.6666666666666666,\"#ed7953\"],[0.7777777777777778,\"#fb9f3a\"],[0.8888888888888888,\"#fdca26\"],[1.0,\"#f0f921\"]]},\"colorway\":[\"#636efa\",\"#EF553B\",\"#00cc96\",\"#ab63fa\",\"#FFA15A\",\"#19d3f3\",\"#FF6692\",\"#B6E880\",\"#FF97FF\",\"#FECB52\"],\"font\":{\"color\":\"#2a3f5f\"},\"geo\":{\"bgcolor\":\"white\",\"lakecolor\":\"white\",\"landcolor\":\"white\",\"showlakes\":true,\"showland\":true,\"subunitcolor\":\"#C8D4E3\"},\"hoverlabel\":{\"align\":\"left\"},\"hovermode\":\"closest\",\"mapbox\":{\"style\":\"light\"},\"paper_bgcolor\":\"white\",\"plot_bgcolor\":\"white\",\"polar\":{\"angularaxis\":{\"gridcolor\":\"#EBF0F8\",\"linecolor\":\"#EBF0F8\",\"ticks\":\"\"},\"bgcolor\":\"white\",\"radialaxis\":{\"gridcolor\":\"#EBF0F8\",\"linecolor\":\"#EBF0F8\",\"ticks\":\"\"}},\"scene\":{\"xaxis\":{\"backgroundcolor\":\"white\",\"gridcolor\":\"#DFE8F3\",\"gridwidth\":2,\"linecolor\":\"#EBF0F8\",\"showbackground\":true,\"ticks\":\"\",\"zerolinecolor\":\"#EBF0F8\"},\"yaxis\":{\"backgroundcolor\":\"white\",\"gridcolor\":\"#DFE8F3\",\"gridwidth\":2,\"linecolor\":\"#EBF0F8\",\"showbackground\":true,\"ticks\":\"\",\"zerolinecolor\":\"#EBF0F8\"},\"zaxis\":{\"backgroundcolor\":\"white\",\"gridcolor\":\"#DFE8F3\",\"gridwidth\":2,\"linecolor\":\"#EBF0F8\",\"showbackground\":true,\"ticks\":\"\",\"zerolinecolor\":\"#EBF0F8\"}},\"shapedefaults\":{\"line\":{\"color\":\"#2a3f5f\"}},\"ternary\":{\"aaxis\":{\"gridcolor\":\"#DFE8F3\",\"linecolor\":\"#A2B1C6\",\"ticks\":\"\"},\"baxis\":{\"gridcolor\":\"#DFE8F3\",\"linecolor\":\"#A2B1C6\",\"ticks\":\"\"},\"bgcolor\":\"white\",\"caxis\":{\"gridcolor\":\"#DFE8F3\",\"linecolor\":\"#A2B1C6\",\"ticks\":\"\"}},\"title\":{\"x\":0.05},\"xaxis\":{\"automargin\":true,\"gridcolor\":\"#EBF0F8\",\"linecolor\":\"#EBF0F8\",\"ticks\":\"\",\"title\":{\"standoff\":15},\"zerolinecolor\":\"#EBF0F8\",\"zerolinewidth\":2},\"yaxis\":{\"automargin\":true,\"gridcolor\":\"#EBF0F8\",\"linecolor\":\"#EBF0F8\",\"ticks\":\"\",\"title\":{\"standoff\":15},\"zerolinecolor\":\"#EBF0F8\",\"zerolinewidth\":2}}},\"title\":{\"text\":\"Top 20 actor name by number of reviews\",\"x\":0.5,\"xanchor\":\"center\",\"y\":0.95,\"yanchor\":\"top\"},\"xaxis\":{\"anchor\":\"y\",\"domain\":[0.0,1.0],\"title\":{\"text\":\"\"}},\"yaxis\":{\"anchor\":\"x\",\"domain\":[0.0,1.0],\"title\":{\"text\":\"Total number of reviews \"}}},                        {\"responsive\": true}                    ).then(function(){\n",
       "                            \n",
       "var gd = document.getElementById('bf30b90e-ffa8-4645-99b5-0c98b8c498f5');\n",
       "var x = new MutationObserver(function (mutations, observer) {{\n",
       "        var display = window.getComputedStyle(gd).display;\n",
       "        if (!display || display === 'none') {{\n",
       "            console.log([gd, 'removed!']);\n",
       "            Plotly.purge(gd);\n",
       "            observer.disconnect();\n",
       "        }}\n",
       "}});\n",
       "\n",
       "// Listen for the removal of the full notebook cells\n",
       "var notebookContainer = gd.closest('#notebook-container');\n",
       "if (notebookContainer) {{\n",
       "    x.observe(notebookContainer, {childList: true});\n",
       "}}\n",
       "\n",
       "// Listen for the clearing of the current output cell\n",
       "var outputEl = gd.closest('.output');\n",
       "if (outputEl) {{\n",
       "    x.observe(outputEl, {childList: true});\n",
       "}}\n",
       "\n",
       "                        })                };                });            </script>        </div>"
      ]
     },
     "metadata": {},
     "output_type": "display_data"
    },
    {
     "data": {
      "text/plain": [
       "<Figure size 1440x1080 with 0 Axes>"
      ]
     },
     "metadata": {},
     "output_type": "display_data"
    }
   ],
   "source": [
    "temp = sorted_top_actor.sort_values(by = 'number_review',ascending= False)[0:20]\n",
    "temp.reset_index(inplace = True,drop = True)\n",
    "\n",
    "temp.sort_values(by = 'number_review',ascending = False)\n",
    "\n",
    "plt.figure(figsize= (20,15))\n",
    "fig2 = px.bar(data_frame=temp, x = temp['name'], y=temp['number_review'],\n",
    "            color_continuous_scale= px.colors.sequential.Mint, color = 'number_review',\n",
    "            text='number_review',template = 'plotly_white',\n",
    "            labels = {'name':'Actor Name','number_review':'Total number of reviews '},\n",
    "            hover_name = 'name',\n",
    "            hover_data = {'number_review':True,'name':False}, )\n",
    "\n",
    "fig2.update_layout(title = {\n",
    "    'text' : 'Top 20 actor name by number of reviews',\n",
    "    'y':0.95,\n",
    "    'x':0.5,\n",
    "    'xanchor': 'center',\n",
    "    'yanchor': 'top'},\n",
    "    xaxis_title = '')\n",
    "\n",
    "fig2.update_traces(texttemplate = '%{text:.2s}',textposition = 'outside',textfont_size =13)\n",
    "\n",
    "\n",
    "fig2.show()"
   ]
  },
  {
   "cell_type": "code",
   "execution_count": 79,
   "id": "726215ed",
   "metadata": {},
   "outputs": [],
   "source": [
    "final_data.to_csv('complete_meta_data.csv',index=False)"
   ]
  },
  {
   "cell_type": "code",
   "execution_count": null,
   "id": "bfcf21a3",
   "metadata": {},
   "outputs": [],
   "source": []
  }
 ],
 "metadata": {
  "kernelspec": {
   "display_name": "Python 3",
   "language": "python",
   "name": "python3"
  },
  "language_info": {
   "codemirror_mode": {
    "name": "ipython",
    "version": 3
   },
   "file_extension": ".py",
   "mimetype": "text/x-python",
   "name": "python",
   "nbconvert_exporter": "python",
   "pygments_lexer": "ipython3",
   "version": "3.8.8"
  }
 },
 "nbformat": 4,
 "nbformat_minor": 5
}
